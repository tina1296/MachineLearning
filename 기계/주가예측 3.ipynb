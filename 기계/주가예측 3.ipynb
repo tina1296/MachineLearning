{
 "cells": [
  {
   "cell_type": "code",
   "execution_count": 1,
   "metadata": {},
   "outputs": [],
   "source": [
    "import numpy as np\n",
    "import pandas as pd\n",
    "import matplotlib.pyplot as plt\n",
    "import seaborn as sns\n",
    "df1 = pd.read_excel(\"/Users/tina/Desktop/기계/R 3종 데이터/S&P 500/1번데이터.xlsx\", index_col=0)"
   ]
  },
  {
   "cell_type": "code",
   "execution_count": 7,
   "metadata": {},
   "outputs": [
    {
     "data": {
      "text/html": [
       "<div>\n",
       "<style scoped>\n",
       "    .dataframe tbody tr th:only-of-type {\n",
       "        vertical-align: middle;\n",
       "    }\n",
       "\n",
       "    .dataframe tbody tr th {\n",
       "        vertical-align: top;\n",
       "    }\n",
       "\n",
       "    .dataframe thead th {\n",
       "        text-align: right;\n",
       "    }\n",
       "</style>\n",
       "<table border=\"1\" class=\"dataframe\">\n",
       "  <thead>\n",
       "    <tr style=\"text-align: right;\">\n",
       "      <th></th>\n",
       "      <th>날짜</th>\n",
       "      <th>종가</th>\n",
       "      <th>오픈</th>\n",
       "      <th>고가</th>\n",
       "      <th>저가</th>\n",
       "      <th>거래량</th>\n",
       "      <th>변동 %</th>\n",
       "    </tr>\n",
       "  </thead>\n",
       "  <tbody>\n",
       "    <tr>\n",
       "      <th>2530</th>\n",
       "      <td>1980-01-01</td>\n",
       "      <td>107.9</td>\n",
       "      <td>107.9</td>\n",
       "      <td>107.9</td>\n",
       "      <td>107.9</td>\n",
       "      <td>-</td>\n",
       "      <td>0.00%</td>\n",
       "    </tr>\n",
       "    <tr>\n",
       "      <th>2529</th>\n",
       "      <td>1980-01-02</td>\n",
       "      <td>105.8</td>\n",
       "      <td>105.8</td>\n",
       "      <td>108.4</td>\n",
       "      <td>105.3</td>\n",
       "      <td>-</td>\n",
       "      <td>-1.95%</td>\n",
       "    </tr>\n",
       "    <tr>\n",
       "      <th>2528</th>\n",
       "      <td>1980-01-03</td>\n",
       "      <td>105.2</td>\n",
       "      <td>105.2</td>\n",
       "      <td>106.1</td>\n",
       "      <td>103.3</td>\n",
       "      <td>-</td>\n",
       "      <td>-0.57%</td>\n",
       "    </tr>\n",
       "    <tr>\n",
       "      <th>2527</th>\n",
       "      <td>1980-01-04</td>\n",
       "      <td>106.5</td>\n",
       "      <td>106.5</td>\n",
       "      <td>107.1</td>\n",
       "      <td>105.1</td>\n",
       "      <td>-</td>\n",
       "      <td>1.24%</td>\n",
       "    </tr>\n",
       "    <tr>\n",
       "      <th>2526</th>\n",
       "      <td>1980-01-07</td>\n",
       "      <td>106.8</td>\n",
       "      <td>106.8</td>\n",
       "      <td>107.8</td>\n",
       "      <td>105.8</td>\n",
       "      <td>-</td>\n",
       "      <td>0.28%</td>\n",
       "    </tr>\n",
       "    <tr>\n",
       "      <th>...</th>\n",
       "      <td>...</td>\n",
       "      <td>...</td>\n",
       "      <td>...</td>\n",
       "      <td>...</td>\n",
       "      <td>...</td>\n",
       "      <td>...</td>\n",
       "      <td>...</td>\n",
       "    </tr>\n",
       "    <tr>\n",
       "      <th>4</th>\n",
       "      <td>1989-12-22</td>\n",
       "      <td>347.4</td>\n",
       "      <td>344.8</td>\n",
       "      <td>347.5</td>\n",
       "      <td>344.8</td>\n",
       "      <td>-</td>\n",
       "      <td>0.75%</td>\n",
       "    </tr>\n",
       "    <tr>\n",
       "      <th>3</th>\n",
       "      <td>1989-12-26</td>\n",
       "      <td>346.8</td>\n",
       "      <td>347.4</td>\n",
       "      <td>347.9</td>\n",
       "      <td>346.5</td>\n",
       "      <td>-</td>\n",
       "      <td>-0.17%</td>\n",
       "    </tr>\n",
       "    <tr>\n",
       "      <th>2</th>\n",
       "      <td>1989-12-27</td>\n",
       "      <td>348.8</td>\n",
       "      <td>346.8</td>\n",
       "      <td>349.1</td>\n",
       "      <td>346.8</td>\n",
       "      <td>-</td>\n",
       "      <td>0.58%</td>\n",
       "    </tr>\n",
       "    <tr>\n",
       "      <th>1</th>\n",
       "      <td>1989-12-28</td>\n",
       "      <td>350.7</td>\n",
       "      <td>348.8</td>\n",
       "      <td>350.7</td>\n",
       "      <td>348.8</td>\n",
       "      <td>-</td>\n",
       "      <td>0.54%</td>\n",
       "    </tr>\n",
       "    <tr>\n",
       "      <th>0</th>\n",
       "      <td>1989-12-29</td>\n",
       "      <td>353.4</td>\n",
       "      <td>350.7</td>\n",
       "      <td>353.4</td>\n",
       "      <td>350.7</td>\n",
       "      <td>-</td>\n",
       "      <td>0.77%</td>\n",
       "    </tr>\n",
       "  </tbody>\n",
       "</table>\n",
       "<p>2531 rows × 7 columns</p>\n",
       "</div>"
      ],
      "text/plain": [
       "             날짜     종가     오픈     고가     저가 거래량    변동 %\n",
       "2530 1980-01-01  107.9  107.9  107.9  107.9   -   0.00%\n",
       "2529 1980-01-02  105.8  105.8  108.4  105.3   -  -1.95%\n",
       "2528 1980-01-03  105.2  105.2  106.1  103.3   -  -0.57%\n",
       "2527 1980-01-04  106.5  106.5  107.1  105.1   -   1.24%\n",
       "2526 1980-01-07  106.8  106.8  107.8  105.8   -   0.28%\n",
       "...         ...    ...    ...    ...    ...  ..     ...\n",
       "4    1989-12-22  347.4  344.8  347.5  344.8   -   0.75%\n",
       "3    1989-12-26  346.8  347.4  347.9  346.5   -  -0.17%\n",
       "2    1989-12-27  348.8  346.8  349.1  346.8   -   0.58%\n",
       "1    1989-12-28  350.7  348.8  350.7  348.8   -   0.54%\n",
       "0    1989-12-29  353.4  350.7  353.4  350.7   -   0.77%\n",
       "\n",
       "[2531 rows x 7 columns]"
      ]
     },
     "execution_count": 7,
     "metadata": {},
     "output_type": "execute_result"
    }
   ],
   "source": [
    "df1"
   ]
  },
  {
   "cell_type": "code",
   "execution_count": 2,
   "metadata": {},
   "outputs": [
    {
     "data": {
      "text/html": [
       "<div>\n",
       "<style scoped>\n",
       "    .dataframe tbody tr th:only-of-type {\n",
       "        vertical-align: middle;\n",
       "    }\n",
       "\n",
       "    .dataframe tbody tr th {\n",
       "        vertical-align: top;\n",
       "    }\n",
       "\n",
       "    .dataframe thead th {\n",
       "        text-align: right;\n",
       "    }\n",
       "</style>\n",
       "<table border=\"1\" class=\"dataframe\">\n",
       "  <thead>\n",
       "    <tr style=\"text-align: right;\">\n",
       "      <th></th>\n",
       "      <th>날짜</th>\n",
       "      <th>종가</th>\n",
       "    </tr>\n",
       "  </thead>\n",
       "  <tbody>\n",
       "    <tr>\n",
       "      <th>2530</th>\n",
       "      <td>1980-01-01</td>\n",
       "      <td>107.9</td>\n",
       "    </tr>\n",
       "    <tr>\n",
       "      <th>2529</th>\n",
       "      <td>1980-01-02</td>\n",
       "      <td>105.8</td>\n",
       "    </tr>\n",
       "    <tr>\n",
       "      <th>2528</th>\n",
       "      <td>1980-01-03</td>\n",
       "      <td>105.2</td>\n",
       "    </tr>\n",
       "    <tr>\n",
       "      <th>2527</th>\n",
       "      <td>1980-01-04</td>\n",
       "      <td>106.5</td>\n",
       "    </tr>\n",
       "    <tr>\n",
       "      <th>2526</th>\n",
       "      <td>1980-01-07</td>\n",
       "      <td>106.8</td>\n",
       "    </tr>\n",
       "    <tr>\n",
       "      <th>...</th>\n",
       "      <td>...</td>\n",
       "      <td>...</td>\n",
       "    </tr>\n",
       "    <tr>\n",
       "      <th>4</th>\n",
       "      <td>1989-12-22</td>\n",
       "      <td>347.4</td>\n",
       "    </tr>\n",
       "    <tr>\n",
       "      <th>3</th>\n",
       "      <td>1989-12-26</td>\n",
       "      <td>346.8</td>\n",
       "    </tr>\n",
       "    <tr>\n",
       "      <th>2</th>\n",
       "      <td>1989-12-27</td>\n",
       "      <td>348.8</td>\n",
       "    </tr>\n",
       "    <tr>\n",
       "      <th>1</th>\n",
       "      <td>1989-12-28</td>\n",
       "      <td>350.7</td>\n",
       "    </tr>\n",
       "    <tr>\n",
       "      <th>0</th>\n",
       "      <td>1989-12-29</td>\n",
       "      <td>353.4</td>\n",
       "    </tr>\n",
       "  </tbody>\n",
       "</table>\n",
       "<p>2531 rows × 2 columns</p>\n",
       "</div>"
      ],
      "text/plain": [
       "             날짜     종가\n",
       "2530 1980-01-01  107.9\n",
       "2529 1980-01-02  105.8\n",
       "2528 1980-01-03  105.2\n",
       "2527 1980-01-04  106.5\n",
       "2526 1980-01-07  106.8\n",
       "...         ...    ...\n",
       "4    1989-12-22  347.4\n",
       "3    1989-12-26  346.8\n",
       "2    1989-12-27  348.8\n",
       "1    1989-12-28  350.7\n",
       "0    1989-12-29  353.4\n",
       "\n",
       "[2531 rows x 2 columns]"
      ]
     },
     "execution_count": 2,
     "metadata": {},
     "output_type": "execute_result"
    }
   ],
   "source": [
    "df1 = df1[['날짜', '종가']]\n",
    "df1"
   ]
  },
  {
   "cell_type": "code",
   "execution_count": 5,
   "metadata": {},
   "outputs": [],
   "source": [
    "train=df1[0:2024]\n",
    "test=df1[2024:]\n",
    "plt.plot(train['날짜'], train['종가'])\n",
    "plt.show()"
   ]
  },
  {
   "cell_type": "code",
   "execution_count": 6,
   "metadata": {},
   "outputs": [
    {
     "ename": "IndexError",
     "evalue": "only integers, slices (`:`), ellipsis (`...`), numpy.newaxis (`None`) and integer or boolean arrays are valid indices",
     "output_type": "error",
     "traceback": [
      "\u001b[0;31m---------------------------------------------------------------------------\u001b[0m",
      "\u001b[0;31mIndexError\u001b[0m                                Traceback (most recent call last)",
      "Input \u001b[0;32mIn [6]\u001b[0m, in \u001b[0;36m<cell line: 1>\u001b[0;34m()\u001b[0m\n\u001b[0;32m----> 1\u001b[0m diff_1\u001b[38;5;241m=\u001b[39m\u001b[43mtrain\u001b[49m\u001b[43m[\u001b[49m\u001b[38;5;124;43m'\u001b[39;49m\u001b[38;5;124;43m종가\u001b[39;49m\u001b[38;5;124;43m'\u001b[39;49m\u001b[43m]\u001b[49m\u001b[38;5;241m.\u001b[39mdiff()\u001b[38;5;241m.\u001b[39mdropna()\n\u001b[1;32m      2\u001b[0m plt\u001b[38;5;241m.\u001b[39mplot(diff_1)\n\u001b[1;32m      3\u001b[0m plt\u001b[38;5;241m.\u001b[39mshow()\n",
      "\u001b[0;31mIndexError\u001b[0m: only integers, slices (`:`), ellipsis (`...`), numpy.newaxis (`None`) and integer or boolean arrays are valid indices"
     ]
    }
   ],
   "source": [
    "diff_1=train['종가'].diff().dropna()\n",
    "plt.plot(diff_1)\n",
    "plt.show()"
   ]
  },
  {
   "cell_type": "code",
   "execution_count": 16,
   "metadata": {},
   "outputs": [
    {
     "data": {
      "image/png": "[encoded data removed]",
      "text/plain": [
       "<Figure size 432x288 with 1 Axes>"
      ]
     },
     "metadata": {
      "needs_background": "light"
     },
     "output_type": "display_data"
    }
   ],
   "source": [
    "diff_2=diff_1.diff().dropna()\n",
    "plt.plot(diff_2)\n",
    "plt.show()"
   ]
  },
  {
   "cell_type": "code",
   "execution_count": 17,
   "metadata": {},
   "outputs": [
    {
     "data": {
      "image/png": "[encoded data removed]",
      "text/plain": [
       "<Figure size 432x288 with 1 Axes>"
      ]
     },
     "metadata": {
      "needs_background": "light"
     },
     "output_type": "display_data"
    }
   ],
   "source": [
    "diff_3=diff_2.diff().dropna()\n",
    "plt.plot(diff_3)\n",
    "plt.show()"
   ]
  },
  {
   "cell_type": "code",
   "execution_count": 28,
   "metadata": {},
   "outputs": [
    {
     "data": {
      "image/png": "[encoded data removed]",
      "text/plain": [
       "<Figure size 432x288 with 1 Axes>"
      ]
     },
     "metadata": {
      "needs_background": "light"
     },
     "output_type": "display_data"
    }
   ],
   "source": [
    "from scalecast.Forecaster import Forecaster\n",
    "f=Forecaster(y=train['종가'], current_dates=train['날짜'])\n",
    "f.plot()"
   ]
  },
  {
   "cell_type": "code",
   "execution_count": 19,
   "metadata": {},
   "outputs": [
    {
     "name": "stdout",
     "output_type": "stream",
     "text": [
      "Collecting scalecast==0.1.8\n",
      "  Downloading SCALECAST-0.1.8.tar.gz (7.9 MB)\n",
      "\u001b[K     |████████████████████████████████| 7.9 MB 5.3 MB/s eta 0:00:01\n",
      "\u001b[?25hRequirement already satisfied: scikit-learn in /opt/anaconda3/lib/python3.8/site-packages (from scalecast==0.1.8) (0.24.2)\n",
      "Requirement already satisfied: statsmodels in /opt/anaconda3/lib/python3.8/site-packages (from scalecast==0.1.8) (0.12.0)\n",
      "Requirement already satisfied: scipy in /opt/anaconda3/lib/python3.8/site-packages (from scalecast==0.1.8) (1.6.3)\n",
      "Collecting eli5\n",
      "  Downloading eli5-0.13.0.tar.gz (216 kB)\n",
      "\u001b[K     |████████████████████████████████| 216 kB 30.6 MB/s eta 0:00:01\n",
      "\u001b[?25hRequirement already satisfied: numpy in /opt/anaconda3/lib/python3.8/site-packages (from scalecast==0.1.8) (1.19.5)\n",
      "Requirement already satisfied: pandas in /opt/anaconda3/lib/python3.8/site-packages (from scalecast==0.1.8) (1.3.4)\n",
      "Requirement already satisfied: matplotlib in /opt/anaconda3/lib/python3.8/site-packages (from scalecast==0.1.8) (3.4.2)\n",
      "Requirement already satisfied: seaborn in /opt/anaconda3/lib/python3.8/site-packages (from scalecast==0.1.8) (0.11.0)\n",
      "Collecting xgboost\n",
      "  Downloading xgboost-1.6.1-py3-none-macosx_10_15_x86_64.macosx_11_0_x86_64.macosx_12_0_x86_64.whl (1.7 MB)\n",
      "\u001b[K     |████████████████████████████████| 1.7 MB 56.9 MB/s eta 0:00:01\n",
      "\u001b[?25hRequirement already satisfied: openpyxl in /opt/anaconda3/lib/python3.8/site-packages (from scalecast==0.1.8) (3.0.5)\n",
      "Requirement already satisfied: joblib>=0.11 in /opt/anaconda3/lib/python3.8/site-packages (from scikit-learn->scalecast==0.1.8) (0.17.0)\n",
      "Requirement already satisfied: threadpoolctl>=2.0.0 in /opt/anaconda3/lib/python3.8/site-packages (from scikit-learn->scalecast==0.1.8) (2.1.0)\n",
      "Requirement already satisfied: patsy>=0.5 in /opt/anaconda3/lib/python3.8/site-packages (from statsmodels->scalecast==0.1.8) (0.5.1)\n",
      "Requirement already satisfied: attrs>17.1.0 in /opt/anaconda3/lib/python3.8/site-packages (from eli5->scalecast==0.1.8) (20.3.0)\n",
      "Collecting jinja2>=3.0.0\n",
      "  Downloading Jinja2-3.1.2-py3-none-any.whl (133 kB)\n",
      "\u001b[K     |████████████████████████████████| 133 kB 46.9 MB/s eta 0:00:01\n",
      "\u001b[?25hRequirement already satisfied: six in /opt/anaconda3/lib/python3.8/site-packages (from eli5->scalecast==0.1.8) (1.15.0)\n",
      "Requirement already satisfied: graphviz in /opt/anaconda3/lib/python3.8/site-packages (from eli5->scalecast==0.1.8) (0.18.2)\n",
      "Collecting tabulate>=0.7.7\n",
      "  Downloading tabulate-0.8.9-py3-none-any.whl (25 kB)\n",
      "Requirement already satisfied: pytz>=2017.3 in /opt/anaconda3/lib/python3.8/site-packages (from pandas->scalecast==0.1.8) (2020.1)\n",
      "Requirement already satisfied: python-dateutil>=2.7.3 in /opt/anaconda3/lib/python3.8/site-packages (from pandas->scalecast==0.1.8) (2.8.1)\n",
      "Requirement already satisfied: cycler>=0.10 in /opt/anaconda3/lib/python3.8/site-packages (from matplotlib->scalecast==0.1.8) (0.10.0)\n",
      "Requirement already satisfied: kiwisolver>=1.0.1 in /opt/anaconda3/lib/python3.8/site-packages (from matplotlib->scalecast==0.1.8) (1.3.0)\n",
      "Requirement already satisfied: pyparsing>=2.2.1 in /opt/anaconda3/lib/python3.8/site-packages (from matplotlib->scalecast==0.1.8) (2.4.7)\n",
      "Requirement already satisfied: pillow>=6.2.0 in /opt/anaconda3/lib/python3.8/site-packages (from matplotlib->scalecast==0.1.8) (8.0.1)\n",
      "Requirement already satisfied: et-xmlfile in /opt/anaconda3/lib/python3.8/site-packages (from openpyxl->scalecast==0.1.8) (1.0.1)\n",
      "Requirement already satisfied: jdcal in /opt/anaconda3/lib/python3.8/site-packages (from openpyxl->scalecast==0.1.8) (1.4.1)\n",
      "Collecting MarkupSafe>=2.0\n",
      "  Downloading MarkupSafe-2.1.1-cp38-cp38-macosx_10_9_x86_64.whl (13 kB)\n",
      "Building wheels for collected packages: scalecast, eli5\n",
      "  Building wheel for scalecast (setup.py) ... \u001b[?25ldone\n",
      "\u001b[?25h  Created wheel for scalecast: filename=SCALECAST-0.1.8-py3-none-any.whl size=15570 sha256=18d64e37e0239a78f1054b5946d174ab0e9a099503473e8705f383bcc9dc3777\n",
      "  Stored in directory: /Users/tina/Library/Caches/pip/wheels/48/c0/23/6cd70638da68e5bf57e7e58bf4e73f39d2723dd1549cb98531\n",
      "  Building wheel for eli5 (setup.py) ... \u001b[?25ldone\n",
      "\u001b[?25h  Created wheel for eli5: filename=eli5-0.13.0-py2.py3-none-any.whl size=107728 sha256=8dd63e6e13ce741ace32b599a15a46166d40500a7d917405b3e70dc71b2b7bb8\n",
      "  Stored in directory: /Users/tina/Library/Caches/pip/wheels/85/ac/25/ffcd87ef8f9b1eec324fdf339359be71f22612459d8c75d89c\n",
      "Successfully built scalecast eli5\n",
      "Installing collected packages: MarkupSafe, jinja2, tabulate, eli5, xgboost, scalecast\n",
      "  Attempting uninstall: MarkupSafe\n",
      "    Found existing installation: MarkupSafe 1.1.1\n",
      "    Uninstalling MarkupSafe-1.1.1:\n",
      "      Successfully uninstalled MarkupSafe-1.1.1\n",
      "  Attempting uninstall: jinja2\n",
      "    Found existing installation: Jinja2 2.11.2\n",
      "    Uninstalling Jinja2-2.11.2:\n",
      "      Successfully uninstalled Jinja2-2.11.2\n",
      "Successfully installed MarkupSafe-2.1.1 eli5-0.13.0 jinja2-3.1.2 scalecast-0.1.8 tabulate-0.8.9 xgboost-1.6.1\n",
      "Note: you may need to restart the kernel to use updated packages.\n"
     ]
    }
   ],
   "source": [
    "pip install scalecast==0.1.8"
   ]
  },
  {
   "cell_type": "code",
   "execution_count": 26,
   "metadata": {},
   "outputs": [
    {
     "name": "stdout",
     "output_type": "stream",
     "text": [
      "Collecting pandas-datareader\n",
      "  Downloading pandas_datareader-0.10.0-py3-none-any.whl (109 kB)\n",
      "\u001b[K     |████████████████████████████████| 109 kB 6.9 MB/s eta 0:00:01\n",
      "\u001b[?25hRequirement already satisfied: requests>=2.19.0 in /opt/anaconda3/lib/python3.8/site-packages (from pandas-datareader) (2.24.0)\n",
      "Requirement already satisfied: pandas>=0.23 in /opt/anaconda3/lib/python3.8/site-packages (from pandas-datareader) (1.3.4)\n",
      "Requirement already satisfied: lxml in /opt/anaconda3/lib/python3.8/site-packages (from pandas-datareader) (4.6.1)\n",
      "Requirement already satisfied: certifi>=2017.4.17 in /opt/anaconda3/lib/python3.8/site-packages (from requests>=2.19.0->pandas-datareader) (2020.6.20)\n",
      "Requirement already satisfied: chardet<4,>=3.0.2 in /opt/anaconda3/lib/python3.8/site-packages (from requests>=2.19.0->pandas-datareader) (3.0.4)\n",
      "Requirement already satisfied: idna<3,>=2.5 in /opt/anaconda3/lib/python3.8/site-packages (from requests>=2.19.0->pandas-datareader) (2.10)\n",
      "Collecting urllib3!=1.25.0,!=1.25.1,<1.26,>=1.21.1\n",
      "  Downloading urllib3-1.25.11-py2.py3-none-any.whl (127 kB)\n",
      "\u001b[K     |████████████████████████████████| 127 kB 44.8 MB/s eta 0:00:01\n",
      "\u001b[?25hRequirement already satisfied: python-dateutil>=2.7.3 in /opt/anaconda3/lib/python3.8/site-packages (from pandas>=0.23->pandas-datareader) (2.8.1)\n",
      "Requirement already satisfied: pytz>=2017.3 in /opt/anaconda3/lib/python3.8/site-packages (from pandas>=0.23->pandas-datareader) (2020.1)\n",
      "Requirement already satisfied: numpy>=1.17.3; platform_machine != \"aarch64\" and platform_machine != \"arm64\" and python_version < \"3.10\" in /opt/anaconda3/lib/python3.8/site-packages (from pandas>=0.23->pandas-datareader) (1.19.5)\n",
      "Requirement already satisfied: six>=1.5 in /opt/anaconda3/lib/python3.8/site-packages (from python-dateutil>=2.7.3->pandas>=0.23->pandas-datareader) (1.15.0)\n",
      "Installing collected packages: pandas-datareader, urllib3\n",
      "  Attempting uninstall: urllib3\n",
      "    Found existing installation: urllib3 1.26.7\n",
      "    Uninstalling urllib3-1.26.7:\n",
      "      Successfully uninstalled urllib3-1.26.7\n",
      "\u001b[31mERROR: After October 2020 you may experience errors when installing or updating packages. This is because pip will change the way that it resolves dependency conflicts.\n",
      "\n",
      "We recommend you use --use-feature=2020-resolver to test your packages with the new resolver before it becomes the default.\n",
      "\n",
      "selenium 4.1.0 requires urllib3[secure]~=1.26, but you'll have urllib3 1.25.11 which is incompatible.\u001b[0m\n",
      "Successfully installed pandas-datareader-0.10.0 urllib3-1.25.11\n",
      "Note: you may need to restart the kernel to use updated packages.\n"
     ]
    }
   ],
   "source": [
    "pip install pandas-datareader"
   ]
  },
  {
   "cell_type": "code",
   "execution_count": 27,
   "metadata": {},
   "outputs": [
    {
     "name": "stdout",
     "output_type": "stream",
     "text": [
      "Collecting fbprophet\n",
      "  Downloading fbprophet-0.7.1.tar.gz (64 kB)\n",
      "\u001b[K     |████████████████████████████████| 64 kB 3.6 MB/s eta 0:00:011\n",
      "\u001b[?25hRequirement already satisfied: Cython>=0.22 in /opt/anaconda3/lib/python3.8/site-packages (from fbprophet) (0.29.21)\n",
      "Collecting cmdstanpy==0.9.5\n",
      "  Downloading cmdstanpy-0.9.5-py3-none-any.whl (37 kB)\n",
      "Collecting pystan>=2.14\n",
      "  Downloading pystan-3.4.0-py3-none-any.whl (13 kB)\n",
      "Requirement already satisfied: numpy>=1.15.4 in /opt/anaconda3/lib/python3.8/site-packages (from fbprophet) (1.19.5)\n",
      "Requirement already satisfied: pandas>=1.0.4 in /opt/anaconda3/lib/python3.8/site-packages (from fbprophet) (1.3.4)\n",
      "Requirement already satisfied: matplotlib>=2.0.0 in /opt/anaconda3/lib/python3.8/site-packages (from fbprophet) (3.4.2)\n",
      "Collecting LunarCalendar>=0.0.9\n",
      "  Downloading LunarCalendar-0.0.9-py2.py3-none-any.whl (18 kB)\n",
      "Collecting convertdate>=2.1.2\n",
      "  Downloading convertdate-2.4.0-py3-none-any.whl (47 kB)\n",
      "\u001b[K     |████████████████████████████████| 47 kB 11.9 MB/s eta 0:00:01\n",
      "\u001b[?25hCollecting holidays>=0.10.2\n",
      "  Downloading holidays-0.13-py3-none-any.whl (172 kB)\n",
      "\u001b[K     |████████████████████████████████| 172 kB 17.8 MB/s eta 0:00:01\n",
      "\u001b[?25hCollecting setuptools-git>=1.2\n",
      "  Downloading setuptools_git-1.2-py2.py3-none-any.whl (10 kB)\n",
      "Requirement already satisfied: python-dateutil>=2.8.0 in /opt/anaconda3/lib/python3.8/site-packages (from fbprophet) (2.8.1)\n",
      "Requirement already satisfied: tqdm>=4.36.1 in /opt/anaconda3/lib/python3.8/site-packages (from fbprophet) (4.50.2)\n",
      "Requirement already satisfied: setuptools in /opt/anaconda3/lib/python3.8/site-packages (from pystan>=2.14->fbprophet) (50.3.1.post20201107)\n",
      "Collecting aiohttp<4.0,>=3.6\n",
      "  Downloading aiohttp-3.8.1-cp38-cp38-macosx_10_9_x86_64.whl (574 kB)\n",
      "\u001b[K     |████████████████████████████████| 574 kB 28.8 MB/s eta 0:00:01\n",
      "\u001b[?25hCollecting httpstan<4.8,>=4.7\n",
      "  Downloading httpstan-4.7.2-cp38-cp38-macosx_10_16_x86_64.whl (34.5 MB)\n",
      "\u001b[K     |████████████████████████████████| 34.5 MB 760 kB/s  eta 0:00:01\n",
      "\u001b[?25hCollecting pysimdjson<4.0,>=3.2\n",
      "  Downloading pysimdjson-3.2.0-cp38-cp38-macosx_10_14_x86_64.whl (196 kB)\n",
      "\u001b[K     |████████████████████████████████| 196 kB 30.7 MB/s eta 0:00:01\n",
      "\u001b[?25hCollecting clikit<0.7,>=0.6\n",
      "  Downloading clikit-0.6.2-py2.py3-none-any.whl (91 kB)\n",
      "\u001b[K     |████████████████████████████████| 91 kB 9.6 MB/s  eta 0:00:01\n",
      "\u001b[?25hRequirement already satisfied: pytz>=2017.3 in /opt/anaconda3/lib/python3.8/site-packages (from pandas>=1.0.4->fbprophet) (2020.1)\n",
      "Requirement already satisfied: kiwisolver>=1.0.1 in /opt/anaconda3/lib/python3.8/site-packages (from matplotlib>=2.0.0->fbprophet) (1.3.0)\n",
      "Requirement already satisfied: cycler>=0.10 in /opt/anaconda3/lib/python3.8/site-packages (from matplotlib>=2.0.0->fbprophet) (0.10.0)\n",
      "Requirement already satisfied: pyparsing>=2.2.1 in /opt/anaconda3/lib/python3.8/site-packages (from matplotlib>=2.0.0->fbprophet) (2.4.7)\n",
      "Requirement already satisfied: pillow>=6.2.0 in /opt/anaconda3/lib/python3.8/site-packages (from matplotlib>=2.0.0->fbprophet) (8.0.1)\n",
      "Collecting ephem>=3.7.5.3\n",
      "  Downloading ephem-4.1.3-cp38-cp38-macosx_10_9_x86_64.whl (1.4 MB)\n",
      "\u001b[K     |████████████████████████████████| 1.4 MB 25.3 MB/s eta 0:00:01\n",
      "\u001b[?25hCollecting pymeeus<=1,>=0.3.13\n",
      "  Downloading PyMeeus-0.5.11.tar.gz (5.4 MB)\n",
      "\u001b[K     |████████████████████████████████| 5.4 MB 53.4 MB/s eta 0:00:01\n",
      "\u001b[?25hCollecting hijri-converter\n",
      "  Downloading hijri_converter-2.2.4-py3-none-any.whl (14 kB)\n",
      "Collecting korean-lunar-calendar\n",
      "  Downloading korean_lunar_calendar-0.2.1-py3-none-any.whl (8.0 kB)\n",
      "Requirement already satisfied: six>=1.5 in /opt/anaconda3/lib/python3.8/site-packages (from python-dateutil>=2.8.0->fbprophet) (1.15.0)\n",
      "Requirement already satisfied: attrs>=17.3.0 in /opt/anaconda3/lib/python3.8/site-packages (from aiohttp<4.0,>=3.6->pystan>=2.14->fbprophet) (20.3.0)\n",
      "Collecting frozenlist>=1.1.1\n",
      "  Downloading frozenlist-1.3.0-cp38-cp38-macosx_10_9_x86_64.whl (36 kB)\n",
      "Collecting charset-normalizer<3.0,>=2.0\n",
      "  Downloading charset_normalizer-2.0.12-py3-none-any.whl (39 kB)\n",
      "Collecting yarl<2.0,>=1.0\n",
      "  Downloading yarl-1.7.2-cp38-cp38-macosx_10_9_x86_64.whl (121 kB)\n",
      "\u001b[K     |████████████████████████████████| 121 kB 47.2 MB/s eta 0:00:01\n",
      "\u001b[?25hCollecting async-timeout<5.0,>=4.0.0a3\n",
      "  Downloading async_timeout-4.0.2-py3-none-any.whl (5.8 kB)\n",
      "Collecting aiosignal>=1.1.2\n",
      "  Downloading aiosignal-1.2.0-py3-none-any.whl (8.2 kB)\n",
      "Collecting multidict<7.0,>=4.5\n",
      "  Downloading multidict-6.0.2-cp38-cp38-macosx_10_9_x86_64.whl (28 kB)\n",
      "Collecting webargs<9.0,>=8.0\n",
      "  Downloading webargs-8.1.0-py3-none-any.whl (31 kB)\n",
      "Collecting marshmallow<4.0,>=3.10\n",
      "  Downloading marshmallow-3.15.0-py3-none-any.whl (47 kB)\n",
      "\u001b[K     |████████████████████████████████| 47 kB 14.4 MB/s eta 0:00:01\n",
      "\u001b[?25hCollecting appdirs<2.0,>=1.4\n",
      "  Using cached appdirs-1.4.4-py2.py3-none-any.whl (9.6 kB)\n",
      "Collecting crashtest<0.4.0,>=0.3.0; python_version >= \"3.6\" and python_version < \"4.0\"\n",
      "  Downloading crashtest-0.3.1-py3-none-any.whl (7.0 kB)\n",
      "Collecting pylev<2.0,>=1.3\n",
      "  Downloading pylev-1.4.0-py2.py3-none-any.whl (6.1 kB)\n",
      "Collecting pastel<0.3.0,>=0.2.0\n",
      "  Downloading pastel-0.2.1-py2.py3-none-any.whl (6.0 kB)\n",
      "Requirement already satisfied: idna>=2.0 in /opt/anaconda3/lib/python3.8/site-packages (from yarl<2.0,>=1.0->aiohttp<4.0,>=3.6->pystan>=2.14->fbprophet) (2.10)\n",
      "Requirement already satisfied: packaging in /opt/anaconda3/lib/python3.8/site-packages (from webargs<9.0,>=8.0->httpstan<4.8,>=4.7->pystan>=2.14->fbprophet) (20.4)\n",
      "Building wheels for collected packages: fbprophet, pymeeus\n",
      "  Building wheel for fbprophet (setup.py) ... \u001b[?25lerror\n",
      "\u001b[31m  ERROR: Command errored out with exit status 1:\n",
      "   command: /opt/anaconda3/bin/python -u -c 'import sys, setuptools, tokenize; sys.argv[0] = '\"'\"'/private/var/folders/00/1xp8_gnx3j14s03qxz2k4j9c0000gn/T/pip-install-darwnt1g/fbprophet/setup.py'\"'\"'; __file__='\"'\"'/private/var/folders/00/1xp8_gnx3j14s03qxz2k4j9c0000gn/T/pip-install-darwnt1g/fbprophet/setup.py'\"'\"';f=getattr(tokenize, '\"'\"'open'\"'\"', open)(__file__);code=f.read().replace('\"'\"'\\r\\n'\"'\"', '\"'\"'\\n'\"'\"');f.close();exec(compile(code, __file__, '\"'\"'exec'\"'\"'))' bdist_wheel -d /private/var/folders/00/1xp8_gnx3j14s03qxz2k4j9c0000gn/T/pip-wheel-w_zy2cfi\n",
      "       cwd: /private/var/folders/00/1xp8_gnx3j14s03qxz2k4j9c0000gn/T/pip-install-darwnt1g/fbprophet/\n",
      "  Complete output (44 lines):\n",
      "  running bdist_wheel\n",
      "  running build\n",
      "  running build_py\n",
      "  creating build\n",
      "  creating build/lib\n",
      "  creating build/lib/fbprophet\n",
      "  creating build/lib/fbprophet/stan_model\n",
      "  Traceback (most recent call last):\n",
      "    File \"<string>\", line 1, in <module>\n",
      "    File \"/private/var/folders/00/1xp8_gnx3j14s03qxz2k4j9c0000gn/T/pip-install-darwnt1g/fbprophet/setup.py\", line 122, in <module>\n",
      "      setup(\n",
      "    File \"/opt/anaconda3/lib/python3.8/site-packages/setuptools/__init__.py\", line 153, in setup\n",
      "      return distutils.core.setup(**attrs)\n",
      "    File \"/opt/anaconda3/lib/python3.8/distutils/core.py\", line 148, in setup\n",
      "      dist.run_commands()\n",
      "    File \"/opt/anaconda3/lib/python3.8/distutils/dist.py\", line 966, in run_commands\n",
      "      self.run_command(cmd)\n",
      "    File \"/opt/anaconda3/lib/python3.8/distutils/dist.py\", line 985, in run_command\n",
      "      cmd_obj.run()\n",
      "    File \"/opt/anaconda3/lib/python3.8/site-packages/wheel/bdist_wheel.py\", line 290, in run\n",
      "      self.run_command('build')\n",
      "    File \"/opt/anaconda3/lib/python3.8/distutils/cmd.py\", line 313, in run_command\n",
      "      self.distribution.run_command(command)\n",
      "    File \"/opt/anaconda3/lib/python3.8/distutils/dist.py\", line 985, in run_command\n",
      "      cmd_obj.run()\n",
      "    File \"/opt/anaconda3/lib/python3.8/distutils/command/build.py\", line 135, in run\n",
      "      self.run_command(cmd_name)\n",
      "    File \"/opt/anaconda3/lib/python3.8/distutils/cmd.py\", line 313, in run_command\n",
      "      self.distribution.run_command(command)\n",
      "    File \"/opt/anaconda3/lib/python3.8/distutils/dist.py\", line 985, in run_command\n",
      "      cmd_obj.run()\n",
      "    File \"/private/var/folders/00/1xp8_gnx3j14s03qxz2k4j9c0000gn/T/pip-install-darwnt1g/fbprophet/setup.py\", line 48, in run\n",
      "      build_models(target_dir)\n",
      "    File \"/private/var/folders/00/1xp8_gnx3j14s03qxz2k4j9c0000gn/T/pip-install-darwnt1g/fbprophet/setup.py\", line 36, in build_models\n",
      "      from fbprophet.models import StanBackendEnum\n",
      "    File \"/private/var/folders/00/1xp8_gnx3j14s03qxz2k4j9c0000gn/T/pip-install-darwnt1g/fbprophet/fbprophet/__init__.py\", line 8, in <module>\n",
      "      from fbprophet.forecaster import Prophet\n",
      "    File \"/private/var/folders/00/1xp8_gnx3j14s03qxz2k4j9c0000gn/T/pip-install-darwnt1g/fbprophet/fbprophet/forecaster.py\", line 17, in <module>\n",
      "      from fbprophet.make_holidays import get_holiday_names, make_holidays_df\n",
      "    File \"/private/var/folders/00/1xp8_gnx3j14s03qxz2k4j9c0000gn/T/pip-install-darwnt1g/fbprophet/fbprophet/make_holidays.py\", line 14, in <module>\n",
      "      import fbprophet.hdays as hdays_part2\n",
      "    File \"/private/var/folders/00/1xp8_gnx3j14s03qxz2k4j9c0000gn/T/pip-install-darwnt1g/fbprophet/fbprophet/hdays.py\", line 13, in <module>\n",
      "      from convertdate.islamic import from_gregorian, to_gregorian\n",
      "  ModuleNotFoundError: No module named 'convertdate'\n",
      "  ----------------------------------------\u001b[0m\n",
      "\u001b[31m  ERROR: Failed building wheel for fbprophet\u001b[0m\n",
      "\u001b[?25h  Running setup.py clean for fbprophet\n"
     ]
    },
    {
     "name": "stdout",
     "output_type": "stream",
     "text": [
      "  Building wheel for pymeeus (setup.py) ... \u001b[?25ldone\n",
      "\u001b[?25h  Created wheel for pymeeus: filename=PyMeeus-0.5.11-py3-none-any.whl size=730974 sha256=bfcd0178910a66c75e670665718e8dc6a32d4a94cffd3c9af7d4a89b09cd109f\n",
      "  Stored in directory: /Users/tina/Library/Caches/pip/wheels/a0/8b/b2/810ae5a6f970c8be4725353400d643c90de1c0f023a9884ee7\n",
      "Successfully built pymeeus\n",
      "Failed to build fbprophet\n",
      "Installing collected packages: cmdstanpy, frozenlist, charset-normalizer, multidict, yarl, async-timeout, aiosignal, aiohttp, marshmallow, webargs, appdirs, httpstan, pysimdjson, crashtest, pylev, pastel, clikit, pystan, ephem, LunarCalendar, pymeeus, convertdate, hijri-converter, korean-lunar-calendar, holidays, setuptools-git, fbprophet\n",
      "    Running setup.py install for fbprophet ... \u001b[?25lerror\n",
      "\u001b[31m    ERROR: Command errored out with exit status 1:\n",
      "     command: /opt/anaconda3/bin/python -u -c 'import sys, setuptools, tokenize; sys.argv[0] = '\"'\"'/private/var/folders/00/1xp8_gnx3j14s03qxz2k4j9c0000gn/T/pip-install-darwnt1g/fbprophet/setup.py'\"'\"'; __file__='\"'\"'/private/var/folders/00/1xp8_gnx3j14s03qxz2k4j9c0000gn/T/pip-install-darwnt1g/fbprophet/setup.py'\"'\"';f=getattr(tokenize, '\"'\"'open'\"'\"', open)(__file__);code=f.read().replace('\"'\"'\\r\\n'\"'\"', '\"'\"'\\n'\"'\"');f.close();exec(compile(code, __file__, '\"'\"'exec'\"'\"'))' install --record /private/var/folders/00/1xp8_gnx3j14s03qxz2k4j9c0000gn/T/pip-record-xb6v27q3/install-record.txt --single-version-externally-managed --compile --install-headers /opt/anaconda3/include/python3.8/fbprophet\n",
      "         cwd: /private/var/folders/00/1xp8_gnx3j14s03qxz2k4j9c0000gn/T/pip-install-darwnt1g/fbprophet/\n",
      "    Complete output (41 lines):\n",
      "    running install\n",
      "    running build\n",
      "    running build_py\n",
      "    creating build\n",
      "    creating build/lib\n",
      "    creating build/lib/fbprophet\n",
      "    creating build/lib/fbprophet/stan_model\n",
      "    Importing plotly failed. Interactive plots will not work.\n",
      "    Traceback (most recent call last):\n",
      "      File \"<string>\", line 1, in <module>\n",
      "      File \"/private/var/folders/00/1xp8_gnx3j14s03qxz2k4j9c0000gn/T/pip-install-darwnt1g/fbprophet/setup.py\", line 122, in <module>\n",
      "        setup(\n",
      "      File \"/opt/anaconda3/lib/python3.8/site-packages/setuptools/__init__.py\", line 153, in setup\n",
      "        return distutils.core.setup(**attrs)\n",
      "      File \"/opt/anaconda3/lib/python3.8/distutils/core.py\", line 148, in setup\n",
      "        dist.run_commands()\n",
      "      File \"/opt/anaconda3/lib/python3.8/distutils/dist.py\", line 966, in run_commands\n",
      "        self.run_command(cmd)\n",
      "      File \"/opt/anaconda3/lib/python3.8/distutils/dist.py\", line 985, in run_command\n",
      "        cmd_obj.run()\n",
      "      File \"/opt/anaconda3/lib/python3.8/site-packages/setuptools/command/install.py\", line 61, in run\n",
      "        return orig.install.run(self)\n",
      "      File \"/opt/anaconda3/lib/python3.8/distutils/command/install.py\", line 545, in run\n",
      "        self.run_command('build')\n",
      "      File \"/opt/anaconda3/lib/python3.8/distutils/cmd.py\", line 313, in run_command\n",
      "        self.distribution.run_command(command)\n",
      "      File \"/opt/anaconda3/lib/python3.8/distutils/dist.py\", line 985, in run_command\n",
      "        cmd_obj.run()\n",
      "      File \"/opt/anaconda3/lib/python3.8/distutils/command/build.py\", line 135, in run\n",
      "        self.run_command(cmd_name)\n",
      "      File \"/opt/anaconda3/lib/python3.8/distutils/cmd.py\", line 313, in run_command\n",
      "        self.distribution.run_command(command)\n",
      "      File \"/opt/anaconda3/lib/python3.8/distutils/dist.py\", line 985, in run_command\n",
      "        cmd_obj.run()\n",
      "      File \"/private/var/folders/00/1xp8_gnx3j14s03qxz2k4j9c0000gn/T/pip-install-darwnt1g/fbprophet/setup.py\", line 48, in run\n",
      "        build_models(target_dir)\n",
      "      File \"/private/var/folders/00/1xp8_gnx3j14s03qxz2k4j9c0000gn/T/pip-install-darwnt1g/fbprophet/setup.py\", line 38, in build_models\n",
      "        StanBackendEnum.get_backend_class(backend).build_model(target_dir, MODEL_DIR)\n",
      "      File \"/private/var/folders/00/1xp8_gnx3j14s03qxz2k4j9c0000gn/T/pip-install-darwnt1g/fbprophet/fbprophet/models.py\", line 209, in build_model\n",
      "        import pystan\n",
      "    ModuleNotFoundError: No module named 'pystan'\n",
      "    ----------------------------------------\u001b[0m\n",
      "\u001b[31mERROR: Command errored out with exit status 1: /opt/anaconda3/bin/python -u -c 'import sys, setuptools, tokenize; sys.argv[0] = '\"'\"'/private/var/folders/00/1xp8_gnx3j14s03qxz2k4j9c0000gn/T/pip-install-darwnt1g/fbprophet/setup.py'\"'\"'; __file__='\"'\"'/private/var/folders/00/1xp8_gnx3j14s03qxz2k4j9c0000gn/T/pip-install-darwnt1g/fbprophet/setup.py'\"'\"';f=getattr(tokenize, '\"'\"'open'\"'\"', open)(__file__);code=f.read().replace('\"'\"'\\r\\n'\"'\"', '\"'\"'\\n'\"'\"');f.close();exec(compile(code, __file__, '\"'\"'exec'\"'\"'))' install --record /private/var/folders/00/1xp8_gnx3j14s03qxz2k4j9c0000gn/T/pip-record-xb6v27q3/install-record.txt --single-version-externally-managed --compile --install-headers /opt/anaconda3/include/python3.8/fbprophet Check the logs for full command output.\u001b[0m\n",
      "\u001b[?25hNote: you may need to restart the kernel to use updated packages.\n"
     ]
    }
   ],
   "source": [
    "pip install fbprophet"
   ]
  },
  {
   "cell_type": "code",
   "execution_count": 29,
   "metadata": {},
   "outputs": [
    {
     "data": {
      "image/png": "[encoded data removed]",
      "text/plain": [
       "<Figure size 432x288 with 1 Axes>"
      ]
     },
     "execution_count": 29,
     "metadata": {},
     "output_type": "execute_result"
    },
    {
     "data": {
      "image/png": "[encoded data removed]",
      "text/plain": [
       "<Figure size 432x288 with 1 Axes>"
      ]
     },
     "metadata": {
      "needs_background": "light"
     },
     "output_type": "display_data"
    }
   ],
   "source": [
    "f.plot_acf()"
   ]
  },
  {
   "cell_type": "code",
   "execution_count": 30,
   "metadata": {},
   "outputs": [
    {
     "data": {
      "image/png": "[encoded data removed]",
      "text/plain": [
       "<Figure size 432x288 with 1 Axes>"
      ]
     },
     "metadata": {
      "needs_background": "light"
     },
     "output_type": "display_data"
    }
   ],
   "source": [
    "f.plot_pacf()\n",
    "plt.show()"
   ]
  },
  {
   "cell_type": "code",
   "execution_count": 32,
   "metadata": {},
   "outputs": [
    {
     "name": "stdout",
     "output_type": "stream",
     "text": [
      "                             ARIMA Model Results                              \n",
      "==============================================================================\n",
      "Dep. Variable:                  D2.종가   No. Observations:                 2022\n",
      "Model:                 ARIMA(1, 2, 0)   Log Likelihood               -5030.645\n",
      "Method:                       css-mle   S.D. of innovations              2.912\n",
      "Date:                Wed, 25 May 2022   AIC                          10067.291\n",
      "Time:                        22:32:44   BIC                          10084.126\n",
      "Sample:                             2   HQIC                         10073.469\n",
      "                                                                              \n",
      "===============================================================================\n",
      "                  coef    std err          z      P>|z|      [0.025      0.975]\n",
      "-------------------------------------------------------------------------------\n",
      "const          -0.0005      0.046     -0.010      0.992      -0.090       0.089\n",
      "ar.L1.D2.종가    -0.4214      0.020    -20.883      0.000      -0.461      -0.382\n",
      "                                    Roots                                    \n",
      "=============================================================================\n",
      "                  Real          Imaginary           Modulus         Frequency\n",
      "-----------------------------------------------------------------------------\n",
      "AR.1           -2.3733           +0.0000j            2.3733            0.5000\n",
      "-----------------------------------------------------------------------------\n"
     ]
    }
   ],
   "source": [
    "from statsmodels.tsa.arima_model import ARIMA\n",
    "import statsmodels.api as sm\n",
    "model=ARIMA(train['종가'], order=(1,2,0))\n",
    "model_fit=model.fit(trend='c', full_output=True, disp=True)\n",
    "print(model_fit.summary())"
   ]
  },
  {
   "cell_type": "code",
   "execution_count": 33,
   "metadata": {},
   "outputs": [
    {
     "name": "stdout",
     "output_type": "stream",
     "text": [
      "                             ARIMA Model Results                              \n",
      "==============================================================================\n",
      "Dep. Variable:                  D2.종가   No. Observations:                 2022\n",
      "Model:                 ARIMA(1, 2, 0)   Log Likelihood               -5030.645\n",
      "Method:                       css-mle   S.D. of innovations              2.912\n",
      "Date:                Wed, 25 May 2022   AIC                          10065.291\n",
      "Time:                        22:33:07   BIC                          10076.514\n",
      "Sample:                             2   HQIC                         10069.410\n",
      "                                                                              \n",
      "===============================================================================\n",
      "                  coef    std err          z      P>|z|      [0.025      0.975]\n",
      "-------------------------------------------------------------------------------\n",
      "ar.L1.D2.종가    -0.4214      0.020    -20.883      0.000      -0.461      -0.382\n",
      "                                    Roots                                    \n",
      "=============================================================================\n",
      "                  Real          Imaginary           Modulus         Frequency\n",
      "-----------------------------------------------------------------------------\n",
      "AR.1           -2.3733           +0.0000j            2.3733            0.5000\n",
      "-----------------------------------------------------------------------------\n"
     ]
    }
   ],
   "source": [
    "from statsmodels.tsa.arima_model import ARIMA\n",
    "import statsmodels.api as sm\n",
    "model=ARIMA(train['종가'], order=(1,2,0))\n",
    "model_fit=model.fit(trend='nc', full_output=True, disp=True)\n",
    "print(model_fit.summary())"
   ]
  },
  {
   "cell_type": "code",
   "execution_count": 66,
   "metadata": {},
   "outputs": [
    {
     "data": {
      "text/plain": [
       "[<matplotlib.lines.Line2D at 0x7fc09fb91b50>]"
      ]
     },
     "execution_count": 66,
     "metadata": {},
     "output_type": "execute_result"
    },
    {
     "data": {
      "image/png": "[encoded data removed]",
      "text/plain": [
       "<Figure size 432x288 with 1 Axes>"
      ]
     },
     "metadata": {
      "needs_background": "light"
     },
     "output_type": "display_data"
    }
   ],
   "source": [
    "forecast_data = model_fit.forecast(steps=5) # 학습 데이터셋으로부터 5일 뒤를 예측합니다.\n",
    "\n",
    "# 테스트 데이터셋을 불러옵니다.\n",
    "\n",
    "zoo_test_df = pd.read_excel(\"/Users/tina/Desktop/기계/R 3종 데이터/S&P 500/1번데이터_test.xlsx\", index_col=0,names=['ds', 'y'])\n",
    "\n",
    "pred_y = forecast_data[0].tolist() # 마지막 5일의 예측 데이터입니다. \n",
    "test_y = zoo_test_df.y.values # 실제 5일 가격 데이터입니다. \n",
    "pred_y_lower = [] # 마지막 5일의 예측 데이터의 최소값입니다.\n",
    "pred_y_upper = [] # 마지막 5일의 예측 데이터의 최대값입니다.\n",
    "for lower_upper in forecast_data[2]:\n",
    "    lower = lower_upper[0]\n",
    "    upper = lower_upper[1]\n",
    "    pred_y_lower.append(lower)\n",
    "    pred_y_upper.append(upper)\n",
    "    \n",
    "plt.plot(pred_y, color=\"gold\") # 모델이 예상한 가격 \n",
    "plt.plot(pred_y_lower, color=\"red\") # 모델이 예상한 최소가격 \n",
    "plt.plot(pred_y_upper, color=\"blue\") # 모델이 예상한 최대가격 \n",
    "plt.plot(test_y, color=\"green\") # 실제 \n",
    " "
   ]
  },
  {
   "cell_type": "code",
   "execution_count": 67,
   "metadata": {},
   "outputs": [
    {
     "data": {
      "text/plain": [
       "[241.32465647005046,\n",
       " 239.00805149182003,\n",
       " 236.28747252089195,\n",
       " 233.7371119963625,\n",
       " 231.11502824207543]"
      ]
     },
     "execution_count": 67,
     "metadata": {},
     "output_type": "execute_result"
    }
   ],
   "source": [
    "pred_y"
   ]
  },
  {
   "cell_type": "code",
   "execution_count": 68,
   "metadata": {},
   "outputs": [
    {
     "data": {
      "text/plain": [
       "array([347.4, 346.8, 348.8, 350.7, 353.4])"
      ]
     },
     "execution_count": 68,
     "metadata": {},
     "output_type": "execute_result"
    }
   ],
   "source": [
    "test_y"
   ]
  },
  {
   "cell_type": "markdown",
   "metadata": {},
   "source": [
    "## ARIMA가 아닌, 페이스북이 만든 시계열 예측 라이브러리\n"
   ]
  },
  {
   "cell_type": "code",
   "execution_count": 69,
   "metadata": {},
   "outputs": [
    {
     "name": "stdout",
     "output_type": "stream",
     "text": [
      "Collecting package metadata (current_repodata.json): done\n",
      "Solving environment: failed with initial frozen solve. Retrying with flexible solve.\n",
      "Solving environment: failed with repodata from current_repodata.json, will retry with next repodata source.\n",
      "Collecting package metadata (repodata.json): done\n",
      "Solving environment: failed with initial frozen solve. Retrying with flexible solve.\n",
      "Solving environment: - ^C\n",
      "failed\n",
      "\n",
      "CondaError: KeyboardInterrupt\n",
      "\n",
      "\n",
      "Note: you may need to restart the kernel to use updated packages.\n"
     ]
    }
   ],
   "source": [
    "conda install -c conda-forge fbprophet"
   ]
  },
  {
   "cell_type": "code",
   "execution_count": null,
   "metadata": {},
   "outputs": [],
   "source": []
  }
 ],
 "metadata": {
  "kernelspec": {
   "display_name": "Python 3 (ipykernel)",
   "language": "python",
   "name": "python3"
  },
  "language_info": {
   "codemirror_mode": {
    "name": "ipython",
    "version": 3
   },
   "file_extension": ".py",
   "mimetype": "text/x-python",
   "name": "python",
   "nbconvert_exporter": "python",
   "pygments_lexer": "ipython3",
   "version": "3.9.12"
  }
 },
 "nbformat": 4,
 "nbformat_minor": 4
}
