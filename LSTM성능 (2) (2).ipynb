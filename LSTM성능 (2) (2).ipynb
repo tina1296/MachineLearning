{
 "cells": [
  {
   "cell_type": "code",
   "execution_count": 1,
   "metadata": {
    "colab": {
     "base_uri": "https://localhost:8080/",
     "height": 479
    },
    "executionInfo": {
     "elapsed": 3685,
     "status": "ok",
     "timestamp": 1654151659592,
     "user": {
      "displayName": "권나은",
      "userId": "06827649815892596464"
     },
     "user_tz": -540
    },
    "id": "6d3OVhFwNHOQ",
    "outputId": "28947e1a-3cfb-4429-e089-a0bd280a3e91"
   },
   "outputs": [
    {
     "name": "stderr",
     "output_type": "stream",
     "text": [
      "/usr/local/lib/python3.7/dist-packages/statsmodels/tools/_testing.py:19: FutureWarning: pandas.util.testing is deprecated. Use the functions in the public API at pandas.testing instead.\n",
      "  import pandas.util.testing as tm\n"
     ]
    },
    {
     "data": {
      "text/html": [
       "\n",
       "  <div id=\"df-8887c3ab-5750-4dd3-b3fb-d238f40f0b11\">\n",
       "    <div class=\"colab-df-container\">\n",
       "      <div>\n",
       "<style scoped>\n",
       "    .dataframe tbody tr th:only-of-type {\n",
       "        vertical-align: middle;\n",
       "    }\n",
       "\n",
       "    .dataframe tbody tr th {\n",
       "        vertical-align: top;\n",
       "    }\n",
       "\n",
       "    .dataframe thead th {\n",
       "        text-align: right;\n",
       "    }\n",
       "</style>\n",
       "<table border=\"1\" class=\"dataframe\">\n",
       "  <thead>\n",
       "    <tr style=\"text-align: right;\">\n",
       "      <th></th>\n",
       "      <th>날짜</th>\n",
       "      <th>종가</th>\n",
       "      <th>시가</th>\n",
       "      <th>고가</th>\n",
       "      <th>저가</th>\n",
       "      <th>거래량</th>\n",
       "      <th>변동률</th>\n",
       "    </tr>\n",
       "  </thead>\n",
       "  <tbody>\n",
       "    <tr>\n",
       "      <th>0</th>\n",
       "      <td>1983-03-31</td>\n",
       "      <td>29.27</td>\n",
       "      <td>29.40</td>\n",
       "      <td>29.60</td>\n",
       "      <td>29.25</td>\n",
       "      <td>0.52</td>\n",
       "      <td>-0.44</td>\n",
       "    </tr>\n",
       "    <tr>\n",
       "      <th>1</th>\n",
       "      <td>1983-04-04</td>\n",
       "      <td>29.44</td>\n",
       "      <td>29.30</td>\n",
       "      <td>29.70</td>\n",
       "      <td>29.29</td>\n",
       "      <td>0.16</td>\n",
       "      <td>0.58</td>\n",
       "    </tr>\n",
       "    <tr>\n",
       "      <th>2</th>\n",
       "      <td>1983-04-05</td>\n",
       "      <td>29.71</td>\n",
       "      <td>29.50</td>\n",
       "      <td>29.80</td>\n",
       "      <td>29.50</td>\n",
       "      <td>0.18</td>\n",
       "      <td>0.92</td>\n",
       "    </tr>\n",
       "    <tr>\n",
       "      <th>3</th>\n",
       "      <td>1983-04-06</td>\n",
       "      <td>29.90</td>\n",
       "      <td>29.90</td>\n",
       "      <td>29.92</td>\n",
       "      <td>29.65</td>\n",
       "      <td>0.39</td>\n",
       "      <td>0.64</td>\n",
       "    </tr>\n",
       "    <tr>\n",
       "      <th>4</th>\n",
       "      <td>1983-04-07</td>\n",
       "      <td>30.17</td>\n",
       "      <td>29.92</td>\n",
       "      <td>30.20</td>\n",
       "      <td>29.86</td>\n",
       "      <td>0.82</td>\n",
       "      <td>0.90</td>\n",
       "    </tr>\n",
       "    <tr>\n",
       "      <th>...</th>\n",
       "      <td>...</td>\n",
       "      <td>...</td>\n",
       "      <td>...</td>\n",
       "      <td>...</td>\n",
       "      <td>...</td>\n",
       "      <td>...</td>\n",
       "      <td>...</td>\n",
       "    </tr>\n",
       "    <tr>\n",
       "      <th>9928</th>\n",
       "      <td>2022-05-18</td>\n",
       "      <td>109.59</td>\n",
       "      <td>113.66</td>\n",
       "      <td>115.42</td>\n",
       "      <td>108.46</td>\n",
       "      <td>103.67</td>\n",
       "      <td>-2.50</td>\n",
       "    </tr>\n",
       "    <tr>\n",
       "      <th>9929</th>\n",
       "      <td>2022-05-19</td>\n",
       "      <td>112.21</td>\n",
       "      <td>109.09</td>\n",
       "      <td>112.62</td>\n",
       "      <td>105.13</td>\n",
       "      <td>68.51</td>\n",
       "      <td>2.39</td>\n",
       "    </tr>\n",
       "    <tr>\n",
       "      <th>9930</th>\n",
       "      <td>2022-05-20</td>\n",
       "      <td>113.23</td>\n",
       "      <td>111.45</td>\n",
       "      <td>114.04</td>\n",
       "      <td>110.85</td>\n",
       "      <td>20</td>\n",
       "      <td>0.91</td>\n",
       "    </tr>\n",
       "    <tr>\n",
       "      <th>9931</th>\n",
       "      <td>2022-05-22</td>\n",
       "      <td>110.31</td>\n",
       "      <td>110.56</td>\n",
       "      <td>110.56</td>\n",
       "      <td>109.53</td>\n",
       "      <td>-</td>\n",
       "      <td>-2.58</td>\n",
       "    </tr>\n",
       "    <tr>\n",
       "      <th>9932</th>\n",
       "      <td>2022-05-23</td>\n",
       "      <td>111.09</td>\n",
       "      <td>110.29</td>\n",
       "      <td>111.61</td>\n",
       "      <td>110.09</td>\n",
       "      <td>-</td>\n",
       "      <td>0.71</td>\n",
       "    </tr>\n",
       "  </tbody>\n",
       "</table>\n",
       "<p>9933 rows × 7 columns</p>\n",
       "</div>\n",
       "      <button class=\"colab-df-convert\" onclick=\"convertToInteractive('df-8887c3ab-5750-4dd3-b3fb-d238f40f0b11')\"\n",
       "              title=\"Convert this dataframe to an interactive table.\"\n",
       "              style=\"display:none;\">\n",
       "        \n",
       "  <svg xmlns=\"http://www.w3.org/2000/svg\" height=\"24px\"viewBox=\"0 0 24 24\"\n",
       "       width=\"24px\">\n",
       "    <path d=\"M0 0h24v24H0V0z\" fill=\"none\"/>\n",
       "    <path d=\"M18.56 5.44l.94 2.06.94-2.06 2.06-.94-2.06-.94-.94-2.06-.94 2.06-2.06.94zm-11 1L8.5 8.5l.94-2.06 2.06-.94-2.06-.94L8.5 2.5l-.94 2.06-2.06.94zm10 10l.94 2.06.94-2.06 2.06-.94-2.06-.94-.94-2.06-.94 2.06-2.06.94z\"/><path d=\"M17.41 7.96l-1.37-1.37c-.4-.4-.92-.59-1.43-.59-.52 0-1.04.2-1.43.59L10.3 9.45l-7.72 7.72c-.78.78-.78 2.05 0 2.83L4 21.41c.39.39.9.59 1.41.59.51 0 1.02-.2 1.41-.59l7.78-7.78 2.81-2.81c.8-.78.8-2.07 0-2.86zM5.41 20L4 18.59l7.72-7.72 1.47 1.35L5.41 20z\"/>\n",
       "  </svg>\n",
       "      </button>\n",
       "      \n",
       "  <style>\n",
       "    .colab-df-container {\n",
       "      display:flex;\n",
       "      flex-wrap:wrap;\n",
       "      gap: 12px;\n",
       "    }\n",
       "\n",
       "    .colab-df-convert {\n",
       "      background-color: #E8F0FE;\n",
       "      border: none;\n",
       "      border-radius: 50%;\n",
       "      cursor: pointer;\n",
       "      display: none;\n",
       "      fill: #1967D2;\n",
       "      height: 32px;\n",
       "      padding: 0 0 0 0;\n",
       "      width: 32px;\n",
       "    }\n",
       "\n",
       "    .colab-df-convert:hover {\n",
       "      background-color: #E2EBFA;\n",
       "      box-shadow: 0px 1px 2px rgba(60, 64, 67, 0.3), 0px 1px 3px 1px rgba(60, 64, 67, 0.15);\n",
       "      fill: #174EA6;\n",
       "    }\n",
       "\n",
       "    [theme=dark] .colab-df-convert {\n",
       "      background-color: #3B4455;\n",
       "      fill: #D2E3FC;\n",
       "    }\n",
       "\n",
       "    [theme=dark] .colab-df-convert:hover {\n",
       "      background-color: #434B5C;\n",
       "      box-shadow: 0px 1px 3px 1px rgba(0, 0, 0, 0.15);\n",
       "      filter: drop-shadow(0px 1px 2px rgba(0, 0, 0, 0.3));\n",
       "      fill: #FFFFFF;\n",
       "    }\n",
       "  </style>\n",
       "\n",
       "      <script>\n",
       "        const buttonEl =\n",
       "          document.querySelector('#df-8887c3ab-5750-4dd3-b3fb-d238f40f0b11 button.colab-df-convert');\n",
       "        buttonEl.style.display =\n",
       "          google.colab.kernel.accessAllowed ? 'block' : 'none';\n",
       "\n",
       "        async function convertToInteractive(key) {\n",
       "          const element = document.querySelector('#df-8887c3ab-5750-4dd3-b3fb-d238f40f0b11');\n",
       "          const dataTable =\n",
       "            await google.colab.kernel.invokeFunction('convertToInteractive',\n",
       "                                                     [key], {});\n",
       "          if (!dataTable) return;\n",
       "\n",
       "          const docLinkHtml = 'Like what you see? Visit the ' +\n",
       "            '<a target=\"_blank\" href=https://colab.research.google.com/notebooks/data_table.ipynb>data table notebook</a>'\n",
       "            + ' to learn more about interactive tables.';\n",
       "          element.innerHTML = '';\n",
       "          dataTable['output_type'] = 'display_data';\n",
       "          await google.colab.output.renderOutput(dataTable, element);\n",
       "          const docLink = document.createElement('div');\n",
       "          docLink.innerHTML = docLinkHtml;\n",
       "          element.appendChild(docLink);\n",
       "        }\n",
       "      </script>\n",
       "    </div>\n",
       "  </div>\n",
       "  "
      ],
      "text/plain": [
       "             날짜      종가      시가      고가      저가     거래량   변동률\n",
       "0    1983-03-31   29.27   29.40   29.60   29.25    0.52 -0.44\n",
       "1    1983-04-04   29.44   29.30   29.70   29.29    0.16  0.58\n",
       "2    1983-04-05   29.71   29.50   29.80   29.50    0.18  0.92\n",
       "3    1983-04-06   29.90   29.90   29.92   29.65    0.39  0.64\n",
       "4    1983-04-07   30.17   29.92   30.20   29.86    0.82  0.90\n",
       "...         ...     ...     ...     ...     ...     ...   ...\n",
       "9928 2022-05-18  109.59  113.66  115.42  108.46  103.67 -2.50\n",
       "9929 2022-05-19  112.21  109.09  112.62  105.13   68.51  2.39\n",
       "9930 2022-05-20  113.23  111.45  114.04  110.85      20  0.91\n",
       "9931 2022-05-22  110.31  110.56  110.56  109.53       - -2.58\n",
       "9932 2022-05-23  111.09  110.29  111.61  110.09       -  0.71\n",
       "\n",
       "[9933 rows x 7 columns]"
      ]
     },
     "execution_count": 1,
     "metadata": {},
     "output_type": "execute_result"
    }
   ],
   "source": [
    "import pandas as pd\n",
    "import numpy as np\n",
    "import matplotlib.pyplot as plt\n",
    "from datetime import datetime\n",
    "\n",
    "from pylab import rcParams\n",
    "import statsmodels.api as sm\n",
    "import warnings\n",
    "import itertools\n",
    "from statsmodels.tsa.ar_model import AR\n",
    "from statsmodels.tsa.arima_model import ARIMA\n",
    "df=pd.read_excel('/content/drive/MyDrive/기계학습/종합파일.xlsx', index_col=0)\n",
    "df"
   ]
  },
  {
   "cell_type": "code",
   "execution_count": 2,
   "metadata": {
    "colab": {
     "base_uri": "https://localhost:8080/",
     "height": 424
    },
    "executionInfo": {
     "elapsed": 292,
     "status": "ok",
     "timestamp": 1654151665840,
     "user": {
      "displayName": "권나은",
      "userId": "06827649815892596464"
     },
     "user_tz": -540
    },
    "id": "JD3aQsKUNhbr",
    "outputId": "4b42dfa0-36eb-4588-bd30-ffc25e65f91a"
   },
   "outputs": [
    {
     "data": {
      "text/html": [
       "\n",
       "  <div id=\"df-07be43a5-bdc7-447e-8484-a7edb0844c41\">\n",
       "    <div class=\"colab-df-container\">\n",
       "      <div>\n",
       "<style scoped>\n",
       "    .dataframe tbody tr th:only-of-type {\n",
       "        vertical-align: middle;\n",
       "    }\n",
       "\n",
       "    .dataframe tbody tr th {\n",
       "        vertical-align: top;\n",
       "    }\n",
       "\n",
       "    .dataframe thead th {\n",
       "        text-align: right;\n",
       "    }\n",
       "</style>\n",
       "<table border=\"1\" class=\"dataframe\">\n",
       "  <thead>\n",
       "    <tr style=\"text-align: right;\">\n",
       "      <th></th>\n",
       "      <th>날짜</th>\n",
       "      <th>종가</th>\n",
       "      <th>시가</th>\n",
       "      <th>고가</th>\n",
       "      <th>저가</th>\n",
       "      <th>거래량</th>\n",
       "      <th>변동률</th>\n",
       "    </tr>\n",
       "  </thead>\n",
       "  <tbody>\n",
       "    <tr>\n",
       "      <th>0</th>\n",
       "      <td>1983-03-31</td>\n",
       "      <td>29.27</td>\n",
       "      <td>29.40</td>\n",
       "      <td>29.60</td>\n",
       "      <td>29.25</td>\n",
       "      <td>0.52</td>\n",
       "      <td>-0.44</td>\n",
       "    </tr>\n",
       "    <tr>\n",
       "      <th>1</th>\n",
       "      <td>1983-04-04</td>\n",
       "      <td>29.44</td>\n",
       "      <td>29.30</td>\n",
       "      <td>29.70</td>\n",
       "      <td>29.29</td>\n",
       "      <td>0.16</td>\n",
       "      <td>0.58</td>\n",
       "    </tr>\n",
       "    <tr>\n",
       "      <th>2</th>\n",
       "      <td>1983-04-05</td>\n",
       "      <td>29.71</td>\n",
       "      <td>29.50</td>\n",
       "      <td>29.80</td>\n",
       "      <td>29.50</td>\n",
       "      <td>0.18</td>\n",
       "      <td>0.92</td>\n",
       "    </tr>\n",
       "    <tr>\n",
       "      <th>3</th>\n",
       "      <td>1983-04-06</td>\n",
       "      <td>29.90</td>\n",
       "      <td>29.90</td>\n",
       "      <td>29.92</td>\n",
       "      <td>29.65</td>\n",
       "      <td>0.39</td>\n",
       "      <td>0.64</td>\n",
       "    </tr>\n",
       "    <tr>\n",
       "      <th>4</th>\n",
       "      <td>1983-04-07</td>\n",
       "      <td>30.17</td>\n",
       "      <td>29.92</td>\n",
       "      <td>30.20</td>\n",
       "      <td>29.86</td>\n",
       "      <td>0.82</td>\n",
       "      <td>0.90</td>\n",
       "    </tr>\n",
       "    <tr>\n",
       "      <th>...</th>\n",
       "      <td>...</td>\n",
       "      <td>...</td>\n",
       "      <td>...</td>\n",
       "      <td>...</td>\n",
       "      <td>...</td>\n",
       "      <td>...</td>\n",
       "      <td>...</td>\n",
       "    </tr>\n",
       "    <tr>\n",
       "      <th>9928</th>\n",
       "      <td>2022-05-18</td>\n",
       "      <td>109.59</td>\n",
       "      <td>113.66</td>\n",
       "      <td>115.42</td>\n",
       "      <td>108.46</td>\n",
       "      <td>103.67</td>\n",
       "      <td>-2.50</td>\n",
       "    </tr>\n",
       "    <tr>\n",
       "      <th>9929</th>\n",
       "      <td>2022-05-19</td>\n",
       "      <td>112.21</td>\n",
       "      <td>109.09</td>\n",
       "      <td>112.62</td>\n",
       "      <td>105.13</td>\n",
       "      <td>68.51</td>\n",
       "      <td>2.39</td>\n",
       "    </tr>\n",
       "    <tr>\n",
       "      <th>9930</th>\n",
       "      <td>2022-05-20</td>\n",
       "      <td>113.23</td>\n",
       "      <td>111.45</td>\n",
       "      <td>114.04</td>\n",
       "      <td>110.85</td>\n",
       "      <td>20</td>\n",
       "      <td>0.91</td>\n",
       "    </tr>\n",
       "    <tr>\n",
       "      <th>9931</th>\n",
       "      <td>2022-05-22</td>\n",
       "      <td>110.31</td>\n",
       "      <td>110.56</td>\n",
       "      <td>110.56</td>\n",
       "      <td>109.53</td>\n",
       "      <td>-</td>\n",
       "      <td>-2.58</td>\n",
       "    </tr>\n",
       "    <tr>\n",
       "      <th>9932</th>\n",
       "      <td>2022-05-23</td>\n",
       "      <td>111.09</td>\n",
       "      <td>110.29</td>\n",
       "      <td>111.61</td>\n",
       "      <td>110.09</td>\n",
       "      <td>-</td>\n",
       "      <td>0.71</td>\n",
       "    </tr>\n",
       "  </tbody>\n",
       "</table>\n",
       "<p>9933 rows × 7 columns</p>\n",
       "</div>\n",
       "      <button class=\"colab-df-convert\" onclick=\"convertToInteractive('df-07be43a5-bdc7-447e-8484-a7edb0844c41')\"\n",
       "              title=\"Convert this dataframe to an interactive table.\"\n",
       "              style=\"display:none;\">\n",
       "        \n",
       "  <svg xmlns=\"http://www.w3.org/2000/svg\" height=\"24px\"viewBox=\"0 0 24 24\"\n",
       "       width=\"24px\">\n",
       "    <path d=\"M0 0h24v24H0V0z\" fill=\"none\"/>\n",
       "    <path d=\"M18.56 5.44l.94 2.06.94-2.06 2.06-.94-2.06-.94-.94-2.06-.94 2.06-2.06.94zm-11 1L8.5 8.5l.94-2.06 2.06-.94-2.06-.94L8.5 2.5l-.94 2.06-2.06.94zm10 10l.94 2.06.94-2.06 2.06-.94-2.06-.94-.94-2.06-.94 2.06-2.06.94z\"/><path d=\"M17.41 7.96l-1.37-1.37c-.4-.4-.92-.59-1.43-.59-.52 0-1.04.2-1.43.59L10.3 9.45l-7.72 7.72c-.78.78-.78 2.05 0 2.83L4 21.41c.39.39.9.59 1.41.59.51 0 1.02-.2 1.41-.59l7.78-7.78 2.81-2.81c.8-.78.8-2.07 0-2.86zM5.41 20L4 18.59l7.72-7.72 1.47 1.35L5.41 20z\"/>\n",
       "  </svg>\n",
       "      </button>\n",
       "      \n",
       "  <style>\n",
       "    .colab-df-container {\n",
       "      display:flex;\n",
       "      flex-wrap:wrap;\n",
       "      gap: 12px;\n",
       "    }\n",
       "\n",
       "    .colab-df-convert {\n",
       "      background-color: #E8F0FE;\n",
       "      border: none;\n",
       "      border-radius: 50%;\n",
       "      cursor: pointer;\n",
       "      display: none;\n",
       "      fill: #1967D2;\n",
       "      height: 32px;\n",
       "      padding: 0 0 0 0;\n",
       "      width: 32px;\n",
       "    }\n",
       "\n",
       "    .colab-df-convert:hover {\n",
       "      background-color: #E2EBFA;\n",
       "      box-shadow: 0px 1px 2px rgba(60, 64, 67, 0.3), 0px 1px 3px 1px rgba(60, 64, 67, 0.15);\n",
       "      fill: #174EA6;\n",
       "    }\n",
       "\n",
       "    [theme=dark] .colab-df-convert {\n",
       "      background-color: #3B4455;\n",
       "      fill: #D2E3FC;\n",
       "    }\n",
       "\n",
       "    [theme=dark] .colab-df-convert:hover {\n",
       "      background-color: #434B5C;\n",
       "      box-shadow: 0px 1px 3px 1px rgba(0, 0, 0, 0.15);\n",
       "      filter: drop-shadow(0px 1px 2px rgba(0, 0, 0, 0.3));\n",
       "      fill: #FFFFFF;\n",
       "    }\n",
       "  </style>\n",
       "\n",
       "      <script>\n",
       "        const buttonEl =\n",
       "          document.querySelector('#df-07be43a5-bdc7-447e-8484-a7edb0844c41 button.colab-df-convert');\n",
       "        buttonEl.style.display =\n",
       "          google.colab.kernel.accessAllowed ? 'block' : 'none';\n",
       "\n",
       "        async function convertToInteractive(key) {\n",
       "          const element = document.querySelector('#df-07be43a5-bdc7-447e-8484-a7edb0844c41');\n",
       "          const dataTable =\n",
       "            await google.colab.kernel.invokeFunction('convertToInteractive',\n",
       "                                                     [key], {});\n",
       "          if (!dataTable) return;\n",
       "\n",
       "          const docLinkHtml = 'Like what you see? Visit the ' +\n",
       "            '<a target=\"_blank\" href=https://colab.research.google.com/notebooks/data_table.ipynb>data table notebook</a>'\n",
       "            + ' to learn more about interactive tables.';\n",
       "          element.innerHTML = '';\n",
       "          dataTable['output_type'] = 'display_data';\n",
       "          await google.colab.output.renderOutput(dataTable, element);\n",
       "          const docLink = document.createElement('div');\n",
       "          docLink.innerHTML = docLinkHtml;\n",
       "          element.appendChild(docLink);\n",
       "        }\n",
       "      </script>\n",
       "    </div>\n",
       "  </div>\n",
       "  "
      ],
      "text/plain": [
       "             날짜      종가      시가      고가      저가     거래량   변동률\n",
       "0    1983-03-31   29.27   29.40   29.60   29.25    0.52 -0.44\n",
       "1    1983-04-04   29.44   29.30   29.70   29.29    0.16  0.58\n",
       "2    1983-04-05   29.71   29.50   29.80   29.50    0.18  0.92\n",
       "3    1983-04-06   29.90   29.90   29.92   29.65    0.39  0.64\n",
       "4    1983-04-07   30.17   29.92   30.20   29.86    0.82  0.90\n",
       "...         ...     ...     ...     ...     ...     ...   ...\n",
       "9928 2022-05-18  109.59  113.66  115.42  108.46  103.67 -2.50\n",
       "9929 2022-05-19  112.21  109.09  112.62  105.13   68.51  2.39\n",
       "9930 2022-05-20  113.23  111.45  114.04  110.85      20  0.91\n",
       "9931 2022-05-22  110.31  110.56  110.56  109.53       - -2.58\n",
       "9932 2022-05-23  111.09  110.29  111.61  110.09       -  0.71\n",
       "\n",
       "[9933 rows x 7 columns]"
      ]
     },
     "execution_count": 2,
     "metadata": {},
     "output_type": "execute_result"
    }
   ],
   "source": [
    "df"
   ]
  },
  {
   "cell_type": "code",
   "execution_count": 3,
   "metadata": {
    "executionInfo": {
     "elapsed": 291,
     "status": "ok",
     "timestamp": 1654151667817,
     "user": {
      "displayName": "권나은",
      "userId": "06827649815892596464"
     },
     "user_tz": -540
    },
    "id": "ht6n1QNINiUX"
   },
   "outputs": [],
   "source": [
    "df= df.set_index(\"날짜\")"
   ]
  },
  {
   "cell_type": "code",
   "execution_count": 5,
   "metadata": {
    "colab": {
     "base_uri": "https://localhost:8080/",
     "height": 432
    },
    "executionInfo": {
     "elapsed": 465,
     "status": "ok",
     "timestamp": 1654151679358,
     "user": {
      "displayName": "권나은",
      "userId": "06827649815892596464"
     },
     "user_tz": -540
    },
    "id": "HdASrBGIPL3O",
    "outputId": "6d47b09e-88ff-4f54-f46e-2e6b5585a739"
   },
   "outputs": [
    {
     "data": {
      "text/plain": [
       "<matplotlib.axes._subplots.AxesSubplot at 0x7f326dbd6f50>"
      ]
     },
     "execution_count": 5,
     "metadata": {},
     "output_type": "execute_result"
    },
    {
     "name": "stderr",
     "output_type": "stream",
     "text": [
      "/usr/local/lib/python3.7/dist-packages/matplotlib/backends/backend_agg.py:214: RuntimeWarning: Glyph 45216 missing from current font.\n",
      "  font.set_text(s, 0.0, flags=flags)\n",
      "/usr/local/lib/python3.7/dist-packages/matplotlib/backends/backend_agg.py:214: RuntimeWarning: Glyph 51676 missing from current font.\n",
      "  font.set_text(s, 0.0, flags=flags)\n",
      "/usr/local/lib/python3.7/dist-packages/matplotlib/backends/backend_agg.py:183: RuntimeWarning: Glyph 45216 missing from current font.\n",
      "  font.set_text(s, 0, flags=flags)\n",
      "/usr/local/lib/python3.7/dist-packages/matplotlib/backends/backend_agg.py:183: RuntimeWarning: Glyph 51676 missing from current font.\n",
      "  font.set_text(s, 0, flags=flags)\n"
     ]
    },
    {
     "data": {
      "image/png": "[encoded data removed]",
      "text/plain": [
       "<Figure size 432x288 with 1 Axes>"
      ]
     },
     "metadata": {
      "needs_background": "light"
     },
     "output_type": "display_data"
    }
   ],
   "source": [
    "df['종가'].plot()"
   ]
  },
  {
   "cell_type": "code",
   "execution_count": 8,
   "metadata": {
    "executionInfo": {
     "elapsed": 380,
     "status": "ok",
     "timestamp": 1654151721338,
     "user": {
      "displayName": "권나은",
      "userId": "06827649815892596464"
     },
     "user_tz": -540
    },
    "id": "uNFKRjLFPmW1"
   },
   "outputs": [],
   "source": [
    "wti=df[['종가']]"
   ]
  },
  {
   "cell_type": "code",
   "execution_count": 9,
   "metadata": {
    "colab": {
     "base_uri": "https://localhost:8080/",
     "height": 455
    },
    "executionInfo": {
     "elapsed": 5,
     "status": "ok",
     "timestamp": 1654151721605,
     "user": {
      "displayName": "권나은",
      "userId": "06827649815892596464"
     },
     "user_tz": -540
    },
    "id": "tWiujoa7QZN6",
    "outputId": "acace2cd-88cc-4456-ecc6-8deeab734c50"
   },
   "outputs": [
    {
     "data": {
      "text/html": [
       "\n",
       "  <div id=\"df-d1dddd42-9331-46c3-884d-84ddd7a87bc4\">\n",
       "    <div class=\"colab-df-container\">\n",
       "      <div>\n",
       "<style scoped>\n",
       "    .dataframe tbody tr th:only-of-type {\n",
       "        vertical-align: middle;\n",
       "    }\n",
       "\n",
       "    .dataframe tbody tr th {\n",
       "        vertical-align: top;\n",
       "    }\n",
       "\n",
       "    .dataframe thead th {\n",
       "        text-align: right;\n",
       "    }\n",
       "</style>\n",
       "<table border=\"1\" class=\"dataframe\">\n",
       "  <thead>\n",
       "    <tr style=\"text-align: right;\">\n",
       "      <th></th>\n",
       "      <th>종가</th>\n",
       "    </tr>\n",
       "    <tr>\n",
       "      <th>날짜</th>\n",
       "      <th></th>\n",
       "    </tr>\n",
       "  </thead>\n",
       "  <tbody>\n",
       "    <tr>\n",
       "      <th>2019-01-01</th>\n",
       "      <td>45.89</td>\n",
       "    </tr>\n",
       "    <tr>\n",
       "      <th>2019-01-02</th>\n",
       "      <td>46.54</td>\n",
       "    </tr>\n",
       "    <tr>\n",
       "      <th>2019-01-03</th>\n",
       "      <td>47.09</td>\n",
       "    </tr>\n",
       "    <tr>\n",
       "      <th>2019-01-04</th>\n",
       "      <td>47.96</td>\n",
       "    </tr>\n",
       "    <tr>\n",
       "      <th>2019-01-07</th>\n",
       "      <td>48.52</td>\n",
       "    </tr>\n",
       "    <tr>\n",
       "      <th>...</th>\n",
       "      <td>...</td>\n",
       "    </tr>\n",
       "    <tr>\n",
       "      <th>2022-05-18</th>\n",
       "      <td>109.59</td>\n",
       "    </tr>\n",
       "    <tr>\n",
       "      <th>2022-05-19</th>\n",
       "      <td>112.21</td>\n",
       "    </tr>\n",
       "    <tr>\n",
       "      <th>2022-05-20</th>\n",
       "      <td>113.23</td>\n",
       "    </tr>\n",
       "    <tr>\n",
       "      <th>2022-05-22</th>\n",
       "      <td>110.31</td>\n",
       "    </tr>\n",
       "    <tr>\n",
       "      <th>2022-05-23</th>\n",
       "      <td>111.09</td>\n",
       "    </tr>\n",
       "  </tbody>\n",
       "</table>\n",
       "<p>894 rows × 1 columns</p>\n",
       "</div>\n",
       "      <button class=\"colab-df-convert\" onclick=\"convertToInteractive('df-d1dddd42-9331-46c3-884d-84ddd7a87bc4')\"\n",
       "              title=\"Convert this dataframe to an interactive table.\"\n",
       "              style=\"display:none;\">\n",
       "        \n",
       "  <svg xmlns=\"http://www.w3.org/2000/svg\" height=\"24px\"viewBox=\"0 0 24 24\"\n",
       "       width=\"24px\">\n",
       "    <path d=\"M0 0h24v24H0V0z\" fill=\"none\"/>\n",
       "    <path d=\"M18.56 5.44l.94 2.06.94-2.06 2.06-.94-2.06-.94-.94-2.06-.94 2.06-2.06.94zm-11 1L8.5 8.5l.94-2.06 2.06-.94-2.06-.94L8.5 2.5l-.94 2.06-2.06.94zm10 10l.94 2.06.94-2.06 2.06-.94-2.06-.94-.94-2.06-.94 2.06-2.06.94z\"/><path d=\"M17.41 7.96l-1.37-1.37c-.4-.4-.92-.59-1.43-.59-.52 0-1.04.2-1.43.59L10.3 9.45l-7.72 7.72c-.78.78-.78 2.05 0 2.83L4 21.41c.39.39.9.59 1.41.59.51 0 1.02-.2 1.41-.59l7.78-7.78 2.81-2.81c.8-.78.8-2.07 0-2.86zM5.41 20L4 18.59l7.72-7.72 1.47 1.35L5.41 20z\"/>\n",
       "  </svg>\n",
       "      </button>\n",
       "      \n",
       "  <style>\n",
       "    .colab-df-container {\n",
       "      display:flex;\n",
       "      flex-wrap:wrap;\n",
       "      gap: 12px;\n",
       "    }\n",
       "\n",
       "    .colab-df-convert {\n",
       "      background-color: #E8F0FE;\n",
       "      border: none;\n",
       "      border-radius: 50%;\n",
       "      cursor: pointer;\n",
       "      display: none;\n",
       "      fill: #1967D2;\n",
       "      height: 32px;\n",
       "      padding: 0 0 0 0;\n",
       "      width: 32px;\n",
       "    }\n",
       "\n",
       "    .colab-df-convert:hover {\n",
       "      background-color: #E2EBFA;\n",
       "      box-shadow: 0px 1px 2px rgba(60, 64, 67, 0.3), 0px 1px 3px 1px rgba(60, 64, 67, 0.15);\n",
       "      fill: #174EA6;\n",
       "    }\n",
       "\n",
       "    [theme=dark] .colab-df-convert {\n",
       "      background-color: #3B4455;\n",
       "      fill: #D2E3FC;\n",
       "    }\n",
       "\n",
       "    [theme=dark] .colab-df-convert:hover {\n",
       "      background-color: #434B5C;\n",
       "      box-shadow: 0px 1px 3px 1px rgba(0, 0, 0, 0.15);\n",
       "      filter: drop-shadow(0px 1px 2px rgba(0, 0, 0, 0.3));\n",
       "      fill: #FFFFFF;\n",
       "    }\n",
       "  </style>\n",
       "\n",
       "      <script>\n",
       "        const buttonEl =\n",
       "          document.querySelector('#df-d1dddd42-9331-46c3-884d-84ddd7a87bc4 button.colab-df-convert');\n",
       "        buttonEl.style.display =\n",
       "          google.colab.kernel.accessAllowed ? 'block' : 'none';\n",
       "\n",
       "        async function convertToInteractive(key) {\n",
       "          const element = document.querySelector('#df-d1dddd42-9331-46c3-884d-84ddd7a87bc4');\n",
       "          const dataTable =\n",
       "            await google.colab.kernel.invokeFunction('convertToInteractive',\n",
       "                                                     [key], {});\n",
       "          if (!dataTable) return;\n",
       "\n",
       "          const docLinkHtml = 'Like what you see? Visit the ' +\n",
       "            '<a target=\"_blank\" href=https://colab.research.google.com/notebooks/data_table.ipynb>data table notebook</a>'\n",
       "            + ' to learn more about interactive tables.';\n",
       "          element.innerHTML = '';\n",
       "          dataTable['output_type'] = 'display_data';\n",
       "          await google.colab.output.renderOutput(dataTable, element);\n",
       "          const docLink = document.createElement('div');\n",
       "          docLink.innerHTML = docLinkHtml;\n",
       "          element.appendChild(docLink);\n",
       "        }\n",
       "      </script>\n",
       "    </div>\n",
       "  </div>\n",
       "  "
      ],
      "text/plain": [
       "                종가\n",
       "날짜                \n",
       "2019-01-01   45.89\n",
       "2019-01-02   46.54\n",
       "2019-01-03   47.09\n",
       "2019-01-04   47.96\n",
       "2019-01-07   48.52\n",
       "...            ...\n",
       "2022-05-18  109.59\n",
       "2022-05-19  112.21\n",
       "2022-05-20  113.23\n",
       "2022-05-22  110.31\n",
       "2022-05-23  111.09\n",
       "\n",
       "[894 rows x 1 columns]"
      ]
     },
     "execution_count": 9,
     "metadata": {},
     "output_type": "execute_result"
    }
   ],
   "source": [
    "wti['2019':]"
   ]
  },
  {
   "cell_type": "code",
   "execution_count": 10,
   "metadata": {
    "colab": {
     "base_uri": "https://localhost:8080/"
    },
    "executionInfo": {
     "elapsed": 276,
     "status": "ok",
     "timestamp": 1654151726579,
     "user": {
      "displayName": "권나은",
      "userId": "06827649815892596464"
     },
     "user_tz": -540
    },
    "id": "UNAhUhcQPmcc",
    "outputId": "8346e341-d291-4f33-e522-c4f1f5faa678"
   },
   "outputs": [
    {
     "data": {
      "text/plain": [
       "(9297, 5)"
      ]
     },
     "execution_count": 10,
     "metadata": {},
     "output_type": "execute_result"
    }
   ],
   "source": [
    "def ts_train_test(wti, time_steps, for_periods): \n",
    "    \"\"\"\n",
    "    input:\n",
    "     data: dataframe with dates and price data\n",
    "    output:\n",
    "     X_train, y_train: data from 2013/1/1-2018-12/31 \n",
    "     X_test : data from 2019 - \n",
    "    time_steps: # of the input time steps \n",
    "    for_periods: # of the output time steps \n",
    "    \"\"\"\n",
    "    # create training and test set \n",
    "    ts_train = wti[:'2019'].iloc[:,0:1].values\n",
    "    ts_test = wti['2020':].iloc[:,0:1].values\n",
    "    ts_train_len = len(ts_train)\n",
    "    ts_test_len = len(ts_test)\n",
    "    \n",
    "    # create training data of s samples and t time steps \n",
    "    X_train = [] \n",
    "    y_train = [] \n",
    "    y_train_stacked = [] \n",
    "    for i in range(time_steps, ts_train_len - 1): \n",
    "        X_train.append(ts_train[i-time_steps:i,0])\n",
    "        y_train.append(ts_train[i:i+for_periods,0])\n",
    "    X_train, y_train = np.array(X_train), np.array(y_train)\n",
    "    \n",
    "    # Reshapng X_train for efficient modelling \n",
    "    X_train = np.reshape(X_train, (X_train.shape[0], X_train.shape[1],1))\n",
    "    \n",
    "    # Preparing to creat X_test \n",
    "    inputs = pd.concat((wti[\"종가\"][:'2019'], wti[\"종가\"]['2020':]), axis=0).values\n",
    "    inputs = inputs[len(inputs)-len(ts_test) - time_steps:]\n",
    "    inputs = inputs.reshape(-1,1)\n",
    "    \n",
    "    X_test = []\n",
    "    for i in range(time_steps, ts_test_len+ time_steps- for_periods):\n",
    "        X_test.append(inputs[i-time_steps:i,0])\n",
    "    X_test = np.array(X_test)\n",
    "    X_test = np.reshape(X_test, (X_test.shape[0], X_test.shape[1],1))\n",
    "    \n",
    "    return X_train, y_train, X_test \n",
    "\n",
    "X_train, y_train, X_test = ts_train_test(wti,5,2)\n",
    "X_train.shape[0], X_train.shape[1]\n"
   ]
  },
  {
   "cell_type": "code",
   "execution_count": 11,
   "metadata": {
    "colab": {
     "base_uri": "https://localhost:8080/"
    },
    "executionInfo": {
     "elapsed": 273,
     "status": "ok",
     "timestamp": 1654151731136,
     "user": {
      "displayName": "권나은",
      "userId": "06827649815892596464"
     },
     "user_tz": -540
    },
    "id": "2agpS_u-Pmf4",
    "outputId": "6e029255-50da-43e1-a619-ace82f6836e2"
   },
   "outputs": [
    {
     "name": "stdout",
     "output_type": "stream",
     "text": [
      "There are 9297 samples in the training data\n",
      "There are 628 samples in the test data\n"
     ]
    }
   ],
   "source": [
    "# Convert the 3D shape of X_train to a data frame so we can see: \n",
    "X_train_see = pd.DataFrame(np.reshape(X_train, (X_train.shape[0], X_train.shape[1])))\n",
    "y_train_see = pd.DataFrame(y_train)\n",
    "pd.concat([X_train_see, y_train_see], axis = 1)\n",
    "\n",
    "# Convert the 3D shape of X_test to a data frame so we can see: \n",
    "X_test_see = pd.DataFrame(np.reshape(X_test, (X_test.shape[0], X_test.shape[1])))\n",
    "pd.DataFrame(X_test_see)\n",
    "\n",
    "print(\"There are \" + str(X_train.shape[0]) + \" samples in the training data\")\n",
    "print(\"There are \" + str(X_test.shape[0]) + \" samples in the test data\")\n",
    "\n"
   ]
  },
  {
   "cell_type": "code",
   "execution_count": 13,
   "metadata": {
    "executionInfo": {
     "elapsed": 266,
     "status": "ok",
     "timestamp": 1654151818608,
     "user": {
      "displayName": "권나은",
      "userId": "06827649815892596464"
     },
     "user_tz": -540
    },
    "id": "EW5HvraRPmiW"
   },
   "outputs": [],
   "source": [
    "def ts_train_test_normalize(all_data, time_steps, for_periods):\n",
    "    \"\"\"\n",
    "    input: \n",
    "        data: dataframe with dates and price data\n",
    "    output: \n",
    "        X_train, y_train: data from 2013/1/1-2018/12/31 \n",
    "        X_test : data from 2019- \n",
    "        sc :     insantiated MinMaxScaler object fit to the training data \n",
    "    \"\"\"\n",
    "    # create training and test set \n",
    "    ts_train = all_data[:'2019'].iloc[:,0:1].values\n",
    "    ts_test = all_data['2020':].iloc[:,0:1].values \n",
    "    ts_train_len = len(ts_train)\n",
    "    ts_test_len = len(ts_test)\n",
    "    \n",
    "    # scale the data \n",
    "    from sklearn.preprocessing import MinMaxScaler \n",
    "    sc = MinMaxScaler(feature_range=(0,1))\n",
    "    ts_train_scaled = sc.fit_transform(ts_train)\n",
    "    \n",
    "    # create training data of s samples and t time steps \n",
    "    X_train = [] \n",
    "    y_train = [] \n",
    "    for i in range(time_steps, ts_train_len-1):\n",
    "        X_train.append(ts_train_scaled[i-time_steps:i, 0])\n",
    "        y_train.append(ts_train_scaled[i:i+for_periods, 0])\n",
    "    X_train, y_train = np.array(X_train), np.array(y_train)\n",
    "    \n",
    "    # Reshaping X_train for efficient modelling \n",
    "    X_train = np.reshape(X_train, (X_train.shape[0], X_train.shape[1], 1 ))\n",
    "    \n",
    "    inputs = pd.concat((df[\"종가\"][:'2019'], all_data[\"종가\"]['2020':]), axis=0).values\n",
    "    inputs = inputs[len(inputs)-len(ts_test)-time_steps:]\n",
    "    inputs = inputs.reshape(-1,1)\n",
    "    inputs = sc.transform(inputs)\n",
    "    \n",
    "    # Preparing X_test \n",
    "    X_test = [] \n",
    "    for i in range(time_steps, ts_test_len + time_steps - for_periods):\n",
    "        X_test.append(inputs[i-time_steps:i,0])\n",
    "    \n",
    "    X_test = np.array(X_test)\n",
    "    X_test = np.reshape(X_test, (X_test.shape[0], X_test.shape[1], 1))\n",
    "    \n",
    "    return X_train, y_train , X_test, sc "
   ]
  },
  {
   "cell_type": "markdown",
   "metadata": {
    "id": "xc5XWTWnJcpL"
   },
   "source": [
    "## Simple RNN model"
   ]
  },
  {
   "cell_type": "code",
   "execution_count": 16,
   "metadata": {
    "colab": {
     "base_uri": "https://localhost:8080/",
     "height": 583
    },
    "executionInfo": {
     "elapsed": 30092,
     "status": "ok",
     "timestamp": 1654152192562,
     "user": {
      "displayName": "권나은",
      "userId": "06827649815892596464"
     },
     "user_tz": -540
    },
    "id": "xc1kA0E6Jb1g",
    "outputId": "8d0e2f51-a900-4f74-d730-d782faa5efad"
   },
   "outputs": [
    {
     "data": {
      "text/plain": [
       "(4189.7207, <matplotlib.axes._subplots.AxesSubplot at 0x7f3200587b90>)"
      ]
     },
     "execution_count": 16,
     "metadata": {},
     "output_type": "execute_result"
    },
    {
     "name": "stderr",
     "output_type": "stream",
     "text": [
      "/usr/local/lib/python3.7/dist-packages/matplotlib/backends/backend_agg.py:214: RuntimeWarning: Glyph 45216 missing from current font.\n",
      "  font.set_text(s, 0.0, flags=flags)\n",
      "/usr/local/lib/python3.7/dist-packages/matplotlib/backends/backend_agg.py:214: RuntimeWarning: Glyph 51676 missing from current font.\n",
      "  font.set_text(s, 0.0, flags=flags)\n",
      "/usr/local/lib/python3.7/dist-packages/matplotlib/backends/backend_agg.py:183: RuntimeWarning: Glyph 45216 missing from current font.\n",
      "  font.set_text(s, 0, flags=flags)\n",
      "/usr/local/lib/python3.7/dist-packages/matplotlib/backends/backend_agg.py:183: RuntimeWarning: Glyph 51676 missing from current font.\n",
      "  font.set_text(s, 0, flags=flags)\n",
      "/usr/local/lib/python3.7/dist-packages/matplotlib/backends/backend_agg.py:214: RuntimeWarning: Glyph 51333 missing from current font.\n",
      "  font.set_text(s, 0.0, flags=flags)\n",
      "/usr/local/lib/python3.7/dist-packages/matplotlib/backends/backend_agg.py:214: RuntimeWarning: Glyph 44032 missing from current font.\n",
      "  font.set_text(s, 0.0, flags=flags)\n",
      "/usr/local/lib/python3.7/dist-packages/matplotlib/backends/backend_agg.py:183: RuntimeWarning: Glyph 51333 missing from current font.\n",
      "  font.set_text(s, 0, flags=flags)\n",
      "/usr/local/lib/python3.7/dist-packages/matplotlib/backends/backend_agg.py:183: RuntimeWarning: Glyph 44032 missing from current font.\n",
      "  font.set_text(s, 0, flags=flags)\n"
     ]
    },
    {
     "data": {
      "image/png": "[encoded data removed]",
      "text/plain": [
       "<Figure size 432x288 with 1 Axes>"
      ]
     },
     "metadata": {
      "needs_background": "light"
     },
     "output_type": "display_data"
    }
   ],
   "source": [
    "def simple_rnn_model(X_train, y_train, X_test):\n",
    "    \"\"\"\n",
    "    create single layer rnn model trained on X_train and y_train \n",
    "    and make predictions on the X_test data \n",
    "    \"\"\"\n",
    "    # create a model \n",
    "    from keras.models import Sequential \n",
    "    from keras.layers import Dense, SimpleRNN \n",
    "    \n",
    "    my_rnn_model = Sequential()\n",
    "    my_rnn_model.add(SimpleRNN(32, return_sequences = True))\n",
    "    my_rnn_model.add(SimpleRNN(32))\n",
    "    my_rnn_model.add(Dense(2)) # The time step of the output \n",
    "    \n",
    "    my_rnn_model.compile(optimizer = 'rmsprop', loss = 'mean_squared_error')\n",
    "    \n",
    "    # fit the RNN model \n",
    "    my_rnn_model.fit(X_train,y_train, epochs = 100, batch_size = 150, verbose = 0) \n",
    "    \n",
    "    # Finalizing predictions \n",
    "    rnn_predictions = my_rnn_model.predict(X_test)\n",
    "    \n",
    "    return my_rnn_model, rnn_predictions\n",
    "\n",
    "my_rnn_model, rnn_predictions = simple_rnn_model(X_train, y_train, X_test)\n",
    "rnn_predictions[1:10]\n",
    "\n",
    "def actual_pred_plot(preds):\n",
    "    \"\"\"\n",
    "    Plot the actual vs predition\n",
    "    \"\"\"\n",
    "    actual_pred = pd.DataFrame(columns = ['종가', '종가_prediction'])\n",
    "    actual_pred['종가'] = df.loc['2020':,'종가'][0:len(preds)]\n",
    "    actual_pred['종가_prediction'] = preds[:,0]\n",
    "    \n",
    "    from keras.metrics import MeanSquaredError \n",
    "    m = MeanSquaredError()\n",
    "    m.update_state(np.array(actual_pred['종가']), np.array(actual_pred['종가_prediction']))\n",
    "    \n",
    "    return (m.result().numpy(), actual_pred.plot())\n",
    "\n",
    "actual_pred_plot(rnn_predictions)"
   ]
  },
  {
   "cell_type": "markdown",
   "metadata": {
    "id": "NyvnEg8vJVM_"
   },
   "source": [
    "## 정규화된 데이터로 RNN"
   ]
  },
  {
   "cell_type": "code",
   "execution_count": 15,
   "metadata": {
    "colab": {
     "base_uri": "https://localhost:8080/",
     "height": 583
    },
    "executionInfo": {
     "elapsed": 26493,
     "status": "ok",
     "timestamp": 1654152030507,
     "user": {
      "displayName": "권나은",
      "userId": "06827649815892596464"
     },
     "user_tz": -540
    },
    "id": "mgPLtQQ7IOnb",
    "outputId": "da75f2c2-fc89-49ee-c265-a9e6ee2e8804"
   },
   "outputs": [
    {
     "data": {
      "text/plain": [
       "(13.692608, <matplotlib.axes._subplots.AxesSubplot at 0x7f320187df90>)"
      ]
     },
     "execution_count": 15,
     "metadata": {},
     "output_type": "execute_result"
    },
    {
     "name": "stderr",
     "output_type": "stream",
     "text": [
      "/usr/local/lib/python3.7/dist-packages/matplotlib/backends/backend_agg.py:214: RuntimeWarning: Glyph 45216 missing from current font.\n",
      "  font.set_text(s, 0.0, flags=flags)\n",
      "/usr/local/lib/python3.7/dist-packages/matplotlib/backends/backend_agg.py:214: RuntimeWarning: Glyph 51676 missing from current font.\n",
      "  font.set_text(s, 0.0, flags=flags)\n",
      "/usr/local/lib/python3.7/dist-packages/matplotlib/backends/backend_agg.py:183: RuntimeWarning: Glyph 45216 missing from current font.\n",
      "  font.set_text(s, 0, flags=flags)\n",
      "/usr/local/lib/python3.7/dist-packages/matplotlib/backends/backend_agg.py:183: RuntimeWarning: Glyph 51676 missing from current font.\n",
      "  font.set_text(s, 0, flags=flags)\n",
      "/usr/local/lib/python3.7/dist-packages/matplotlib/backends/backend_agg.py:214: RuntimeWarning: Glyph 51333 missing from current font.\n",
      "  font.set_text(s, 0.0, flags=flags)\n",
      "/usr/local/lib/python3.7/dist-packages/matplotlib/backends/backend_agg.py:214: RuntimeWarning: Glyph 44032 missing from current font.\n",
      "  font.set_text(s, 0.0, flags=flags)\n",
      "/usr/local/lib/python3.7/dist-packages/matplotlib/backends/backend_agg.py:183: RuntimeWarning: Glyph 51333 missing from current font.\n",
      "  font.set_text(s, 0, flags=flags)\n",
      "/usr/local/lib/python3.7/dist-packages/matplotlib/backends/backend_agg.py:183: RuntimeWarning: Glyph 44032 missing from current font.\n",
      "  font.set_text(s, 0, flags=flags)\n"
     ]
    },
    {
     "data": {
      "image/png": "[encoded data removed]",
      "text/plain": [
       "<Figure size 432x288 with 1 Axes>"
      ]
     },
     "metadata": {
      "needs_background": "light"
     },
     "output_type": "display_data"
    }
   ],
   "source": [
    "def actual_pred_plot(preds):\n",
    "    \"\"\"\n",
    "    Plot the actual vs predition\n",
    "    \"\"\"\n",
    "    actual_pred = pd.DataFrame(columns = ['종가', '종가_prediction'])\n",
    "    actual_pred['종가'] = df.loc['2020':,'종가'][0:len(preds)]\n",
    "    actual_pred['종가_prediction'] = preds[:,0]\n",
    "    \n",
    "    from keras.metrics import MeanSquaredError \n",
    "    m = MeanSquaredError()\n",
    "    m.update_state(np.array(actual_pred['종가']), np.array(actual_pred['종가_prediction']))\n",
    "    \n",
    "    return (m.result().numpy(), actual_pred.plot())\n",
    "def simple_rnn_model(X_train, y_train, X_test, sc):\n",
    "    \"\"\"\n",
    "    create single layer rnn model trained on X_train and y_train \n",
    "    and make predictions on the X_test data \n",
    "    \"\"\"\n",
    "    # create a model \n",
    "    from keras.models import Sequential \n",
    "    from keras.layers import Dense, SimpleRNN \n",
    "    \n",
    "    my_rnn_model = Sequential()\n",
    "    my_rnn_model.add(SimpleRNN(32, return_sequences = True))\n",
    "    my_rnn_model.add(SimpleRNN(32))\n",
    "    my_rnn_model.add(Dense(2)) # The time step of the output \n",
    "    \n",
    "    my_rnn_model.compile(optimizer = 'rmsprop', loss = 'mean_squared_error')\n",
    "    \n",
    "    # fit the RNN model \n",
    "    my_rnn_model.fit(X_train,y_train, epochs = 100, batch_size = 150, verbose = 0) \n",
    "    \n",
    "    # Finalizing predictions \n",
    "    rnn_predictions = my_rnn_model.predict(X_test)\n",
    "    from sklearn.preprocessing import MinMaxScaler \n",
    "    rnn_predictions = sc.inverse_transform(rnn_predictions)\n",
    "    \n",
    "    return my_rnn_model, rnn_predictions\n",
    "\n",
    "X_train, y_train, X_test, sc = ts_train_test_normalize(df, 5,2)\n",
    "my_rnn_model, rnn_predictions_2 = simple_rnn_model(X_train, y_train, X_test, sc)\n",
    "rnn_predictions_2[1:10]\n",
    "actual_pred_plot(rnn_predictions_2)"
   ]
  },
  {
   "cell_type": "markdown",
   "metadata": {
    "id": "gX1kmHVuSzpo"
   },
   "source": [
    "## LSTM"
   ]
  },
  {
   "cell_type": "code",
   "execution_count": 28,
   "metadata": {
    "colab": {
     "base_uri": "https://localhost:8080/",
     "height": 424
    },
    "executionInfo": {
     "elapsed": 2879,
     "status": "ok",
     "timestamp": 1654153322818,
     "user": {
      "displayName": "권나은",
      "userId": "06827649815892596464"
     },
     "user_tz": -540
    },
    "id": "sYwsygAcOUPx",
    "outputId": "7234efb3-6404-4bfa-f75d-5503de96446d"
   },
   "outputs": [
    {
     "data": {
      "text/html": [
       "\n",
       "  <div id=\"df-ece4f3bb-5fd3-45a7-b884-849c8948393b\">\n",
       "    <div class=\"colab-df-container\">\n",
       "      <div>\n",
       "<style scoped>\n",
       "    .dataframe tbody tr th:only-of-type {\n",
       "        vertical-align: middle;\n",
       "    }\n",
       "\n",
       "    .dataframe tbody tr th {\n",
       "        vertical-align: top;\n",
       "    }\n",
       "\n",
       "    .dataframe thead th {\n",
       "        text-align: right;\n",
       "    }\n",
       "</style>\n",
       "<table border=\"1\" class=\"dataframe\">\n",
       "  <thead>\n",
       "    <tr style=\"text-align: right;\">\n",
       "      <th></th>\n",
       "      <th>날짜</th>\n",
       "      <th>종가</th>\n",
       "      <th>시가</th>\n",
       "      <th>고가</th>\n",
       "      <th>저가</th>\n",
       "      <th>거래량</th>\n",
       "      <th>변동률</th>\n",
       "    </tr>\n",
       "  </thead>\n",
       "  <tbody>\n",
       "    <tr>\n",
       "      <th>0</th>\n",
       "      <td>1983-03-31</td>\n",
       "      <td>29.27</td>\n",
       "      <td>29.40</td>\n",
       "      <td>29.60</td>\n",
       "      <td>29.25</td>\n",
       "      <td>0.52</td>\n",
       "      <td>-0.44</td>\n",
       "    </tr>\n",
       "    <tr>\n",
       "      <th>1</th>\n",
       "      <td>1983-04-04</td>\n",
       "      <td>29.44</td>\n",
       "      <td>29.30</td>\n",
       "      <td>29.70</td>\n",
       "      <td>29.29</td>\n",
       "      <td>0.16</td>\n",
       "      <td>0.58</td>\n",
       "    </tr>\n",
       "    <tr>\n",
       "      <th>2</th>\n",
       "      <td>1983-04-05</td>\n",
       "      <td>29.71</td>\n",
       "      <td>29.50</td>\n",
       "      <td>29.80</td>\n",
       "      <td>29.50</td>\n",
       "      <td>0.18</td>\n",
       "      <td>0.92</td>\n",
       "    </tr>\n",
       "    <tr>\n",
       "      <th>3</th>\n",
       "      <td>1983-04-06</td>\n",
       "      <td>29.90</td>\n",
       "      <td>29.90</td>\n",
       "      <td>29.92</td>\n",
       "      <td>29.65</td>\n",
       "      <td>0.39</td>\n",
       "      <td>0.64</td>\n",
       "    </tr>\n",
       "    <tr>\n",
       "      <th>4</th>\n",
       "      <td>1983-04-07</td>\n",
       "      <td>30.17</td>\n",
       "      <td>29.92</td>\n",
       "      <td>30.20</td>\n",
       "      <td>29.86</td>\n",
       "      <td>0.82</td>\n",
       "      <td>0.90</td>\n",
       "    </tr>\n",
       "    <tr>\n",
       "      <th>...</th>\n",
       "      <td>...</td>\n",
       "      <td>...</td>\n",
       "      <td>...</td>\n",
       "      <td>...</td>\n",
       "      <td>...</td>\n",
       "      <td>...</td>\n",
       "      <td>...</td>\n",
       "    </tr>\n",
       "    <tr>\n",
       "      <th>9928</th>\n",
       "      <td>2022-05-18</td>\n",
       "      <td>109.59</td>\n",
       "      <td>113.66</td>\n",
       "      <td>115.42</td>\n",
       "      <td>108.46</td>\n",
       "      <td>103.67</td>\n",
       "      <td>-2.50</td>\n",
       "    </tr>\n",
       "    <tr>\n",
       "      <th>9929</th>\n",
       "      <td>2022-05-19</td>\n",
       "      <td>112.21</td>\n",
       "      <td>109.09</td>\n",
       "      <td>112.62</td>\n",
       "      <td>105.13</td>\n",
       "      <td>68.51</td>\n",
       "      <td>2.39</td>\n",
       "    </tr>\n",
       "    <tr>\n",
       "      <th>9930</th>\n",
       "      <td>2022-05-20</td>\n",
       "      <td>113.23</td>\n",
       "      <td>111.45</td>\n",
       "      <td>114.04</td>\n",
       "      <td>110.85</td>\n",
       "      <td>20</td>\n",
       "      <td>0.91</td>\n",
       "    </tr>\n",
       "    <tr>\n",
       "      <th>9931</th>\n",
       "      <td>2022-05-22</td>\n",
       "      <td>110.31</td>\n",
       "      <td>110.56</td>\n",
       "      <td>110.56</td>\n",
       "      <td>109.53</td>\n",
       "      <td>-</td>\n",
       "      <td>-2.58</td>\n",
       "    </tr>\n",
       "    <tr>\n",
       "      <th>9932</th>\n",
       "      <td>2022-05-23</td>\n",
       "      <td>111.09</td>\n",
       "      <td>110.29</td>\n",
       "      <td>111.61</td>\n",
       "      <td>110.09</td>\n",
       "      <td>-</td>\n",
       "      <td>0.71</td>\n",
       "    </tr>\n",
       "  </tbody>\n",
       "</table>\n",
       "<p>9933 rows × 7 columns</p>\n",
       "</div>\n",
       "      <button class=\"colab-df-convert\" onclick=\"convertToInteractive('df-ece4f3bb-5fd3-45a7-b884-849c8948393b')\"\n",
       "              title=\"Convert this dataframe to an interactive table.\"\n",
       "              style=\"display:none;\">\n",
       "        \n",
       "  <svg xmlns=\"http://www.w3.org/2000/svg\" height=\"24px\"viewBox=\"0 0 24 24\"\n",
       "       width=\"24px\">\n",
       "    <path d=\"M0 0h24v24H0V0z\" fill=\"none\"/>\n",
       "    <path d=\"M18.56 5.44l.94 2.06.94-2.06 2.06-.94-2.06-.94-.94-2.06-.94 2.06-2.06.94zm-11 1L8.5 8.5l.94-2.06 2.06-.94-2.06-.94L8.5 2.5l-.94 2.06-2.06.94zm10 10l.94 2.06.94-2.06 2.06-.94-2.06-.94-.94-2.06-.94 2.06-2.06.94z\"/><path d=\"M17.41 7.96l-1.37-1.37c-.4-.4-.92-.59-1.43-.59-.52 0-1.04.2-1.43.59L10.3 9.45l-7.72 7.72c-.78.78-.78 2.05 0 2.83L4 21.41c.39.39.9.59 1.41.59.51 0 1.02-.2 1.41-.59l7.78-7.78 2.81-2.81c.8-.78.8-2.07 0-2.86zM5.41 20L4 18.59l7.72-7.72 1.47 1.35L5.41 20z\"/>\n",
       "  </svg>\n",
       "      </button>\n",
       "      \n",
       "  <style>\n",
       "    .colab-df-container {\n",
       "      display:flex;\n",
       "      flex-wrap:wrap;\n",
       "      gap: 12px;\n",
       "    }\n",
       "\n",
       "    .colab-df-convert {\n",
       "      background-color: #E8F0FE;\n",
       "      border: none;\n",
       "      border-radius: 50%;\n",
       "      cursor: pointer;\n",
       "      display: none;\n",
       "      fill: #1967D2;\n",
       "      height: 32px;\n",
       "      padding: 0 0 0 0;\n",
       "      width: 32px;\n",
       "    }\n",
       "\n",
       "    .colab-df-convert:hover {\n",
       "      background-color: #E2EBFA;\n",
       "      box-shadow: 0px 1px 2px rgba(60, 64, 67, 0.3), 0px 1px 3px 1px rgba(60, 64, 67, 0.15);\n",
       "      fill: #174EA6;\n",
       "    }\n",
       "\n",
       "    [theme=dark] .colab-df-convert {\n",
       "      background-color: #3B4455;\n",
       "      fill: #D2E3FC;\n",
       "    }\n",
       "\n",
       "    [theme=dark] .colab-df-convert:hover {\n",
       "      background-color: #434B5C;\n",
       "      box-shadow: 0px 1px 3px 1px rgba(0, 0, 0, 0.15);\n",
       "      filter: drop-shadow(0px 1px 2px rgba(0, 0, 0, 0.3));\n",
       "      fill: #FFFFFF;\n",
       "    }\n",
       "  </style>\n",
       "\n",
       "      <script>\n",
       "        const buttonEl =\n",
       "          document.querySelector('#df-ece4f3bb-5fd3-45a7-b884-849c8948393b button.colab-df-convert');\n",
       "        buttonEl.style.display =\n",
       "          google.colab.kernel.accessAllowed ? 'block' : 'none';\n",
       "\n",
       "        async function convertToInteractive(key) {\n",
       "          const element = document.querySelector('#df-ece4f3bb-5fd3-45a7-b884-849c8948393b');\n",
       "          const dataTable =\n",
       "            await google.colab.kernel.invokeFunction('convertToInteractive',\n",
       "                                                     [key], {});\n",
       "          if (!dataTable) return;\n",
       "\n",
       "          const docLinkHtml = 'Like what you see? Visit the ' +\n",
       "            '<a target=\"_blank\" href=https://colab.research.google.com/notebooks/data_table.ipynb>data table notebook</a>'\n",
       "            + ' to learn more about interactive tables.';\n",
       "          element.innerHTML = '';\n",
       "          dataTable['output_type'] = 'display_data';\n",
       "          await google.colab.output.renderOutput(dataTable, element);\n",
       "          const docLink = document.createElement('div');\n",
       "          docLink.innerHTML = docLinkHtml;\n",
       "          element.appendChild(docLink);\n",
       "        }\n",
       "      </script>\n",
       "    </div>\n",
       "  </div>\n",
       "  "
      ],
      "text/plain": [
       "             날짜      종가      시가      고가      저가     거래량   변동률\n",
       "0    1983-03-31   29.27   29.40   29.60   29.25    0.52 -0.44\n",
       "1    1983-04-04   29.44   29.30   29.70   29.29    0.16  0.58\n",
       "2    1983-04-05   29.71   29.50   29.80   29.50    0.18  0.92\n",
       "3    1983-04-06   29.90   29.90   29.92   29.65    0.39  0.64\n",
       "4    1983-04-07   30.17   29.92   30.20   29.86    0.82  0.90\n",
       "...         ...     ...     ...     ...     ...     ...   ...\n",
       "9928 2022-05-18  109.59  113.66  115.42  108.46  103.67 -2.50\n",
       "9929 2022-05-19  112.21  109.09  112.62  105.13   68.51  2.39\n",
       "9930 2022-05-20  113.23  111.45  114.04  110.85      20  0.91\n",
       "9931 2022-05-22  110.31  110.56  110.56  109.53       - -2.58\n",
       "9932 2022-05-23  111.09  110.29  111.61  110.09       -  0.71\n",
       "\n",
       "[9933 rows x 7 columns]"
      ]
     },
     "execution_count": 28,
     "metadata": {},
     "output_type": "execute_result"
    }
   ],
   "source": [
    "from keras.models import Model\n",
    "from keras.layers import Input, Dense, LSTM, Bidirectional\n",
    "from keras import backend as K\n",
    "import numpy as np\n",
    "import matplotlib.pyplot as plt\n",
    "df=pd.read_excel('/content/drive/MyDrive/기계학습/종합파일.xlsx', index_col=0)\n",
    "df"
   ]
  },
  {
   "cell_type": "code",
   "execution_count": 32,
   "metadata": {
    "colab": {
     "base_uri": "https://localhost:8080/",
     "height": 424
    },
    "executionInfo": {
     "elapsed": 378,
     "status": "ok",
     "timestamp": 1654153704867,
     "user": {
      "displayName": "권나은",
      "userId": "06827649815892596464"
     },
     "user_tz": -540
    },
    "id": "J8ippG6oM3O7",
    "outputId": "f860c424-2c81-456c-a1f9-0acd5b647d8e"
   },
   "outputs": [
    {
     "data": {
      "text/html": [
       "\n",
       "  <div id=\"df-f1057cb3-d5f9-49c3-8516-3623cdf7e891\">\n",
       "    <div class=\"colab-df-container\">\n",
       "      <div>\n",
       "<style scoped>\n",
       "    .dataframe tbody tr th:only-of-type {\n",
       "        vertical-align: middle;\n",
       "    }\n",
       "\n",
       "    .dataframe tbody tr th {\n",
       "        vertical-align: top;\n",
       "    }\n",
       "\n",
       "    .dataframe thead th {\n",
       "        text-align: right;\n",
       "    }\n",
       "</style>\n",
       "<table border=\"1\" class=\"dataframe\">\n",
       "  <thead>\n",
       "    <tr style=\"text-align: right;\">\n",
       "      <th></th>\n",
       "      <th>시가</th>\n",
       "      <th>고가</th>\n",
       "      <th>저가</th>\n",
       "      <th>종가</th>\n",
       "    </tr>\n",
       "  </thead>\n",
       "  <tbody>\n",
       "    <tr>\n",
       "      <th>0</th>\n",
       "      <td>0.272630</td>\n",
       "      <td>0.136367</td>\n",
       "      <td>0.379045</td>\n",
       "      <td>0.365734</td>\n",
       "    </tr>\n",
       "    <tr>\n",
       "      <th>1</th>\n",
       "      <td>0.272002</td>\n",
       "      <td>0.137101</td>\n",
       "      <td>0.379263</td>\n",
       "      <td>0.366663</td>\n",
       "    </tr>\n",
       "    <tr>\n",
       "      <th>2</th>\n",
       "      <td>0.273258</td>\n",
       "      <td>0.137835</td>\n",
       "      <td>0.380408</td>\n",
       "      <td>0.368139</td>\n",
       "    </tr>\n",
       "    <tr>\n",
       "      <th>3</th>\n",
       "      <td>0.275771</td>\n",
       "      <td>0.138716</td>\n",
       "      <td>0.381225</td>\n",
       "      <td>0.369178</td>\n",
       "    </tr>\n",
       "    <tr>\n",
       "      <th>4</th>\n",
       "      <td>0.275897</td>\n",
       "      <td>0.140771</td>\n",
       "      <td>0.382369</td>\n",
       "      <td>0.370654</td>\n",
       "    </tr>\n",
       "    <tr>\n",
       "      <th>...</th>\n",
       "      <td>...</td>\n",
       "      <td>...</td>\n",
       "      <td>...</td>\n",
       "      <td>...</td>\n",
       "    </tr>\n",
       "    <tr>\n",
       "      <th>9928</th>\n",
       "      <td>0.801935</td>\n",
       "      <td>0.766239</td>\n",
       "      <td>0.810613</td>\n",
       "      <td>0.804833</td>\n",
       "    </tr>\n",
       "    <tr>\n",
       "      <th>9929</th>\n",
       "      <td>0.773227</td>\n",
       "      <td>0.745688</td>\n",
       "      <td>0.792470</td>\n",
       "      <td>0.819156</td>\n",
       "    </tr>\n",
       "    <tr>\n",
       "      <th>9930</th>\n",
       "      <td>0.788052</td>\n",
       "      <td>0.756110</td>\n",
       "      <td>0.823635</td>\n",
       "      <td>0.824732</td>\n",
       "    </tr>\n",
       "    <tr>\n",
       "      <th>9931</th>\n",
       "      <td>0.782461</td>\n",
       "      <td>0.730569</td>\n",
       "      <td>0.816443</td>\n",
       "      <td>0.808769</td>\n",
       "    </tr>\n",
       "    <tr>\n",
       "      <th>9932</th>\n",
       "      <td>0.780765</td>\n",
       "      <td>0.738275</td>\n",
       "      <td>0.819494</td>\n",
       "      <td>0.813033</td>\n",
       "    </tr>\n",
       "  </tbody>\n",
       "</table>\n",
       "<p>9933 rows × 4 columns</p>\n",
       "</div>\n",
       "      <button class=\"colab-df-convert\" onclick=\"convertToInteractive('df-f1057cb3-d5f9-49c3-8516-3623cdf7e891')\"\n",
       "              title=\"Convert this dataframe to an interactive table.\"\n",
       "              style=\"display:none;\">\n",
       "        \n",
       "  <svg xmlns=\"http://www.w3.org/2000/svg\" height=\"24px\"viewBox=\"0 0 24 24\"\n",
       "       width=\"24px\">\n",
       "    <path d=\"M0 0h24v24H0V0z\" fill=\"none\"/>\n",
       "    <path d=\"M18.56 5.44l.94 2.06.94-2.06 2.06-.94-2.06-.94-.94-2.06-.94 2.06-2.06.94zm-11 1L8.5 8.5l.94-2.06 2.06-.94-2.06-.94L8.5 2.5l-.94 2.06-2.06.94zm10 10l.94 2.06.94-2.06 2.06-.94-2.06-.94-.94-2.06-.94 2.06-2.06.94z\"/><path d=\"M17.41 7.96l-1.37-1.37c-.4-.4-.92-.59-1.43-.59-.52 0-1.04.2-1.43.59L10.3 9.45l-7.72 7.72c-.78.78-.78 2.05 0 2.83L4 21.41c.39.39.9.59 1.41.59.51 0 1.02-.2 1.41-.59l7.78-7.78 2.81-2.81c.8-.78.8-2.07 0-2.86zM5.41 20L4 18.59l7.72-7.72 1.47 1.35L5.41 20z\"/>\n",
       "  </svg>\n",
       "      </button>\n",
       "      \n",
       "  <style>\n",
       "    .colab-df-container {\n",
       "      display:flex;\n",
       "      flex-wrap:wrap;\n",
       "      gap: 12px;\n",
       "    }\n",
       "\n",
       "    .colab-df-convert {\n",
       "      background-color: #E8F0FE;\n",
       "      border: none;\n",
       "      border-radius: 50%;\n",
       "      cursor: pointer;\n",
       "      display: none;\n",
       "      fill: #1967D2;\n",
       "      height: 32px;\n",
       "      padding: 0 0 0 0;\n",
       "      width: 32px;\n",
       "    }\n",
       "\n",
       "    .colab-df-convert:hover {\n",
       "      background-color: #E2EBFA;\n",
       "      box-shadow: 0px 1px 2px rgba(60, 64, 67, 0.3), 0px 1px 3px 1px rgba(60, 64, 67, 0.15);\n",
       "      fill: #174EA6;\n",
       "    }\n",
       "\n",
       "    [theme=dark] .colab-df-convert {\n",
       "      background-color: #3B4455;\n",
       "      fill: #D2E3FC;\n",
       "    }\n",
       "\n",
       "    [theme=dark] .colab-df-convert:hover {\n",
       "      background-color: #434B5C;\n",
       "      box-shadow: 0px 1px 3px 1px rgba(0, 0, 0, 0.15);\n",
       "      filter: drop-shadow(0px 1px 2px rgba(0, 0, 0, 0.3));\n",
       "      fill: #FFFFFF;\n",
       "    }\n",
       "  </style>\n",
       "\n",
       "      <script>\n",
       "        const buttonEl =\n",
       "          document.querySelector('#df-f1057cb3-d5f9-49c3-8516-3623cdf7e891 button.colab-df-convert');\n",
       "        buttonEl.style.display =\n",
       "          google.colab.kernel.accessAllowed ? 'block' : 'none';\n",
       "\n",
       "        async function convertToInteractive(key) {\n",
       "          const element = document.querySelector('#df-f1057cb3-d5f9-49c3-8516-3623cdf7e891');\n",
       "          const dataTable =\n",
       "            await google.colab.kernel.invokeFunction('convertToInteractive',\n",
       "                                                     [key], {});\n",
       "          if (!dataTable) return;\n",
       "\n",
       "          const docLinkHtml = 'Like what you see? Visit the ' +\n",
       "            '<a target=\"_blank\" href=https://colab.research.google.com/notebooks/data_table.ipynb>data table notebook</a>'\n",
       "            + ' to learn more about interactive tables.';\n",
       "          element.innerHTML = '';\n",
       "          dataTable['output_type'] = 'display_data';\n",
       "          await google.colab.output.renderOutput(dataTable, element);\n",
       "          const docLink = document.createElement('div');\n",
       "          docLink.innerHTML = docLinkHtml;\n",
       "          element.appendChild(docLink);\n",
       "        }\n",
       "      </script>\n",
       "    </div>\n",
       "  </div>\n",
       "  "
      ],
      "text/plain": [
       "            시가        고가        저가        종가\n",
       "0     0.272630  0.136367  0.379045  0.365734\n",
       "1     0.272002  0.137101  0.379263  0.366663\n",
       "2     0.273258  0.137835  0.380408  0.368139\n",
       "3     0.275771  0.138716  0.381225  0.369178\n",
       "4     0.275897  0.140771  0.382369  0.370654\n",
       "...        ...       ...       ...       ...\n",
       "9928  0.801935  0.766239  0.810613  0.804833\n",
       "9929  0.773227  0.745688  0.792470  0.819156\n",
       "9930  0.788052  0.756110  0.823635  0.824732\n",
       "9931  0.782461  0.730569  0.816443  0.808769\n",
       "9932  0.780765  0.738275  0.819494  0.813033\n",
       "\n",
       "[9933 rows x 4 columns]"
      ]
     },
     "execution_count": 32,
     "metadata": {},
     "output_type": "execute_result"
    }
   ],
   "source": [
    "#df= df.set_index(\"날짜\")\n",
    "from sklearn.preprocessing import MinMaxScaler\n",
    "\n",
    "df.sort_index(ascending=False).reset_index(drop=True)\n",
    "\n",
    "scaler = MinMaxScaler()\n",
    "scale_cols = ['시가', '고가', '저가', '종가']\n",
    "df_scaled = scaler.fit_transform(df[scale_cols])\n",
    "df_scaled = pd.DataFrame(df_scaled)\n",
    "df_scaled.columns = scale_cols\n",
    "\n",
    "df_scaled"
   ]
  },
  {
   "cell_type": "code",
   "execution_count": 33,
   "metadata": {
    "executionInfo": {
     "elapsed": 343,
     "status": "ok",
     "timestamp": 1654153768975,
     "user": {
      "displayName": "권나은",
      "userId": "06827649815892596464"
     },
     "user_tz": -540
    },
    "id": "pnjdHjxOM4Kr"
   },
   "outputs": [],
   "source": [
    "TEST_SIZE = 200\n",
    "WINDOW_SIZE = 20\n",
    "\n",
    "train = df_scaled[:-TEST_SIZE]\n",
    "test = df_scaled[-TEST_SIZE:]"
   ]
  },
  {
   "cell_type": "code",
   "execution_count": 34,
   "metadata": {
    "executionInfo": {
     "elapsed": 285,
     "status": "ok",
     "timestamp": 1654153776038,
     "user": {
      "displayName": "권나은",
      "userId": "06827649815892596464"
     },
     "user_tz": -540
    },
    "id": "wyKa3DTjP2wY"
   },
   "outputs": [],
   "source": [
    "def make_dataset(data, label, window_size=20):\n",
    "    feature_list = []\n",
    "    label_list = []\n",
    "    for i in range(len(data) - window_size):\n",
    "        feature_list.append(np.array(data.iloc[i:i+window_size]))\n",
    "        label_list.append(np.array(label.iloc[i+window_size]))\n",
    "    return np.array(feature_list), np.array(label_list)"
   ]
  },
  {
   "cell_type": "code",
   "execution_count": 35,
   "metadata": {
    "colab": {
     "base_uri": "https://localhost:8080/"
    },
    "executionInfo": {
     "elapsed": 4311,
     "status": "ok",
     "timestamp": 1654153795197,
     "user": {
      "displayName": "권나은",
      "userId": "06827649815892596464"
     },
     "user_tz": -540
    },
    "id": "Vnsofh1_P4fY",
    "outputId": "c81a5745-dd85-4126-a80f-4013aa400403"
   },
   "outputs": [
    {
     "data": {
      "text/plain": [
       "((7770, 20, 3), (1943, 20, 3))"
      ]
     },
     "execution_count": 35,
     "metadata": {},
     "output_type": "execute_result"
    }
   ],
   "source": [
    "from sklearn.model_selection import train_test_split\n",
    "\n",
    "feature_cols = ['시가', '고가', '저가']\n",
    "label_cols = ['종가']\n",
    "\n",
    "train_feature = train[feature_cols]\n",
    "train_label = train[label_cols]\n",
    "\n",
    "train_feature, train_label = make_dataset(train_feature, train_label, 20)\n",
    "\n",
    "x_train, x_valid, y_train, y_valid = train_test_split(train_feature, train_label, test_size=0.2)\n",
    "x_train.shape, x_valid.shape"
   ]
  },
  {
   "cell_type": "code",
   "execution_count": 36,
   "metadata": {
    "colab": {
     "base_uri": "https://localhost:8080/"
    },
    "executionInfo": {
     "elapsed": 327,
     "status": "ok",
     "timestamp": 1654153805944,
     "user": {
      "displayName": "권나은",
      "userId": "06827649815892596464"
     },
     "user_tz": -540
    },
    "id": "eRsVu9cNP8Jx",
    "outputId": "f51351ca-23c9-4268-d914-5797a5f8ac0f"
   },
   "outputs": [
    {
     "data": {
      "text/plain": [
       "((200, 3), (200, 1))"
      ]
     },
     "execution_count": 36,
     "metadata": {},
     "output_type": "execute_result"
    }
   ],
   "source": [
    "test_feature = test[feature_cols]\n",
    "test_label = test[label_cols]\n",
    "\n",
    "test_feature.shape, test_label.shape"
   ]
  },
  {
   "cell_type": "code",
   "execution_count": 37,
   "metadata": {
    "colab": {
     "base_uri": "https://localhost:8080/"
    },
    "executionInfo": {
     "elapsed": 272,
     "status": "ok",
     "timestamp": 1654153815554,
     "user": {
      "displayName": "권나은",
      "userId": "06827649815892596464"
     },
     "user_tz": -540
    },
    "id": "tzx3b3i1P_1S",
    "outputId": "db24efec-af59-427d-da23-fab7b759fb35"
   },
   "outputs": [
    {
     "data": {
      "text/plain": [
       "((180, 20, 3), (180, 1))"
      ]
     },
     "execution_count": 37,
     "metadata": {},
     "output_type": "execute_result"
    }
   ],
   "source": [
    "test_feature, test_label = make_dataset(test_feature, test_label, 20)\n",
    "test_feature.shape, test_label.shape"
   ]
  },
  {
   "cell_type": "code",
   "execution_count": 38,
   "metadata": {
    "executionInfo": {
     "elapsed": 308,
     "status": "ok",
     "timestamp": 1654153838502,
     "user": {
      "displayName": "권나은",
      "userId": "06827649815892596464"
     },
     "user_tz": -540
    },
    "id": "PT8G9mN0QCJM"
   },
   "outputs": [],
   "source": [
    "from keras.models import Sequential\n",
    "from keras.layers import Dense\n",
    "from keras.callbacks import EarlyStopping, ModelCheckpoint\n",
    "from keras.layers import LSTM\n",
    "\n",
    "model = Sequential()\n",
    "model.add(LSTM(16, \n",
    "               input_shape=(train_feature.shape[1], train_feature.shape[2]), \n",
    "               activation='relu', \n",
    "               return_sequences=False)\n",
    "          )\n",
    "\n",
    "model.add(Dense(1))"
   ]
  },
  {
   "cell_type": "code",
   "execution_count": 39,
   "metadata": {
    "colab": {
     "base_uri": "https://localhost:8080/"
    },
    "executionInfo": {
     "elapsed": 164881,
     "status": "ok",
     "timestamp": 1654154014543,
     "user": {
      "displayName": "권나은",
      "userId": "06827649815892596464"
     },
     "user_tz": -540
    },
    "id": "bBb5E4uRQHts",
    "outputId": "cdf3fdb1-4e36-4049-8713-6928325a7a8f"
   },
   "outputs": [
    {
     "name": "stdout",
     "output_type": "stream",
     "text": [
      "Epoch 1/200\n",
      "481/486 [============================>.] - ETA: 0s - loss: 0.0213\n",
      "Epoch 1: val_loss improved from inf to 0.00011, saving model to model/tmp_checkpoint.h5\n",
      "486/486 [==============================] - 7s 10ms/step - loss: 0.0211 - val_loss: 1.0740e-04\n",
      "Epoch 2/200\n",
      "482/486 [============================>.] - ETA: 0s - loss: 1.3763e-04\n",
      "Epoch 2: val_loss did not improve from 0.00011\n",
      "486/486 [==============================] - 4s 9ms/step - loss: 1.3704e-04 - val_loss: 1.1185e-04\n",
      "Epoch 3/200\n",
      "481/486 [============================>.] - ETA: 0s - loss: 1.3893e-04\n",
      "Epoch 3: val_loss improved from 0.00011 to 0.00010, saving model to model/tmp_checkpoint.h5\n",
      "486/486 [==============================] - 6s 12ms/step - loss: 1.3838e-04 - val_loss: 9.6858e-05\n",
      "Epoch 4/200\n",
      "485/486 [============================>.] - ETA: 0s - loss: 1.2576e-04\n",
      "Epoch 4: val_loss improved from 0.00010 to 0.00009, saving model to model/tmp_checkpoint.h5\n",
      "486/486 [==============================] - 6s 13ms/step - loss: 1.2561e-04 - val_loss: 8.7416e-05\n",
      "Epoch 5/200\n",
      "484/486 [============================>.] - ETA: 0s - loss: 1.2256e-04\n",
      "Epoch 5: val_loss did not improve from 0.00009\n",
      "486/486 [==============================] - 4s 9ms/step - loss: 1.2239e-04 - val_loss: 9.0877e-05\n",
      "Epoch 6/200\n",
      "480/486 [============================>.] - ETA: 0s - loss: 1.1943e-04\n",
      "Epoch 6: val_loss did not improve from 0.00009\n",
      "486/486 [==============================] - 4s 9ms/step - loss: 1.1907e-04 - val_loss: 1.0269e-04\n",
      "Epoch 7/200\n",
      "485/486 [============================>.] - ETA: 0s - loss: 1.1301e-04\n",
      "Epoch 7: val_loss did not improve from 0.00009\n",
      "486/486 [==============================] - 4s 9ms/step - loss: 1.1294e-04 - val_loss: 9.0850e-05\n",
      "Epoch 8/200\n",
      "484/486 [============================>.] - ETA: 0s - loss: 1.1041e-04\n",
      "Epoch 8: val_loss improved from 0.00009 to 0.00008, saving model to model/tmp_checkpoint.h5\n",
      "486/486 [==============================] - 4s 9ms/step - loss: 1.1047e-04 - val_loss: 7.7070e-05\n",
      "Epoch 9/200\n",
      "483/486 [============================>.] - ETA: 0s - loss: 1.0310e-04\n",
      "Epoch 9: val_loss improved from 0.00008 to 0.00007, saving model to model/tmp_checkpoint.h5\n",
      "486/486 [==============================] - 4s 9ms/step - loss: 1.0289e-04 - val_loss: 7.3040e-05\n",
      "Epoch 10/200\n",
      "485/486 [============================>.] - ETA: 0s - loss: 1.0429e-04\n",
      "Epoch 10: val_loss improved from 0.00007 to 0.00007, saving model to model/tmp_checkpoint.h5\n",
      "486/486 [==============================] - 4s 9ms/step - loss: 1.0419e-04 - val_loss: 7.0477e-05\n",
      "Epoch 11/200\n",
      "485/486 [============================>.] - ETA: 0s - loss: 9.6616e-05\n",
      "Epoch 11: val_loss did not improve from 0.00007\n",
      "486/486 [==============================] - 4s 9ms/step - loss: 9.6529e-05 - val_loss: 9.9974e-05\n",
      "Epoch 12/200\n",
      "485/486 [============================>.] - ETA: 0s - loss: 9.1629e-05\n",
      "Epoch 12: val_loss improved from 0.00007 to 0.00006, saving model to model/tmp_checkpoint.h5\n",
      "486/486 [==============================] - 4s 9ms/step - loss: 9.1660e-05 - val_loss: 6.4848e-05\n",
      "Epoch 13/200\n",
      "486/486 [==============================] - ETA: 0s - loss: 9.6033e-05\n",
      "Epoch 13: val_loss improved from 0.00006 to 0.00006, saving model to model/tmp_checkpoint.h5\n",
      "486/486 [==============================] - 4s 9ms/step - loss: 9.6033e-05 - val_loss: 6.2200e-05\n",
      "Epoch 14/200\n",
      "480/486 [============================>.] - ETA: 0s - loss: 8.5758e-05\n",
      "Epoch 14: val_loss improved from 0.00006 to 0.00006, saving model to model/tmp_checkpoint.h5\n",
      "486/486 [==============================] - 4s 9ms/step - loss: 8.5642e-05 - val_loss: 5.9466e-05\n",
      "Epoch 15/200\n",
      "486/486 [==============================] - ETA: 0s - loss: 9.0468e-05\n",
      "Epoch 15: val_loss did not improve from 0.00006\n",
      "486/486 [==============================] - 5s 10ms/step - loss: 9.0468e-05 - val_loss: 7.3109e-05\n",
      "Epoch 16/200\n",
      "483/486 [============================>.] - ETA: 0s - loss: 8.5433e-05\n",
      "Epoch 16: val_loss did not improve from 0.00006\n",
      "486/486 [==============================] - 4s 9ms/step - loss: 8.5395e-05 - val_loss: 8.6563e-05\n",
      "Epoch 17/200\n",
      "486/486 [==============================] - ETA: 0s - loss: 8.5389e-05\n",
      "Epoch 17: val_loss improved from 0.00006 to 0.00005, saving model to model/tmp_checkpoint.h5\n",
      "486/486 [==============================] - 4s 9ms/step - loss: 8.5389e-05 - val_loss: 5.4918e-05\n",
      "Epoch 18/200\n",
      "480/486 [============================>.] - ETA: 0s - loss: 8.0935e-05\n",
      "Epoch 18: val_loss did not improve from 0.00005\n",
      "486/486 [==============================] - 4s 9ms/step - loss: 8.1279e-05 - val_loss: 7.7138e-05\n",
      "Epoch 19/200\n",
      "486/486 [==============================] - ETA: 0s - loss: 8.0706e-05\n",
      "Epoch 19: val_loss did not improve from 0.00005\n",
      "486/486 [==============================] - 4s 9ms/step - loss: 8.0706e-05 - val_loss: 7.3771e-05\n",
      "Epoch 20/200\n",
      "485/486 [============================>.] - ETA: 0s - loss: 7.9929e-05\n",
      "Epoch 20: val_loss did not improve from 0.00005\n",
      "486/486 [==============================] - 4s 9ms/step - loss: 7.9877e-05 - val_loss: 5.9169e-05\n",
      "Epoch 21/200\n",
      "483/486 [============================>.] - ETA: 0s - loss: 7.6722e-05\n",
      "Epoch 21: val_loss improved from 0.00005 to 0.00005, saving model to model/tmp_checkpoint.h5\n",
      "486/486 [==============================] - 4s 9ms/step - loss: 7.6530e-05 - val_loss: 5.2173e-05\n",
      "Epoch 22/200\n",
      "484/486 [============================>.] - ETA: 0s - loss: 7.6350e-05\n",
      "Epoch 22: val_loss did not improve from 0.00005\n",
      "486/486 [==============================] - 4s 9ms/step - loss: 7.6642e-05 - val_loss: 7.0332e-05\n",
      "Epoch 23/200\n",
      "484/486 [============================>.] - ETA: 0s - loss: 7.5825e-05\n",
      "Epoch 23: val_loss improved from 0.00005 to 0.00005, saving model to model/tmp_checkpoint.h5\n",
      "486/486 [==============================] - 4s 9ms/step - loss: 7.5759e-05 - val_loss: 5.0564e-05\n",
      "Epoch 24/200\n",
      "482/486 [============================>.] - ETA: 0s - loss: 7.5097e-05\n",
      "Epoch 24: val_loss improved from 0.00005 to 0.00005, saving model to model/tmp_checkpoint.h5\n",
      "486/486 [==============================] - 4s 9ms/step - loss: 7.4969e-05 - val_loss: 4.9356e-05\n",
      "Epoch 25/200\n",
      "486/486 [==============================] - ETA: 0s - loss: 7.2932e-05\n",
      "Epoch 25: val_loss did not improve from 0.00005\n",
      "486/486 [==============================] - 4s 9ms/step - loss: 7.2932e-05 - val_loss: 6.2141e-05\n",
      "Epoch 26/200\n",
      "481/486 [============================>.] - ETA: 0s - loss: 7.6823e-05\n",
      "Epoch 26: val_loss did not improve from 0.00005\n",
      "486/486 [==============================] - 4s 9ms/step - loss: 7.6520e-05 - val_loss: 5.5477e-05\n",
      "Epoch 27/200\n",
      "483/486 [============================>.] - ETA: 0s - loss: 7.3861e-05\n",
      "Epoch 27: val_loss did not improve from 0.00005\n",
      "486/486 [==============================] - 4s 9ms/step - loss: 7.3864e-05 - val_loss: 5.0832e-05\n",
      "Epoch 28/200\n",
      "482/486 [============================>.] - ETA: 0s - loss: 7.0880e-05\n",
      "Epoch 28: val_loss improved from 0.00005 to 0.00005, saving model to model/tmp_checkpoint.h5\n",
      "486/486 [==============================] - 4s 9ms/step - loss: 7.1091e-05 - val_loss: 4.8731e-05\n",
      "Epoch 29/200\n",
      "486/486 [==============================] - ETA: 0s - loss: 7.0606e-05\n",
      "Epoch 29: val_loss did not improve from 0.00005\n",
      "486/486 [==============================] - 4s 9ms/step - loss: 7.0606e-05 - val_loss: 5.5924e-05\n",
      "Epoch 30/200\n",
      "481/486 [============================>.] - ETA: 0s - loss: 7.0221e-05\n",
      "Epoch 30: val_loss did not improve from 0.00005\n",
      "486/486 [==============================] - 4s 9ms/step - loss: 7.0018e-05 - val_loss: 5.2598e-05\n",
      "Epoch 31/200\n",
      "481/486 [============================>.] - ETA: 0s - loss: 7.4424e-05\n",
      "Epoch 31: val_loss improved from 0.00005 to 0.00005, saving model to model/tmp_checkpoint.h5\n",
      "486/486 [==============================] - 4s 9ms/step - loss: 7.4107e-05 - val_loss: 4.7949e-05\n",
      "Epoch 32/200\n",
      "486/486 [==============================] - ETA: 0s - loss: 6.9364e-05\n",
      "Epoch 32: val_loss improved from 0.00005 to 0.00005, saving model to model/tmp_checkpoint.h5\n",
      "486/486 [==============================] - 4s 9ms/step - loss: 6.9364e-05 - val_loss: 4.6014e-05\n",
      "Epoch 33/200\n",
      "482/486 [============================>.] - ETA: 0s - loss: 6.8962e-05\n",
      "Epoch 33: val_loss did not improve from 0.00005\n",
      "486/486 [==============================] - 4s 9ms/step - loss: 6.8752e-05 - val_loss: 4.8850e-05\n",
      "Epoch 34/200\n",
      "483/486 [============================>.] - ETA: 0s - loss: 7.2533e-05\n",
      "Epoch 34: val_loss did not improve from 0.00005\n",
      "486/486 [==============================] - 4s 9ms/step - loss: 7.2445e-05 - val_loss: 5.1714e-05\n",
      "Epoch 35/200\n",
      "480/486 [============================>.] - ETA: 0s - loss: 6.9523e-05\n",
      "Epoch 35: val_loss did not improve from 0.00005\n",
      "486/486 [==============================] - 4s 9ms/step - loss: 6.9218e-05 - val_loss: 5.5654e-05\n",
      "Epoch 36/200\n",
      "486/486 [==============================] - ETA: 0s - loss: 6.5703e-05\n",
      "Epoch 36: val_loss did not improve from 0.00005\n",
      "486/486 [==============================] - 4s 9ms/step - loss: 6.5703e-05 - val_loss: 4.6877e-05\n",
      "Epoch 37/200\n",
      "485/486 [============================>.] - ETA: 0s - loss: 6.5611e-05\n",
      "Epoch 37: val_loss did not improve from 0.00005\n",
      "486/486 [==============================] - 4s 9ms/step - loss: 6.5576e-05 - val_loss: 6.7771e-05\n"
     ]
    }
   ],
   "source": [
    "import os\n",
    "\n",
    "model.compile(loss='mean_squared_error', optimizer='adam')\n",
    "early_stop = EarlyStopping(monitor='val_loss', patience=5)\n",
    "\n",
    "model_path = 'model'\n",
    "filename = os.path.join(model_path, 'tmp_checkpoint.h5')\n",
    "checkpoint = ModelCheckpoint(filename, monitor='val_loss', verbose=1, save_best_only=True, mode='auto')\n",
    "\n",
    "history = model.fit(x_train, y_train, \n",
    "                                    epochs=200, \n",
    "                                    batch_size=16,\n",
    "                                    validation_data=(x_valid, y_valid), \n",
    "                                    callbacks=[early_stop, checkpoint])"
   ]
  },
  {
   "cell_type": "code",
   "execution_count": 40,
   "metadata": {
    "colab": {
     "base_uri": "https://localhost:8080/",
     "height": 537
    },
    "executionInfo": {
     "elapsed": 1512,
     "status": "ok",
     "timestamp": 1654154045177,
     "user": {
      "displayName": "권나은",
      "userId": "06827649815892596464"
     },
     "user_tz": -540
    },
    "id": "zxgIRqKJQKhe",
    "outputId": "fb2c507d-97b6-4363-bcac-bd9e92531ff2"
   },
   "outputs": [
    {
     "data": {
      "image/png": "[encoded data removed]",
      "text/plain": [
       "<Figure size 864x648 with 1 Axes>"
      ]
     },
     "metadata": {
      "needs_background": "light"
     },
     "output_type": "display_data"
    }
   ],
   "source": [
    "model.load_weights(filename)\n",
    "pred = model.predict(test_feature)\n",
    "pred.shape\n",
    "plt.figure(figsize=(12, 9))\n",
    "plt.plot(test_label, label = 'actual')\n",
    "plt.plot(pred, label = 'prediction')\n",
    "plt.legend()\n",
    "plt.show()"
   ]
  },
  {
   "cell_type": "code",
   "execution_count": 42,
   "metadata": {
    "executionInfo": {
     "elapsed": 297,
     "status": "ok",
     "timestamp": 1654154101770,
     "user": {
      "displayName": "권나은",
      "userId": "06827649815892596464"
     },
     "user_tz": -540
    },
    "id": "RFZSbdzmQ55u"
   },
   "outputs": [],
   "source": [
    "data=df[['종가']]"
   ]
  },
  {
   "cell_type": "markdown",
   "metadata": {
    "id": "qUVRA2xoS4_J"
   },
   "source": [
    "##LSTM 다시..."
   ]
  },
  {
   "cell_type": "code",
   "execution_count": 43,
   "metadata": {
    "executionInfo": {
     "elapsed": 279,
     "status": "ok",
     "timestamp": 1654154153043,
     "user": {
      "displayName": "권나은",
      "userId": "06827649815892596464"
     },
     "user_tz": -540
    },
    "id": "zB5I-kiPRG5n"
   },
   "outputs": [],
   "source": [
    "from tensorflow.keras.layers import Dense, Input, LSTM\n",
    "from tensorflow.keras.models import Model\n",
    "from tensorflow.keras.optimizers import Adam\n",
    "import numpy as np\n",
    "import matplotlib.pyplot as plt\n",
    "\n",
    "nInput = 1\n",
    "nOutput = 1\n",
    "nStep = 20\n",
    "nHidden = 50\n"
   ]
  },
  {
   "cell_type": "code",
   "execution_count": null,
   "metadata": {
    "id": "bj1uktTgS3Qv"
   },
   "outputs": [],
   "source": []
  },
  {
   "cell_type": "code",
   "execution_count": 44,
   "metadata": {
    "colab": {
     "base_uri": "https://localhost:8080/",
     "height": 515
    },
    "executionInfo": {
     "elapsed": 2030,
     "status": "error",
     "timestamp": 1654154324881,
     "user": {
      "displayName": "권나은",
      "userId": "06827649815892596464"
     },
     "user_tz": -540
    },
    "id": "EkjRHVTURUi2",
    "outputId": "babe11ec-df4c-4318-f7b9-f857b417270c"
   },
   "outputs": [
    {
     "ename": "KeyError",
     "evalue": "ignored",
     "output_type": "error",
     "traceback": [
      "\u001b[0;31m---------------------------------------------------------------------------\u001b[0m",
      "\u001b[0;31mKeyError\u001b[0m                                  Traceback (most recent call last)",
      "\u001b[0;32m/usr/local/lib/python3.7/dist-packages/pandas/core/indexes/base.py\u001b[0m in \u001b[0;36mget_loc\u001b[0;34m(self, key, method, tolerance)\u001b[0m\n\u001b[1;32m   3360\u001b[0m             \u001b[0;32mtry\u001b[0m\u001b[0;34m:\u001b[0m\u001b[0;34m\u001b[0m\u001b[0;34m\u001b[0m\u001b[0m\n\u001b[0;32m-> 3361\u001b[0;31m                 \u001b[0;32mreturn\u001b[0m \u001b[0mself\u001b[0m\u001b[0;34m.\u001b[0m\u001b[0m_engine\u001b[0m\u001b[0;34m.\u001b[0m\u001b[0mget_loc\u001b[0m\u001b[0;34m(\u001b[0m\u001b[0mcasted_key\u001b[0m\u001b[0;34m)\u001b[0m\u001b[0;34m\u001b[0m\u001b[0;34m\u001b[0m\u001b[0m\n\u001b[0m\u001b[1;32m   3362\u001b[0m             \u001b[0;32mexcept\u001b[0m \u001b[0mKeyError\u001b[0m \u001b[0;32mas\u001b[0m \u001b[0merr\u001b[0m\u001b[0;34m:\u001b[0m\u001b[0;34m\u001b[0m\u001b[0;34m\u001b[0m\u001b[0m\n",
      "\u001b[0;32m/usr/local/lib/python3.7/dist-packages/pandas/_libs/index.pyx\u001b[0m in \u001b[0;36mpandas._libs.index.IndexEngine.get_loc\u001b[0;34m()\u001b[0m\n",
      "\u001b[0;32m/usr/local/lib/python3.7/dist-packages/pandas/_libs/index.pyx\u001b[0m in \u001b[0;36mpandas._libs.index.IndexEngine.get_loc\u001b[0;34m()\u001b[0m\n",
      "\u001b[0;32mpandas/_libs/hashtable_class_helper.pxi\u001b[0m in \u001b[0;36mpandas._libs.hashtable.PyObjectHashTable.get_item\u001b[0;34m()\u001b[0m\n",
      "\u001b[0;32mpandas/_libs/hashtable_class_helper.pxi\u001b[0m in \u001b[0;36mpandas._libs.hashtable.PyObjectHashTable.get_item\u001b[0;34m()\u001b[0m\n",
      "\u001b[0;31mKeyError\u001b[0m: -1",
      "\nThe above exception was the direct cause of the following exception:\n",
      "\u001b[0;31mKeyError\u001b[0m                                  Traceback (most recent call last)",
      "\u001b[0;32m<ipython-input-44-2d89e531bd84>\u001b[0m in \u001b[0;36m<module>\u001b[0;34m()\u001b[0m\n\u001b[1;32m     12\u001b[0m     \u001b[0;32mreturn\u001b[0m \u001b[0mxBatch\u001b[0m\u001b[0;34m,\u001b[0m \u001b[0myBatch\u001b[0m\u001b[0;34m\u001b[0m\u001b[0;34m\u001b[0m\u001b[0m\n\u001b[1;32m     13\u001b[0m \u001b[0;34m\u001b[0m\u001b[0m\n\u001b[0;32m---> 14\u001b[0;31m \u001b[0mx\u001b[0m\u001b[0;34m,\u001b[0m\u001b[0my\u001b[0m\u001b[0;34m=\u001b[0m\u001b[0mcreateTrainData\u001b[0m\u001b[0;34m(\u001b[0m\u001b[0mdata\u001b[0m\u001b[0;34m,\u001b[0m \u001b[0mnStep\u001b[0m\u001b[0;34m)\u001b[0m\u001b[0;34m\u001b[0m\u001b[0;34m\u001b[0m\u001b[0m\n\u001b[0m\u001b[1;32m     15\u001b[0m \u001b[0mxInput\u001b[0m \u001b[0;34m=\u001b[0m \u001b[0mInput\u001b[0m\u001b[0;34m(\u001b[0m\u001b[0mbatch_shape\u001b[0m\u001b[0;34m=\u001b[0m\u001b[0;34m(\u001b[0m\u001b[0;32mNone\u001b[0m\u001b[0;34m,\u001b[0m \u001b[0mnStep\u001b[0m\u001b[0;34m,\u001b[0m \u001b[0;36m1\u001b[0m\u001b[0;34m)\u001b[0m\u001b[0;34m)\u001b[0m\u001b[0;34m\u001b[0m\u001b[0;34m\u001b[0m\u001b[0m\n\u001b[1;32m     16\u001b[0m \u001b[0mxLstm\u001b[0m \u001b[0;34m=\u001b[0m \u001b[0mLSTM\u001b[0m\u001b[0;34m(\u001b[0m\u001b[0mnHidden\u001b[0m\u001b[0;34m)\u001b[0m\u001b[0;34m(\u001b[0m\u001b[0mxInput\u001b[0m\u001b[0;34m)\u001b[0m\u001b[0;34m\u001b[0m\u001b[0;34m\u001b[0m\u001b[0m\n",
      "\u001b[0;32m<ipython-input-44-2d89e531bd84>\u001b[0m in \u001b[0;36mcreateTrainData\u001b[0;34m(xData, step)\u001b[0m\n\u001b[1;32m      8\u001b[0m     \u001b[0;32mfor\u001b[0m \u001b[0mi\u001b[0m \u001b[0;32min\u001b[0m \u001b[0mm\u001b[0m\u001b[0;34m+\u001b[0m\u001b[0;36m1\u001b[0m\u001b[0;34m:\u001b[0m\u001b[0;34m\u001b[0m\u001b[0;34m\u001b[0m\u001b[0m\n\u001b[1;32m      9\u001b[0m         \u001b[0ma\u001b[0m \u001b[0;34m=\u001b[0m \u001b[0mxData\u001b[0m\u001b[0;34m[\u001b[0m\u001b[0mi\u001b[0m\u001b[0;34m:\u001b[0m\u001b[0;34m(\u001b[0m\u001b[0mi\u001b[0m\u001b[0;34m+\u001b[0m\u001b[0mstep\u001b[0m\u001b[0;34m)\u001b[0m\u001b[0;34m]\u001b[0m\u001b[0;34m\u001b[0m\u001b[0;34m\u001b[0m\u001b[0m\n\u001b[0;32m---> 10\u001b[0;31m         \u001b[0my\u001b[0m\u001b[0;34m.\u001b[0m\u001b[0mappend\u001b[0m\u001b[0;34m(\u001b[0m\u001b[0ma\u001b[0m\u001b[0;34m[\u001b[0m\u001b[0;34m-\u001b[0m\u001b[0;36m1\u001b[0m\u001b[0;34m]\u001b[0m\u001b[0;34m)\u001b[0m\u001b[0;34m\u001b[0m\u001b[0;34m\u001b[0m\u001b[0m\n\u001b[0m\u001b[1;32m     11\u001b[0m     \u001b[0myBatch\u001b[0m \u001b[0;34m=\u001b[0m \u001b[0mnp\u001b[0m\u001b[0;34m.\u001b[0m\u001b[0mreshape\u001b[0m\u001b[0;34m(\u001b[0m\u001b[0mnp\u001b[0m\u001b[0;34m.\u001b[0m\u001b[0marray\u001b[0m\u001b[0;34m(\u001b[0m\u001b[0my\u001b[0m\u001b[0;34m)\u001b[0m\u001b[0;34m,\u001b[0m \u001b[0;34m(\u001b[0m\u001b[0mlen\u001b[0m\u001b[0;34m(\u001b[0m\u001b[0mm\u001b[0m\u001b[0;34m)\u001b[0m\u001b[0;34m,\u001b[0m \u001b[0;36m1\u001b[0m\u001b[0;34m)\u001b[0m\u001b[0;34m)\u001b[0m\u001b[0;34m\u001b[0m\u001b[0;34m\u001b[0m\u001b[0m\n\u001b[1;32m     12\u001b[0m     \u001b[0;32mreturn\u001b[0m \u001b[0mxBatch\u001b[0m\u001b[0;34m,\u001b[0m \u001b[0myBatch\u001b[0m\u001b[0;34m\u001b[0m\u001b[0;34m\u001b[0m\u001b[0m\n",
      "\u001b[0;32m/usr/local/lib/python3.7/dist-packages/pandas/core/frame.py\u001b[0m in \u001b[0;36m__getitem__\u001b[0;34m(self, key)\u001b[0m\n\u001b[1;32m   3456\u001b[0m             \u001b[0;32mif\u001b[0m \u001b[0mself\u001b[0m\u001b[0;34m.\u001b[0m\u001b[0mcolumns\u001b[0m\u001b[0;34m.\u001b[0m\u001b[0mnlevels\u001b[0m \u001b[0;34m>\u001b[0m \u001b[0;36m1\u001b[0m\u001b[0;34m:\u001b[0m\u001b[0;34m\u001b[0m\u001b[0;34m\u001b[0m\u001b[0m\n\u001b[1;32m   3457\u001b[0m                 \u001b[0;32mreturn\u001b[0m \u001b[0mself\u001b[0m\u001b[0;34m.\u001b[0m\u001b[0m_getitem_multilevel\u001b[0m\u001b[0;34m(\u001b[0m\u001b[0mkey\u001b[0m\u001b[0;34m)\u001b[0m\u001b[0;34m\u001b[0m\u001b[0;34m\u001b[0m\u001b[0m\n\u001b[0;32m-> 3458\u001b[0;31m             \u001b[0mindexer\u001b[0m \u001b[0;34m=\u001b[0m \u001b[0mself\u001b[0m\u001b[0;34m.\u001b[0m\u001b[0mcolumns\u001b[0m\u001b[0;34m.\u001b[0m\u001b[0mget_loc\u001b[0m\u001b[0;34m(\u001b[0m\u001b[0mkey\u001b[0m\u001b[0;34m)\u001b[0m\u001b[0;34m\u001b[0m\u001b[0;34m\u001b[0m\u001b[0m\n\u001b[0m\u001b[1;32m   3459\u001b[0m             \u001b[0;32mif\u001b[0m \u001b[0mis_integer\u001b[0m\u001b[0;34m(\u001b[0m\u001b[0mindexer\u001b[0m\u001b[0;34m)\u001b[0m\u001b[0;34m:\u001b[0m\u001b[0;34m\u001b[0m\u001b[0;34m\u001b[0m\u001b[0m\n\u001b[1;32m   3460\u001b[0m                 \u001b[0mindexer\u001b[0m \u001b[0;34m=\u001b[0m \u001b[0;34m[\u001b[0m\u001b[0mindexer\u001b[0m\u001b[0;34m]\u001b[0m\u001b[0;34m\u001b[0m\u001b[0;34m\u001b[0m\u001b[0m\n",
      "\u001b[0;32m/usr/local/lib/python3.7/dist-packages/pandas/core/indexes/base.py\u001b[0m in \u001b[0;36mget_loc\u001b[0;34m(self, key, method, tolerance)\u001b[0m\n\u001b[1;32m   3361\u001b[0m                 \u001b[0;32mreturn\u001b[0m \u001b[0mself\u001b[0m\u001b[0;34m.\u001b[0m\u001b[0m_engine\u001b[0m\u001b[0;34m.\u001b[0m\u001b[0mget_loc\u001b[0m\u001b[0;34m(\u001b[0m\u001b[0mcasted_key\u001b[0m\u001b[0;34m)\u001b[0m\u001b[0;34m\u001b[0m\u001b[0;34m\u001b[0m\u001b[0m\n\u001b[1;32m   3362\u001b[0m             \u001b[0;32mexcept\u001b[0m \u001b[0mKeyError\u001b[0m \u001b[0;32mas\u001b[0m \u001b[0merr\u001b[0m\u001b[0;34m:\u001b[0m\u001b[0;34m\u001b[0m\u001b[0;34m\u001b[0m\u001b[0m\n\u001b[0;32m-> 3363\u001b[0;31m                 \u001b[0;32mraise\u001b[0m \u001b[0mKeyError\u001b[0m\u001b[0;34m(\u001b[0m\u001b[0mkey\u001b[0m\u001b[0;34m)\u001b[0m \u001b[0;32mfrom\u001b[0m \u001b[0merr\u001b[0m\u001b[0;34m\u001b[0m\u001b[0;34m\u001b[0m\u001b[0m\n\u001b[0m\u001b[1;32m   3364\u001b[0m \u001b[0;34m\u001b[0m\u001b[0m\n\u001b[1;32m   3365\u001b[0m         \u001b[0;32mif\u001b[0m \u001b[0mis_scalar\u001b[0m\u001b[0;34m(\u001b[0m\u001b[0mkey\u001b[0m\u001b[0;34m)\u001b[0m \u001b[0;32mand\u001b[0m \u001b[0misna\u001b[0m\u001b[0;34m(\u001b[0m\u001b[0mkey\u001b[0m\u001b[0;34m)\u001b[0m \u001b[0;32mand\u001b[0m \u001b[0;32mnot\u001b[0m \u001b[0mself\u001b[0m\u001b[0;34m.\u001b[0m\u001b[0mhasnans\u001b[0m\u001b[0;34m:\u001b[0m\u001b[0;34m\u001b[0m\u001b[0;34m\u001b[0m\u001b[0m\n",
      "\u001b[0;31mKeyError\u001b[0m: -1"
     ]
    }
   ],
   "source": [
    "def createTrainData(xData, step):\n",
    "    m = np.arange(len(xData) - step)\n",
    "    x, y = [], []\n",
    "    for i in m:\n",
    "        a = xData[i:(i+step)]\n",
    "        x.append(a)\n",
    "    xBatch = np.reshape(np.array(x), (len(m), step, 1))\n",
    "    for i in m+1:\n",
    "        a = xData[i:(i+step)]\n",
    "        y.append(a[-1])\n",
    "    yBatch = np.reshape(np.array(y), (len(m), 1))\n",
    "    return xBatch, yBatch\n",
    "\n",
    "x,y=createTrainData(data, nStep)\n",
    "xInput = Input(batch_shape=(None, nStep, 1))\n",
    "xLstm = LSTM(nHidden)(xInput)\n",
    "xOutput = Dense(nOutput)(xLstm)\n",
    "model = Model(xInput, xOutput)\n",
    "model.compile(loss='mse', optimizer=Adam(lr=0.01))\n",
    "# 학습한다\n",
    "h = model.fit(x, y, epochs=100, batch_size=100, shuffle=True)\n",
    "# 향후 20 기간 데이터를 예측한다. 향후 1 기간을 예측하고, 예측값을 다시 입력하여 2 기간을 예측한다.\n",
    "# 이런 방식으로 20 기간까지 예측한다.\n",
    "nFuture = 20\n",
    "if len(data) > 100:\n",
    "    lastData = np.copy(data[-100:])  # 원 데이터의 마지막 100개만 그려본다\n",
    "else:\n",
    "    lastData = np.copy(data)\n",
    "dx = np.copy(lastData)\n",
    "estimate = [dx[-1]]\n",
    "for i in range(nFuture):\n",
    "    # 마지막 nStep 만큼 입력데이로 다음 값을 예측한다\n",
    "    px = dx[-nStep:].reshape(1, nStep, 1)\n",
    "      # 다음 값을 예측한다.\n",
    "    yHat = model.predict(px)[0][0]      \n",
    "    # 예측값을 저장해 둔다\n",
    "    estimate.append(yHat)\n",
    "    # 이전 예측값을 포함하여 또 다음 값을 예측하기위해 예측한 값을 저장해 둔다\n",
    "    dx = np.insert(dx, len(dx), yHat)\n",
    "# Loss history를 그린다\n",
    "plt.figure(figsize=(8, 4))\n",
    "plt.plot(h.history['loss'], color='red')\n",
    "plt.title(\"Loss History\")\n",
    "plt.xlabel(\"epoch\")\n",
    "plt.ylabel(\"loss\")\n",
    "plt.show()\n",
    "\n",
    "# 원 시계열과 예측된 시계열을 그린다\n",
    "ax1 = np.arange(1, len(lastData) + 1)\n",
    "ax2 = np.arange(len(lastData), len(lastData) + len(estimate))\n",
    "plt.figure(figsize=(8, 4))\n",
    "plt.plot(ax1, lastData, 'b-o', color='blue', markersize=3, label='Time series', linewidth=1)\n",
    "plt.plot(ax2, estimate, 'b-o', color='red', markersize=3, label='Estimate')\n",
    "plt.axvline(x=ax1[-1],  linestyle='dashed', linewidth=1)\n",
    "plt.legend()\n",
    "plt.show()\n"
   ]
  },
  {
   "cell_type": "markdown",
   "metadata": {
    "id": "yDtXijtxTP2w"
   },
   "source": [
    "##XGBoost\n"
   ]
  },
  {
   "cell_type": "code",
   "execution_count": null,
   "metadata": {
    "id": "pi_EuT5IVpa-"
   },
   "outputs": [],
   "source": [
    "df=pd.read_excel('/content/drive/MyDrive/기계학습/종합파일.xlsx', index_col=0)\n",
    "df\n",
    "y_train = df['종가']\n",
    "X_train.drop(['종가'],axis=1,inplace=True)"
   ]
  },
  {
   "cell_type": "code",
   "execution_count": 49,
   "metadata": {
    "executionInfo": {
     "elapsed": 411,
     "status": "ok",
     "timestamp": 1654154928046,
     "user": {
      "displayName": "권나은",
      "userId": "06827649815892596464"
     },
     "user_tz": -540
    },
    "id": "xvu79gYGR-CC"
   },
   "outputs": [],
   "source": [
    "#df=df[['종가']]\n",
    "from pandas import DataFrame\n",
    "from pandas import concat\n",
    "from xgboost import XGBRegressor\n",
    "#from pandas_datareader import data as pdr\n",
    "values=df.values\n",
    "days_in=30\n",
    "days_out=1\n",
    "#Supervised Learning으로 변경\n",
    "df=DataFrame(values)\n",
    "raw=[]\n",
    "for i in range(days_in, 0,-1):\n",
    "  raw.append(df.shift(i))\n",
    "for i in range(0, days_out):\n",
    "  raw.append(df.shift(-i))\n",
    "sum=concat(raw, axis=1)\n",
    "sum.dropna(inplace=True)\n",
    "train=sum.values"
   ]
  },
  {
   "cell_type": "code",
   "execution_count": 52,
   "metadata": {
    "colab": {
     "base_uri": "https://localhost:8080/",
     "height": 479
    },
    "executionInfo": {
     "elapsed": 1809,
     "status": "error",
     "timestamp": 1654155250744,
     "user": {
      "displayName": "권나은",
      "userId": "06827649815892596464"
     },
     "user_tz": -540
    },
    "id": "8kg3jbzZTiOP",
    "outputId": "71476eb8-9547-465d-922a-7e37a15a234b"
   },
   "outputs": [
    {
     "ename": "TypeError",
     "evalue": "ignored",
     "output_type": "error",
     "traceback": [
      "\u001b[0;31m---------------------------------------------------------------------------\u001b[0m",
      "\u001b[0;31mTypeError\u001b[0m                                 Traceback (most recent call last)",
      "\u001b[0;32m/usr/local/lib/python3.7/dist-packages/xgboost/core.py\u001b[0m in \u001b[0;36m__init__\u001b[0;34m(self, data, label, missing, weight, silent, feature_names, feature_types, nthread)\u001b[0m\n\u001b[1;32m    408\u001b[0m             \u001b[0;32mtry\u001b[0m\u001b[0;34m:\u001b[0m\u001b[0;34m\u001b[0m\u001b[0;34m\u001b[0m\u001b[0m\n\u001b[0;32m--> 409\u001b[0;31m                 \u001b[0mcsr\u001b[0m \u001b[0;34m=\u001b[0m \u001b[0mscipy\u001b[0m\u001b[0;34m.\u001b[0m\u001b[0msparse\u001b[0m\u001b[0;34m.\u001b[0m\u001b[0mcsr_matrix\u001b[0m\u001b[0;34m(\u001b[0m\u001b[0mdata\u001b[0m\u001b[0;34m)\u001b[0m\u001b[0;34m\u001b[0m\u001b[0;34m\u001b[0m\u001b[0m\n\u001b[0m\u001b[1;32m    410\u001b[0m                 \u001b[0mself\u001b[0m\u001b[0;34m.\u001b[0m\u001b[0m_init_from_csr\u001b[0m\u001b[0;34m(\u001b[0m\u001b[0mcsr\u001b[0m\u001b[0;34m)\u001b[0m\u001b[0;34m\u001b[0m\u001b[0;34m\u001b[0m\u001b[0m\n",
      "\u001b[0;32m/usr/local/lib/python3.7/dist-packages/scipy/sparse/compressed.py\u001b[0m in \u001b[0;36m__init__\u001b[0;34m(self, arg1, shape, dtype, copy)\u001b[0m\n\u001b[1;32m     87\u001b[0m             \u001b[0;32mfrom\u001b[0m \u001b[0;34m.\u001b[0m\u001b[0mcoo\u001b[0m \u001b[0;32mimport\u001b[0m \u001b[0mcoo_matrix\u001b[0m\u001b[0;34m\u001b[0m\u001b[0;34m\u001b[0m\u001b[0m\n\u001b[0;32m---> 88\u001b[0;31m             \u001b[0mself\u001b[0m\u001b[0;34m.\u001b[0m\u001b[0m_set_self\u001b[0m\u001b[0;34m(\u001b[0m\u001b[0mself\u001b[0m\u001b[0;34m.\u001b[0m\u001b[0m__class__\u001b[0m\u001b[0;34m(\u001b[0m\u001b[0mcoo_matrix\u001b[0m\u001b[0;34m(\u001b[0m\u001b[0marg1\u001b[0m\u001b[0;34m,\u001b[0m \u001b[0mdtype\u001b[0m\u001b[0;34m=\u001b[0m\u001b[0mdtype\u001b[0m\u001b[0;34m)\u001b[0m\u001b[0;34m)\u001b[0m\u001b[0;34m)\u001b[0m\u001b[0;34m\u001b[0m\u001b[0;34m\u001b[0m\u001b[0m\n\u001b[0m\u001b[1;32m     89\u001b[0m \u001b[0;34m\u001b[0m\u001b[0m\n",
      "\u001b[0;32m/usr/local/lib/python3.7/dist-packages/scipy/sparse/coo.py\u001b[0m in \u001b[0;36m__init__\u001b[0;34m(self, arg1, shape, dtype, copy)\u001b[0m\n\u001b[1;32m    182\u001b[0m                 \u001b[0;32mif\u001b[0m \u001b[0mM\u001b[0m\u001b[0;34m.\u001b[0m\u001b[0mndim\u001b[0m \u001b[0;34m!=\u001b[0m \u001b[0;36m2\u001b[0m\u001b[0;34m:\u001b[0m\u001b[0;34m\u001b[0m\u001b[0;34m\u001b[0m\u001b[0m\n\u001b[0;32m--> 183\u001b[0;31m                     \u001b[0;32mraise\u001b[0m \u001b[0mTypeError\u001b[0m\u001b[0;34m(\u001b[0m\u001b[0;34m'expected dimension <= 2 array or matrix'\u001b[0m\u001b[0;34m)\u001b[0m\u001b[0;34m\u001b[0m\u001b[0;34m\u001b[0m\u001b[0m\n\u001b[0m\u001b[1;32m    184\u001b[0m \u001b[0;34m\u001b[0m\u001b[0m\n",
      "\u001b[0;31mTypeError\u001b[0m: expected dimension <= 2 array or matrix",
      "\nDuring handling of the above exception, another exception occurred:\n",
      "\u001b[0;31mTypeError\u001b[0m                                 Traceback (most recent call last)",
      "\u001b[0;32m<ipython-input-52-23a3e7a0f80e>\u001b[0m in \u001b[0;36m<module>\u001b[0;34m()\u001b[0m\n\u001b[1;32m      3\u001b[0m \u001b[0mmodel\u001b[0m\u001b[0;34m.\u001b[0m\u001b[0mfit\u001b[0m\u001b[0;34m(\u001b[0m\u001b[0mtrainX\u001b[0m\u001b[0;34m,\u001b[0m \u001b[0mtrainy\u001b[0m\u001b[0;34m)\u001b[0m\u001b[0;34m\u001b[0m\u001b[0;34m\u001b[0m\u001b[0m\n\u001b[1;32m      4\u001b[0m \u001b[0mdata_in\u001b[0m\u001b[0;34m=\u001b[0m\u001b[0mvalues\u001b[0m\u001b[0;34m[\u001b[0m\u001b[0;34m-\u001b[0m\u001b[0;34m(\u001b[0m\u001b[0mdays_in\u001b[0m\u001b[0;34m)\u001b[0m\u001b[0;34m:\u001b[0m\u001b[0;34m]\u001b[0m\u001b[0;34m\u001b[0m\u001b[0;34m\u001b[0m\u001b[0m\n\u001b[0;32m----> 5\u001b[0;31m \u001b[0mresult\u001b[0m\u001b[0;34m=\u001b[0m\u001b[0mmodel\u001b[0m\u001b[0;34m.\u001b[0m\u001b[0mpredict\u001b[0m\u001b[0;34m(\u001b[0m\u001b[0;34m[\u001b[0m\u001b[0mdata_in\u001b[0m\u001b[0;34m]\u001b[0m\u001b[0;34m)\u001b[0m\u001b[0;34m\u001b[0m\u001b[0;34m\u001b[0m\u001b[0m\n\u001b[0m",
      "\u001b[0;32m/usr/local/lib/python3.7/dist-packages/xgboost/sklearn.py\u001b[0m in \u001b[0;36mpredict\u001b[0;34m(self, data, output_margin, ntree_limit, validate_features)\u001b[0m\n\u001b[1;32m    446\u001b[0m         \"\"\"\n\u001b[1;32m    447\u001b[0m         \u001b[0;31m# pylint: disable=missing-docstring,invalid-name\u001b[0m\u001b[0;34m\u001b[0m\u001b[0;34m\u001b[0m\u001b[0;34m\u001b[0m\u001b[0m\n\u001b[0;32m--> 448\u001b[0;31m         \u001b[0mtest_dmatrix\u001b[0m \u001b[0;34m=\u001b[0m \u001b[0mDMatrix\u001b[0m\u001b[0;34m(\u001b[0m\u001b[0mdata\u001b[0m\u001b[0;34m,\u001b[0m \u001b[0mmissing\u001b[0m\u001b[0;34m=\u001b[0m\u001b[0mself\u001b[0m\u001b[0;34m.\u001b[0m\u001b[0mmissing\u001b[0m\u001b[0;34m,\u001b[0m \u001b[0mnthread\u001b[0m\u001b[0;34m=\u001b[0m\u001b[0mself\u001b[0m\u001b[0;34m.\u001b[0m\u001b[0mn_jobs\u001b[0m\u001b[0;34m)\u001b[0m\u001b[0;34m\u001b[0m\u001b[0;34m\u001b[0m\u001b[0m\n\u001b[0m\u001b[1;32m    449\u001b[0m         \u001b[0;31m# get ntree_limit to use - if none specified, default to\u001b[0m\u001b[0;34m\u001b[0m\u001b[0;34m\u001b[0m\u001b[0;34m\u001b[0m\u001b[0m\n\u001b[1;32m    450\u001b[0m         \u001b[0;31m# best_ntree_limit if defined, otherwise 0.\u001b[0m\u001b[0;34m\u001b[0m\u001b[0;34m\u001b[0m\u001b[0;34m\u001b[0m\u001b[0m\n",
      "\u001b[0;32m/usr/local/lib/python3.7/dist-packages/xgboost/core.py\u001b[0m in \u001b[0;36m__init__\u001b[0;34m(self, data, label, missing, weight, silent, feature_names, feature_types, nthread)\u001b[0m\n\u001b[1;32m    411\u001b[0m             \u001b[0;32mexcept\u001b[0m\u001b[0;34m:\u001b[0m\u001b[0;34m\u001b[0m\u001b[0;34m\u001b[0m\u001b[0m\n\u001b[1;32m    412\u001b[0m                 raise TypeError('can not initialize DMatrix from'\n\u001b[0;32m--> 413\u001b[0;31m                                 ' {}'.format(type(data).__name__))\n\u001b[0m\u001b[1;32m    414\u001b[0m \u001b[0;34m\u001b[0m\u001b[0m\n\u001b[1;32m    415\u001b[0m         \u001b[0;32mif\u001b[0m \u001b[0mlabel\u001b[0m \u001b[0;32mis\u001b[0m \u001b[0;32mnot\u001b[0m \u001b[0;32mNone\u001b[0m\u001b[0;34m:\u001b[0m\u001b[0;34m\u001b[0m\u001b[0;34m\u001b[0m\u001b[0m\n",
      "\u001b[0;31mTypeError\u001b[0m: can not initialize DMatrix from list"
     ]
    }
   ],
   "source": [
    "trainX, trainy=train[:,:-1], train[:, -1]\n",
    "model=XGBRegressor(objective='reg:squarederror', n_estimators=80)\n",
    "model.fit(trainX, trainy)\n",
    "data_in=values[-(days_in):]\n",
    "result=model.predict([data_in])"
   ]
  },
  {
   "cell_type": "markdown",
   "metadata": {
    "id": "3ECBznKBYPB8"
   },
   "source": [
    "##ARIMA"
   ]
  },
  {
   "cell_type": "code",
   "execution_count": 57,
   "metadata": {
    "colab": {
     "base_uri": "https://localhost:8080/",
     "height": 206
    },
    "executionInfo": {
     "elapsed": 2856,
     "status": "ok",
     "timestamp": 1654156078849,
     "user": {
      "displayName": "권나은",
      "userId": "06827649815892596464"
     },
     "user_tz": -540
    },
    "id": "CU7aE_o_TiiX",
    "outputId": "66031bf5-de7e-4c99-b89d-c436539dda68"
   },
   "outputs": [
    {
     "data": {
      "text/html": [
       "\n",
       "  <div id=\"df-01c16efc-d4d8-4019-9e9d-978ba9ffdbd8\">\n",
       "    <div class=\"colab-df-container\">\n",
       "      <div>\n",
       "<style scoped>\n",
       "    .dataframe tbody tr th:only-of-type {\n",
       "        vertical-align: middle;\n",
       "    }\n",
       "\n",
       "    .dataframe tbody tr th {\n",
       "        vertical-align: top;\n",
       "    }\n",
       "\n",
       "    .dataframe thead th {\n",
       "        text-align: right;\n",
       "    }\n",
       "</style>\n",
       "<table border=\"1\" class=\"dataframe\">\n",
       "  <thead>\n",
       "    <tr style=\"text-align: right;\">\n",
       "      <th></th>\n",
       "      <th>ds</th>\n",
       "      <th>y</th>\n",
       "    </tr>\n",
       "  </thead>\n",
       "  <tbody>\n",
       "    <tr>\n",
       "      <th>0</th>\n",
       "      <td>1983-03-31</td>\n",
       "      <td>29.27</td>\n",
       "    </tr>\n",
       "    <tr>\n",
       "      <th>1</th>\n",
       "      <td>1983-04-04</td>\n",
       "      <td>29.44</td>\n",
       "    </tr>\n",
       "    <tr>\n",
       "      <th>2</th>\n",
       "      <td>1983-04-05</td>\n",
       "      <td>29.71</td>\n",
       "    </tr>\n",
       "    <tr>\n",
       "      <th>3</th>\n",
       "      <td>1983-04-06</td>\n",
       "      <td>29.90</td>\n",
       "    </tr>\n",
       "    <tr>\n",
       "      <th>4</th>\n",
       "      <td>1983-04-07</td>\n",
       "      <td>30.17</td>\n",
       "    </tr>\n",
       "  </tbody>\n",
       "</table>\n",
       "</div>\n",
       "      <button class=\"colab-df-convert\" onclick=\"convertToInteractive('df-01c16efc-d4d8-4019-9e9d-978ba9ffdbd8')\"\n",
       "              title=\"Convert this dataframe to an interactive table.\"\n",
       "              style=\"display:none;\">\n",
       "        \n",
       "  <svg xmlns=\"http://www.w3.org/2000/svg\" height=\"24px\"viewBox=\"0 0 24 24\"\n",
       "       width=\"24px\">\n",
       "    <path d=\"M0 0h24v24H0V0z\" fill=\"none\"/>\n",
       "    <path d=\"M18.56 5.44l.94 2.06.94-2.06 2.06-.94-2.06-.94-.94-2.06-.94 2.06-2.06.94zm-11 1L8.5 8.5l.94-2.06 2.06-.94-2.06-.94L8.5 2.5l-.94 2.06-2.06.94zm10 10l.94 2.06.94-2.06 2.06-.94-2.06-.94-.94-2.06-.94 2.06-2.06.94z\"/><path d=\"M17.41 7.96l-1.37-1.37c-.4-.4-.92-.59-1.43-.59-.52 0-1.04.2-1.43.59L10.3 9.45l-7.72 7.72c-.78.78-.78 2.05 0 2.83L4 21.41c.39.39.9.59 1.41.59.51 0 1.02-.2 1.41-.59l7.78-7.78 2.81-2.81c.8-.78.8-2.07 0-2.86zM5.41 20L4 18.59l7.72-7.72 1.47 1.35L5.41 20z\"/>\n",
       "  </svg>\n",
       "      </button>\n",
       "      \n",
       "  <style>\n",
       "    .colab-df-container {\n",
       "      display:flex;\n",
       "      flex-wrap:wrap;\n",
       "      gap: 12px;\n",
       "    }\n",
       "\n",
       "    .colab-df-convert {\n",
       "      background-color: #E8F0FE;\n",
       "      border: none;\n",
       "      border-radius: 50%;\n",
       "      cursor: pointer;\n",
       "      display: none;\n",
       "      fill: #1967D2;\n",
       "      height: 32px;\n",
       "      padding: 0 0 0 0;\n",
       "      width: 32px;\n",
       "    }\n",
       "\n",
       "    .colab-df-convert:hover {\n",
       "      background-color: #E2EBFA;\n",
       "      box-shadow: 0px 1px 2px rgba(60, 64, 67, 0.3), 0px 1px 3px 1px rgba(60, 64, 67, 0.15);\n",
       "      fill: #174EA6;\n",
       "    }\n",
       "\n",
       "    [theme=dark] .colab-df-convert {\n",
       "      background-color: #3B4455;\n",
       "      fill: #D2E3FC;\n",
       "    }\n",
       "\n",
       "    [theme=dark] .colab-df-convert:hover {\n",
       "      background-color: #434B5C;\n",
       "      box-shadow: 0px 1px 3px 1px rgba(0, 0, 0, 0.15);\n",
       "      filter: drop-shadow(0px 1px 2px rgba(0, 0, 0, 0.3));\n",
       "      fill: #FFFFFF;\n",
       "    }\n",
       "  </style>\n",
       "\n",
       "      <script>\n",
       "        const buttonEl =\n",
       "          document.querySelector('#df-01c16efc-d4d8-4019-9e9d-978ba9ffdbd8 button.colab-df-convert');\n",
       "        buttonEl.style.display =\n",
       "          google.colab.kernel.accessAllowed ? 'block' : 'none';\n",
       "\n",
       "        async function convertToInteractive(key) {\n",
       "          const element = document.querySelector('#df-01c16efc-d4d8-4019-9e9d-978ba9ffdbd8');\n",
       "          const dataTable =\n",
       "            await google.colab.kernel.invokeFunction('convertToInteractive',\n",
       "                                                     [key], {});\n",
       "          if (!dataTable) return;\n",
       "\n",
       "          const docLinkHtml = 'Like what you see? Visit the ' +\n",
       "            '<a target=\"_blank\" href=https://colab.research.google.com/notebooks/data_table.ipynb>data table notebook</a>'\n",
       "            + ' to learn more about interactive tables.';\n",
       "          element.innerHTML = '';\n",
       "          dataTable['output_type'] = 'display_data';\n",
       "          await google.colab.output.renderOutput(dataTable, element);\n",
       "          const docLink = document.createElement('div');\n",
       "          docLink.innerHTML = docLinkHtml;\n",
       "          element.appendChild(docLink);\n",
       "        }\n",
       "      </script>\n",
       "    </div>\n",
       "  </div>\n",
       "  "
      ],
      "text/plain": [
       "          ds      y\n",
       "0 1983-03-31  29.27\n",
       "1 1983-04-04  29.44\n",
       "2 1983-04-05  29.71\n",
       "3 1983-04-06  29.90\n",
       "4 1983-04-07  30.17"
      ]
     },
     "execution_count": 57,
     "metadata": {},
     "output_type": "execute_result"
    }
   ],
   "source": [
    "import numpy as np\n",
    "import pandas as pd\n",
    "import matplotlib.pyplot as plt\n",
    "df=pd.read_excel('/content/drive/MyDrive/기계학습/종합파일.xlsx', index_col=0)\n",
    "df\n",
    "df=df[['날짜','종가']]\n",
    "df.columns = [\"ds\",\"y\"]\n",
    "df.head()"
   ]
  },
  {
   "cell_type": "code",
   "execution_count": 59,
   "metadata": {
    "colab": {
     "base_uri": "https://localhost:8080/",
     "height": 424
    },
    "executionInfo": {
     "elapsed": 315,
     "status": "ok",
     "timestamp": 1654156119195,
     "user": {
      "displayName": "권나은",
      "userId": "06827649815892596464"
     },
     "user_tz": -540
    },
    "id": "KHJMZ297YzhI",
    "outputId": "4de73b8e-05e2-484c-a390-860916378b17"
   },
   "outputs": [
    {
     "data": {
      "text/html": [
       "\n",
       "  <div id=\"df-30129fa1-d433-44c3-9acc-c3232b77872b\">\n",
       "    <div class=\"colab-df-container\">\n",
       "      <div>\n",
       "<style scoped>\n",
       "    .dataframe tbody tr th:only-of-type {\n",
       "        vertical-align: middle;\n",
       "    }\n",
       "\n",
       "    .dataframe tbody tr th {\n",
       "        vertical-align: top;\n",
       "    }\n",
       "\n",
       "    .dataframe thead th {\n",
       "        text-align: right;\n",
       "    }\n",
       "</style>\n",
       "<table border=\"1\" class=\"dataframe\">\n",
       "  <thead>\n",
       "    <tr style=\"text-align: right;\">\n",
       "      <th></th>\n",
       "      <th>ds</th>\n",
       "      <th>y</th>\n",
       "    </tr>\n",
       "  </thead>\n",
       "  <tbody>\n",
       "    <tr>\n",
       "      <th>0</th>\n",
       "      <td>1983-03-31</td>\n",
       "      <td>29.27</td>\n",
       "    </tr>\n",
       "    <tr>\n",
       "      <th>1</th>\n",
       "      <td>1983-04-04</td>\n",
       "      <td>29.44</td>\n",
       "    </tr>\n",
       "    <tr>\n",
       "      <th>2</th>\n",
       "      <td>1983-04-05</td>\n",
       "      <td>29.71</td>\n",
       "    </tr>\n",
       "    <tr>\n",
       "      <th>3</th>\n",
       "      <td>1983-04-06</td>\n",
       "      <td>29.90</td>\n",
       "    </tr>\n",
       "    <tr>\n",
       "      <th>4</th>\n",
       "      <td>1983-04-07</td>\n",
       "      <td>30.17</td>\n",
       "    </tr>\n",
       "    <tr>\n",
       "      <th>...</th>\n",
       "      <td>...</td>\n",
       "      <td>...</td>\n",
       "    </tr>\n",
       "    <tr>\n",
       "      <th>9928</th>\n",
       "      <td>2022-05-18</td>\n",
       "      <td>109.59</td>\n",
       "    </tr>\n",
       "    <tr>\n",
       "      <th>9929</th>\n",
       "      <td>2022-05-19</td>\n",
       "      <td>112.21</td>\n",
       "    </tr>\n",
       "    <tr>\n",
       "      <th>9930</th>\n",
       "      <td>2022-05-20</td>\n",
       "      <td>113.23</td>\n",
       "    </tr>\n",
       "    <tr>\n",
       "      <th>9931</th>\n",
       "      <td>2022-05-22</td>\n",
       "      <td>110.31</td>\n",
       "    </tr>\n",
       "    <tr>\n",
       "      <th>9932</th>\n",
       "      <td>2022-05-23</td>\n",
       "      <td>111.09</td>\n",
       "    </tr>\n",
       "  </tbody>\n",
       "</table>\n",
       "<p>9933 rows × 2 columns</p>\n",
       "</div>\n",
       "      <button class=\"colab-df-convert\" onclick=\"convertToInteractive('df-30129fa1-d433-44c3-9acc-c3232b77872b')\"\n",
       "              title=\"Convert this dataframe to an interactive table.\"\n",
       "              style=\"display:none;\">\n",
       "        \n",
       "  <svg xmlns=\"http://www.w3.org/2000/svg\" height=\"24px\"viewBox=\"0 0 24 24\"\n",
       "       width=\"24px\">\n",
       "    <path d=\"M0 0h24v24H0V0z\" fill=\"none\"/>\n",
       "    <path d=\"M18.56 5.44l.94 2.06.94-2.06 2.06-.94-2.06-.94-.94-2.06-.94 2.06-2.06.94zm-11 1L8.5 8.5l.94-2.06 2.06-.94-2.06-.94L8.5 2.5l-.94 2.06-2.06.94zm10 10l.94 2.06.94-2.06 2.06-.94-2.06-.94-.94-2.06-.94 2.06-2.06.94z\"/><path d=\"M17.41 7.96l-1.37-1.37c-.4-.4-.92-.59-1.43-.59-.52 0-1.04.2-1.43.59L10.3 9.45l-7.72 7.72c-.78.78-.78 2.05 0 2.83L4 21.41c.39.39.9.59 1.41.59.51 0 1.02-.2 1.41-.59l7.78-7.78 2.81-2.81c.8-.78.8-2.07 0-2.86zM5.41 20L4 18.59l7.72-7.72 1.47 1.35L5.41 20z\"/>\n",
       "  </svg>\n",
       "      </button>\n",
       "      \n",
       "  <style>\n",
       "    .colab-df-container {\n",
       "      display:flex;\n",
       "      flex-wrap:wrap;\n",
       "      gap: 12px;\n",
       "    }\n",
       "\n",
       "    .colab-df-convert {\n",
       "      background-color: #E8F0FE;\n",
       "      border: none;\n",
       "      border-radius: 50%;\n",
       "      cursor: pointer;\n",
       "      display: none;\n",
       "      fill: #1967D2;\n",
       "      height: 32px;\n",
       "      padding: 0 0 0 0;\n",
       "      width: 32px;\n",
       "    }\n",
       "\n",
       "    .colab-df-convert:hover {\n",
       "      background-color: #E2EBFA;\n",
       "      box-shadow: 0px 1px 2px rgba(60, 64, 67, 0.3), 0px 1px 3px 1px rgba(60, 64, 67, 0.15);\n",
       "      fill: #174EA6;\n",
       "    }\n",
       "\n",
       "    [theme=dark] .colab-df-convert {\n",
       "      background-color: #3B4455;\n",
       "      fill: #D2E3FC;\n",
       "    }\n",
       "\n",
       "    [theme=dark] .colab-df-convert:hover {\n",
       "      background-color: #434B5C;\n",
       "      box-shadow: 0px 1px 3px 1px rgba(0, 0, 0, 0.15);\n",
       "      filter: drop-shadow(0px 1px 2px rgba(0, 0, 0, 0.3));\n",
       "      fill: #FFFFFF;\n",
       "    }\n",
       "  </style>\n",
       "\n",
       "      <script>\n",
       "        const buttonEl =\n",
       "          document.querySelector('#df-30129fa1-d433-44c3-9acc-c3232b77872b button.colab-df-convert');\n",
       "        buttonEl.style.display =\n",
       "          google.colab.kernel.accessAllowed ? 'block' : 'none';\n",
       "\n",
       "        async function convertToInteractive(key) {\n",
       "          const element = document.querySelector('#df-30129fa1-d433-44c3-9acc-c3232b77872b');\n",
       "          const dataTable =\n",
       "            await google.colab.kernel.invokeFunction('convertToInteractive',\n",
       "                                                     [key], {});\n",
       "          if (!dataTable) return;\n",
       "\n",
       "          const docLinkHtml = 'Like what you see? Visit the ' +\n",
       "            '<a target=\"_blank\" href=https://colab.research.google.com/notebooks/data_table.ipynb>data table notebook</a>'\n",
       "            + ' to learn more about interactive tables.';\n",
       "          element.innerHTML = '';\n",
       "          dataTable['output_type'] = 'display_data';\n",
       "          await google.colab.output.renderOutput(dataTable, element);\n",
       "          const docLink = document.createElement('div');\n",
       "          docLink.innerHTML = docLinkHtml;\n",
       "          element.appendChild(docLink);\n",
       "        }\n",
       "      </script>\n",
       "    </div>\n",
       "  </div>\n",
       "  "
      ],
      "text/plain": [
       "             ds       y\n",
       "0    1983-03-31   29.27\n",
       "1    1983-04-04   29.44\n",
       "2    1983-04-05   29.71\n",
       "3    1983-04-06   29.90\n",
       "4    1983-04-07   30.17\n",
       "...         ...     ...\n",
       "9928 2022-05-18  109.59\n",
       "9929 2022-05-19  112.21\n",
       "9930 2022-05-20  113.23\n",
       "9931 2022-05-22  110.31\n",
       "9932 2022-05-23  111.09\n",
       "\n",
       "[9933 rows x 2 columns]"
      ]
     },
     "execution_count": 59,
     "metadata": {},
     "output_type": "execute_result"
    }
   ],
   "source": [
    "df"
   ]
  },
  {
   "cell_type": "code",
   "execution_count": 58,
   "metadata": {
    "colab": {
     "base_uri": "https://localhost:8080/",
     "height": 283
    },
    "executionInfo": {
     "elapsed": 966,
     "status": "ok",
     "timestamp": 1654156096131,
     "user": {
      "displayName": "권나은",
      "userId": "06827649815892596464"
     },
     "user_tz": -540
    },
    "id": "fE0536EBYOOo",
    "outputId": "156b7961-4c56-4562-ba83-478c49e1fa4e"
   },
   "outputs": [
    {
     "data": {
      "image/png": "[encoded data removed]",
      "text/plain": [
       "<Figure size 1440x360 with 1 Axes>"
      ]
     },
     "metadata": {
      "needs_background": "light"
     },
     "output_type": "display_data"
    }
   ],
   "source": [
    "plt.figure(figsize=(20,5))\n",
    "plt.plot(range(len(df[\"ds\"])), df[\"y\"])\n",
    "plt.show()"
   ]
  },
  {
   "cell_type": "code",
   "execution_count": 60,
   "metadata": {
    "executionInfo": {
     "elapsed": 325,
     "status": "ok",
     "timestamp": 1654156131600,
     "user": {
      "displayName": "권나은",
      "userId": "06827649815892596464"
     },
     "user_tz": -540
    },
    "id": "UklYbWLEYkP-"
   },
   "outputs": [],
   "source": [
    "df_train = df.iloc[:-2000]"
   ]
  },
  {
   "cell_type": "code",
   "execution_count": 63,
   "metadata": {
    "colab": {
     "base_uri": "https://localhost:8080/",
     "height": 413
    },
    "executionInfo": {
     "elapsed": 2947,
     "status": "ok",
     "timestamp": 1654156201060,
     "user": {
      "displayName": "권나은",
      "userId": "06827649815892596464"
     },
     "user_tz": -540
    },
    "id": "bnFEWb3eY3jm",
    "outputId": "e050068d-46a5-4ea7-d9d7-02e027c88a18"
   },
   "outputs": [
    {
     "data": {
      "text/plain": [
       "<Figure size 432x288 with 0 Axes>"
      ]
     },
     "metadata": {},
     "output_type": "display_data"
    },
    {
     "data": {
      "image/png": "[encoded data removed]",
      "text/plain": [
       "<Figure size 1440x504 with 4 Axes>"
      ]
     },
     "metadata": {
      "needs_background": "light"
     },
     "output_type": "display_data"
    }
   ],
   "source": [
    "from statsmodels.tsa.seasonal import seasonal_decompose\n",
    "result = seasonal_decompose(df_train[\"y\"], model=\"additive\", freq=12)\n",
    "fig = plt.figure()\n",
    "fig = result.plot()\n",
    "fig.set_size_inches(20,7)\n",
    "plt.show()"
   ]
  },
  {
   "cell_type": "code",
   "execution_count": 64,
   "metadata": {
    "colab": {
     "base_uri": "https://localhost:8080/",
     "height": 498
    },
    "executionInfo": {
     "elapsed": 852,
     "status": "ok",
     "timestamp": 1654156222156,
     "user": {
      "displayName": "권나은",
      "userId": "06827649815892596464"
     },
     "user_tz": -540
    },
    "id": "GnFgZ0JgY4cS",
    "outputId": "8765b58b-2436-41a1-dc36-439a5a2d5902"
   },
   "outputs": [
    {
     "data": {
      "image/png": "[encoded data removed]",
      "text/plain": [
       "<Figure size 1440x576 with 1 Axes>"
      ]
     },
     "metadata": {
      "needs_background": "light"
     },
     "output_type": "display_data"
    },
    {
     "data": {
      "image/png": "[encoded data removed]",
      "text/plain": [
       "<Figure size 1440x576 with 1 Axes>"
      ]
     },
     "metadata": {
      "needs_background": "light"
     },
     "output_type": "display_data"
    }
   ],
   "source": [
    "import statsmodels.api as sm\n",
    "fig = plt.figure(figsize=(20,8))\n",
    "ax1 = fig.add_subplot(211)\n",
    "fig = sm.graphics.tsa.plot_acf(df_train[\"y\"], lags=20, ax=ax1)\n",
    "\n",
    "fig = plt.figure(figsize=(20,8))\n",
    "ax1 = fig.add_subplot(212)\n",
    "fig = sm.graphics.tsa.plot_pacf(df_train[\"y\"], lags=20, ax=ax1)"
   ]
  },
  {
   "cell_type": "markdown",
   "metadata": {
    "id": "biN3sKJXZS6L"
   },
   "source": [
    "q=0,p=1"
   ]
  },
  {
   "cell_type": "code",
   "execution_count": 66,
   "metadata": {
    "executionInfo": {
     "elapsed": 387,
     "status": "ok",
     "timestamp": 1654156473902,
     "user": {
      "displayName": "권나은",
      "userId": "06827649815892596464"
     },
     "user_tz": -540
    },
    "id": "A9zob_MlZNiz"
   },
   "outputs": [],
   "source": [
    "from statsmodels.tsa.arima_model import ARIMA\n",
    "from statsmodels.tsa.statespace.sarimax import SARIMAX\n",
    "import itertools\n",
    "from tqdm import tqdm"
   ]
  },
  {
   "cell_type": "code",
   "execution_count": 67,
   "metadata": {
    "colab": {
     "base_uri": "https://localhost:8080/"
    },
    "executionInfo": {
     "elapsed": 41234,
     "status": "ok",
     "timestamp": 1654156527170,
     "user": {
      "displayName": "권나은",
      "userId": "06827649815892596464"
     },
     "user_tz": -540
    },
    "id": "RoOi8Q75aExu",
    "outputId": "27726ddc-9eee-48c5-877d-20cb4114d368"
   },
   "outputs": [
    {
     "name": "stderr",
     "output_type": "stream",
     "text": [
      " 83%|████████▎ | 15/18 [00:21<00:05,  1.81s/it]/usr/local/lib/python3.7/dist-packages/statsmodels/base/model.py:512: ConvergenceWarning: Maximum Likelihood optimization failed to converge. Check mle_retvals\n",
      "  \"Check mle_retvals\", ConvergenceWarning)\n",
      "100%|██████████| 18/18 [00:40<00:00,  2.27s/it]\n"
     ]
    }
   ],
   "source": [
    "p = range(0,3)\n",
    "d = range(1,2)\n",
    "q = range(0,6)\n",
    "\n",
    "pdq = list(itertools.product(p,d,q))\n",
    "\n",
    "aic = []\n",
    "params = []\n",
    "\n",
    "with tqdm(total = len(pdq)) as pg:\n",
    "    for i in pdq:\n",
    "        pg.update(1)\n",
    "        try:\n",
    "            model = SARIMAX(df_train[\"y\"], order=(i))\n",
    "            model_fit = model.fit()\n",
    "            aic.append(round(model_fit.aic,2))\n",
    "            params.append((i))\n",
    "        except:\n",
    "            continue"
   ]
  },
  {
   "cell_type": "markdown",
   "metadata": {
    "id": "am7tX0C8aun0"
   },
   "source": [
    "## 최적의 파라미터 (2,1,2)"
   ]
  },
  {
   "cell_type": "code",
   "execution_count": 68,
   "metadata": {
    "colab": {
     "base_uri": "https://localhost:8080/",
     "height": 425
    },
    "executionInfo": {
     "elapsed": 8718,
     "status": "ok",
     "timestamp": 1654156586852,
     "user": {
      "displayName": "권나은",
      "userId": "06827649815892596464"
     },
     "user_tz": -540
    },
    "id": "4_GXfZfYaOJy",
    "outputId": "c512bfc4-797d-4fdf-d624-131ae65d6816"
   },
   "outputs": [
    {
     "data": {
      "text/html": [
       "<table class=\"simpletable\">\n",
       "<caption>ARIMA Model Results</caption>\n",
       "<tr>\n",
       "  <th>Dep. Variable:</th>        <td>D.y</td>       <th>  No. Observations:  </th>    <td>7932</td>   \n",
       "</tr>\n",
       "<tr>\n",
       "  <th>Model:</th>          <td>ARIMA(2, 1, 2)</td>  <th>  Log Likelihood     </th> <td>-11765.492</td>\n",
       "</tr>\n",
       "<tr>\n",
       "  <th>Method:</th>             <td>css-mle</td>     <th>  S.D. of innovations</th>    <td>1.066</td>  \n",
       "</tr>\n",
       "<tr>\n",
       "  <th>Date:</th>          <td>Thu, 02 Jun 2022</td> <th>  AIC                </th>  <td>23542.984</td>\n",
       "</tr>\n",
       "<tr>\n",
       "  <th>Time:</th>              <td>07:56:25</td>     <th>  BIC                </th>  <td>23584.856</td>\n",
       "</tr>\n",
       "<tr>\n",
       "  <th>Sample:</th>                <td>1</td>        <th>  HQIC               </th>  <td>23557.322</td>\n",
       "</tr>\n",
       "<tr>\n",
       "  <th></th>                       <td> </td>        <th>                     </th>      <td> </td>    \n",
       "</tr>\n",
       "</table>\n",
       "<table class=\"simpletable\">\n",
       "<tr>\n",
       "      <td></td>         <th>coef</th>     <th>std err</th>      <th>z</th>      <th>P>|z|</th>  <th>[0.025</th>    <th>0.975]</th>  \n",
       "</tr>\n",
       "<tr>\n",
       "  <th>const</th>     <td>    0.0067</td> <td>    0.012</td> <td>    0.571</td> <td> 0.568</td> <td>   -0.016</td> <td>    0.030</td>\n",
       "</tr>\n",
       "<tr>\n",
       "  <th>ar.L1.D.y</th> <td>    0.0661</td> <td>    0.025</td> <td>    2.610</td> <td> 0.009</td> <td>    0.016</td> <td>    0.116</td>\n",
       "</tr>\n",
       "<tr>\n",
       "  <th>ar.L2.D.y</th> <td>   -0.9561</td> <td>    0.012</td> <td>  -79.602</td> <td> 0.000</td> <td>   -0.980</td> <td>   -0.933</td>\n",
       "</tr>\n",
       "<tr>\n",
       "  <th>ma.L1.D.y</th> <td>   -0.0884</td> <td>    0.025</td> <td>   -3.500</td> <td> 0.000</td> <td>   -0.138</td> <td>   -0.039</td>\n",
       "</tr>\n",
       "<tr>\n",
       "  <th>ma.L2.D.y</th> <td>    0.9518</td> <td>    0.016</td> <td>   58.486</td> <td> 0.000</td> <td>    0.920</td> <td>    0.984</td>\n",
       "</tr>\n",
       "</table>\n",
       "<table class=\"simpletable\">\n",
       "<caption>Roots</caption>\n",
       "<tr>\n",
       "    <td></td>   <th>            Real</th>  <th>         Imaginary</th> <th>         Modulus</th>  <th>        Frequency</th>\n",
       "</tr>\n",
       "<tr>\n",
       "  <th>AR.1</th> <td>           0.0346</td> <td>          -1.0221j</td> <td>           1.0227</td> <td>          -0.2446</td>\n",
       "</tr>\n",
       "<tr>\n",
       "  <th>AR.2</th> <td>           0.0346</td> <td>          +1.0221j</td> <td>           1.0227</td> <td>           0.2446</td>\n",
       "</tr>\n",
       "<tr>\n",
       "  <th>MA.1</th> <td>           0.0465</td> <td>          -1.0240j</td> <td>           1.0250</td> <td>          -0.2428</td>\n",
       "</tr>\n",
       "<tr>\n",
       "  <th>MA.2</th> <td>           0.0465</td> <td>          +1.0240j</td> <td>           1.0250</td> <td>           0.2428</td>\n",
       "</tr>\n",
       "</table>"
      ],
      "text/plain": [
       "<class 'statsmodels.iolib.summary.Summary'>\n",
       "\"\"\"\n",
       "                             ARIMA Model Results                              \n",
       "==============================================================================\n",
       "Dep. Variable:                    D.y   No. Observations:                 7932\n",
       "Model:                 ARIMA(2, 1, 2)   Log Likelihood              -11765.492\n",
       "Method:                       css-mle   S.D. of innovations              1.066\n",
       "Date:                Thu, 02 Jun 2022   AIC                          23542.984\n",
       "Time:                        07:56:25   BIC                          23584.856\n",
       "Sample:                             1   HQIC                         23557.322\n",
       "                                                                              \n",
       "==============================================================================\n",
       "                 coef    std err          z      P>|z|      [0.025      0.975]\n",
       "------------------------------------------------------------------------------\n",
       "const          0.0067      0.012      0.571      0.568      -0.016       0.030\n",
       "ar.L1.D.y      0.0661      0.025      2.610      0.009       0.016       0.116\n",
       "ar.L2.D.y     -0.9561      0.012    -79.602      0.000      -0.980      -0.933\n",
       "ma.L1.D.y     -0.0884      0.025     -3.500      0.000      -0.138      -0.039\n",
       "ma.L2.D.y      0.9518      0.016     58.486      0.000       0.920       0.984\n",
       "                                    Roots                                    \n",
       "=============================================================================\n",
       "                  Real          Imaginary           Modulus         Frequency\n",
       "-----------------------------------------------------------------------------\n",
       "AR.1            0.0346           -1.0221j            1.0227           -0.2446\n",
       "AR.2            0.0346           +1.0221j            1.0227            0.2446\n",
       "MA.1            0.0465           -1.0240j            1.0250           -0.2428\n",
       "MA.2            0.0465           +1.0240j            1.0250            0.2428\n",
       "-----------------------------------------------------------------------------\n",
       "\"\"\""
      ]
     },
     "execution_count": 68,
     "metadata": {},
     "output_type": "execute_result"
    }
   ],
   "source": [
    "optimal = [(params[i],j) for i,j in enumerate(aic) if j == min(aic)]\n",
    "model_opt = ARIMA(df_train[\"y\"], order = optimal[0][0])\n",
    "model_opt_fit = model_opt.fit()\n",
    "model_opt_fit.summary()"
   ]
  },
  {
   "cell_type": "code",
   "execution_count": null,
   "metadata": {
    "id": "xNKEEPExa4pO"
   },
   "outputs": [],
   "source": []
  },
  {
   "cell_type": "markdown",
   "metadata": {
    "id": "NHRvLcbbcGxe"
   },
   "source": [
    "##LSTM"
   ]
  },
  {
   "cell_type": "code",
   "execution_count": 90,
   "metadata": {
    "executionInfo": {
     "elapsed": 1310,
     "status": "ok",
     "timestamp": 1654158832625,
     "user": {
      "displayName": "권나은",
      "userId": "06827649815892596464"
     },
     "user_tz": -540
    },
    "id": "g2AaRjG2cJ5Q"
   },
   "outputs": [],
   "source": [
    "import numpy as np\n",
    "import pandas as pd\n",
    "import matplotlib.pyplot as plt\n",
    "df=pd.read_excel('/content/drive/MyDrive/기계학습/종합파일.xlsx', index_col=0)\n",
    "df\n",
    "df=df[['날짜','종가']]\n",
    "from sklearn.preprocessing import MinMaxScaler\n",
    "min_max_scaler = MinMaxScaler()\n",
    "df['종가']= min_max_scaler.fit_transform(df[\"종가\"].to_numpy().reshape(-1,1))"
   ]
  },
  {
   "cell_type": "code",
   "execution_count": 96,
   "metadata": {
    "executionInfo": {
     "elapsed": 272,
     "status": "ok",
     "timestamp": 1654158889265,
     "user": {
      "displayName": "권나은",
      "userId": "06827649815892596464"
     },
     "user_tz": -540
    },
    "id": "507VsFYScbnU"
   },
   "outputs": [],
   "source": [
    "train = df[:-1000]\n",
    "train = train[\"종가\"].to_numpy()\n",
    "\n",
    "test = df[-1000:]\n",
    "test = test[\"종가\"].to_numpy()"
   ]
  },
  {
   "cell_type": "code",
   "execution_count": 101,
   "metadata": {
    "colab": {
     "base_uri": "https://localhost:8080/"
    },
    "executionInfo": {
     "elapsed": 286,
     "status": "ok",
     "timestamp": 1654158964475,
     "user": {
      "displayName": "권나은",
      "userId": "06827649815892596464"
     },
     "user_tz": -540
    },
    "id": "xCi0hqX_jaYm",
    "outputId": "ed22044f-05d7-4f58-b530-0618a2001639"
   },
   "outputs": [
    {
     "data": {
      "text/plain": [
       "1000"
      ]
     },
     "execution_count": 101,
     "metadata": {},
     "output_type": "execute_result"
    }
   ],
   "source": [
    "test.size"
   ]
  },
  {
   "cell_type": "code",
   "execution_count": 104,
   "metadata": {
    "executionInfo": {
     "elapsed": 369,
     "status": "ok",
     "timestamp": 1654159006475,
     "user": {
      "displayName": "권나은",
      "userId": "06827649815892596464"
     },
     "user_tz": -540
    },
    "id": "vOcYk8W0cmPa"
   },
   "outputs": [],
   "source": [
    "from torch.utils.data import DataLoader, Dataset\n",
    "\n",
    "class windowDataset(Dataset):\n",
    "    def __init__(self, y, input_window, output_window, stride=1):\n",
    "        #총 데이터의 개수\n",
    "        L = y.shape[0]\n",
    "        #stride씩 움직일 때 생기는 총 sample의 개수\n",
    "        num_samples = (L - input_window - output_window) // stride + 1\n",
    "\n",
    "        #input과 output : shape = (window 크기, sample 개수)\n",
    "        X = np.zeros([input_window, num_samples])\n",
    "        Y = np.zeros([output_window, num_samples])\n",
    "\n",
    "        for i in np.arange(num_samples):\n",
    "            start_x = stride*i\n",
    "            end_x = start_x + input_window\n",
    "            X[:,i] = y[start_x:end_x]\n",
    "\n",
    "            start_y = stride*i + input_window\n",
    "            end_y = start_y + output_window\n",
    "            Y[:,i] = y[start_y:end_y]\n",
    "\n",
    "        X = X.reshape(X.shape[0], X.shape[1], 1).transpose((1,0,2))\n",
    "        Y = Y.reshape(Y.shape[0], Y.shape[1], 1).transpose((1,0,2))\n",
    "        self.x = X\n",
    "        self.y = Y\n",
    "        \n",
    "        self.len = len(X)\n",
    "    def __getitem__(self, i):\n",
    "        return self.x[i], self.y[i]\n",
    "    def __len__(self):\n",
    "        return self.len"
   ]
  },
  {
   "cell_type": "code",
   "execution_count": 105,
   "metadata": {
    "executionInfo": {
     "elapsed": 397,
     "status": "ok",
     "timestamp": 1654159008021,
     "user": {
      "displayName": "권나은",
      "userId": "06827649815892596464"
     },
     "user_tz": -540
    },
    "id": "TyJABQMRcpbG"
   },
   "outputs": [],
   "source": [
    "iw = 2000\n",
    "ow = 1000\n",
    "\n",
    "train_dataset = windowDataset(train, input_window=iw, output_window=ow, stride=1)\n",
    "train_loader = DataLoader(train_dataset, batch_size=64)"
   ]
  },
  {
   "cell_type": "code",
   "execution_count": 106,
   "metadata": {
    "executionInfo": {
     "elapsed": 4,
     "status": "ok",
     "timestamp": 1654159008022,
     "user": {
      "displayName": "권나은",
      "userId": "06827649815892596464"
     },
     "user_tz": -540
    },
    "id": "Ed6BVtpmcxKJ"
   },
   "outputs": [],
   "source": [
    "import torch\n",
    "import torch.nn as nn\n",
    "class lstm_encoder(nn.Module):\n",
    "    def __init__(self, input_size, hidden_size, num_layers = 1):\n",
    "        super(lstm_encoder, self).__init__()\n",
    "        self.input_size = input_size\n",
    "        self.hidden_size = hidden_size\n",
    "        self.num_layers = num_layers\n",
    "\n",
    "        self.lstm = nn.LSTM(input_size = input_size, hidden_size = hidden_size, num_layers = num_layers, batch_first=True)\n",
    "\n",
    "    def forward(self, x_input):\n",
    "        lstm_out, self.hidden = self.lstm(x_input)\n",
    "        return lstm_out, self.hidden"
   ]
  },
  {
   "cell_type": "code",
   "execution_count": 107,
   "metadata": {
    "executionInfo": {
     "elapsed": 4,
     "status": "ok",
     "timestamp": 1654159009166,
     "user": {
      "displayName": "권나은",
      "userId": "06827649815892596464"
     },
     "user_tz": -540
    },
    "id": "gK79Lcclczpj"
   },
   "outputs": [],
   "source": [
    "class lstm_decoder(nn.Module):\n",
    "    def __init__(self, input_size, hidden_size, num_layers = 1):\n",
    "        super(lstm_decoder, self).__init__()\n",
    "        self.input_size = input_size\n",
    "        self.hidden_size = hidden_size\n",
    "        self.num_layers = num_layers\n",
    "\n",
    "        self.lstm = nn.LSTM(input_size = input_size, hidden_size = hidden_size,num_layers = num_layers, batch_first=True)\n",
    "        self.linear = nn.Linear(hidden_size, input_size)           \n",
    "\n",
    "    def forward(self, x_input, encoder_hidden_states):\n",
    "        lstm_out, self.hidden = self.lstm(x_input.unsqueeze(-1), encoder_hidden_states)\n",
    "        output = self.linear(lstm_out)\n",
    "        \n",
    "        return output, self.hidden"
   ]
  },
  {
   "cell_type": "code",
   "execution_count": 108,
   "metadata": {
    "executionInfo": {
     "elapsed": 4,
     "status": "ok",
     "timestamp": 1654159010242,
     "user": {
      "displayName": "권나은",
      "userId": "06827649815892596464"
     },
     "user_tz": -540
    },
    "id": "Eu4ChKD7dJGA"
   },
   "outputs": [],
   "source": [
    "class lstm_encoder_decoder(nn.Module):\n",
    "    def __init__(self, input_size, hidden_size):\n",
    "        super(lstm_encoder_decoder, self).__init__()\n",
    "\n",
    "        self.input_size = input_size\n",
    "        self.hidden_size = hidden_size\n",
    "\n",
    "        self.encoder = lstm_encoder(input_size = input_size, hidden_size = hidden_size)\n",
    "        self.decoder = lstm_decoder(input_size = input_size, hidden_size = hidden_size)\n",
    "\n",
    "    def forward(self, inputs, targets, target_len, teacher_forcing_ratio):\n",
    "        batch_size = inputs.shape[0]\n",
    "        input_size = inputs.shape[2]\n",
    "\n",
    "        outputs = torch.zeros(batch_size, target_len, input_size)\n",
    "\n",
    "        _, hidden = self.encoder(inputs)\n",
    "        decoder_input = inputs[:,-1, :]\n",
    "        \n",
    "        #원하는 길이가 될 때까지 decoder를 실행한다.\n",
    "        for t in range(target_len): \n",
    "            out, hidden = self.decoder(decoder_input, hidden)\n",
    "            out =  out.squeeze(1)\n",
    "            \n",
    "            # teacher forcing을 구현한다.\n",
    "            # teacher forcing에 해당하면 다음 인풋값으로는 예측한 값이 아니라 실제 값을 사용한다.\n",
    "            if random.random() < teacher_forcing_ratio:\n",
    "                decoder_input = targets[:, t, :]\n",
    "            else:\n",
    "                decoder_input = out\n",
    "            outputs[:,t,:] = out\n",
    "\n",
    "        return outputs\n",
    "\t\n",
    "    # 편의성을 위해 예측해주는 함수도 생성한다.\n",
    "    def predict(self, inputs, target_len):\n",
    "        self.eval()\n",
    "        inputs = inputs.unsqueeze(0)\n",
    "        batch_size = inputs.shape[0]\n",
    "        input_size = inputs.shape[2]\n",
    "        outputs = torch.zeros(batch_size, target_len, input_size)\n",
    "        _, hidden = self.encoder(inputs)\n",
    "        decoder_input = inputs[:,-1, :]\n",
    "        for t in range(target_len): \n",
    "            out, hidden = self.decoder(decoder_input, hidden)\n",
    "            out =  out.squeeze(1)\n",
    "            decoder_input = out\n",
    "            outputs[:,t,:] = out\n",
    "        return outputs.detach().numpy()[0,:,0]"
   ]
  },
  {
   "cell_type": "code",
   "execution_count": 109,
   "metadata": {
    "executionInfo": {
     "elapsed": 3,
     "status": "ok",
     "timestamp": 1654159012381,
     "user": {
      "displayName": "권나은",
      "userId": "06827649815892596464"
     },
     "user_tz": -540
    },
    "id": "x6A0pTAOdMVL"
   },
   "outputs": [],
   "source": [
    "import torch\n",
    "device = torch.device('cuda' if torch.cuda.is_available() else 'cpu')\n",
    "model = lstm_encoder_decoder(input_size=1, hidden_size=16).to(device)\n"
   ]
  },
  {
   "cell_type": "code",
   "execution_count": 87,
   "metadata": {
    "executionInfo": {
     "elapsed": 345,
     "status": "ok",
     "timestamp": 1654157395307,
     "user": {
      "displayName": "권나은",
      "userId": "06827649815892596464"
     },
     "user_tz": -540
    },
    "id": "asiJbihUdOn4"
   },
   "outputs": [],
   "source": [
    "import torch.optim as optim\n",
    "learning_rate=0.01\n",
    "epoch = 3000\n",
    "optimizer = optim.Adam(model.parameters(), lr = learning_rate)\n",
    "criterion = nn.MSELoss()"
   ]
  },
  {
   "cell_type": "code",
   "execution_count": 89,
   "metadata": {
    "colab": {
     "base_uri": "https://localhost:8080/",
     "height": 426
    },
    "executionInfo": {
     "elapsed": 1381946,
     "status": "error",
     "timestamp": 1654158824969,
     "user": {
      "displayName": "권나은",
      "userId": "06827649815892596464"
     },
     "user_tz": -540
    },
    "id": "CYHOXtx6dnY-",
    "outputId": "45f9cda3-cb48-41a1-f523-fe78ade2170c"
   },
   "outputs": [
    {
     "name": "stderr",
     "output_type": "stream",
     "text": [
      "  0%|          | 11/3000 [23:01<104:17:05, 125.60s/it, loss=1820.68361]\n"
     ]
    },
    {
     "ename": "KeyboardInterrupt",
     "evalue": "ignored",
     "output_type": "error",
     "traceback": [
      "\u001b[0;31m---------------------------------------------------------------------------\u001b[0m",
      "\u001b[0;31mKeyboardInterrupt\u001b[0m                         Traceback (most recent call last)",
      "\u001b[0;32m<ipython-input-89-4e2f44606f9b>\u001b[0m in \u001b[0;36m<module>\u001b[0;34m()\u001b[0m\n\u001b[1;32m     11\u001b[0m             \u001b[0moutput\u001b[0m \u001b[0;34m=\u001b[0m \u001b[0mmodel\u001b[0m\u001b[0;34m(\u001b[0m\u001b[0mx\u001b[0m\u001b[0;34m,\u001b[0m \u001b[0my\u001b[0m\u001b[0;34m,\u001b[0m \u001b[0mow\u001b[0m\u001b[0;34m,\u001b[0m \u001b[0;36m0.6\u001b[0m\u001b[0;34m)\u001b[0m\u001b[0;34m.\u001b[0m\u001b[0mto\u001b[0m\u001b[0;34m(\u001b[0m\u001b[0mdevice\u001b[0m\u001b[0;34m)\u001b[0m\u001b[0;34m\u001b[0m\u001b[0;34m\u001b[0m\u001b[0m\n\u001b[1;32m     12\u001b[0m             \u001b[0mloss\u001b[0m \u001b[0;34m=\u001b[0m \u001b[0mcriterion\u001b[0m\u001b[0;34m(\u001b[0m\u001b[0moutput\u001b[0m\u001b[0;34m,\u001b[0m \u001b[0my\u001b[0m\u001b[0;34m)\u001b[0m\u001b[0;34m\u001b[0m\u001b[0;34m\u001b[0m\u001b[0m\n\u001b[0;32m---> 13\u001b[0;31m             \u001b[0mloss\u001b[0m\u001b[0;34m.\u001b[0m\u001b[0mbackward\u001b[0m\u001b[0;34m(\u001b[0m\u001b[0;34m)\u001b[0m\u001b[0;34m\u001b[0m\u001b[0;34m\u001b[0m\u001b[0m\n\u001b[0m\u001b[1;32m     14\u001b[0m             \u001b[0moptimizer\u001b[0m\u001b[0;34m.\u001b[0m\u001b[0mstep\u001b[0m\u001b[0;34m(\u001b[0m\u001b[0;34m)\u001b[0m\u001b[0;34m\u001b[0m\u001b[0;34m\u001b[0m\u001b[0m\n\u001b[1;32m     15\u001b[0m             \u001b[0mtotal_loss\u001b[0m \u001b[0;34m+=\u001b[0m \u001b[0mloss\u001b[0m\u001b[0;34m.\u001b[0m\u001b[0mcpu\u001b[0m\u001b[0;34m(\u001b[0m\u001b[0;34m)\u001b[0m\u001b[0;34m.\u001b[0m\u001b[0mitem\u001b[0m\u001b[0;34m(\u001b[0m\u001b[0;34m)\u001b[0m\u001b[0;34m\u001b[0m\u001b[0;34m\u001b[0m\u001b[0m\n",
      "\u001b[0;32m/usr/local/lib/python3.7/dist-packages/torch/_tensor.py\u001b[0m in \u001b[0;36mbackward\u001b[0;34m(self, gradient, retain_graph, create_graph, inputs)\u001b[0m\n\u001b[1;32m    361\u001b[0m                 \u001b[0mcreate_graph\u001b[0m\u001b[0;34m=\u001b[0m\u001b[0mcreate_graph\u001b[0m\u001b[0;34m,\u001b[0m\u001b[0;34m\u001b[0m\u001b[0;34m\u001b[0m\u001b[0m\n\u001b[1;32m    362\u001b[0m                 inputs=inputs)\n\u001b[0;32m--> 363\u001b[0;31m         \u001b[0mtorch\u001b[0m\u001b[0;34m.\u001b[0m\u001b[0mautograd\u001b[0m\u001b[0;34m.\u001b[0m\u001b[0mbackward\u001b[0m\u001b[0;34m(\u001b[0m\u001b[0mself\u001b[0m\u001b[0;34m,\u001b[0m \u001b[0mgradient\u001b[0m\u001b[0;34m,\u001b[0m \u001b[0mretain_graph\u001b[0m\u001b[0;34m,\u001b[0m \u001b[0mcreate_graph\u001b[0m\u001b[0;34m,\u001b[0m \u001b[0minputs\u001b[0m\u001b[0;34m=\u001b[0m\u001b[0minputs\u001b[0m\u001b[0;34m)\u001b[0m\u001b[0;34m\u001b[0m\u001b[0;34m\u001b[0m\u001b[0m\n\u001b[0m\u001b[1;32m    364\u001b[0m \u001b[0;34m\u001b[0m\u001b[0m\n\u001b[1;32m    365\u001b[0m     \u001b[0;32mdef\u001b[0m \u001b[0mregister_hook\u001b[0m\u001b[0;34m(\u001b[0m\u001b[0mself\u001b[0m\u001b[0;34m,\u001b[0m \u001b[0mhook\u001b[0m\u001b[0;34m)\u001b[0m\u001b[0;34m:\u001b[0m\u001b[0;34m\u001b[0m\u001b[0;34m\u001b[0m\u001b[0m\n",
      "\u001b[0;32m/usr/local/lib/python3.7/dist-packages/torch/autograd/__init__.py\u001b[0m in \u001b[0;36mbackward\u001b[0;34m(tensors, grad_tensors, retain_graph, create_graph, grad_variables, inputs)\u001b[0m\n\u001b[1;32m    173\u001b[0m     Variable._execution_engine.run_backward(  # Calls into the C++ engine to run the backward pass\n\u001b[1;32m    174\u001b[0m         \u001b[0mtensors\u001b[0m\u001b[0;34m,\u001b[0m \u001b[0mgrad_tensors_\u001b[0m\u001b[0;34m,\u001b[0m \u001b[0mretain_graph\u001b[0m\u001b[0;34m,\u001b[0m \u001b[0mcreate_graph\u001b[0m\u001b[0;34m,\u001b[0m \u001b[0minputs\u001b[0m\u001b[0;34m,\u001b[0m\u001b[0;34m\u001b[0m\u001b[0;34m\u001b[0m\u001b[0m\n\u001b[0;32m--> 175\u001b[0;31m         allow_unreachable=True, accumulate_grad=True)  # Calls into the C++ engine to run the backward pass\n\u001b[0m\u001b[1;32m    176\u001b[0m \u001b[0;34m\u001b[0m\u001b[0m\n\u001b[1;32m    177\u001b[0m def grad(\n",
      "\u001b[0;31mKeyboardInterrupt\u001b[0m: "
     ]
    }
   ],
   "source": [
    "from tqdm import tqdm\n",
    "import random\n",
    "model.train()\n",
    "with tqdm(range(epoch)) as tr:\n",
    "    for i in tr:\n",
    "        total_loss = 0.0\n",
    "        for x,y in train_loader:\n",
    "            optimizer.zero_grad()\n",
    "            x = x.to(device).float()\n",
    "            y = y.to(device).float()\n",
    "            output = model(x, y, ow, 0.6).to(device)\n",
    "            loss = criterion(output, y)\n",
    "            loss.backward()\n",
    "            optimizer.step()\n",
    "            total_loss += loss.cpu().item()\n",
    "        tr.set_postfix(loss=\"{0:.5f}\".format(total_loss/len(train_loader)))"
   ]
  },
  {
   "cell_type": "code",
   "execution_count": null,
   "metadata": {
    "id": "3jPUuS0ChwS3"
   },
   "outputs": [],
   "source": [
    "predict = model.predict(torch.tensor(train[-1000*2:]).reshape(-1,1).to(device).float(), target_len=ow)\n",
    "real = df[\"종가\"].to_numpy()\n",
    "\n",
    "predict = min_max_scaler.inverse_transform(predict.reshape(-1,1))\n",
    "real = min_max_scaler.inverse_transform(real.reshape(-1,1))"
   ]
  },
  {
   "cell_type": "code",
   "execution_count": null,
   "metadata": {
    "id": "tID9zz4ndvSS"
   },
   "outputs": [],
   "source": [
    "plt.figure(figsize=(20,5))\n",
    "plt.plot(range(1000,9933), real[1000:], label=\"real\")\n",
    "plt.plot(range(9933-1000,9933), predict[-1000:], label=\"predict\")\n",
    "\n",
    "plt.title(\"Test Set\")\n",
    "plt.legend()\n",
    "plt.show()"
   ]
  },
  {
   "cell_type": "code",
   "execution_count": null,
   "metadata": {},
   "outputs": [],
   "source": [
    "def MAPEval(y_pred, y_true):\n",
    "    return np.mean(np.abs((y_true - y_pred) / y_true)) * 100\n",
    "MAPEval(predict[-1000:],real[-1000:])"
   ]
  }
 ],
 "metadata": {
  "colab": {
   "authorship_tag": "ABX9TyN9e7tmGHJ/jrecpzGtuOFv",
   "mount_file_id": "1cwtMW41mIJfDVt0dfjazdpzQq8NjWlhd",
   "name": "Untitled4.ipynb",
   "provenance": []
  },
  "kernelspec": {
   "display_name": "Python 3 (ipykernel)",
   "language": "python",
   "name": "python3"
  },
  "language_info": {
   "codemirror_mode": {
    "name": "ipython",
    "version": 3
   },
   "file_extension": ".py",
   "mimetype": "text/x-python",
   "name": "python",
   "nbconvert_exporter": "python",
   "pygments_lexer": "ipython3",
   "version": "3.9.12"
  }
 },
 "nbformat": 4,
 "nbformat_minor": 1
}
