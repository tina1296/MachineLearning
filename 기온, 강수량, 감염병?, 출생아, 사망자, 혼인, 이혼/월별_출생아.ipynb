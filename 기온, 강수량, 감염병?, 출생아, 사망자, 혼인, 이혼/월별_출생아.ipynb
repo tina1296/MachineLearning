{
  "nbformat": 4,
  "nbformat_minor": 0,
  "metadata": {
    "colab": {
      "name": "월별 출생아.ipynb",
      "provenance": []
    },
    "kernelspec": {
      "name": "python3",
      "display_name": "Python 3"
    },
    "language_info": {
      "name": "python"
    }
  },
  "cells": [
    {
      "cell_type": "markdown",
      "source": [
        "# 월별 출생아 fbporphet 1"
      ],
      "metadata": {
        "id": "pt1FITVWqBto"
      }
    },
    {
      "cell_type": "code",
      "source": [
        "pip install fbprophet # 프로펫 "
      ],
      "metadata": {
        "colab": {
          "base_uri": "https://localhost:8080/"
        },
        "id": "WyGrhelbqMQo",
        "outputId": "7148e7a4-b3c8-41dd-bf55-217eb816e12a"
      },
      "execution_count": null,
      "outputs": [
        {
          "output_type": "stream",
          "name": "stdout",
          "text": [
            "Looking in indexes: https://pypi.org/simple, https://us-python.pkg.dev/colab-wheels/public/simple/\n",
            "Requirement already satisfied: fbprophet in /usr/local/lib/python3.7/dist-packages (0.7.1)\n",
            "Requirement already satisfied: Cython>=0.22 in /usr/local/lib/python3.7/dist-packages (from fbprophet) (0.29.30)\n",
            "Requirement already satisfied: cmdstanpy==0.9.5 in /usr/local/lib/python3.7/dist-packages (from fbprophet) (0.9.5)\n",
            "Requirement already satisfied: pystan>=2.14 in /usr/local/lib/python3.7/dist-packages (from fbprophet) (2.19.1.1)\n",
            "Requirement already satisfied: numpy>=1.15.4 in /usr/local/lib/python3.7/dist-packages (from fbprophet) (1.21.6)\n",
            "Requirement already satisfied: pandas>=1.0.4 in /usr/local/lib/python3.7/dist-packages (from fbprophet) (1.3.5)\n",
            "Requirement already satisfied: matplotlib>=2.0.0 in /usr/local/lib/python3.7/dist-packages (from fbprophet) (3.2.2)\n",
            "Requirement already satisfied: LunarCalendar>=0.0.9 in /usr/local/lib/python3.7/dist-packages (from fbprophet) (0.0.9)\n",
            "Requirement already satisfied: convertdate>=2.1.2 in /usr/local/lib/python3.7/dist-packages (from fbprophet) (2.4.0)\n",
            "Requirement already satisfied: holidays>=0.10.2 in /usr/local/lib/python3.7/dist-packages (from fbprophet) (0.10.5.2)\n",
            "Requirement already satisfied: setuptools-git>=1.2 in /usr/local/lib/python3.7/dist-packages (from fbprophet) (1.2)\n",
            "Requirement already satisfied: python-dateutil>=2.8.0 in /usr/local/lib/python3.7/dist-packages (from fbprophet) (2.8.2)\n",
            "Requirement already satisfied: tqdm>=4.36.1 in /usr/local/lib/python3.7/dist-packages (from fbprophet) (4.64.0)\n",
            "Requirement already satisfied: pymeeus<=1,>=0.3.13 in /usr/local/lib/python3.7/dist-packages (from convertdate>=2.1.2->fbprophet) (0.5.11)\n",
            "Requirement already satisfied: six in /usr/local/lib/python3.7/dist-packages (from holidays>=0.10.2->fbprophet) (1.15.0)\n",
            "Requirement already satisfied: korean-lunar-calendar in /usr/local/lib/python3.7/dist-packages (from holidays>=0.10.2->fbprophet) (0.2.1)\n",
            "Requirement already satisfied: hijri-converter in /usr/local/lib/python3.7/dist-packages (from holidays>=0.10.2->fbprophet) (2.2.3)\n",
            "Requirement already satisfied: pytz in /usr/local/lib/python3.7/dist-packages (from LunarCalendar>=0.0.9->fbprophet) (2022.1)\n",
            "Requirement already satisfied: ephem>=3.7.5.3 in /usr/local/lib/python3.7/dist-packages (from LunarCalendar>=0.0.9->fbprophet) (4.1.3)\n",
            "Requirement already satisfied: kiwisolver>=1.0.1 in /usr/local/lib/python3.7/dist-packages (from matplotlib>=2.0.0->fbprophet) (1.4.2)\n",
            "Requirement already satisfied: cycler>=0.10 in /usr/local/lib/python3.7/dist-packages (from matplotlib>=2.0.0->fbprophet) (0.11.0)\n",
            "Requirement already satisfied: pyparsing!=2.0.4,!=2.1.2,!=2.1.6,>=2.0.1 in /usr/local/lib/python3.7/dist-packages (from matplotlib>=2.0.0->fbprophet) (3.0.9)\n",
            "Requirement already satisfied: typing-extensions in /usr/local/lib/python3.7/dist-packages (from kiwisolver>=1.0.1->matplotlib>=2.0.0->fbprophet) (4.2.0)\n"
          ]
        }
      ]
    },
    {
      "cell_type": "code",
      "source": [
        "import pandas as pd # 판다스\n",
        "df = pd.read_csv('/content/전국출생아수81-20.CSV', encoding='cp949') # 데이터 로드"
      ],
      "metadata": {
        "id": "1ex7ja_7qYT3"
      },
      "execution_count": null,
      "outputs": []
    },
    {
      "cell_type": "code",
      "source": [
        "df.head()"
      ],
      "metadata": {
        "colab": {
          "base_uri": "https://localhost:8080/",
          "height": 206
        },
        "id": "Hy1tKkqvqmV4",
        "outputId": "51bbd18c-cdf1-406a-b0a5-50582f19c440"
      },
      "execution_count": null,
      "outputs": [
        {
          "output_type": "execute_result",
          "data": {
            "text/plain": [
              "         시간   출생아수\n",
              "0  1981년01월  88151\n",
              "1  1981년02월  93556\n",
              "2  1981년03월  70421\n",
              "3  1981년04월  66093\n",
              "4  1981년05월  68940"
            ],
            "text/html": [
              "\n",
              "  <div id=\"df-abb3be89-69a8-4cea-8f44-f891e6441cca\">\n",
              "    <div class=\"colab-df-container\">\n",
              "      <div>\n",
              "<style scoped>\n",
              "    .dataframe tbody tr th:only-of-type {\n",
              "        vertical-align: middle;\n",
              "    }\n",
              "\n",
              "    .dataframe tbody tr th {\n",
              "        vertical-align: top;\n",
              "    }\n",
              "\n",
              "    .dataframe thead th {\n",
              "        text-align: right;\n",
              "    }\n",
              "</style>\n",
              "<table border=\"1\" class=\"dataframe\">\n",
              "  <thead>\n",
              "    <tr style=\"text-align: right;\">\n",
              "      <th></th>\n",
              "      <th>시간</th>\n",
              "      <th>출생아수</th>\n",
              "    </tr>\n",
              "  </thead>\n",
              "  <tbody>\n",
              "    <tr>\n",
              "      <th>0</th>\n",
              "      <td>1981년01월</td>\n",
              "      <td>88151</td>\n",
              "    </tr>\n",
              "    <tr>\n",
              "      <th>1</th>\n",
              "      <td>1981년02월</td>\n",
              "      <td>93556</td>\n",
              "    </tr>\n",
              "    <tr>\n",
              "      <th>2</th>\n",
              "      <td>1981년03월</td>\n",
              "      <td>70421</td>\n",
              "    </tr>\n",
              "    <tr>\n",
              "      <th>3</th>\n",
              "      <td>1981년04월</td>\n",
              "      <td>66093</td>\n",
              "    </tr>\n",
              "    <tr>\n",
              "      <th>4</th>\n",
              "      <td>1981년05월</td>\n",
              "      <td>68940</td>\n",
              "    </tr>\n",
              "  </tbody>\n",
              "</table>\n",
              "</div>\n",
              "      <button class=\"colab-df-convert\" onclick=\"convertToInteractive('df-abb3be89-69a8-4cea-8f44-f891e6441cca')\"\n",
              "              title=\"Convert this dataframe to an interactive table.\"\n",
              "              style=\"display:none;\">\n",
              "        \n",
              "  <svg xmlns=\"http://www.w3.org/2000/svg\" height=\"24px\"viewBox=\"0 0 24 24\"\n",
              "       width=\"24px\">\n",
              "    <path d=\"M0 0h24v24H0V0z\" fill=\"none\"/>\n",
              "    <path d=\"M18.56 5.44l.94 2.06.94-2.06 2.06-.94-2.06-.94-.94-2.06-.94 2.06-2.06.94zm-11 1L8.5 8.5l.94-2.06 2.06-.94-2.06-.94L8.5 2.5l-.94 2.06-2.06.94zm10 10l.94 2.06.94-2.06 2.06-.94-2.06-.94-.94-2.06-.94 2.06-2.06.94z\"/><path d=\"M17.41 7.96l-1.37-1.37c-.4-.4-.92-.59-1.43-.59-.52 0-1.04.2-1.43.59L10.3 9.45l-7.72 7.72c-.78.78-.78 2.05 0 2.83L4 21.41c.39.39.9.59 1.41.59.51 0 1.02-.2 1.41-.59l7.78-7.78 2.81-2.81c.8-.78.8-2.07 0-2.86zM5.41 20L4 18.59l7.72-7.72 1.47 1.35L5.41 20z\"/>\n",
              "  </svg>\n",
              "      </button>\n",
              "      \n",
              "  <style>\n",
              "    .colab-df-container {\n",
              "      display:flex;\n",
              "      flex-wrap:wrap;\n",
              "      gap: 12px;\n",
              "    }\n",
              "\n",
              "    .colab-df-convert {\n",
              "      background-color: #E8F0FE;\n",
              "      border: none;\n",
              "      border-radius: 50%;\n",
              "      cursor: pointer;\n",
              "      display: none;\n",
              "      fill: #1967D2;\n",
              "      height: 32px;\n",
              "      padding: 0 0 0 0;\n",
              "      width: 32px;\n",
              "    }\n",
              "\n",
              "    .colab-df-convert:hover {\n",
              "      background-color: #E2EBFA;\n",
              "      box-shadow: 0px 1px 2px rgba(60, 64, 67, 0.3), 0px 1px 3px 1px rgba(60, 64, 67, 0.15);\n",
              "      fill: #174EA6;\n",
              "    }\n",
              "\n",
              "    [theme=dark] .colab-df-convert {\n",
              "      background-color: #3B4455;\n",
              "      fill: #D2E3FC;\n",
              "    }\n",
              "\n",
              "    [theme=dark] .colab-df-convert:hover {\n",
              "      background-color: #434B5C;\n",
              "      box-shadow: 0px 1px 3px 1px rgba(0, 0, 0, 0.15);\n",
              "      filter: drop-shadow(0px 1px 2px rgba(0, 0, 0, 0.3));\n",
              "      fill: #FFFFFF;\n",
              "    }\n",
              "  </style>\n",
              "\n",
              "      <script>\n",
              "        const buttonEl =\n",
              "          document.querySelector('#df-abb3be89-69a8-4cea-8f44-f891e6441cca button.colab-df-convert');\n",
              "        buttonEl.style.display =\n",
              "          google.colab.kernel.accessAllowed ? 'block' : 'none';\n",
              "\n",
              "        async function convertToInteractive(key) {\n",
              "          const element = document.querySelector('#df-abb3be89-69a8-4cea-8f44-f891e6441cca');\n",
              "          const dataTable =\n",
              "            await google.colab.kernel.invokeFunction('convertToInteractive',\n",
              "                                                     [key], {});\n",
              "          if (!dataTable) return;\n",
              "\n",
              "          const docLinkHtml = 'Like what you see? Visit the ' +\n",
              "            '<a target=\"_blank\" href=https://colab.research.google.com/notebooks/data_table.ipynb>data table notebook</a>'\n",
              "            + ' to learn more about interactive tables.';\n",
              "          element.innerHTML = '';\n",
              "          dataTable['output_type'] = 'display_data';\n",
              "          await google.colab.output.renderOutput(dataTable, element);\n",
              "          const docLink = document.createElement('div');\n",
              "          docLink.innerHTML = docLinkHtml;\n",
              "          element.appendChild(docLink);\n",
              "        }\n",
              "      </script>\n",
              "    </div>\n",
              "  </div>\n",
              "  "
            ]
          },
          "metadata": {},
          "execution_count": 3
        }
      ]
    },
    {
      "cell_type": "code",
      "source": [
        "df = df.rename(columns={'시간':'time', '출생아수':'birth'})\n",
        "df.tail() # 이름 바꿔줬다"
      ],
      "metadata": {
        "colab": {
          "base_uri": "https://localhost:8080/",
          "height": 206
        },
        "id": "i8LNFui4qs5h",
        "outputId": "b0f842b0-3e8b-4126-865f-b39d94d1bd85"
      },
      "execution_count": null,
      "outputs": [
        {
          "output_type": "execute_result",
          "data": {
            "text/plain": [
              "         time  birth\n",
              "475  2020년08월  22402\n",
              "476  2020년09월  23499\n",
              "477  2020년10월  21884\n",
              "478  2020년11월  20054\n",
              "479  2020년12월  19641"
            ],
            "text/html": [
              "\n",
              "  <div id=\"df-e69a28f2-a96a-413f-bc95-b705de79f296\">\n",
              "    <div class=\"colab-df-container\">\n",
              "      <div>\n",
              "<style scoped>\n",
              "    .dataframe tbody tr th:only-of-type {\n",
              "        vertical-align: middle;\n",
              "    }\n",
              "\n",
              "    .dataframe tbody tr th {\n",
              "        vertical-align: top;\n",
              "    }\n",
              "\n",
              "    .dataframe thead th {\n",
              "        text-align: right;\n",
              "    }\n",
              "</style>\n",
              "<table border=\"1\" class=\"dataframe\">\n",
              "  <thead>\n",
              "    <tr style=\"text-align: right;\">\n",
              "      <th></th>\n",
              "      <th>time</th>\n",
              "      <th>birth</th>\n",
              "    </tr>\n",
              "  </thead>\n",
              "  <tbody>\n",
              "    <tr>\n",
              "      <th>475</th>\n",
              "      <td>2020년08월</td>\n",
              "      <td>22402</td>\n",
              "    </tr>\n",
              "    <tr>\n",
              "      <th>476</th>\n",
              "      <td>2020년09월</td>\n",
              "      <td>23499</td>\n",
              "    </tr>\n",
              "    <tr>\n",
              "      <th>477</th>\n",
              "      <td>2020년10월</td>\n",
              "      <td>21884</td>\n",
              "    </tr>\n",
              "    <tr>\n",
              "      <th>478</th>\n",
              "      <td>2020년11월</td>\n",
              "      <td>20054</td>\n",
              "    </tr>\n",
              "    <tr>\n",
              "      <th>479</th>\n",
              "      <td>2020년12월</td>\n",
              "      <td>19641</td>\n",
              "    </tr>\n",
              "  </tbody>\n",
              "</table>\n",
              "</div>\n",
              "      <button class=\"colab-df-convert\" onclick=\"convertToInteractive('df-e69a28f2-a96a-413f-bc95-b705de79f296')\"\n",
              "              title=\"Convert this dataframe to an interactive table.\"\n",
              "              style=\"display:none;\">\n",
              "        \n",
              "  <svg xmlns=\"http://www.w3.org/2000/svg\" height=\"24px\"viewBox=\"0 0 24 24\"\n",
              "       width=\"24px\">\n",
              "    <path d=\"M0 0h24v24H0V0z\" fill=\"none\"/>\n",
              "    <path d=\"M18.56 5.44l.94 2.06.94-2.06 2.06-.94-2.06-.94-.94-2.06-.94 2.06-2.06.94zm-11 1L8.5 8.5l.94-2.06 2.06-.94-2.06-.94L8.5 2.5l-.94 2.06-2.06.94zm10 10l.94 2.06.94-2.06 2.06-.94-2.06-.94-.94-2.06-.94 2.06-2.06.94z\"/><path d=\"M17.41 7.96l-1.37-1.37c-.4-.4-.92-.59-1.43-.59-.52 0-1.04.2-1.43.59L10.3 9.45l-7.72 7.72c-.78.78-.78 2.05 0 2.83L4 21.41c.39.39.9.59 1.41.59.51 0 1.02-.2 1.41-.59l7.78-7.78 2.81-2.81c.8-.78.8-2.07 0-2.86zM5.41 20L4 18.59l7.72-7.72 1.47 1.35L5.41 20z\"/>\n",
              "  </svg>\n",
              "      </button>\n",
              "      \n",
              "  <style>\n",
              "    .colab-df-container {\n",
              "      display:flex;\n",
              "      flex-wrap:wrap;\n",
              "      gap: 12px;\n",
              "    }\n",
              "\n",
              "    .colab-df-convert {\n",
              "      background-color: #E8F0FE;\n",
              "      border: none;\n",
              "      border-radius: 50%;\n",
              "      cursor: pointer;\n",
              "      display: none;\n",
              "      fill: #1967D2;\n",
              "      height: 32px;\n",
              "      padding: 0 0 0 0;\n",
              "      width: 32px;\n",
              "    }\n",
              "\n",
              "    .colab-df-convert:hover {\n",
              "      background-color: #E2EBFA;\n",
              "      box-shadow: 0px 1px 2px rgba(60, 64, 67, 0.3), 0px 1px 3px 1px rgba(60, 64, 67, 0.15);\n",
              "      fill: #174EA6;\n",
              "    }\n",
              "\n",
              "    [theme=dark] .colab-df-convert {\n",
              "      background-color: #3B4455;\n",
              "      fill: #D2E3FC;\n",
              "    }\n",
              "\n",
              "    [theme=dark] .colab-df-convert:hover {\n",
              "      background-color: #434B5C;\n",
              "      box-shadow: 0px 1px 3px 1px rgba(0, 0, 0, 0.15);\n",
              "      filter: drop-shadow(0px 1px 2px rgba(0, 0, 0, 0.3));\n",
              "      fill: #FFFFFF;\n",
              "    }\n",
              "  </style>\n",
              "\n",
              "      <script>\n",
              "        const buttonEl =\n",
              "          document.querySelector('#df-e69a28f2-a96a-413f-bc95-b705de79f296 button.colab-df-convert');\n",
              "        buttonEl.style.display =\n",
              "          google.colab.kernel.accessAllowed ? 'block' : 'none';\n",
              "\n",
              "        async function convertToInteractive(key) {\n",
              "          const element = document.querySelector('#df-e69a28f2-a96a-413f-bc95-b705de79f296');\n",
              "          const dataTable =\n",
              "            await google.colab.kernel.invokeFunction('convertToInteractive',\n",
              "                                                     [key], {});\n",
              "          if (!dataTable) return;\n",
              "\n",
              "          const docLinkHtml = 'Like what you see? Visit the ' +\n",
              "            '<a target=\"_blank\" href=https://colab.research.google.com/notebooks/data_table.ipynb>data table notebook</a>'\n",
              "            + ' to learn more about interactive tables.';\n",
              "          element.innerHTML = '';\n",
              "          dataTable['output_type'] = 'display_data';\n",
              "          await google.colab.output.renderOutput(dataTable, element);\n",
              "          const docLink = document.createElement('div');\n",
              "          docLink.innerHTML = docLinkHtml;\n",
              "          element.appendChild(docLink);\n",
              "        }\n",
              "      </script>\n",
              "    </div>\n",
              "  </div>\n",
              "  "
            ]
          },
          "metadata": {},
          "execution_count": 4
        }
      ]
    },
    {
      "cell_type": "code",
      "source": [
        "df[\"time\"] = df[\"time\"].str.replace(pat=r'년', repl=r'-', regex=True) # 한글 지워줬다"
      ],
      "metadata": {
        "id": "8xekuJyrq3V-"
      },
      "execution_count": null,
      "outputs": []
    },
    {
      "cell_type": "code",
      "source": [
        "df[\"time\"] = df[\"time\"].str.replace(pat=r'월', repl=r'', regex=True) # 한글 지워줬다"
      ],
      "metadata": {
        "id": "LXjJnFh8q06d"
      },
      "execution_count": null,
      "outputs": []
    },
    {
      "cell_type": "code",
      "source": [
        "df.head()"
      ],
      "metadata": {
        "colab": {
          "base_uri": "https://localhost:8080/",
          "height": 206
        },
        "id": "KPBiKTn5rESJ",
        "outputId": "6983565d-5d68-4cb7-b28d-f038f1d686e1"
      },
      "execution_count": null,
      "outputs": [
        {
          "output_type": "execute_result",
          "data": {
            "text/plain": [
              "      time  birth\n",
              "0  1981-01  88151\n",
              "1  1981-02  93556\n",
              "2  1981-03  70421\n",
              "3  1981-04  66093\n",
              "4  1981-05  68940"
            ],
            "text/html": [
              "\n",
              "  <div id=\"df-7414765f-afda-4ba2-b40a-86dcebb58da9\">\n",
              "    <div class=\"colab-df-container\">\n",
              "      <div>\n",
              "<style scoped>\n",
              "    .dataframe tbody tr th:only-of-type {\n",
              "        vertical-align: middle;\n",
              "    }\n",
              "\n",
              "    .dataframe tbody tr th {\n",
              "        vertical-align: top;\n",
              "    }\n",
              "\n",
              "    .dataframe thead th {\n",
              "        text-align: right;\n",
              "    }\n",
              "</style>\n",
              "<table border=\"1\" class=\"dataframe\">\n",
              "  <thead>\n",
              "    <tr style=\"text-align: right;\">\n",
              "      <th></th>\n",
              "      <th>time</th>\n",
              "      <th>birth</th>\n",
              "    </tr>\n",
              "  </thead>\n",
              "  <tbody>\n",
              "    <tr>\n",
              "      <th>0</th>\n",
              "      <td>1981-01</td>\n",
              "      <td>88151</td>\n",
              "    </tr>\n",
              "    <tr>\n",
              "      <th>1</th>\n",
              "      <td>1981-02</td>\n",
              "      <td>93556</td>\n",
              "    </tr>\n",
              "    <tr>\n",
              "      <th>2</th>\n",
              "      <td>1981-03</td>\n",
              "      <td>70421</td>\n",
              "    </tr>\n",
              "    <tr>\n",
              "      <th>3</th>\n",
              "      <td>1981-04</td>\n",
              "      <td>66093</td>\n",
              "    </tr>\n",
              "    <tr>\n",
              "      <th>4</th>\n",
              "      <td>1981-05</td>\n",
              "      <td>68940</td>\n",
              "    </tr>\n",
              "  </tbody>\n",
              "</table>\n",
              "</div>\n",
              "      <button class=\"colab-df-convert\" onclick=\"convertToInteractive('df-7414765f-afda-4ba2-b40a-86dcebb58da9')\"\n",
              "              title=\"Convert this dataframe to an interactive table.\"\n",
              "              style=\"display:none;\">\n",
              "        \n",
              "  <svg xmlns=\"http://www.w3.org/2000/svg\" height=\"24px\"viewBox=\"0 0 24 24\"\n",
              "       width=\"24px\">\n",
              "    <path d=\"M0 0h24v24H0V0z\" fill=\"none\"/>\n",
              "    <path d=\"M18.56 5.44l.94 2.06.94-2.06 2.06-.94-2.06-.94-.94-2.06-.94 2.06-2.06.94zm-11 1L8.5 8.5l.94-2.06 2.06-.94-2.06-.94L8.5 2.5l-.94 2.06-2.06.94zm10 10l.94 2.06.94-2.06 2.06-.94-2.06-.94-.94-2.06-.94 2.06-2.06.94z\"/><path d=\"M17.41 7.96l-1.37-1.37c-.4-.4-.92-.59-1.43-.59-.52 0-1.04.2-1.43.59L10.3 9.45l-7.72 7.72c-.78.78-.78 2.05 0 2.83L4 21.41c.39.39.9.59 1.41.59.51 0 1.02-.2 1.41-.59l7.78-7.78 2.81-2.81c.8-.78.8-2.07 0-2.86zM5.41 20L4 18.59l7.72-7.72 1.47 1.35L5.41 20z\"/>\n",
              "  </svg>\n",
              "      </button>\n",
              "      \n",
              "  <style>\n",
              "    .colab-df-container {\n",
              "      display:flex;\n",
              "      flex-wrap:wrap;\n",
              "      gap: 12px;\n",
              "    }\n",
              "\n",
              "    .colab-df-convert {\n",
              "      background-color: #E8F0FE;\n",
              "      border: none;\n",
              "      border-radius: 50%;\n",
              "      cursor: pointer;\n",
              "      display: none;\n",
              "      fill: #1967D2;\n",
              "      height: 32px;\n",
              "      padding: 0 0 0 0;\n",
              "      width: 32px;\n",
              "    }\n",
              "\n",
              "    .colab-df-convert:hover {\n",
              "      background-color: #E2EBFA;\n",
              "      box-shadow: 0px 1px 2px rgba(60, 64, 67, 0.3), 0px 1px 3px 1px rgba(60, 64, 67, 0.15);\n",
              "      fill: #174EA6;\n",
              "    }\n",
              "\n",
              "    [theme=dark] .colab-df-convert {\n",
              "      background-color: #3B4455;\n",
              "      fill: #D2E3FC;\n",
              "    }\n",
              "\n",
              "    [theme=dark] .colab-df-convert:hover {\n",
              "      background-color: #434B5C;\n",
              "      box-shadow: 0px 1px 3px 1px rgba(0, 0, 0, 0.15);\n",
              "      filter: drop-shadow(0px 1px 2px rgba(0, 0, 0, 0.3));\n",
              "      fill: #FFFFFF;\n",
              "    }\n",
              "  </style>\n",
              "\n",
              "      <script>\n",
              "        const buttonEl =\n",
              "          document.querySelector('#df-7414765f-afda-4ba2-b40a-86dcebb58da9 button.colab-df-convert');\n",
              "        buttonEl.style.display =\n",
              "          google.colab.kernel.accessAllowed ? 'block' : 'none';\n",
              "\n",
              "        async function convertToInteractive(key) {\n",
              "          const element = document.querySelector('#df-7414765f-afda-4ba2-b40a-86dcebb58da9');\n",
              "          const dataTable =\n",
              "            await google.colab.kernel.invokeFunction('convertToInteractive',\n",
              "                                                     [key], {});\n",
              "          if (!dataTable) return;\n",
              "\n",
              "          const docLinkHtml = 'Like what you see? Visit the ' +\n",
              "            '<a target=\"_blank\" href=https://colab.research.google.com/notebooks/data_table.ipynb>data table notebook</a>'\n",
              "            + ' to learn more about interactive tables.';\n",
              "          element.innerHTML = '';\n",
              "          dataTable['output_type'] = 'display_data';\n",
              "          await google.colab.output.renderOutput(dataTable, element);\n",
              "          const docLink = document.createElement('div');\n",
              "          docLink.innerHTML = docLinkHtml;\n",
              "          element.appendChild(docLink);\n",
              "        }\n",
              "      </script>\n",
              "    </div>\n",
              "  </div>\n",
              "  "
            ]
          },
          "metadata": {},
          "execution_count": 7
        }
      ]
    },
    {
      "cell_type": "code",
      "source": [
        "from matplotlib import pyplot # 맷플롯립으로 출생아수를 그려봤다\n",
        "df.plot()\n",
        "pyplot.show() # 이쁘다"
      ],
      "metadata": {
        "colab": {
          "base_uri": "https://localhost:8080/",
          "height": 265
        },
        "id": "_u1jYMmsrHto",
        "outputId": "f5793b20-99a9-4732-e666-750729683e64"
      },
      "execution_count": null,
      "outputs": [
        {
          "output_type": "display_data",
          "data": {
            "text/plain": [
              "<Figure size 432x288 with 1 Axes>"
            ],
            "image/png": "[encoded data removed]"
          },
          "metadata": {
            "needs_background": "light"
          }
        }
      ]
    },
    {
      "cell_type": "code",
      "source": [
        "df.columns = ['ds', 'y']\n",
        "df['ds'] = pd.to_datetime(df['ds']) # 프로펫은 변수 이름을 ds, y 로 맞춰줘야 한단다"
      ],
      "metadata": {
        "id": "NggaYIGrrS-H"
      },
      "execution_count": null,
      "outputs": []
    },
    {
      "cell_type": "code",
      "source": [
        "from fbprophet import Prophet # 프로펫\n",
        "model = Prophet() # 이제부터 너는 모델이다"
      ],
      "metadata": {
        "id": "mpBLEcuzrmKf"
      },
      "execution_count": null,
      "outputs": []
    },
    {
      "cell_type": "code",
      "source": [
        "model.fit(df) # 학습"
      ],
      "metadata": {
        "colab": {
          "base_uri": "https://localhost:8080/"
        },
        "id": "I7FPSbysrtmK",
        "outputId": "b6f1c32f-b7b3-4753-dfe5-9c964c7d0643"
      },
      "execution_count": null,
      "outputs": [
        {
          "output_type": "stream",
          "name": "stderr",
          "text": [
            "INFO:fbprophet:Disabling weekly seasonality. Run prophet with weekly_seasonality=True to override this.\n",
            "INFO:fbprophet:Disabling daily seasonality. Run prophet with daily_seasonality=True to override this.\n"
          ]
        },
        {
          "output_type": "execute_result",
          "data": {
            "text/plain": [
              "<fbprophet.forecaster.Prophet at 0x7f3acc6cec10>"
            ]
          },
          "metadata": {},
          "execution_count": 11
        }
      ]
    },
    {
      "cell_type": "code",
      "source": [
        "last_1year = list() # 마지막 년도인 2020년의 12개의 달을 모으려고 한다 \n",
        "for i in range(1, 13):\n",
        "  last_1year.append(['2020-%02d' % i])\n",
        "last_1year = pd.DataFrame(last_1year, columns = ['ds'])\n",
        "last_1year['ds'] = pd.to_datetime(last_1year['ds']) # 남에 꺼 따라했다\n",
        "\n",
        "# 미래나 과거를 예측해보기 전 학습으로 사용한 데이터를 잘 예측하는지 확인해야 한단다\n",
        "# in_sample_forecast라고 한다는데, 즉 train_set을 잘 예측하냐 보는거다"
      ],
      "metadata": {
        "id": "xzvfGopBr0jB"
      },
      "execution_count": null,
      "outputs": []
    },
    {
      "cell_type": "code",
      "source": [
        "forecast = model.predict(last_1year) # 모은 2020년을 예측해보라 하고 forecast에 저장했다"
      ],
      "metadata": {
        "id": "cCsNnjMAsdts"
      },
      "execution_count": null,
      "outputs": []
    },
    {
      "cell_type": "code",
      "source": [
        "print(forecast[['ds', 'yhat', 'yhat_lower', 'yhat_upper']].head()) \n",
        "# 뭐가 많은데 4가지 컬럼만 보겠다"
      ],
      "metadata": {
        "colab": {
          "base_uri": "https://localhost:8080/"
        },
        "id": "Eh6gd_BVskCT",
        "outputId": "97adf315-6276-4192-e117-4506c7fbb8e8"
      },
      "execution_count": null,
      "outputs": [
        {
          "output_type": "stream",
          "name": "stdout",
          "text": [
            "          ds          yhat    yhat_lower    yhat_upper\n",
            "0 2020-01-01  34727.082296  28941.784239  40401.340646\n",
            "1 2020-02-01  32322.647717  26871.005319  38046.154614\n",
            "2 2020-03-01  26443.097129  21016.747619  32297.856781\n",
            "3 2020-04-01  23393.959225  18146.538592  28865.148937\n",
            "4 2020-05-01  22753.552434  17682.281890  28474.235860\n"
          ]
        }
      ]
    },
    {
      "cell_type": "code",
      "source": [
        "model.plot(forecast)\n",
        "pyplot.show()\n",
        "# 프로펫은 내장함수 plot()가 있어서 좋다\n",
        "# 검은점은 실제 데이터고 파란선이 예측값인데 엄청 잘 맞춘듯"
      ],
      "metadata": {
        "colab": {
          "base_uri": "https://localhost:8080/",
          "height": 441
        },
        "id": "BeEPvPvss0AM",
        "outputId": "69516015-587f-4add-bf29-1ad549b9f20f"
      },
      "execution_count": null,
      "outputs": [
        {
          "output_type": "display_data",
          "data": {
            "text/plain": [
              "<Figure size 720x432 with 1 Axes>"
            ],
            "image/png": "[encoded data removed]"
          },
          "metadata": {}
        }
      ]
    },
    {
      "cell_type": "code",
      "source": [
        "last_1year1 = list() # 이번엔 임의의 날짜 2021년 12달을 만든다\n",
        "for i in range(1, 13):\n",
        "  last_1year1.append(['2021-%02d' % i])\n",
        "last_1year1 = pd.DataFrame(last_1year1, columns = ['ds'])\n",
        "last_1year1['ds'] = pd.to_datetime(last_1year1['ds'])\n",
        "\n",
        "# out_of_sample_forecast라고 한다는데, 그냥 21년 예측하는거다"
      ],
      "metadata": {
        "id": "fho_6tc8tAZk"
      },
      "execution_count": null,
      "outputs": []
    },
    {
      "cell_type": "code",
      "source": [
        "forecast1 = model.predict(last_1year1)\n",
        "model.plot(forecast1)\n",
        "pyplot.show()\n",
        "# 대충 잘 맞춘듯, 점이 많으니까 그냥 용과같아서 이쁘다"
      ],
      "metadata": {
        "colab": {
          "base_uri": "https://localhost:8080/",
          "height": 441
        },
        "id": "dJWBtaletbIE",
        "outputId": "30b005a2-0de4-4d3f-8981-ace1a03fe87e"
      },
      "execution_count": null,
      "outputs": [
        {
          "output_type": "display_data",
          "data": {
            "text/plain": [
              "<Figure size 720x432 with 1 Axes>"
            ],
            "image/png": "[encoded data removed]"
          },
          "metadata": {}
        }
      ]
    },
    {
      "cell_type": "code",
      "source": [
        "# 이번에는 다르게 마지막 1년을 제외한 값으로 학습을 하고 마지막 1년을 예측한 뒤 \n",
        "# 실제 마지막 1년과 비교하려고 한다 \n",
        "\n",
        "# 마지막 12개월 제외시키기 \n",
        "train = df.drop(df.index[-12:]) # train에서 뒤에 12개 제외\n",
        "y_true = df['y'][-12:].values # 제외한 값은 y_true로 저장해둔다\n",
        "\n",
        "# 모델 생성 후 학습\n",
        "model = Prophet()\n",
        "model.fit(train) # 12개가 빠진 train으로 학습\n",
        "\n",
        "# 가상의 마지막 12개월 생성\n",
        "last_1year = list()\n",
        "for i in range(1, 13):\n",
        "  last_1year.append(['2020-%02d' % i])\n",
        "last_1year = pd.DataFrame(last_1year, columns = ['ds'])\n",
        "last_1year['ds'] = pd.to_datetime(last_1year['ds']) # 실제 값이 들은게 아니다 !\n",
        "\n",
        "# 예측, 비교하기 그리고 MAE를 살펴보기\n",
        "forecast = model.predict(last_1year)\n",
        "y_pred = forecast['yhat'].values\n",
        "from sklearn.metrics import mean_absolute_error\n",
        "mae = mean_absolute_error(y_true, y_pred)\n",
        "print('MAE: %.3f' % mae)"
      ],
      "metadata": {
        "colab": {
          "base_uri": "https://localhost:8080/"
        },
        "id": "_xVPKaRet1MA",
        "outputId": "3c371f1f-0104-4e27-b7c8-aadc7257e5cf"
      },
      "execution_count": null,
      "outputs": [
        {
          "output_type": "stream",
          "name": "stderr",
          "text": [
            "INFO:fbprophet:Disabling weekly seasonality. Run prophet with weekly_seasonality=True to override this.\n",
            "INFO:fbprophet:Disabling daily seasonality. Run prophet with daily_seasonality=True to override this.\n"
          ]
        },
        {
          "output_type": "stream",
          "name": "stdout",
          "text": [
            "MAE: 3810.923\n"
          ]
        }
      ]
    },
    {
      "cell_type": "code",
      "source": [
        "pyplot.plot(y_true, label='Actual')\n",
        "pyplot.plot(y_pred, label='Predicted')\n",
        "pyplot.legend()\n",
        "pyplot.show()"
      ],
      "metadata": {
        "colab": {
          "base_uri": "https://localhost:8080/",
          "height": 265
        },
        "id": "uhWxVHqJvHuw",
        "outputId": "636d8c3b-c26e-4d25-f8b2-0f21513b161e"
      },
      "execution_count": null,
      "outputs": [
        {
          "output_type": "display_data",
          "data": {
            "text/plain": [
              "<Figure size 432x288 with 1 Axes>"
            ],
            "image/png": "[encoded data removed]"
          },
          "metadata": {
            "needs_background": "light"
          }
        }
      ]
    },
    {
      "cell_type": "code",
      "source": [
        "forecast1['yhat'] # 2021년 평균 출생아수 예측값"
      ],
      "metadata": {
        "colab": {
          "base_uri": "https://localhost:8080/"
        },
        "id": "ko6g7pZEMK9j",
        "outputId": "2dbab289-5520-4213-dc30-5d6b6e555f87"
      },
      "execution_count": null,
      "outputs": [
        {
          "output_type": "execute_result",
          "data": {
            "text/plain": [
              "0     32876.902314\n",
              "1     31123.177577\n",
              "2     24745.606706\n",
              "3     21783.181656\n",
              "4     21155.716159\n",
              "5     18511.883495\n",
              "6     20473.715737\n",
              "7     21324.138964\n",
              "8     22693.445189\n",
              "9     23639.242743\n",
              "10    21383.904601\n",
              "11    20109.910406\n",
              "Name: yhat, dtype: float64"
            ]
          },
          "metadata": {},
          "execution_count": 20
        }
      ]
    },
    {
      "cell_type": "code",
      "source": [
        "data2021 = [24909, 21328, 23934, 22710, 21935, 21524, 22356, 22287, 21893, 20741, 19793, 17084]\n",
        "# 실제 2021년 출생아수 값\n",
        "# https://data.kma.go.kr/stcs/grnd/grndTaList.do?pgmNo=70"
      ],
      "metadata": {
        "id": "HPnWedKsMMVL"
      },
      "execution_count": null,
      "outputs": []
    },
    {
      "cell_type": "code",
      "source": [
        "pyplot.plot(data2021, label='Actual')\n",
        "pyplot.plot(forecast1['yhat'], label='Predicted')\n",
        "pyplot.legend()\n",
        "pyplot.show()"
      ],
      "metadata": {
        "colab": {
          "base_uri": "https://localhost:8080/",
          "height": 265
        },
        "id": "cxzM4lD_MP3-",
        "outputId": "ddaf7ce6-044d-45d0-9c5f-f9561845b404"
      },
      "execution_count": null,
      "outputs": [
        {
          "output_type": "display_data",
          "data": {
            "text/plain": [
              "<Figure size 432x288 with 1 Axes>"
            ],
            "image/png": "[encoded data removed]"
          },
          "metadata": {
            "needs_background": "light"
          }
        }
      ]
    },
    {
      "cell_type": "code",
      "source": [
        "last_1year2 = list() # 이번엔 임의의 날짜 2022년 12달을 만든다\n",
        "for i in range(1, 13):\n",
        "  last_1year2.append(['2022-%02d' % i])\n",
        "last_1year2 = pd.DataFrame(last_1year2, columns = ['ds'])\n",
        "last_1year2['ds'] = pd.to_datetime(last_1year2['ds'])"
      ],
      "metadata": {
        "id": "ymkaDrZDNrZN"
      },
      "execution_count": null,
      "outputs": []
    },
    {
      "cell_type": "code",
      "source": [
        "forecast2 = model.predict(last_1year2)\n",
        "model.plot(forecast2)\n",
        "pyplot.show()"
      ],
      "metadata": {
        "colab": {
          "base_uri": "https://localhost:8080/",
          "height": 441
        },
        "id": "-LUCtSerNsqt",
        "outputId": "0b968291-983f-497a-da8e-70f59f3b28b4"
      },
      "execution_count": null,
      "outputs": [
        {
          "output_type": "display_data",
          "data": {
            "text/plain": [
              "<Figure size 720x432 with 1 Axes>"
            ],
            "image/png": "[encoded data removed]"
          },
          "metadata": {}
        }
      ]
    },
    {
      "cell_type": "code",
      "source": [
        "forecast2"
      ],
      "metadata": {
        "colab": {
          "base_uri": "https://localhost:8080/",
          "height": 698
        },
        "id": "3ouphMKsOQyL",
        "outputId": "471da184-132d-4109-9465-2f3236011921"
      },
      "execution_count": null,
      "outputs": [
        {
          "output_type": "execute_result",
          "data": {
            "text/plain": [
              "           ds         trend    yhat_lower    yhat_upper   trend_lower  \\\n",
              "0  2022-01-01  24134.007831  27403.968681  38786.230067  23239.757136   \n",
              "1  2022-02-01  24011.459015  25117.481459  36815.664690  23067.468225   \n",
              "2  2022-03-01  23900.769761  18755.423484  30335.343693  22910.552639   \n",
              "3  2022-04-01  23778.220945  16067.219160  27930.882104  22714.370571   \n",
              "4  2022-05-01  23659.625317  15689.577935  27124.033194  22527.092267   \n",
              "5  2022-06-01  23537.076501  12561.265028  24424.027227  22336.020503   \n",
              "6  2022-07-01  23418.480873  14113.665378  26053.228842  22145.024098   \n",
              "7  2022-08-01  23295.932057  15387.315479  26996.806312  21929.089172   \n",
              "8  2022-09-01  23173.383241  16483.714511  28390.363072  21722.560036   \n",
              "9  2022-10-01  23054.787612  18134.295220  29752.625737  21547.525992   \n",
              "10 2022-11-01  22932.238797  15729.448091  27596.577207  21362.297937   \n",
              "11 2022-12-01  22813.643168  14394.507137  25987.898722  21163.348510   \n",
              "\n",
              "     trend_upper  additive_terms  additive_terms_lower  additive_terms_upper  \\\n",
              "0   24917.316374     8843.179328           8843.179328           8843.179328   \n",
              "1   24829.938479     7041.805035           7041.805035           7041.805035   \n",
              "2   24796.177149      753.953284            753.953284            753.953284   \n",
              "3   24746.499094    -1992.577139          -1992.577139          -1992.577139   \n",
              "4   24690.408575    -2458.735713          -2458.735713          -2458.735713   \n",
              "5   24616.117295    -4942.425926          -4942.425926          -4942.425926   \n",
              "6   24552.172277    -2930.826376          -2930.826376          -2930.826376   \n",
              "7   24484.390992    -1970.680212          -1970.680212          -1970.680212   \n",
              "8   24424.274551     -524.125018           -524.125018           -524.125018   \n",
              "9   24376.505229      728.408190            728.408190            728.408190   \n",
              "10  24317.323047    -1286.645134          -1286.645134          -1286.645134   \n",
              "11  24245.307215    -2544.943744          -2544.943744          -2544.943744   \n",
              "\n",
              "         yearly  yearly_lower  yearly_upper  multiplicative_terms  \\\n",
              "0   8843.179328   8843.179328   8843.179328                   0.0   \n",
              "1   7041.805035   7041.805035   7041.805035                   0.0   \n",
              "2    753.953284    753.953284    753.953284                   0.0   \n",
              "3  -1992.577139  -1992.577139  -1992.577139                   0.0   \n",
              "4  -2458.735713  -2458.735713  -2458.735713                   0.0   \n",
              "5  -4942.425926  -4942.425926  -4942.425926                   0.0   \n",
              "6  -2930.826376  -2930.826376  -2930.826376                   0.0   \n",
              "7  -1970.680212  -1970.680212  -1970.680212                   0.0   \n",
              "8   -524.125018   -524.125018   -524.125018                   0.0   \n",
              "9    728.408190    728.408190    728.408190                   0.0   \n",
              "10 -1286.645134  -1286.645134  -1286.645134                   0.0   \n",
              "11 -2544.943744  -2544.943744  -2544.943744                   0.0   \n",
              "\n",
              "    multiplicative_terms_lower  multiplicative_terms_upper          yhat  \n",
              "0                          0.0                         0.0  32977.187159  \n",
              "1                          0.0                         0.0  31053.264050  \n",
              "2                          0.0                         0.0  24654.723045  \n",
              "3                          0.0                         0.0  21785.643807  \n",
              "4                          0.0                         0.0  21200.889604  \n",
              "5                          0.0                         0.0  18594.650576  \n",
              "6                          0.0                         0.0  20487.654497  \n",
              "7                          0.0                         0.0  21325.251844  \n",
              "8                          0.0                         0.0  22649.258223  \n",
              "9                          0.0                         0.0  23783.195803  \n",
              "10                         0.0                         0.0  21645.593662  \n",
              "11                         0.0                         0.0  20268.699424  "
            ],
            "text/html": [
              "\n",
              "  <div id=\"df-246ef43a-4e5f-414d-85fe-9658827291f1\">\n",
              "    <div class=\"colab-df-container\">\n",
              "      <div>\n",
              "<style scoped>\n",
              "    .dataframe tbody tr th:only-of-type {\n",
              "        vertical-align: middle;\n",
              "    }\n",
              "\n",
              "    .dataframe tbody tr th {\n",
              "        vertical-align: top;\n",
              "    }\n",
              "\n",
              "    .dataframe thead th {\n",
              "        text-align: right;\n",
              "    }\n",
              "</style>\n",
              "<table border=\"1\" class=\"dataframe\">\n",
              "  <thead>\n",
              "    <tr style=\"text-align: right;\">\n",
              "      <th></th>\n",
              "      <th>ds</th>\n",
              "      <th>trend</th>\n",
              "      <th>yhat_lower</th>\n",
              "      <th>yhat_upper</th>\n",
              "      <th>trend_lower</th>\n",
              "      <th>trend_upper</th>\n",
              "      <th>additive_terms</th>\n",
              "      <th>additive_terms_lower</th>\n",
              "      <th>additive_terms_upper</th>\n",
              "      <th>yearly</th>\n",
              "      <th>yearly_lower</th>\n",
              "      <th>yearly_upper</th>\n",
              "      <th>multiplicative_terms</th>\n",
              "      <th>multiplicative_terms_lower</th>\n",
              "      <th>multiplicative_terms_upper</th>\n",
              "      <th>yhat</th>\n",
              "    </tr>\n",
              "  </thead>\n",
              "  <tbody>\n",
              "    <tr>\n",
              "      <th>0</th>\n",
              "      <td>2022-01-01</td>\n",
              "      <td>24134.007831</td>\n",
              "      <td>27403.968681</td>\n",
              "      <td>38786.230067</td>\n",
              "      <td>23239.757136</td>\n",
              "      <td>24917.316374</td>\n",
              "      <td>8843.179328</td>\n",
              "      <td>8843.179328</td>\n",
              "      <td>8843.179328</td>\n",
              "      <td>8843.179328</td>\n",
              "      <td>8843.179328</td>\n",
              "      <td>8843.179328</td>\n",
              "      <td>0.0</td>\n",
              "      <td>0.0</td>\n",
              "      <td>0.0</td>\n",
              "      <td>32977.187159</td>\n",
              "    </tr>\n",
              "    <tr>\n",
              "      <th>1</th>\n",
              "      <td>2022-02-01</td>\n",
              "      <td>24011.459015</td>\n",
              "      <td>25117.481459</td>\n",
              "      <td>36815.664690</td>\n",
              "      <td>23067.468225</td>\n",
              "      <td>24829.938479</td>\n",
              "      <td>7041.805035</td>\n",
              "      <td>7041.805035</td>\n",
              "      <td>7041.805035</td>\n",
              "      <td>7041.805035</td>\n",
              "      <td>7041.805035</td>\n",
              "      <td>7041.805035</td>\n",
              "      <td>0.0</td>\n",
              "      <td>0.0</td>\n",
              "      <td>0.0</td>\n",
              "      <td>31053.264050</td>\n",
              "    </tr>\n",
              "    <tr>\n",
              "      <th>2</th>\n",
              "      <td>2022-03-01</td>\n",
              "      <td>23900.769761</td>\n",
              "      <td>18755.423484</td>\n",
              "      <td>30335.343693</td>\n",
              "      <td>22910.552639</td>\n",
              "      <td>24796.177149</td>\n",
              "      <td>753.953284</td>\n",
              "      <td>753.953284</td>\n",
              "      <td>753.953284</td>\n",
              "      <td>753.953284</td>\n",
              "      <td>753.953284</td>\n",
              "      <td>753.953284</td>\n",
              "      <td>0.0</td>\n",
              "      <td>0.0</td>\n",
              "      <td>0.0</td>\n",
              "      <td>24654.723045</td>\n",
              "    </tr>\n",
              "    <tr>\n",
              "      <th>3</th>\n",
              "      <td>2022-04-01</td>\n",
              "      <td>23778.220945</td>\n",
              "      <td>16067.219160</td>\n",
              "      <td>27930.882104</td>\n",
              "      <td>22714.370571</td>\n",
              "      <td>24746.499094</td>\n",
              "      <td>-1992.577139</td>\n",
              "      <td>-1992.577139</td>\n",
              "      <td>-1992.577139</td>\n",
              "      <td>-1992.577139</td>\n",
              "      <td>-1992.577139</td>\n",
              "      <td>-1992.577139</td>\n",
              "      <td>0.0</td>\n",
              "      <td>0.0</td>\n",
              "      <td>0.0</td>\n",
              "      <td>21785.643807</td>\n",
              "    </tr>\n",
              "    <tr>\n",
              "      <th>4</th>\n",
              "      <td>2022-05-01</td>\n",
              "      <td>23659.625317</td>\n",
              "      <td>15689.577935</td>\n",
              "      <td>27124.033194</td>\n",
              "      <td>22527.092267</td>\n",
              "      <td>24690.408575</td>\n",
              "      <td>-2458.735713</td>\n",
              "      <td>-2458.735713</td>\n",
              "      <td>-2458.735713</td>\n",
              "      <td>-2458.735713</td>\n",
              "      <td>-2458.735713</td>\n",
              "      <td>-2458.735713</td>\n",
              "      <td>0.0</td>\n",
              "      <td>0.0</td>\n",
              "      <td>0.0</td>\n",
              "      <td>21200.889604</td>\n",
              "    </tr>\n",
              "    <tr>\n",
              "      <th>5</th>\n",
              "      <td>2022-06-01</td>\n",
              "      <td>23537.076501</td>\n",
              "      <td>12561.265028</td>\n",
              "      <td>24424.027227</td>\n",
              "      <td>22336.020503</td>\n",
              "      <td>24616.117295</td>\n",
              "      <td>-4942.425926</td>\n",
              "      <td>-4942.425926</td>\n",
              "      <td>-4942.425926</td>\n",
              "      <td>-4942.425926</td>\n",
              "      <td>-4942.425926</td>\n",
              "      <td>-4942.425926</td>\n",
              "      <td>0.0</td>\n",
              "      <td>0.0</td>\n",
              "      <td>0.0</td>\n",
              "      <td>18594.650576</td>\n",
              "    </tr>\n",
              "    <tr>\n",
              "      <th>6</th>\n",
              "      <td>2022-07-01</td>\n",
              "      <td>23418.480873</td>\n",
              "      <td>14113.665378</td>\n",
              "      <td>26053.228842</td>\n",
              "      <td>22145.024098</td>\n",
              "      <td>24552.172277</td>\n",
              "      <td>-2930.826376</td>\n",
              "      <td>-2930.826376</td>\n",
              "      <td>-2930.826376</td>\n",
              "      <td>-2930.826376</td>\n",
              "      <td>-2930.826376</td>\n",
              "      <td>-2930.826376</td>\n",
              "      <td>0.0</td>\n",
              "      <td>0.0</td>\n",
              "      <td>0.0</td>\n",
              "      <td>20487.654497</td>\n",
              "    </tr>\n",
              "    <tr>\n",
              "      <th>7</th>\n",
              "      <td>2022-08-01</td>\n",
              "      <td>23295.932057</td>\n",
              "      <td>15387.315479</td>\n",
              "      <td>26996.806312</td>\n",
              "      <td>21929.089172</td>\n",
              "      <td>24484.390992</td>\n",
              "      <td>-1970.680212</td>\n",
              "      <td>-1970.680212</td>\n",
              "      <td>-1970.680212</td>\n",
              "      <td>-1970.680212</td>\n",
              "      <td>-1970.680212</td>\n",
              "      <td>-1970.680212</td>\n",
              "      <td>0.0</td>\n",
              "      <td>0.0</td>\n",
              "      <td>0.0</td>\n",
              "      <td>21325.251844</td>\n",
              "    </tr>\n",
              "    <tr>\n",
              "      <th>8</th>\n",
              "      <td>2022-09-01</td>\n",
              "      <td>23173.383241</td>\n",
              "      <td>16483.714511</td>\n",
              "      <td>28390.363072</td>\n",
              "      <td>21722.560036</td>\n",
              "      <td>24424.274551</td>\n",
              "      <td>-524.125018</td>\n",
              "      <td>-524.125018</td>\n",
              "      <td>-524.125018</td>\n",
              "      <td>-524.125018</td>\n",
              "      <td>-524.125018</td>\n",
              "      <td>-524.125018</td>\n",
              "      <td>0.0</td>\n",
              "      <td>0.0</td>\n",
              "      <td>0.0</td>\n",
              "      <td>22649.258223</td>\n",
              "    </tr>\n",
              "    <tr>\n",
              "      <th>9</th>\n",
              "      <td>2022-10-01</td>\n",
              "      <td>23054.787612</td>\n",
              "      <td>18134.295220</td>\n",
              "      <td>29752.625737</td>\n",
              "      <td>21547.525992</td>\n",
              "      <td>24376.505229</td>\n",
              "      <td>728.408190</td>\n",
              "      <td>728.408190</td>\n",
              "      <td>728.408190</td>\n",
              "      <td>728.408190</td>\n",
              "      <td>728.408190</td>\n",
              "      <td>728.408190</td>\n",
              "      <td>0.0</td>\n",
              "      <td>0.0</td>\n",
              "      <td>0.0</td>\n",
              "      <td>23783.195803</td>\n",
              "    </tr>\n",
              "    <tr>\n",
              "      <th>10</th>\n",
              "      <td>2022-11-01</td>\n",
              "      <td>22932.238797</td>\n",
              "      <td>15729.448091</td>\n",
              "      <td>27596.577207</td>\n",
              "      <td>21362.297937</td>\n",
              "      <td>24317.323047</td>\n",
              "      <td>-1286.645134</td>\n",
              "      <td>-1286.645134</td>\n",
              "      <td>-1286.645134</td>\n",
              "      <td>-1286.645134</td>\n",
              "      <td>-1286.645134</td>\n",
              "      <td>-1286.645134</td>\n",
              "      <td>0.0</td>\n",
              "      <td>0.0</td>\n",
              "      <td>0.0</td>\n",
              "      <td>21645.593662</td>\n",
              "    </tr>\n",
              "    <tr>\n",
              "      <th>11</th>\n",
              "      <td>2022-12-01</td>\n",
              "      <td>22813.643168</td>\n",
              "      <td>14394.507137</td>\n",
              "      <td>25987.898722</td>\n",
              "      <td>21163.348510</td>\n",
              "      <td>24245.307215</td>\n",
              "      <td>-2544.943744</td>\n",
              "      <td>-2544.943744</td>\n",
              "      <td>-2544.943744</td>\n",
              "      <td>-2544.943744</td>\n",
              "      <td>-2544.943744</td>\n",
              "      <td>-2544.943744</td>\n",
              "      <td>0.0</td>\n",
              "      <td>0.0</td>\n",
              "      <td>0.0</td>\n",
              "      <td>20268.699424</td>\n",
              "    </tr>\n",
              "  </tbody>\n",
              "</table>\n",
              "</div>\n",
              "      <button class=\"colab-df-convert\" onclick=\"convertToInteractive('df-246ef43a-4e5f-414d-85fe-9658827291f1')\"\n",
              "              title=\"Convert this dataframe to an interactive table.\"\n",
              "              style=\"display:none;\">\n",
              "        \n",
              "  <svg xmlns=\"http://www.w3.org/2000/svg\" height=\"24px\"viewBox=\"0 0 24 24\"\n",
              "       width=\"24px\">\n",
              "    <path d=\"M0 0h24v24H0V0z\" fill=\"none\"/>\n",
              "    <path d=\"M18.56 5.44l.94 2.06.94-2.06 2.06-.94-2.06-.94-.94-2.06-.94 2.06-2.06.94zm-11 1L8.5 8.5l.94-2.06 2.06-.94-2.06-.94L8.5 2.5l-.94 2.06-2.06.94zm10 10l.94 2.06.94-2.06 2.06-.94-2.06-.94-.94-2.06-.94 2.06-2.06.94z\"/><path d=\"M17.41 7.96l-1.37-1.37c-.4-.4-.92-.59-1.43-.59-.52 0-1.04.2-1.43.59L10.3 9.45l-7.72 7.72c-.78.78-.78 2.05 0 2.83L4 21.41c.39.39.9.59 1.41.59.51 0 1.02-.2 1.41-.59l7.78-7.78 2.81-2.81c.8-.78.8-2.07 0-2.86zM5.41 20L4 18.59l7.72-7.72 1.47 1.35L5.41 20z\"/>\n",
              "  </svg>\n",
              "      </button>\n",
              "      \n",
              "  <style>\n",
              "    .colab-df-container {\n",
              "      display:flex;\n",
              "      flex-wrap:wrap;\n",
              "      gap: 12px;\n",
              "    }\n",
              "\n",
              "    .colab-df-convert {\n",
              "      background-color: #E8F0FE;\n",
              "      border: none;\n",
              "      border-radius: 50%;\n",
              "      cursor: pointer;\n",
              "      display: none;\n",
              "      fill: #1967D2;\n",
              "      height: 32px;\n",
              "      padding: 0 0 0 0;\n",
              "      width: 32px;\n",
              "    }\n",
              "\n",
              "    .colab-df-convert:hover {\n",
              "      background-color: #E2EBFA;\n",
              "      box-shadow: 0px 1px 2px rgba(60, 64, 67, 0.3), 0px 1px 3px 1px rgba(60, 64, 67, 0.15);\n",
              "      fill: #174EA6;\n",
              "    }\n",
              "\n",
              "    [theme=dark] .colab-df-convert {\n",
              "      background-color: #3B4455;\n",
              "      fill: #D2E3FC;\n",
              "    }\n",
              "\n",
              "    [theme=dark] .colab-df-convert:hover {\n",
              "      background-color: #434B5C;\n",
              "      box-shadow: 0px 1px 3px 1px rgba(0, 0, 0, 0.15);\n",
              "      filter: drop-shadow(0px 1px 2px rgba(0, 0, 0, 0.3));\n",
              "      fill: #FFFFFF;\n",
              "    }\n",
              "  </style>\n",
              "\n",
              "      <script>\n",
              "        const buttonEl =\n",
              "          document.querySelector('#df-246ef43a-4e5f-414d-85fe-9658827291f1 button.colab-df-convert');\n",
              "        buttonEl.style.display =\n",
              "          google.colab.kernel.accessAllowed ? 'block' : 'none';\n",
              "\n",
              "        async function convertToInteractive(key) {\n",
              "          const element = document.querySelector('#df-246ef43a-4e5f-414d-85fe-9658827291f1');\n",
              "          const dataTable =\n",
              "            await google.colab.kernel.invokeFunction('convertToInteractive',\n",
              "                                                     [key], {});\n",
              "          if (!dataTable) return;\n",
              "\n",
              "          const docLinkHtml = 'Like what you see? Visit the ' +\n",
              "            '<a target=\"_blank\" href=https://colab.research.google.com/notebooks/data_table.ipynb>data table notebook</a>'\n",
              "            + ' to learn more about interactive tables.';\n",
              "          element.innerHTML = '';\n",
              "          dataTable['output_type'] = 'display_data';\n",
              "          await google.colab.output.renderOutput(dataTable, element);\n",
              "          const docLink = document.createElement('div');\n",
              "          docLink.innerHTML = docLinkHtml;\n",
              "          element.appendChild(docLink);\n",
              "        }\n",
              "      </script>\n",
              "    </div>\n",
              "  </div>\n",
              "  "
            ]
          },
          "metadata": {},
          "execution_count": 25
        }
      ]
    },
    {
      "cell_type": "code",
      "source": [
        "pyplot.plot(forecast['yhat'], label='2022pred')\n",
        "pyplot.legend()\n",
        "pyplot.show()"
      ],
      "metadata": {
        "colab": {
          "base_uri": "https://localhost:8080/",
          "height": 265
        },
        "id": "3IcTXO38OwAS",
        "outputId": "cee3cd03-7f79-4fe7-dd52-062a11271501"
      },
      "execution_count": null,
      "outputs": [
        {
          "output_type": "display_data",
          "data": {
            "text/plain": [
              "<Figure size 432x288 with 1 Axes>"
            ],
            "image/png": "[encoded data removed]"
          },
          "metadata": {
            "needs_background": "light"
          }
        }
      ]
    },
    {
      "cell_type": "markdown",
      "source": [
        "# 2023년 예측"
      ],
      "metadata": {
        "id": "3wnmSq8iL3w6"
      }
    },
    {
      "cell_type": "code",
      "source": [
        "last_1year3 = list() # 이번엔 임의의 날짜 2023년 12달을 만든다\n",
        "for i in range(1, 13):\n",
        "  last_1year3.append(['2023-%02d' % i])\n",
        "last_1year3 = pd.DataFrame(last_1year3, columns = ['ds'])\n",
        "last_1year3['ds'] = pd.to_datetime(last_1year3['ds'])"
      ],
      "metadata": {
        "id": "FqeJxDVDLq8d"
      },
      "execution_count": null,
      "outputs": []
    },
    {
      "cell_type": "code",
      "source": [
        "forecast3 = model.predict(last_1year3)\n",
        "model.plot(forecast3)\n",
        "pyplot.show()"
      ],
      "metadata": {
        "colab": {
          "base_uri": "https://localhost:8080/",
          "height": 441
        },
        "id": "UDRdsANxL3EJ",
        "outputId": "b7826ffb-577f-42f5-a60a-3575d2a9190b"
      },
      "execution_count": null,
      "outputs": [
        {
          "output_type": "display_data",
          "data": {
            "text/plain": [
              "<Figure size 720x432 with 1 Axes>"
            ],
            "image/png": "[encoded data removed]"
          },
          "metadata": {}
        }
      ]
    },
    {
      "cell_type": "code",
      "source": [
        "forecast3"
      ],
      "metadata": {
        "colab": {
          "base_uri": "https://localhost:8080/",
          "height": 698
        },
        "id": "iN7bPQ50LtSX",
        "outputId": "be536a63-6b84-40e9-c28f-367181d1154e"
      },
      "execution_count": null,
      "outputs": [
        {
          "output_type": "execute_result",
          "data": {
            "text/plain": [
              "           ds         trend    yhat_lower    yhat_upper   trend_lower  \\\n",
              "0  2023-01-01  22691.094352  25770.827876  37675.813524  21126.167000   \n",
              "1  2023-02-01  22568.545536  23656.810667  35534.299275  20932.522524   \n",
              "2  2023-03-01  22457.856283  16957.498548  28927.223795  20757.634676   \n",
              "3  2023-04-01  22335.307467  14203.692435  26342.899759  20565.419072   \n",
              "4  2023-05-01  22216.711839  13150.357956  25537.414261  20327.708391   \n",
              "5  2023-06-01  22094.163023  11721.285515  23384.045462  20142.098203   \n",
              "6  2023-07-01  21975.567394  12696.347143  24991.636606  19933.364480   \n",
              "7  2023-08-01  21853.018578  13908.426017  26387.992960  19733.788919   \n",
              "8  2023-09-01  21730.469762  14754.842676  27426.789344  19532.374813   \n",
              "9  2023-10-01  21611.874134  15620.075560  28096.247799  19319.428644   \n",
              "10 2023-11-01  21489.325318  14237.009813  26255.128923  19147.357934   \n",
              "11 2023-12-01  21370.729690  12398.059916  24771.324697  18949.806235   \n",
              "\n",
              "     trend_upper  additive_terms  additive_terms_lower  additive_terms_upper  \\\n",
              "0   24367.390443     9094.551123           9094.551123           9094.551123   \n",
              "1   24310.901513     7083.029680           7083.029680           7083.029680   \n",
              "2   24263.910661      559.210201            559.210201            559.210201   \n",
              "3   24201.975074    -2004.763647          -2004.763647          -2004.763647   \n",
              "4   24153.124943    -2418.084003          -2418.084003          -2418.084003   \n",
              "5   24105.339901    -4775.778451          -4775.778451          -4775.778451   \n",
              "6   24054.902808    -2892.266931          -2892.266931          -2892.266931   \n",
              "7   23995.439755    -2021.916231          -2021.916231          -2021.916231   \n",
              "8   23950.275796     -645.480993           -645.480993           -645.480993   \n",
              "9   23899.207999      665.760300            665.760300            665.760300   \n",
              "10  23844.579762    -1246.743749          -1246.743749          -1246.743749   \n",
              "11  23824.804666    -2620.415902          -2620.415902          -2620.415902   \n",
              "\n",
              "         yearly  yearly_lower  yearly_upper  multiplicative_terms  \\\n",
              "0   9094.551123   9094.551123   9094.551123                   0.0   \n",
              "1   7083.029680   7083.029680   7083.029680                   0.0   \n",
              "2    559.210201    559.210201    559.210201                   0.0   \n",
              "3  -2004.763647  -2004.763647  -2004.763647                   0.0   \n",
              "4  -2418.084003  -2418.084003  -2418.084003                   0.0   \n",
              "5  -4775.778451  -4775.778451  -4775.778451                   0.0   \n",
              "6  -2892.266931  -2892.266931  -2892.266931                   0.0   \n",
              "7  -2021.916231  -2021.916231  -2021.916231                   0.0   \n",
              "8   -645.480993   -645.480993   -645.480993                   0.0   \n",
              "9    665.760300    665.760300    665.760300                   0.0   \n",
              "10 -1246.743749  -1246.743749  -1246.743749                   0.0   \n",
              "11 -2620.415902  -2620.415902  -2620.415902                   0.0   \n",
              "\n",
              "    multiplicative_terms_lower  multiplicative_terms_upper          yhat  \n",
              "0                          0.0                         0.0  31785.645475  \n",
              "1                          0.0                         0.0  29651.575216  \n",
              "2                          0.0                         0.0  23017.066484  \n",
              "3                          0.0                         0.0  20330.543821  \n",
              "4                          0.0                         0.0  19798.627836  \n",
              "5                          0.0                         0.0  17318.384572  \n",
              "6                          0.0                         0.0  19083.300464  \n",
              "7                          0.0                         0.0  19831.102347  \n",
              "8                          0.0                         0.0  21084.988770  \n",
              "9                          0.0                         0.0  22277.634434  \n",
              "10                         0.0                         0.0  20242.581569  \n",
              "11                         0.0                         0.0  18750.313788  "
            ],
            "text/html": [
              "\n",
              "  <div id=\"df-352fc8fc-7eb9-421f-880a-a2495c5489ac\">\n",
              "    <div class=\"colab-df-container\">\n",
              "      <div>\n",
              "<style scoped>\n",
              "    .dataframe tbody tr th:only-of-type {\n",
              "        vertical-align: middle;\n",
              "    }\n",
              "\n",
              "    .dataframe tbody tr th {\n",
              "        vertical-align: top;\n",
              "    }\n",
              "\n",
              "    .dataframe thead th {\n",
              "        text-align: right;\n",
              "    }\n",
              "</style>\n",
              "<table border=\"1\" class=\"dataframe\">\n",
              "  <thead>\n",
              "    <tr style=\"text-align: right;\">\n",
              "      <th></th>\n",
              "      <th>ds</th>\n",
              "      <th>trend</th>\n",
              "      <th>yhat_lower</th>\n",
              "      <th>yhat_upper</th>\n",
              "      <th>trend_lower</th>\n",
              "      <th>trend_upper</th>\n",
              "      <th>additive_terms</th>\n",
              "      <th>additive_terms_lower</th>\n",
              "      <th>additive_terms_upper</th>\n",
              "      <th>yearly</th>\n",
              "      <th>yearly_lower</th>\n",
              "      <th>yearly_upper</th>\n",
              "      <th>multiplicative_terms</th>\n",
              "      <th>multiplicative_terms_lower</th>\n",
              "      <th>multiplicative_terms_upper</th>\n",
              "      <th>yhat</th>\n",
              "    </tr>\n",
              "  </thead>\n",
              "  <tbody>\n",
              "    <tr>\n",
              "      <th>0</th>\n",
              "      <td>2023-01-01</td>\n",
              "      <td>22691.094352</td>\n",
              "      <td>25770.827876</td>\n",
              "      <td>37675.813524</td>\n",
              "      <td>21126.167000</td>\n",
              "      <td>24367.390443</td>\n",
              "      <td>9094.551123</td>\n",
              "      <td>9094.551123</td>\n",
              "      <td>9094.551123</td>\n",
              "      <td>9094.551123</td>\n",
              "      <td>9094.551123</td>\n",
              "      <td>9094.551123</td>\n",
              "      <td>0.0</td>\n",
              "      <td>0.0</td>\n",
              "      <td>0.0</td>\n",
              "      <td>31785.645475</td>\n",
              "    </tr>\n",
              "    <tr>\n",
              "      <th>1</th>\n",
              "      <td>2023-02-01</td>\n",
              "      <td>22568.545536</td>\n",
              "      <td>23656.810667</td>\n",
              "      <td>35534.299275</td>\n",
              "      <td>20932.522524</td>\n",
              "      <td>24310.901513</td>\n",
              "      <td>7083.029680</td>\n",
              "      <td>7083.029680</td>\n",
              "      <td>7083.029680</td>\n",
              "      <td>7083.029680</td>\n",
              "      <td>7083.029680</td>\n",
              "      <td>7083.029680</td>\n",
              "      <td>0.0</td>\n",
              "      <td>0.0</td>\n",
              "      <td>0.0</td>\n",
              "      <td>29651.575216</td>\n",
              "    </tr>\n",
              "    <tr>\n",
              "      <th>2</th>\n",
              "      <td>2023-03-01</td>\n",
              "      <td>22457.856283</td>\n",
              "      <td>16957.498548</td>\n",
              "      <td>28927.223795</td>\n",
              "      <td>20757.634676</td>\n",
              "      <td>24263.910661</td>\n",
              "      <td>559.210201</td>\n",
              "      <td>559.210201</td>\n",
              "      <td>559.210201</td>\n",
              "      <td>559.210201</td>\n",
              "      <td>559.210201</td>\n",
              "      <td>559.210201</td>\n",
              "      <td>0.0</td>\n",
              "      <td>0.0</td>\n",
              "      <td>0.0</td>\n",
              "      <td>23017.066484</td>\n",
              "    </tr>\n",
              "    <tr>\n",
              "      <th>3</th>\n",
              "      <td>2023-04-01</td>\n",
              "      <td>22335.307467</td>\n",
              "      <td>14203.692435</td>\n",
              "      <td>26342.899759</td>\n",
              "      <td>20565.419072</td>\n",
              "      <td>24201.975074</td>\n",
              "      <td>-2004.763647</td>\n",
              "      <td>-2004.763647</td>\n",
              "      <td>-2004.763647</td>\n",
              "      <td>-2004.763647</td>\n",
              "      <td>-2004.763647</td>\n",
              "      <td>-2004.763647</td>\n",
              "      <td>0.0</td>\n",
              "      <td>0.0</td>\n",
              "      <td>0.0</td>\n",
              "      <td>20330.543821</td>\n",
              "    </tr>\n",
              "    <tr>\n",
              "      <th>4</th>\n",
              "      <td>2023-05-01</td>\n",
              "      <td>22216.711839</td>\n",
              "      <td>13150.357956</td>\n",
              "      <td>25537.414261</td>\n",
              "      <td>20327.708391</td>\n",
              "      <td>24153.124943</td>\n",
              "      <td>-2418.084003</td>\n",
              "      <td>-2418.084003</td>\n",
              "      <td>-2418.084003</td>\n",
              "      <td>-2418.084003</td>\n",
              "      <td>-2418.084003</td>\n",
              "      <td>-2418.084003</td>\n",
              "      <td>0.0</td>\n",
              "      <td>0.0</td>\n",
              "      <td>0.0</td>\n",
              "      <td>19798.627836</td>\n",
              "    </tr>\n",
              "    <tr>\n",
              "      <th>5</th>\n",
              "      <td>2023-06-01</td>\n",
              "      <td>22094.163023</td>\n",
              "      <td>11721.285515</td>\n",
              "      <td>23384.045462</td>\n",
              "      <td>20142.098203</td>\n",
              "      <td>24105.339901</td>\n",
              "      <td>-4775.778451</td>\n",
              "      <td>-4775.778451</td>\n",
              "      <td>-4775.778451</td>\n",
              "      <td>-4775.778451</td>\n",
              "      <td>-4775.778451</td>\n",
              "      <td>-4775.778451</td>\n",
              "      <td>0.0</td>\n",
              "      <td>0.0</td>\n",
              "      <td>0.0</td>\n",
              "      <td>17318.384572</td>\n",
              "    </tr>\n",
              "    <tr>\n",
              "      <th>6</th>\n",
              "      <td>2023-07-01</td>\n",
              "      <td>21975.567394</td>\n",
              "      <td>12696.347143</td>\n",
              "      <td>24991.636606</td>\n",
              "      <td>19933.364480</td>\n",
              "      <td>24054.902808</td>\n",
              "      <td>-2892.266931</td>\n",
              "      <td>-2892.266931</td>\n",
              "      <td>-2892.266931</td>\n",
              "      <td>-2892.266931</td>\n",
              "      <td>-2892.266931</td>\n",
              "      <td>-2892.266931</td>\n",
              "      <td>0.0</td>\n",
              "      <td>0.0</td>\n",
              "      <td>0.0</td>\n",
              "      <td>19083.300464</td>\n",
              "    </tr>\n",
              "    <tr>\n",
              "      <th>7</th>\n",
              "      <td>2023-08-01</td>\n",
              "      <td>21853.018578</td>\n",
              "      <td>13908.426017</td>\n",
              "      <td>26387.992960</td>\n",
              "      <td>19733.788919</td>\n",
              "      <td>23995.439755</td>\n",
              "      <td>-2021.916231</td>\n",
              "      <td>-2021.916231</td>\n",
              "      <td>-2021.916231</td>\n",
              "      <td>-2021.916231</td>\n",
              "      <td>-2021.916231</td>\n",
              "      <td>-2021.916231</td>\n",
              "      <td>0.0</td>\n",
              "      <td>0.0</td>\n",
              "      <td>0.0</td>\n",
              "      <td>19831.102347</td>\n",
              "    </tr>\n",
              "    <tr>\n",
              "      <th>8</th>\n",
              "      <td>2023-09-01</td>\n",
              "      <td>21730.469762</td>\n",
              "      <td>14754.842676</td>\n",
              "      <td>27426.789344</td>\n",
              "      <td>19532.374813</td>\n",
              "      <td>23950.275796</td>\n",
              "      <td>-645.480993</td>\n",
              "      <td>-645.480993</td>\n",
              "      <td>-645.480993</td>\n",
              "      <td>-645.480993</td>\n",
              "      <td>-645.480993</td>\n",
              "      <td>-645.480993</td>\n",
              "      <td>0.0</td>\n",
              "      <td>0.0</td>\n",
              "      <td>0.0</td>\n",
              "      <td>21084.988770</td>\n",
              "    </tr>\n",
              "    <tr>\n",
              "      <th>9</th>\n",
              "      <td>2023-10-01</td>\n",
              "      <td>21611.874134</td>\n",
              "      <td>15620.075560</td>\n",
              "      <td>28096.247799</td>\n",
              "      <td>19319.428644</td>\n",
              "      <td>23899.207999</td>\n",
              "      <td>665.760300</td>\n",
              "      <td>665.760300</td>\n",
              "      <td>665.760300</td>\n",
              "      <td>665.760300</td>\n",
              "      <td>665.760300</td>\n",
              "      <td>665.760300</td>\n",
              "      <td>0.0</td>\n",
              "      <td>0.0</td>\n",
              "      <td>0.0</td>\n",
              "      <td>22277.634434</td>\n",
              "    </tr>\n",
              "    <tr>\n",
              "      <th>10</th>\n",
              "      <td>2023-11-01</td>\n",
              "      <td>21489.325318</td>\n",
              "      <td>14237.009813</td>\n",
              "      <td>26255.128923</td>\n",
              "      <td>19147.357934</td>\n",
              "      <td>23844.579762</td>\n",
              "      <td>-1246.743749</td>\n",
              "      <td>-1246.743749</td>\n",
              "      <td>-1246.743749</td>\n",
              "      <td>-1246.743749</td>\n",
              "      <td>-1246.743749</td>\n",
              "      <td>-1246.743749</td>\n",
              "      <td>0.0</td>\n",
              "      <td>0.0</td>\n",
              "      <td>0.0</td>\n",
              "      <td>20242.581569</td>\n",
              "    </tr>\n",
              "    <tr>\n",
              "      <th>11</th>\n",
              "      <td>2023-12-01</td>\n",
              "      <td>21370.729690</td>\n",
              "      <td>12398.059916</td>\n",
              "      <td>24771.324697</td>\n",
              "      <td>18949.806235</td>\n",
              "      <td>23824.804666</td>\n",
              "      <td>-2620.415902</td>\n",
              "      <td>-2620.415902</td>\n",
              "      <td>-2620.415902</td>\n",
              "      <td>-2620.415902</td>\n",
              "      <td>-2620.415902</td>\n",
              "      <td>-2620.415902</td>\n",
              "      <td>0.0</td>\n",
              "      <td>0.0</td>\n",
              "      <td>0.0</td>\n",
              "      <td>18750.313788</td>\n",
              "    </tr>\n",
              "  </tbody>\n",
              "</table>\n",
              "</div>\n",
              "      <button class=\"colab-df-convert\" onclick=\"convertToInteractive('df-352fc8fc-7eb9-421f-880a-a2495c5489ac')\"\n",
              "              title=\"Convert this dataframe to an interactive table.\"\n",
              "              style=\"display:none;\">\n",
              "        \n",
              "  <svg xmlns=\"http://www.w3.org/2000/svg\" height=\"24px\"viewBox=\"0 0 24 24\"\n",
              "       width=\"24px\">\n",
              "    <path d=\"M0 0h24v24H0V0z\" fill=\"none\"/>\n",
              "    <path d=\"M18.56 5.44l.94 2.06.94-2.06 2.06-.94-2.06-.94-.94-2.06-.94 2.06-2.06.94zm-11 1L8.5 8.5l.94-2.06 2.06-.94-2.06-.94L8.5 2.5l-.94 2.06-2.06.94zm10 10l.94 2.06.94-2.06 2.06-.94-2.06-.94-.94-2.06-.94 2.06-2.06.94z\"/><path d=\"M17.41 7.96l-1.37-1.37c-.4-.4-.92-.59-1.43-.59-.52 0-1.04.2-1.43.59L10.3 9.45l-7.72 7.72c-.78.78-.78 2.05 0 2.83L4 21.41c.39.39.9.59 1.41.59.51 0 1.02-.2 1.41-.59l7.78-7.78 2.81-2.81c.8-.78.8-2.07 0-2.86zM5.41 20L4 18.59l7.72-7.72 1.47 1.35L5.41 20z\"/>\n",
              "  </svg>\n",
              "      </button>\n",
              "      \n",
              "  <style>\n",
              "    .colab-df-container {\n",
              "      display:flex;\n",
              "      flex-wrap:wrap;\n",
              "      gap: 12px;\n",
              "    }\n",
              "\n",
              "    .colab-df-convert {\n",
              "      background-color: #E8F0FE;\n",
              "      border: none;\n",
              "      border-radius: 50%;\n",
              "      cursor: pointer;\n",
              "      display: none;\n",
              "      fill: #1967D2;\n",
              "      height: 32px;\n",
              "      padding: 0 0 0 0;\n",
              "      width: 32px;\n",
              "    }\n",
              "\n",
              "    .colab-df-convert:hover {\n",
              "      background-color: #E2EBFA;\n",
              "      box-shadow: 0px 1px 2px rgba(60, 64, 67, 0.3), 0px 1px 3px 1px rgba(60, 64, 67, 0.15);\n",
              "      fill: #174EA6;\n",
              "    }\n",
              "\n",
              "    [theme=dark] .colab-df-convert {\n",
              "      background-color: #3B4455;\n",
              "      fill: #D2E3FC;\n",
              "    }\n",
              "\n",
              "    [theme=dark] .colab-df-convert:hover {\n",
              "      background-color: #434B5C;\n",
              "      box-shadow: 0px 1px 3px 1px rgba(0, 0, 0, 0.15);\n",
              "      filter: drop-shadow(0px 1px 2px rgba(0, 0, 0, 0.3));\n",
              "      fill: #FFFFFF;\n",
              "    }\n",
              "  </style>\n",
              "\n",
              "      <script>\n",
              "        const buttonEl =\n",
              "          document.querySelector('#df-352fc8fc-7eb9-421f-880a-a2495c5489ac button.colab-df-convert');\n",
              "        buttonEl.style.display =\n",
              "          google.colab.kernel.accessAllowed ? 'block' : 'none';\n",
              "\n",
              "        async function convertToInteractive(key) {\n",
              "          const element = document.querySelector('#df-352fc8fc-7eb9-421f-880a-a2495c5489ac');\n",
              "          const dataTable =\n",
              "            await google.colab.kernel.invokeFunction('convertToInteractive',\n",
              "                                                     [key], {});\n",
              "          if (!dataTable) return;\n",
              "\n",
              "          const docLinkHtml = 'Like what you see? Visit the ' +\n",
              "            '<a target=\"_blank\" href=https://colab.research.google.com/notebooks/data_table.ipynb>data table notebook</a>'\n",
              "            + ' to learn more about interactive tables.';\n",
              "          element.innerHTML = '';\n",
              "          dataTable['output_type'] = 'display_data';\n",
              "          await google.colab.output.renderOutput(dataTable, element);\n",
              "          const docLink = document.createElement('div');\n",
              "          docLink.innerHTML = docLinkHtml;\n",
              "          element.appendChild(docLink);\n",
              "        }\n",
              "      </script>\n",
              "    </div>\n",
              "  </div>\n",
              "  "
            ]
          },
          "metadata": {},
          "execution_count": 29
        }
      ]
    },
    {
      "cell_type": "code",
      "source": [
        "pyplot.plot(forecast['yhat'], label='2023pred')\n",
        "pyplot.legend()\n",
        "pyplot.show()"
      ],
      "metadata": {
        "colab": {
          "base_uri": "https://localhost:8080/",
          "height": 265
        },
        "id": "NVZyGjIOLuIB",
        "outputId": "5f033050-f04f-4210-8970-aca556ea801f"
      },
      "execution_count": null,
      "outputs": [
        {
          "output_type": "display_data",
          "data": {
            "text/plain": [
              "<Figure size 432x288 with 1 Axes>"
            ],
            "image/png": "[encoded data removed]"
          },
          "metadata": {
            "needs_background": "light"
          }
        }
      ]
    }
  ]
}