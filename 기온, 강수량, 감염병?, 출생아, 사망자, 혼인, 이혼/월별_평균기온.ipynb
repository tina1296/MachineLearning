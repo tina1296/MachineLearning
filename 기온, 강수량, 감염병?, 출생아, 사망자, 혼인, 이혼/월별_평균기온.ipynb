{
  "nbformat": 4,
  "nbformat_minor": 0,
  "metadata": {
    "colab": {
      "name": "월별 평균기온.ipynb",
      "provenance": [],
      "collapsed_sections": []
    },
    "kernelspec": {
      "name": "python3",
      "display_name": "Python 3"
    },
    "language_info": {
      "name": "python"
    }
  },
  "cells": [
    {
      "cell_type": "markdown",
      "source": [
        "# 월별 기온 fbporphet 1"
      ],
      "metadata": {
        "id": "pt1FITVWqBto"
      }
    },
    {
      "cell_type": "code",
      "source": [
        "pip install fbprophet # 프로펫 "
      ],
      "metadata": {
        "colab": {
          "base_uri": "https://localhost:8080/"
        },
        "id": "WyGrhelbqMQo",
        "outputId": "8f86d533-ed32-4247-e98a-2e1d981561a1"
      },
      "execution_count": null,
      "outputs": [
        {
          "output_type": "stream",
          "name": "stdout",
          "text": [
            "Looking in indexes: https://pypi.org/simple, https://us-python.pkg.dev/colab-wheels/public/simple/\n",
            "Requirement already satisfied: fbprophet in /usr/local/lib/python3.7/dist-packages (0.7.1)\n",
            "Requirement already satisfied: Cython>=0.22 in /usr/local/lib/python3.7/dist-packages (from fbprophet) (0.29.30)\n",
            "Requirement already satisfied: cmdstanpy==0.9.5 in /usr/local/lib/python3.7/dist-packages (from fbprophet) (0.9.5)\n",
            "Requirement already satisfied: pystan>=2.14 in /usr/local/lib/python3.7/dist-packages (from fbprophet) (2.19.1.1)\n",
            "Requirement already satisfied: numpy>=1.15.4 in /usr/local/lib/python3.7/dist-packages (from fbprophet) (1.21.6)\n",
            "Requirement already satisfied: pandas>=1.0.4 in /usr/local/lib/python3.7/dist-packages (from fbprophet) (1.3.5)\n",
            "Requirement already satisfied: matplotlib>=2.0.0 in /usr/local/lib/python3.7/dist-packages (from fbprophet) (3.2.2)\n",
            "Requirement already satisfied: LunarCalendar>=0.0.9 in /usr/local/lib/python3.7/dist-packages (from fbprophet) (0.0.9)\n",
            "Requirement already satisfied: convertdate>=2.1.2 in /usr/local/lib/python3.7/dist-packages (from fbprophet) (2.4.0)\n",
            "Requirement already satisfied: holidays>=0.10.2 in /usr/local/lib/python3.7/dist-packages (from fbprophet) (0.10.5.2)\n",
            "Requirement already satisfied: setuptools-git>=1.2 in /usr/local/lib/python3.7/dist-packages (from fbprophet) (1.2)\n",
            "Requirement already satisfied: python-dateutil>=2.8.0 in /usr/local/lib/python3.7/dist-packages (from fbprophet) (2.8.2)\n",
            "Requirement already satisfied: tqdm>=4.36.1 in /usr/local/lib/python3.7/dist-packages (from fbprophet) (4.64.0)\n",
            "Requirement already satisfied: pymeeus<=1,>=0.3.13 in /usr/local/lib/python3.7/dist-packages (from convertdate>=2.1.2->fbprophet) (0.5.11)\n",
            "Requirement already satisfied: six in /usr/local/lib/python3.7/dist-packages (from holidays>=0.10.2->fbprophet) (1.15.0)\n",
            "Requirement already satisfied: hijri-converter in /usr/local/lib/python3.7/dist-packages (from holidays>=0.10.2->fbprophet) (2.2.3)\n",
            "Requirement already satisfied: korean-lunar-calendar in /usr/local/lib/python3.7/dist-packages (from holidays>=0.10.2->fbprophet) (0.2.1)\n",
            "Requirement already satisfied: ephem>=3.7.5.3 in /usr/local/lib/python3.7/dist-packages (from LunarCalendar>=0.0.9->fbprophet) (4.1.3)\n",
            "Requirement already satisfied: pytz in /usr/local/lib/python3.7/dist-packages (from LunarCalendar>=0.0.9->fbprophet) (2022.1)\n",
            "Requirement already satisfied: pyparsing!=2.0.4,!=2.1.2,!=2.1.6,>=2.0.1 in /usr/local/lib/python3.7/dist-packages (from matplotlib>=2.0.0->fbprophet) (3.0.9)\n",
            "Requirement already satisfied: cycler>=0.10 in /usr/local/lib/python3.7/dist-packages (from matplotlib>=2.0.0->fbprophet) (0.11.0)\n",
            "Requirement already satisfied: kiwisolver>=1.0.1 in /usr/local/lib/python3.7/dist-packages (from matplotlib>=2.0.0->fbprophet) (1.4.2)\n",
            "Requirement already satisfied: typing-extensions in /usr/local/lib/python3.7/dist-packages (from kiwisolver>=1.0.1->matplotlib>=2.0.0->fbprophet) (4.2.0)\n"
          ]
        }
      ]
    },
    {
      "cell_type": "code",
      "source": [
        "import pandas as pd # 판다스\n",
        "df = pd.read_csv('/content/전국월별평균기온73-20.csv', encoding='cp949') # 데이터 로드"
      ],
      "metadata": {
        "id": "1ex7ja_7qYT3"
      },
      "execution_count": null,
      "outputs": []
    },
    {
      "cell_type": "code",
      "source": [
        "df.head()"
      ],
      "metadata": {
        "colab": {
          "base_uri": "https://localhost:8080/",
          "height": 206
        },
        "id": "Hy1tKkqvqmV4",
        "outputId": "06bd4e40-845f-4097-9803-5d55ebaec4d0"
      },
      "execution_count": null,
      "outputs": [
        {
          "output_type": "execute_result",
          "data": {
            "text/plain": [
              "         시간  평균기온\n",
              "0  1973년01월   1.1\n",
              "1  1973년02월   1.7\n",
              "2  1973년03월   5.0\n",
              "3  1973년04월  12.7\n",
              "4  1973년05월  16.8"
            ],
            "text/html": [
              "\n",
              "  <div id=\"df-39e63ca4-4f93-42c7-8bbb-b902f48151cb\">\n",
              "    <div class=\"colab-df-container\">\n",
              "      <div>\n",
              "<style scoped>\n",
              "    .dataframe tbody tr th:only-of-type {\n",
              "        vertical-align: middle;\n",
              "    }\n",
              "\n",
              "    .dataframe tbody tr th {\n",
              "        vertical-align: top;\n",
              "    }\n",
              "\n",
              "    .dataframe thead th {\n",
              "        text-align: right;\n",
              "    }\n",
              "</style>\n",
              "<table border=\"1\" class=\"dataframe\">\n",
              "  <thead>\n",
              "    <tr style=\"text-align: right;\">\n",
              "      <th></th>\n",
              "      <th>시간</th>\n",
              "      <th>평균기온</th>\n",
              "    </tr>\n",
              "  </thead>\n",
              "  <tbody>\n",
              "    <tr>\n",
              "      <th>0</th>\n",
              "      <td>1973년01월</td>\n",
              "      <td>1.1</td>\n",
              "    </tr>\n",
              "    <tr>\n",
              "      <th>1</th>\n",
              "      <td>1973년02월</td>\n",
              "      <td>1.7</td>\n",
              "    </tr>\n",
              "    <tr>\n",
              "      <th>2</th>\n",
              "      <td>1973년03월</td>\n",
              "      <td>5.0</td>\n",
              "    </tr>\n",
              "    <tr>\n",
              "      <th>3</th>\n",
              "      <td>1973년04월</td>\n",
              "      <td>12.7</td>\n",
              "    </tr>\n",
              "    <tr>\n",
              "      <th>4</th>\n",
              "      <td>1973년05월</td>\n",
              "      <td>16.8</td>\n",
              "    </tr>\n",
              "  </tbody>\n",
              "</table>\n",
              "</div>\n",
              "      <button class=\"colab-df-convert\" onclick=\"convertToInteractive('df-39e63ca4-4f93-42c7-8bbb-b902f48151cb')\"\n",
              "              title=\"Convert this dataframe to an interactive table.\"\n",
              "              style=\"display:none;\">\n",
              "        \n",
              "  <svg xmlns=\"http://www.w3.org/2000/svg\" height=\"24px\"viewBox=\"0 0 24 24\"\n",
              "       width=\"24px\">\n",
              "    <path d=\"M0 0h24v24H0V0z\" fill=\"none\"/>\n",
              "    <path d=\"M18.56 5.44l.94 2.06.94-2.06 2.06-.94-2.06-.94-.94-2.06-.94 2.06-2.06.94zm-11 1L8.5 8.5l.94-2.06 2.06-.94-2.06-.94L8.5 2.5l-.94 2.06-2.06.94zm10 10l.94 2.06.94-2.06 2.06-.94-2.06-.94-.94-2.06-.94 2.06-2.06.94z\"/><path d=\"M17.41 7.96l-1.37-1.37c-.4-.4-.92-.59-1.43-.59-.52 0-1.04.2-1.43.59L10.3 9.45l-7.72 7.72c-.78.78-.78 2.05 0 2.83L4 21.41c.39.39.9.59 1.41.59.51 0 1.02-.2 1.41-.59l7.78-7.78 2.81-2.81c.8-.78.8-2.07 0-2.86zM5.41 20L4 18.59l7.72-7.72 1.47 1.35L5.41 20z\"/>\n",
              "  </svg>\n",
              "      </button>\n",
              "      \n",
              "  <style>\n",
              "    .colab-df-container {\n",
              "      display:flex;\n",
              "      flex-wrap:wrap;\n",
              "      gap: 12px;\n",
              "    }\n",
              "\n",
              "    .colab-df-convert {\n",
              "      background-color: #E8F0FE;\n",
              "      border: none;\n",
              "      border-radius: 50%;\n",
              "      cursor: pointer;\n",
              "      display: none;\n",
              "      fill: #1967D2;\n",
              "      height: 32px;\n",
              "      padding: 0 0 0 0;\n",
              "      width: 32px;\n",
              "    }\n",
              "\n",
              "    .colab-df-convert:hover {\n",
              "      background-color: #E2EBFA;\n",
              "      box-shadow: 0px 1px 2px rgba(60, 64, 67, 0.3), 0px 1px 3px 1px rgba(60, 64, 67, 0.15);\n",
              "      fill: #174EA6;\n",
              "    }\n",
              "\n",
              "    [theme=dark] .colab-df-convert {\n",
              "      background-color: #3B4455;\n",
              "      fill: #D2E3FC;\n",
              "    }\n",
              "\n",
              "    [theme=dark] .colab-df-convert:hover {\n",
              "      background-color: #434B5C;\n",
              "      box-shadow: 0px 1px 3px 1px rgba(0, 0, 0, 0.15);\n",
              "      filter: drop-shadow(0px 1px 2px rgba(0, 0, 0, 0.3));\n",
              "      fill: #FFFFFF;\n",
              "    }\n",
              "  </style>\n",
              "\n",
              "      <script>\n",
              "        const buttonEl =\n",
              "          document.querySelector('#df-39e63ca4-4f93-42c7-8bbb-b902f48151cb button.colab-df-convert');\n",
              "        buttonEl.style.display =\n",
              "          google.colab.kernel.accessAllowed ? 'block' : 'none';\n",
              "\n",
              "        async function convertToInteractive(key) {\n",
              "          const element = document.querySelector('#df-39e63ca4-4f93-42c7-8bbb-b902f48151cb');\n",
              "          const dataTable =\n",
              "            await google.colab.kernel.invokeFunction('convertToInteractive',\n",
              "                                                     [key], {});\n",
              "          if (!dataTable) return;\n",
              "\n",
              "          const docLinkHtml = 'Like what you see? Visit the ' +\n",
              "            '<a target=\"_blank\" href=https://colab.research.google.com/notebooks/data_table.ipynb>data table notebook</a>'\n",
              "            + ' to learn more about interactive tables.';\n",
              "          element.innerHTML = '';\n",
              "          dataTable['output_type'] = 'display_data';\n",
              "          await google.colab.output.renderOutput(dataTable, element);\n",
              "          const docLink = document.createElement('div');\n",
              "          docLink.innerHTML = docLinkHtml;\n",
              "          element.appendChild(docLink);\n",
              "        }\n",
              "      </script>\n",
              "    </div>\n",
              "  </div>\n",
              "  "
            ]
          },
          "metadata": {},
          "execution_count": 3
        }
      ]
    },
    {
      "cell_type": "code",
      "source": [
        "df = df.rename(columns={'시간':'time', '평균기온':'C'})\n",
        "df.tail() # 이름 바꿔줬다"
      ],
      "metadata": {
        "colab": {
          "base_uri": "https://localhost:8080/",
          "height": 206
        },
        "id": "i8LNFui4qs5h",
        "outputId": "aa952643-9883-451b-baf4-d103263c3c6d"
      },
      "execution_count": null,
      "outputs": [
        {
          "output_type": "execute_result",
          "data": {
            "text/plain": [
              "         time     C\n",
              "571  2020년08월  26.4\n",
              "572  2020년09월  20.1\n",
              "573  2020년10월  13.7\n",
              "574  2020년11월   8.5\n",
              "575  2020년12월   0.4"
            ],
            "text/html": [
              "\n",
              "  <div id=\"df-292c886f-8988-44f8-b9f7-47a80f3f0cf4\">\n",
              "    <div class=\"colab-df-container\">\n",
              "      <div>\n",
              "<style scoped>\n",
              "    .dataframe tbody tr th:only-of-type {\n",
              "        vertical-align: middle;\n",
              "    }\n",
              "\n",
              "    .dataframe tbody tr th {\n",
              "        vertical-align: top;\n",
              "    }\n",
              "\n",
              "    .dataframe thead th {\n",
              "        text-align: right;\n",
              "    }\n",
              "</style>\n",
              "<table border=\"1\" class=\"dataframe\">\n",
              "  <thead>\n",
              "    <tr style=\"text-align: right;\">\n",
              "      <th></th>\n",
              "      <th>time</th>\n",
              "      <th>C</th>\n",
              "    </tr>\n",
              "  </thead>\n",
              "  <tbody>\n",
              "    <tr>\n",
              "      <th>571</th>\n",
              "      <td>2020년08월</td>\n",
              "      <td>26.4</td>\n",
              "    </tr>\n",
              "    <tr>\n",
              "      <th>572</th>\n",
              "      <td>2020년09월</td>\n",
              "      <td>20.1</td>\n",
              "    </tr>\n",
              "    <tr>\n",
              "      <th>573</th>\n",
              "      <td>2020년10월</td>\n",
              "      <td>13.7</td>\n",
              "    </tr>\n",
              "    <tr>\n",
              "      <th>574</th>\n",
              "      <td>2020년11월</td>\n",
              "      <td>8.5</td>\n",
              "    </tr>\n",
              "    <tr>\n",
              "      <th>575</th>\n",
              "      <td>2020년12월</td>\n",
              "      <td>0.4</td>\n",
              "    </tr>\n",
              "  </tbody>\n",
              "</table>\n",
              "</div>\n",
              "      <button class=\"colab-df-convert\" onclick=\"convertToInteractive('df-292c886f-8988-44f8-b9f7-47a80f3f0cf4')\"\n",
              "              title=\"Convert this dataframe to an interactive table.\"\n",
              "              style=\"display:none;\">\n",
              "        \n",
              "  <svg xmlns=\"http://www.w3.org/2000/svg\" height=\"24px\"viewBox=\"0 0 24 24\"\n",
              "       width=\"24px\">\n",
              "    <path d=\"M0 0h24v24H0V0z\" fill=\"none\"/>\n",
              "    <path d=\"M18.56 5.44l.94 2.06.94-2.06 2.06-.94-2.06-.94-.94-2.06-.94 2.06-2.06.94zm-11 1L8.5 8.5l.94-2.06 2.06-.94-2.06-.94L8.5 2.5l-.94 2.06-2.06.94zm10 10l.94 2.06.94-2.06 2.06-.94-2.06-.94-.94-2.06-.94 2.06-2.06.94z\"/><path d=\"M17.41 7.96l-1.37-1.37c-.4-.4-.92-.59-1.43-.59-.52 0-1.04.2-1.43.59L10.3 9.45l-7.72 7.72c-.78.78-.78 2.05 0 2.83L4 21.41c.39.39.9.59 1.41.59.51 0 1.02-.2 1.41-.59l7.78-7.78 2.81-2.81c.8-.78.8-2.07 0-2.86zM5.41 20L4 18.59l7.72-7.72 1.47 1.35L5.41 20z\"/>\n",
              "  </svg>\n",
              "      </button>\n",
              "      \n",
              "  <style>\n",
              "    .colab-df-container {\n",
              "      display:flex;\n",
              "      flex-wrap:wrap;\n",
              "      gap: 12px;\n",
              "    }\n",
              "\n",
              "    .colab-df-convert {\n",
              "      background-color: #E8F0FE;\n",
              "      border: none;\n",
              "      border-radius: 50%;\n",
              "      cursor: pointer;\n",
              "      display: none;\n",
              "      fill: #1967D2;\n",
              "      height: 32px;\n",
              "      padding: 0 0 0 0;\n",
              "      width: 32px;\n",
              "    }\n",
              "\n",
              "    .colab-df-convert:hover {\n",
              "      background-color: #E2EBFA;\n",
              "      box-shadow: 0px 1px 2px rgba(60, 64, 67, 0.3), 0px 1px 3px 1px rgba(60, 64, 67, 0.15);\n",
              "      fill: #174EA6;\n",
              "    }\n",
              "\n",
              "    [theme=dark] .colab-df-convert {\n",
              "      background-color: #3B4455;\n",
              "      fill: #D2E3FC;\n",
              "    }\n",
              "\n",
              "    [theme=dark] .colab-df-convert:hover {\n",
              "      background-color: #434B5C;\n",
              "      box-shadow: 0px 1px 3px 1px rgba(0, 0, 0, 0.15);\n",
              "      filter: drop-shadow(0px 1px 2px rgba(0, 0, 0, 0.3));\n",
              "      fill: #FFFFFF;\n",
              "    }\n",
              "  </style>\n",
              "\n",
              "      <script>\n",
              "        const buttonEl =\n",
              "          document.querySelector('#df-292c886f-8988-44f8-b9f7-47a80f3f0cf4 button.colab-df-convert');\n",
              "        buttonEl.style.display =\n",
              "          google.colab.kernel.accessAllowed ? 'block' : 'none';\n",
              "\n",
              "        async function convertToInteractive(key) {\n",
              "          const element = document.querySelector('#df-292c886f-8988-44f8-b9f7-47a80f3f0cf4');\n",
              "          const dataTable =\n",
              "            await google.colab.kernel.invokeFunction('convertToInteractive',\n",
              "                                                     [key], {});\n",
              "          if (!dataTable) return;\n",
              "\n",
              "          const docLinkHtml = 'Like what you see? Visit the ' +\n",
              "            '<a target=\"_blank\" href=https://colab.research.google.com/notebooks/data_table.ipynb>data table notebook</a>'\n",
              "            + ' to learn more about interactive tables.';\n",
              "          element.innerHTML = '';\n",
              "          dataTable['output_type'] = 'display_data';\n",
              "          await google.colab.output.renderOutput(dataTable, element);\n",
              "          const docLink = document.createElement('div');\n",
              "          docLink.innerHTML = docLinkHtml;\n",
              "          element.appendChild(docLink);\n",
              "        }\n",
              "      </script>\n",
              "    </div>\n",
              "  </div>\n",
              "  "
            ]
          },
          "metadata": {},
          "execution_count": 4
        }
      ]
    },
    {
      "cell_type": "code",
      "source": [
        "df[\"time\"] = df[\"time\"].str.replace(pat=r'년', repl=r'-', regex=True) # 한글 지워줬다"
      ],
      "metadata": {
        "id": "8xekuJyrq3V-"
      },
      "execution_count": null,
      "outputs": []
    },
    {
      "cell_type": "code",
      "source": [
        "df[\"time\"] = df[\"time\"].str.replace(pat=r'월', repl=r'', regex=True) # 한글 지워줬다"
      ],
      "metadata": {
        "id": "LXjJnFh8q06d"
      },
      "execution_count": null,
      "outputs": []
    },
    {
      "cell_type": "code",
      "source": [
        "df.head()"
      ],
      "metadata": {
        "colab": {
          "base_uri": "https://localhost:8080/",
          "height": 206
        },
        "id": "KPBiKTn5rESJ",
        "outputId": "e2c5b690-09c3-4d74-a2ca-ecb81769d9fc"
      },
      "execution_count": null,
      "outputs": [
        {
          "output_type": "execute_result",
          "data": {
            "text/plain": [
              "      time     C\n",
              "0  1973-01   1.1\n",
              "1  1973-02   1.7\n",
              "2  1973-03   5.0\n",
              "3  1973-04  12.7\n",
              "4  1973-05  16.8"
            ],
            "text/html": [
              "\n",
              "  <div id=\"df-18aafd6b-9d83-47ea-bbeb-f017f8807853\">\n",
              "    <div class=\"colab-df-container\">\n",
              "      <div>\n",
              "<style scoped>\n",
              "    .dataframe tbody tr th:only-of-type {\n",
              "        vertical-align: middle;\n",
              "    }\n",
              "\n",
              "    .dataframe tbody tr th {\n",
              "        vertical-align: top;\n",
              "    }\n",
              "\n",
              "    .dataframe thead th {\n",
              "        text-align: right;\n",
              "    }\n",
              "</style>\n",
              "<table border=\"1\" class=\"dataframe\">\n",
              "  <thead>\n",
              "    <tr style=\"text-align: right;\">\n",
              "      <th></th>\n",
              "      <th>time</th>\n",
              "      <th>C</th>\n",
              "    </tr>\n",
              "  </thead>\n",
              "  <tbody>\n",
              "    <tr>\n",
              "      <th>0</th>\n",
              "      <td>1973-01</td>\n",
              "      <td>1.1</td>\n",
              "    </tr>\n",
              "    <tr>\n",
              "      <th>1</th>\n",
              "      <td>1973-02</td>\n",
              "      <td>1.7</td>\n",
              "    </tr>\n",
              "    <tr>\n",
              "      <th>2</th>\n",
              "      <td>1973-03</td>\n",
              "      <td>5.0</td>\n",
              "    </tr>\n",
              "    <tr>\n",
              "      <th>3</th>\n",
              "      <td>1973-04</td>\n",
              "      <td>12.7</td>\n",
              "    </tr>\n",
              "    <tr>\n",
              "      <th>4</th>\n",
              "      <td>1973-05</td>\n",
              "      <td>16.8</td>\n",
              "    </tr>\n",
              "  </tbody>\n",
              "</table>\n",
              "</div>\n",
              "      <button class=\"colab-df-convert\" onclick=\"convertToInteractive('df-18aafd6b-9d83-47ea-bbeb-f017f8807853')\"\n",
              "              title=\"Convert this dataframe to an interactive table.\"\n",
              "              style=\"display:none;\">\n",
              "        \n",
              "  <svg xmlns=\"http://www.w3.org/2000/svg\" height=\"24px\"viewBox=\"0 0 24 24\"\n",
              "       width=\"24px\">\n",
              "    <path d=\"M0 0h24v24H0V0z\" fill=\"none\"/>\n",
              "    <path d=\"M18.56 5.44l.94 2.06.94-2.06 2.06-.94-2.06-.94-.94-2.06-.94 2.06-2.06.94zm-11 1L8.5 8.5l.94-2.06 2.06-.94-2.06-.94L8.5 2.5l-.94 2.06-2.06.94zm10 10l.94 2.06.94-2.06 2.06-.94-2.06-.94-.94-2.06-.94 2.06-2.06.94z\"/><path d=\"M17.41 7.96l-1.37-1.37c-.4-.4-.92-.59-1.43-.59-.52 0-1.04.2-1.43.59L10.3 9.45l-7.72 7.72c-.78.78-.78 2.05 0 2.83L4 21.41c.39.39.9.59 1.41.59.51 0 1.02-.2 1.41-.59l7.78-7.78 2.81-2.81c.8-.78.8-2.07 0-2.86zM5.41 20L4 18.59l7.72-7.72 1.47 1.35L5.41 20z\"/>\n",
              "  </svg>\n",
              "      </button>\n",
              "      \n",
              "  <style>\n",
              "    .colab-df-container {\n",
              "      display:flex;\n",
              "      flex-wrap:wrap;\n",
              "      gap: 12px;\n",
              "    }\n",
              "\n",
              "    .colab-df-convert {\n",
              "      background-color: #E8F0FE;\n",
              "      border: none;\n",
              "      border-radius: 50%;\n",
              "      cursor: pointer;\n",
              "      display: none;\n",
              "      fill: #1967D2;\n",
              "      height: 32px;\n",
              "      padding: 0 0 0 0;\n",
              "      width: 32px;\n",
              "    }\n",
              "\n",
              "    .colab-df-convert:hover {\n",
              "      background-color: #E2EBFA;\n",
              "      box-shadow: 0px 1px 2px rgba(60, 64, 67, 0.3), 0px 1px 3px 1px rgba(60, 64, 67, 0.15);\n",
              "      fill: #174EA6;\n",
              "    }\n",
              "\n",
              "    [theme=dark] .colab-df-convert {\n",
              "      background-color: #3B4455;\n",
              "      fill: #D2E3FC;\n",
              "    }\n",
              "\n",
              "    [theme=dark] .colab-df-convert:hover {\n",
              "      background-color: #434B5C;\n",
              "      box-shadow: 0px 1px 3px 1px rgba(0, 0, 0, 0.15);\n",
              "      filter: drop-shadow(0px 1px 2px rgba(0, 0, 0, 0.3));\n",
              "      fill: #FFFFFF;\n",
              "    }\n",
              "  </style>\n",
              "\n",
              "      <script>\n",
              "        const buttonEl =\n",
              "          document.querySelector('#df-18aafd6b-9d83-47ea-bbeb-f017f8807853 button.colab-df-convert');\n",
              "        buttonEl.style.display =\n",
              "          google.colab.kernel.accessAllowed ? 'block' : 'none';\n",
              "\n",
              "        async function convertToInteractive(key) {\n",
              "          const element = document.querySelector('#df-18aafd6b-9d83-47ea-bbeb-f017f8807853');\n",
              "          const dataTable =\n",
              "            await google.colab.kernel.invokeFunction('convertToInteractive',\n",
              "                                                     [key], {});\n",
              "          if (!dataTable) return;\n",
              "\n",
              "          const docLinkHtml = 'Like what you see? Visit the ' +\n",
              "            '<a target=\"_blank\" href=https://colab.research.google.com/notebooks/data_table.ipynb>data table notebook</a>'\n",
              "            + ' to learn more about interactive tables.';\n",
              "          element.innerHTML = '';\n",
              "          dataTable['output_type'] = 'display_data';\n",
              "          await google.colab.output.renderOutput(dataTable, element);\n",
              "          const docLink = document.createElement('div');\n",
              "          docLink.innerHTML = docLinkHtml;\n",
              "          element.appendChild(docLink);\n",
              "        }\n",
              "      </script>\n",
              "    </div>\n",
              "  </div>\n",
              "  "
            ]
          },
          "metadata": {},
          "execution_count": 7
        }
      ]
    },
    {
      "cell_type": "code",
      "source": [
        "from matplotlib import pyplot # 맷플롯립으로 온도를 그려봤다\n",
        "df.plot()\n",
        "pyplot.show() # 이쁘다"
      ],
      "metadata": {
        "colab": {
          "base_uri": "https://localhost:8080/",
          "height": 265
        },
        "id": "_u1jYMmsrHto",
        "outputId": "75531098-647d-4acc-d96e-828387fb5db4"
      },
      "execution_count": null,
      "outputs": [
        {
          "output_type": "display_data",
          "data": {
            "text/plain": [
              "<Figure size 432x288 with 1 Axes>"
            ],
            "image/png": "[encoded data removed]"
          },
          "metadata": {
            "needs_background": "light"
          }
        }
      ]
    },
    {
      "cell_type": "code",
      "source": [
        "df.columns = ['ds', 'y']\n",
        "df['ds'] = pd.to_datetime(df['ds']) # 프로펫은 변수 이름을 ds, y 로 맞춰줘야 한단다"
      ],
      "metadata": {
        "id": "NggaYIGrrS-H"
      },
      "execution_count": null,
      "outputs": []
    },
    {
      "cell_type": "code",
      "source": [
        "from fbprophet import Prophet # 프로펫\n",
        "model = Prophet() # 이제부터 너는 모델이다"
      ],
      "metadata": {
        "id": "mpBLEcuzrmKf"
      },
      "execution_count": null,
      "outputs": []
    },
    {
      "cell_type": "code",
      "source": [
        "model.fit(df) # 학습"
      ],
      "metadata": {
        "colab": {
          "base_uri": "https://localhost:8080/"
        },
        "id": "I7FPSbysrtmK",
        "outputId": "7222007d-e512-4512-a074-38e720ee4ef0"
      },
      "execution_count": null,
      "outputs": [
        {
          "output_type": "stream",
          "name": "stderr",
          "text": [
            "INFO:fbprophet:Disabling weekly seasonality. Run prophet with weekly_seasonality=True to override this.\n",
            "INFO:fbprophet:Disabling daily seasonality. Run prophet with daily_seasonality=True to override this.\n"
          ]
        },
        {
          "output_type": "execute_result",
          "data": {
            "text/plain": [
              "<fbprophet.forecaster.Prophet at 0x7f81cbe62e50>"
            ]
          },
          "metadata": {},
          "execution_count": 11
        }
      ]
    },
    {
      "cell_type": "code",
      "source": [
        "last_1year = list() # 마지막 년도인 2020년의 12개의 달을 모으려고 한다 \n",
        "for i in range(1, 13):\n",
        "  last_1year.append(['2020-%02d' % i])\n",
        "last_1year = pd.DataFrame(last_1year, columns = ['ds'])\n",
        "last_1year['ds'] = pd.to_datetime(last_1year['ds']) # 남에 꺼 따라했다\n",
        "\n",
        "# 미래나 과거를 예측해보기 전 학습으로 사용한 데이터를 잘 예측하는지 확인해야 한단다\n",
        "# in_sample_forecast라고 한다는데, 즉 train_set을 잘 예측하냐 보는거다"
      ],
      "metadata": {
        "id": "xzvfGopBr0jB"
      },
      "execution_count": null,
      "outputs": []
    },
    {
      "cell_type": "code",
      "source": [
        "forecast = model.predict(last_1year) # 모은 2020년을 예측해보라 하고 forecast에 저장했다"
      ],
      "metadata": {
        "id": "cCsNnjMAsdts"
      },
      "execution_count": null,
      "outputs": []
    },
    {
      "cell_type": "code",
      "source": [
        "print(forecast[['ds', 'yhat', 'yhat_lower', 'yhat_upper']].head()) \n",
        "# 뭐가 많은데 4가지 컬럼만 보겠다"
      ],
      "metadata": {
        "colab": {
          "base_uri": "https://localhost:8080/"
        },
        "id": "Eh6gd_BVskCT",
        "outputId": "7c6726dc-b771-4a65-877a-10032853b06b"
      },
      "execution_count": null,
      "outputs": [
        {
          "output_type": "stream",
          "name": "stdout",
          "text": [
            "          ds       yhat  yhat_lower  yhat_upper\n",
            "0 2020-01-01  -0.463059   -1.958516    1.008867\n",
            "1 2020-02-01   1.050373   -0.376652    2.488372\n",
            "2 2020-03-01   6.406095    4.891755    7.947668\n",
            "3 2020-04-01  12.528015   11.152079   13.932102\n",
            "4 2020-05-01  17.805471   16.479217   19.253792\n"
          ]
        }
      ]
    },
    {
      "cell_type": "code",
      "source": [
        "model.plot(forecast)\n",
        "pyplot.show()\n",
        "# 프로펫은 내장함수 plot()가 있어서 좋다\n",
        "# 검은점은 실제 데이터고 파란선이 예측값인데 엄청 잘 맞춘듯"
      ],
      "metadata": {
        "colab": {
          "base_uri": "https://localhost:8080/",
          "height": 441
        },
        "id": "BeEPvPvss0AM",
        "outputId": "c48f64fa-7206-4a10-d570-e851d78f5a08"
      },
      "execution_count": null,
      "outputs": [
        {
          "output_type": "display_data",
          "data": {
            "text/plain": [
              "<Figure size 720x432 with 1 Axes>"
            ],
            "image/png": "[encoded data removed]"
          },
          "metadata": {}
        }
      ]
    },
    {
      "cell_type": "code",
      "source": [
        "last_1year1 = list() # 이번엔 임의의 날짜 2021년 12달을 만든다\n",
        "for i in range(1, 13):\n",
        "  last_1year1.append(['2021-%02d' % i])\n",
        "last_1year1 = pd.DataFrame(last_1year1, columns = ['ds'])\n",
        "last_1year1['ds'] = pd.to_datetime(last_1year1['ds'])\n",
        "\n",
        "# out_of_sample_forecast라고 한다는데, 그냥 21년 예측하는거다"
      ],
      "metadata": {
        "id": "fho_6tc8tAZk"
      },
      "execution_count": null,
      "outputs": []
    },
    {
      "cell_type": "code",
      "source": [
        "forecast1 = model.predict(last_1year1)\n",
        "model.plot(forecast1)\n",
        "pyplot.show()\n",
        "# 대충 잘 맞춘듯, 점이 많으니까 그냥 용과같아서 이쁘다"
      ],
      "metadata": {
        "colab": {
          "base_uri": "https://localhost:8080/",
          "height": 441
        },
        "id": "dJWBtaletbIE",
        "outputId": "9884a5fc-4fdb-4794-c20a-854ac21f582b"
      },
      "execution_count": null,
      "outputs": [
        {
          "output_type": "display_data",
          "data": {
            "text/plain": [
              "<Figure size 720x432 with 1 Axes>"
            ],
            "image/png": "[encoded data removed]"
          },
          "metadata": {}
        }
      ]
    },
    {
      "cell_type": "code",
      "source": [
        "# 이번에는 다르게 마지막 1년을 제외한 값으로 학습을 하고 마지막 1년을 예측한 뒤 \n",
        "# 실제 마지막 1년과 비교하려고 한다 \n",
        "\n",
        "# 마지막 12개월 제외시키기 \n",
        "train = df.drop(df.index[-12:]) # train에서 뒤에 12개 제외\n",
        "y_true = df['y'][-12:].values # 제외한 값은 y_true로 저장해둔다\n",
        "\n",
        "# 모델 생성 후 학습\n",
        "model = Prophet()\n",
        "model.fit(train) # 12개가 빠진 train으로 학습\n",
        "\n",
        "# 가상의 마지막 12개월 생성\n",
        "last_1year = list()\n",
        "for i in range(1, 13):\n",
        "  last_1year.append(['2020-%02d' % i])\n",
        "last_1year = pd.DataFrame(last_1year, columns = ['ds'])\n",
        "last_1year['ds'] = pd.to_datetime(last_1year['ds']) # 실제 값이 들은게 아니다 !\n",
        "\n",
        "# 예측, 비교하기 그리고 MAE를 살펴보기\n",
        "forecast = model.predict(last_1year)\n",
        "y_pred = forecast['yhat'].values\n",
        "from sklearn.metrics import mean_absolute_error\n",
        "mae = mean_absolute_error(y_true, y_pred)\n",
        "print('MAE: %.3f' % mae)"
      ],
      "metadata": {
        "colab": {
          "base_uri": "https://localhost:8080/"
        },
        "id": "_xVPKaRet1MA",
        "outputId": "e7f8391e-9531-4bef-b420-b6d5e2c3c1c6"
      },
      "execution_count": null,
      "outputs": [
        {
          "output_type": "stream",
          "name": "stderr",
          "text": [
            "INFO:fbprophet:Disabling weekly seasonality. Run prophet with weekly_seasonality=True to override this.\n",
            "INFO:fbprophet:Disabling daily seasonality. Run prophet with daily_seasonality=True to override this.\n"
          ]
        },
        {
          "output_type": "stream",
          "name": "stdout",
          "text": [
            "MAE: 1.461\n"
          ]
        }
      ]
    },
    {
      "cell_type": "code",
      "source": [
        "pyplot.plot(y_true, label='Actual')\n",
        "pyplot.plot(y_pred, label='Predicted')\n",
        "pyplot.legend()\n",
        "pyplot.show()\n",
        "# MAE 1.461 잘 맞춘 듯 하다"
      ],
      "metadata": {
        "colab": {
          "base_uri": "https://localhost:8080/",
          "height": 265
        },
        "id": "uhWxVHqJvHuw",
        "outputId": "9c4d9dcb-db3b-48b1-bc32-383bece88016"
      },
      "execution_count": null,
      "outputs": [
        {
          "output_type": "display_data",
          "data": {
            "text/plain": [
              "<Figure size 432x288 with 1 Axes>"
            ],
            "image/png": "[encoded data removed]"
          },
          "metadata": {
            "needs_background": "light"
          }
        }
      ]
    },
    {
      "cell_type": "code",
      "source": [
        "forecast1['yhat'] # 2021년 평균 온도 예측값"
      ],
      "metadata": {
        "colab": {
          "base_uri": "https://localhost:8080/"
        },
        "id": "ko6g7pZEMK9j",
        "outputId": "1bcf53ea-339c-4708-c0ee-ebc841fe0e71"
      },
      "execution_count": null,
      "outputs": [
        {
          "output_type": "execute_result",
          "data": {
            "text/plain": [
              "0     -0.797687\n",
              "1      1.968911\n",
              "2      6.443128\n",
              "3     12.609492\n",
              "4     17.840885\n",
              "5     21.915864\n",
              "6     25.216161\n",
              "7     25.757059\n",
              "8     20.919350\n",
              "9     14.820509\n",
              "10     8.007633\n",
              "11     1.685159\n",
              "Name: yhat, dtype: float64"
            ]
          },
          "metadata": {},
          "execution_count": 20
        }
      ]
    },
    {
      "cell_type": "code",
      "source": [
        "data2021 = [-1.1, 3.4, 8.7, 13.2, 16.6, 21.7, 26, 24.8, 21.3, 15.1, 8.3, 1.9]\n",
        "# 실제 2021년 평균 온도 값\n",
        "# https://data.kma.go.kr/stcs/grnd/grndTaList.do?pgmNo=70"
      ],
      "metadata": {
        "id": "HPnWedKsMMVL"
      },
      "execution_count": null,
      "outputs": []
    },
    {
      "cell_type": "code",
      "source": [
        "pyplot.plot(data2021, label='Actual')\n",
        "pyplot.plot(forecast1['yhat'], label='Predicted')\n",
        "pyplot.legend()\n",
        "pyplot.show()"
      ],
      "metadata": {
        "colab": {
          "base_uri": "https://localhost:8080/",
          "height": 265
        },
        "id": "cxzM4lD_MP3-",
        "outputId": "54b8468b-f92c-4a6a-bd49-37a553572eb6"
      },
      "execution_count": null,
      "outputs": [
        {
          "output_type": "display_data",
          "data": {
            "text/plain": [
              "<Figure size 432x288 with 1 Axes>"
            ],
            "image/png": "[encoded data removed]"
          },
          "metadata": {
            "needs_background": "light"
          }
        }
      ]
    },
    {
      "cell_type": "code",
      "source": [
        "last_1year2 = list() # 이번엔 임의의 날짜 2022년 12달을 만든다\n",
        "for i in range(1, 13):\n",
        "  last_1year2.append(['2022-%02d' % i])\n",
        "last_1year2 = pd.DataFrame(last_1year2, columns = ['ds'])\n",
        "last_1year2['ds'] = pd.to_datetime(last_1year2['ds'])"
      ],
      "metadata": {
        "id": "ymkaDrZDNrZN"
      },
      "execution_count": null,
      "outputs": []
    },
    {
      "cell_type": "code",
      "source": [
        "forecast2 = model.predict(last_1year2)\n",
        "model.plot(forecast2)\n",
        "pyplot.show()"
      ],
      "metadata": {
        "colab": {
          "base_uri": "https://localhost:8080/",
          "height": 441
        },
        "id": "-LUCtSerNsqt",
        "outputId": "b77332ae-3b1f-4ed4-9856-13ca3f905572"
      },
      "execution_count": null,
      "outputs": [
        {
          "output_type": "display_data",
          "data": {
            "text/plain": [
              "<Figure size 720x432 with 1 Axes>"
            ],
            "image/png": "[encoded data removed]"
          },
          "metadata": {}
        }
      ]
    },
    {
      "cell_type": "code",
      "source": [
        "forecast2"
      ],
      "metadata": {
        "colab": {
          "base_uri": "https://localhost:8080/",
          "height": 698
        },
        "id": "3ouphMKsOQyL",
        "outputId": "379a4e3c-672c-4abe-dd9d-7ff430f18ac9"
      },
      "execution_count": null,
      "outputs": [
        {
          "output_type": "execute_result",
          "data": {
            "text/plain": [
              "           ds      trend  yhat_lower  yhat_upper  trend_lower  trend_upper  \\\n",
              "0  2022-01-01  12.908297   -2.293503    0.711780    12.907036    12.909369   \n",
              "1  2022-02-01  12.910644    0.252112    2.994313    12.909273    12.911802   \n",
              "2  2022-03-01  12.912763    5.078431    7.995133    12.911312    12.913989   \n",
              "3  2022-04-01  12.915109   11.219625   14.152941    12.913535    12.916431   \n",
              "4  2022-05-01  12.917379   16.435392   19.220373    12.915711    12.918804   \n",
              "5  2022-06-01  12.919725   20.449584   23.293454    12.917962    12.921237   \n",
              "6  2022-07-01  12.921996   23.501537   26.545121    12.920090    12.923588   \n",
              "7  2022-08-01  12.924342   24.296687   27.209022    12.922346    12.926023   \n",
              "8  2022-09-01  12.926688   19.608484   22.388330    12.924604    12.928487   \n",
              "9  2022-10-01  12.928958   13.443695   16.264705    12.926714    12.930860   \n",
              "10 2022-11-01  12.931304    6.723853    9.599893    12.928948    12.933278   \n",
              "11 2022-12-01  12.933575    0.349448    3.275338    12.931054    12.935656   \n",
              "\n",
              "    additive_terms  additive_terms_lower  additive_terms_upper     yearly  \\\n",
              "0       -13.652407            -13.652407            -13.652407 -13.652407   \n",
              "1       -11.302443            -11.302443            -11.302443 -11.302443   \n",
              "2        -6.491649             -6.491649             -6.491649  -6.491649   \n",
              "3        -0.263975             -0.263975             -0.263975  -0.263975   \n",
              "4         4.894677              4.894677              4.894677   4.894677   \n",
              "5         8.930118              8.930118              8.930118   8.930118   \n",
              "6        12.176322             12.176322             12.176322  12.176322   \n",
              "7        12.812483             12.812483             12.812483  12.812483   \n",
              "8         8.051357              8.051357              8.051357   8.051357   \n",
              "9         1.859601              1.859601              1.859601   1.859601   \n",
              "10       -4.826292             -4.826292             -4.826292  -4.826292   \n",
              "11      -11.197588            -11.197588            -11.197588 -11.197588   \n",
              "\n",
              "    yearly_lower  yearly_upper  multiplicative_terms  \\\n",
              "0     -13.652407    -13.652407                   0.0   \n",
              "1     -11.302443    -11.302443                   0.0   \n",
              "2      -6.491649     -6.491649                   0.0   \n",
              "3      -0.263975     -0.263975                   0.0   \n",
              "4       4.894677      4.894677                   0.0   \n",
              "5       8.930118      8.930118                   0.0   \n",
              "6      12.176322     12.176322                   0.0   \n",
              "7      12.812483     12.812483                   0.0   \n",
              "8       8.051357      8.051357                   0.0   \n",
              "9       1.859601      1.859601                   0.0   \n",
              "10     -4.826292     -4.826292                   0.0   \n",
              "11    -11.197588    -11.197588                   0.0   \n",
              "\n",
              "    multiplicative_terms_lower  multiplicative_terms_upper       yhat  \n",
              "0                          0.0                         0.0  -0.744109  \n",
              "1                          0.0                         0.0   1.608201  \n",
              "2                          0.0                         0.0   6.421113  \n",
              "3                          0.0                         0.0  12.651133  \n",
              "4                          0.0                         0.0  17.812056  \n",
              "5                          0.0                         0.0  21.849843  \n",
              "6                          0.0                         0.0  25.098318  \n",
              "7                          0.0                         0.0  25.736825  \n",
              "8                          0.0                         0.0  20.978045  \n",
              "9                          0.0                         0.0  14.788559  \n",
              "10                         0.0                         0.0   8.105013  \n",
              "11                         0.0                         0.0   1.735987  "
            ],
            "text/html": [
              "\n",
              "  <div id=\"df-3bb00a31-fbcb-400d-a7d9-5c128dff05eb\">\n",
              "    <div class=\"colab-df-container\">\n",
              "      <div>\n",
              "<style scoped>\n",
              "    .dataframe tbody tr th:only-of-type {\n",
              "        vertical-align: middle;\n",
              "    }\n",
              "\n",
              "    .dataframe tbody tr th {\n",
              "        vertical-align: top;\n",
              "    }\n",
              "\n",
              "    .dataframe thead th {\n",
              "        text-align: right;\n",
              "    }\n",
              "</style>\n",
              "<table border=\"1\" class=\"dataframe\">\n",
              "  <thead>\n",
              "    <tr style=\"text-align: right;\">\n",
              "      <th></th>\n",
              "      <th>ds</th>\n",
              "      <th>trend</th>\n",
              "      <th>yhat_lower</th>\n",
              "      <th>yhat_upper</th>\n",
              "      <th>trend_lower</th>\n",
              "      <th>trend_upper</th>\n",
              "      <th>additive_terms</th>\n",
              "      <th>additive_terms_lower</th>\n",
              "      <th>additive_terms_upper</th>\n",
              "      <th>yearly</th>\n",
              "      <th>yearly_lower</th>\n",
              "      <th>yearly_upper</th>\n",
              "      <th>multiplicative_terms</th>\n",
              "      <th>multiplicative_terms_lower</th>\n",
              "      <th>multiplicative_terms_upper</th>\n",
              "      <th>yhat</th>\n",
              "    </tr>\n",
              "  </thead>\n",
              "  <tbody>\n",
              "    <tr>\n",
              "      <th>0</th>\n",
              "      <td>2022-01-01</td>\n",
              "      <td>12.908297</td>\n",
              "      <td>-2.293503</td>\n",
              "      <td>0.711780</td>\n",
              "      <td>12.907036</td>\n",
              "      <td>12.909369</td>\n",
              "      <td>-13.652407</td>\n",
              "      <td>-13.652407</td>\n",
              "      <td>-13.652407</td>\n",
              "      <td>-13.652407</td>\n",
              "      <td>-13.652407</td>\n",
              "      <td>-13.652407</td>\n",
              "      <td>0.0</td>\n",
              "      <td>0.0</td>\n",
              "      <td>0.0</td>\n",
              "      <td>-0.744109</td>\n",
              "    </tr>\n",
              "    <tr>\n",
              "      <th>1</th>\n",
              "      <td>2022-02-01</td>\n",
              "      <td>12.910644</td>\n",
              "      <td>0.252112</td>\n",
              "      <td>2.994313</td>\n",
              "      <td>12.909273</td>\n",
              "      <td>12.911802</td>\n",
              "      <td>-11.302443</td>\n",
              "      <td>-11.302443</td>\n",
              "      <td>-11.302443</td>\n",
              "      <td>-11.302443</td>\n",
              "      <td>-11.302443</td>\n",
              "      <td>-11.302443</td>\n",
              "      <td>0.0</td>\n",
              "      <td>0.0</td>\n",
              "      <td>0.0</td>\n",
              "      <td>1.608201</td>\n",
              "    </tr>\n",
              "    <tr>\n",
              "      <th>2</th>\n",
              "      <td>2022-03-01</td>\n",
              "      <td>12.912763</td>\n",
              "      <td>5.078431</td>\n",
              "      <td>7.995133</td>\n",
              "      <td>12.911312</td>\n",
              "      <td>12.913989</td>\n",
              "      <td>-6.491649</td>\n",
              "      <td>-6.491649</td>\n",
              "      <td>-6.491649</td>\n",
              "      <td>-6.491649</td>\n",
              "      <td>-6.491649</td>\n",
              "      <td>-6.491649</td>\n",
              "      <td>0.0</td>\n",
              "      <td>0.0</td>\n",
              "      <td>0.0</td>\n",
              "      <td>6.421113</td>\n",
              "    </tr>\n",
              "    <tr>\n",
              "      <th>3</th>\n",
              "      <td>2022-04-01</td>\n",
              "      <td>12.915109</td>\n",
              "      <td>11.219625</td>\n",
              "      <td>14.152941</td>\n",
              "      <td>12.913535</td>\n",
              "      <td>12.916431</td>\n",
              "      <td>-0.263975</td>\n",
              "      <td>-0.263975</td>\n",
              "      <td>-0.263975</td>\n",
              "      <td>-0.263975</td>\n",
              "      <td>-0.263975</td>\n",
              "      <td>-0.263975</td>\n",
              "      <td>0.0</td>\n",
              "      <td>0.0</td>\n",
              "      <td>0.0</td>\n",
              "      <td>12.651133</td>\n",
              "    </tr>\n",
              "    <tr>\n",
              "      <th>4</th>\n",
              "      <td>2022-05-01</td>\n",
              "      <td>12.917379</td>\n",
              "      <td>16.435392</td>\n",
              "      <td>19.220373</td>\n",
              "      <td>12.915711</td>\n",
              "      <td>12.918804</td>\n",
              "      <td>4.894677</td>\n",
              "      <td>4.894677</td>\n",
              "      <td>4.894677</td>\n",
              "      <td>4.894677</td>\n",
              "      <td>4.894677</td>\n",
              "      <td>4.894677</td>\n",
              "      <td>0.0</td>\n",
              "      <td>0.0</td>\n",
              "      <td>0.0</td>\n",
              "      <td>17.812056</td>\n",
              "    </tr>\n",
              "    <tr>\n",
              "      <th>5</th>\n",
              "      <td>2022-06-01</td>\n",
              "      <td>12.919725</td>\n",
              "      <td>20.449584</td>\n",
              "      <td>23.293454</td>\n",
              "      <td>12.917962</td>\n",
              "      <td>12.921237</td>\n",
              "      <td>8.930118</td>\n",
              "      <td>8.930118</td>\n",
              "      <td>8.930118</td>\n",
              "      <td>8.930118</td>\n",
              "      <td>8.930118</td>\n",
              "      <td>8.930118</td>\n",
              "      <td>0.0</td>\n",
              "      <td>0.0</td>\n",
              "      <td>0.0</td>\n",
              "      <td>21.849843</td>\n",
              "    </tr>\n",
              "    <tr>\n",
              "      <th>6</th>\n",
              "      <td>2022-07-01</td>\n",
              "      <td>12.921996</td>\n",
              "      <td>23.501537</td>\n",
              "      <td>26.545121</td>\n",
              "      <td>12.920090</td>\n",
              "      <td>12.923588</td>\n",
              "      <td>12.176322</td>\n",
              "      <td>12.176322</td>\n",
              "      <td>12.176322</td>\n",
              "      <td>12.176322</td>\n",
              "      <td>12.176322</td>\n",
              "      <td>12.176322</td>\n",
              "      <td>0.0</td>\n",
              "      <td>0.0</td>\n",
              "      <td>0.0</td>\n",
              "      <td>25.098318</td>\n",
              "    </tr>\n",
              "    <tr>\n",
              "      <th>7</th>\n",
              "      <td>2022-08-01</td>\n",
              "      <td>12.924342</td>\n",
              "      <td>24.296687</td>\n",
              "      <td>27.209022</td>\n",
              "      <td>12.922346</td>\n",
              "      <td>12.926023</td>\n",
              "      <td>12.812483</td>\n",
              "      <td>12.812483</td>\n",
              "      <td>12.812483</td>\n",
              "      <td>12.812483</td>\n",
              "      <td>12.812483</td>\n",
              "      <td>12.812483</td>\n",
              "      <td>0.0</td>\n",
              "      <td>0.0</td>\n",
              "      <td>0.0</td>\n",
              "      <td>25.736825</td>\n",
              "    </tr>\n",
              "    <tr>\n",
              "      <th>8</th>\n",
              "      <td>2022-09-01</td>\n",
              "      <td>12.926688</td>\n",
              "      <td>19.608484</td>\n",
              "      <td>22.388330</td>\n",
              "      <td>12.924604</td>\n",
              "      <td>12.928487</td>\n",
              "      <td>8.051357</td>\n",
              "      <td>8.051357</td>\n",
              "      <td>8.051357</td>\n",
              "      <td>8.051357</td>\n",
              "      <td>8.051357</td>\n",
              "      <td>8.051357</td>\n",
              "      <td>0.0</td>\n",
              "      <td>0.0</td>\n",
              "      <td>0.0</td>\n",
              "      <td>20.978045</td>\n",
              "    </tr>\n",
              "    <tr>\n",
              "      <th>9</th>\n",
              "      <td>2022-10-01</td>\n",
              "      <td>12.928958</td>\n",
              "      <td>13.443695</td>\n",
              "      <td>16.264705</td>\n",
              "      <td>12.926714</td>\n",
              "      <td>12.930860</td>\n",
              "      <td>1.859601</td>\n",
              "      <td>1.859601</td>\n",
              "      <td>1.859601</td>\n",
              "      <td>1.859601</td>\n",
              "      <td>1.859601</td>\n",
              "      <td>1.859601</td>\n",
              "      <td>0.0</td>\n",
              "      <td>0.0</td>\n",
              "      <td>0.0</td>\n",
              "      <td>14.788559</td>\n",
              "    </tr>\n",
              "    <tr>\n",
              "      <th>10</th>\n",
              "      <td>2022-11-01</td>\n",
              "      <td>12.931304</td>\n",
              "      <td>6.723853</td>\n",
              "      <td>9.599893</td>\n",
              "      <td>12.928948</td>\n",
              "      <td>12.933278</td>\n",
              "      <td>-4.826292</td>\n",
              "      <td>-4.826292</td>\n",
              "      <td>-4.826292</td>\n",
              "      <td>-4.826292</td>\n",
              "      <td>-4.826292</td>\n",
              "      <td>-4.826292</td>\n",
              "      <td>0.0</td>\n",
              "      <td>0.0</td>\n",
              "      <td>0.0</td>\n",
              "      <td>8.105013</td>\n",
              "    </tr>\n",
              "    <tr>\n",
              "      <th>11</th>\n",
              "      <td>2022-12-01</td>\n",
              "      <td>12.933575</td>\n",
              "      <td>0.349448</td>\n",
              "      <td>3.275338</td>\n",
              "      <td>12.931054</td>\n",
              "      <td>12.935656</td>\n",
              "      <td>-11.197588</td>\n",
              "      <td>-11.197588</td>\n",
              "      <td>-11.197588</td>\n",
              "      <td>-11.197588</td>\n",
              "      <td>-11.197588</td>\n",
              "      <td>-11.197588</td>\n",
              "      <td>0.0</td>\n",
              "      <td>0.0</td>\n",
              "      <td>0.0</td>\n",
              "      <td>1.735987</td>\n",
              "    </tr>\n",
              "  </tbody>\n",
              "</table>\n",
              "</div>\n",
              "      <button class=\"colab-df-convert\" onclick=\"convertToInteractive('df-3bb00a31-fbcb-400d-a7d9-5c128dff05eb')\"\n",
              "              title=\"Convert this dataframe to an interactive table.\"\n",
              "              style=\"display:none;\">\n",
              "        \n",
              "  <svg xmlns=\"http://www.w3.org/2000/svg\" height=\"24px\"viewBox=\"0 0 24 24\"\n",
              "       width=\"24px\">\n",
              "    <path d=\"M0 0h24v24H0V0z\" fill=\"none\"/>\n",
              "    <path d=\"M18.56 5.44l.94 2.06.94-2.06 2.06-.94-2.06-.94-.94-2.06-.94 2.06-2.06.94zm-11 1L8.5 8.5l.94-2.06 2.06-.94-2.06-.94L8.5 2.5l-.94 2.06-2.06.94zm10 10l.94 2.06.94-2.06 2.06-.94-2.06-.94-.94-2.06-.94 2.06-2.06.94z\"/><path d=\"M17.41 7.96l-1.37-1.37c-.4-.4-.92-.59-1.43-.59-.52 0-1.04.2-1.43.59L10.3 9.45l-7.72 7.72c-.78.78-.78 2.05 0 2.83L4 21.41c.39.39.9.59 1.41.59.51 0 1.02-.2 1.41-.59l7.78-7.78 2.81-2.81c.8-.78.8-2.07 0-2.86zM5.41 20L4 18.59l7.72-7.72 1.47 1.35L5.41 20z\"/>\n",
              "  </svg>\n",
              "      </button>\n",
              "      \n",
              "  <style>\n",
              "    .colab-df-container {\n",
              "      display:flex;\n",
              "      flex-wrap:wrap;\n",
              "      gap: 12px;\n",
              "    }\n",
              "\n",
              "    .colab-df-convert {\n",
              "      background-color: #E8F0FE;\n",
              "      border: none;\n",
              "      border-radius: 50%;\n",
              "      cursor: pointer;\n",
              "      display: none;\n",
              "      fill: #1967D2;\n",
              "      height: 32px;\n",
              "      padding: 0 0 0 0;\n",
              "      width: 32px;\n",
              "    }\n",
              "\n",
              "    .colab-df-convert:hover {\n",
              "      background-color: #E2EBFA;\n",
              "      box-shadow: 0px 1px 2px rgba(60, 64, 67, 0.3), 0px 1px 3px 1px rgba(60, 64, 67, 0.15);\n",
              "      fill: #174EA6;\n",
              "    }\n",
              "\n",
              "    [theme=dark] .colab-df-convert {\n",
              "      background-color: #3B4455;\n",
              "      fill: #D2E3FC;\n",
              "    }\n",
              "\n",
              "    [theme=dark] .colab-df-convert:hover {\n",
              "      background-color: #434B5C;\n",
              "      box-shadow: 0px 1px 3px 1px rgba(0, 0, 0, 0.15);\n",
              "      filter: drop-shadow(0px 1px 2px rgba(0, 0, 0, 0.3));\n",
              "      fill: #FFFFFF;\n",
              "    }\n",
              "  </style>\n",
              "\n",
              "      <script>\n",
              "        const buttonEl =\n",
              "          document.querySelector('#df-3bb00a31-fbcb-400d-a7d9-5c128dff05eb button.colab-df-convert');\n",
              "        buttonEl.style.display =\n",
              "          google.colab.kernel.accessAllowed ? 'block' : 'none';\n",
              "\n",
              "        async function convertToInteractive(key) {\n",
              "          const element = document.querySelector('#df-3bb00a31-fbcb-400d-a7d9-5c128dff05eb');\n",
              "          const dataTable =\n",
              "            await google.colab.kernel.invokeFunction('convertToInteractive',\n",
              "                                                     [key], {});\n",
              "          if (!dataTable) return;\n",
              "\n",
              "          const docLinkHtml = 'Like what you see? Visit the ' +\n",
              "            '<a target=\"_blank\" href=https://colab.research.google.com/notebooks/data_table.ipynb>data table notebook</a>'\n",
              "            + ' to learn more about interactive tables.';\n",
              "          element.innerHTML = '';\n",
              "          dataTable['output_type'] = 'display_data';\n",
              "          await google.colab.output.renderOutput(dataTable, element);\n",
              "          const docLink = document.createElement('div');\n",
              "          docLink.innerHTML = docLinkHtml;\n",
              "          element.appendChild(docLink);\n",
              "        }\n",
              "      </script>\n",
              "    </div>\n",
              "  </div>\n",
              "  "
            ]
          },
          "metadata": {},
          "execution_count": 25
        }
      ]
    },
    {
      "cell_type": "code",
      "source": [
        "pyplot.plot(forecast['yhat'], label='2022pred')\n",
        "pyplot.legend()\n",
        "pyplot.show()"
      ],
      "metadata": {
        "colab": {
          "base_uri": "https://localhost:8080/",
          "height": 265
        },
        "id": "3IcTXO38OwAS",
        "outputId": "7b264881-e69f-4a27-b7c5-24c7db642050"
      },
      "execution_count": null,
      "outputs": [
        {
          "output_type": "display_data",
          "data": {
            "text/plain": [
              "<Figure size 432x288 with 1 Axes>"
            ],
            "image/png": "[encoded data removed]"
          },
          "metadata": {
            "needs_background": "light"
          }
        }
      ]
    },
    {
      "cell_type": "markdown",
      "source": [
        "# 2023년 예측"
      ],
      "metadata": {
        "id": "3wnmSq8iL3w6"
      }
    },
    {
      "cell_type": "code",
      "source": [
        "last_1year3 = list() # 이번엔 임의의 날짜 2022년 12달을 만든다\n",
        "for i in range(1, 13):\n",
        "  last_1year3.append(['2023-%02d' % i])\n",
        "last_1year3 = pd.DataFrame(last_1year3, columns = ['ds'])\n",
        "last_1year3['ds'] = pd.to_datetime(last_1year3['ds'])"
      ],
      "metadata": {
        "id": "FqeJxDVDLq8d"
      },
      "execution_count": null,
      "outputs": []
    },
    {
      "cell_type": "code",
      "source": [
        "forecast3 = model.predict(last_1year3)\n",
        "model.plot(forecast3)\n",
        "pyplot.show()"
      ],
      "metadata": {
        "colab": {
          "base_uri": "https://localhost:8080/",
          "height": 441
        },
        "id": "UDRdsANxL3EJ",
        "outputId": "021c03f5-434a-4415-e302-63b2ccfa27fa"
      },
      "execution_count": null,
      "outputs": [
        {
          "output_type": "display_data",
          "data": {
            "text/plain": [
              "<Figure size 720x432 with 1 Axes>"
            ],
            "image/png": "[encoded data removed]"
          },
          "metadata": {}
        }
      ]
    },
    {
      "cell_type": "code",
      "source": [
        "forecast3"
      ],
      "metadata": {
        "colab": {
          "base_uri": "https://localhost:8080/",
          "height": 698
        },
        "id": "iN7bPQ50LtSX",
        "outputId": "601cfa3e-ea6a-4e7d-b105-ce0004186242"
      },
      "execution_count": null,
      "outputs": [
        {
          "output_type": "execute_result",
          "data": {
            "text/plain": [
              "           ds      trend  yhat_lower  yhat_upper  trend_lower  trend_upper  \\\n",
              "0  2023-01-01  12.935921   -2.151669    0.835070    12.933373    12.938226   \n",
              "1  2023-02-01  12.938267   -0.243869    2.758175    12.935591    12.940681   \n",
              "2  2023-03-01  12.940386    5.083053    8.029250    12.937574    12.942919   \n",
              "3  2023-04-01  12.942732   11.224091   14.146040    12.939812    12.945388   \n",
              "4  2023-05-01  12.945003   16.472398   19.388856    12.942020    12.947828   \n",
              "5  2023-06-01  12.947349   20.481969   23.413200    12.944261    12.950329   \n",
              "6  2023-07-01  12.949619   23.524088   26.460915    12.946426    12.952772   \n",
              "7  2023-08-01  12.951965   24.380284   27.287078    12.948649    12.955259   \n",
              "8  2023-09-01  12.954312   19.628549   22.426269    12.950845    12.957761   \n",
              "9  2023-10-01  12.956582   13.451829   16.216394    12.952950    12.960132   \n",
              "10 2023-11-01  12.958928    6.917585    9.668181    12.955157    12.962590   \n",
              "11 2023-12-01  12.961198    0.302206    3.256831    12.957365    12.964980   \n",
              "\n",
              "    additive_terms  additive_terms_lower  additive_terms_upper     yearly  \\\n",
              "0       -13.575235            -13.575235            -13.575235 -13.575235   \n",
              "1       -11.631537            -11.631537            -11.631537 -11.631537   \n",
              "2        -6.410654             -6.410654             -6.410654  -6.410654   \n",
              "3        -0.243561             -0.243561             -0.243561  -0.243561   \n",
              "4         4.898260              4.898260              4.898260   4.898260   \n",
              "5         8.927628              8.927628              8.927628   8.927628   \n",
              "6        12.000444             12.000444             12.000444  12.000444   \n",
              "7        12.859039             12.859039             12.859039  12.859039   \n",
              "8         8.130532              8.130532              8.130532   8.130532   \n",
              "9         1.841482              1.841482              1.841482   1.841482   \n",
              "10       -4.651672             -4.651672             -4.651672  -4.651672   \n",
              "11      -11.135421            -11.135421            -11.135421 -11.135421   \n",
              "\n",
              "    yearly_lower  yearly_upper  multiplicative_terms  \\\n",
              "0     -13.575235    -13.575235                   0.0   \n",
              "1     -11.631537    -11.631537                   0.0   \n",
              "2      -6.410654     -6.410654                   0.0   \n",
              "3      -0.243561     -0.243561                   0.0   \n",
              "4       4.898260      4.898260                   0.0   \n",
              "5       8.927628      8.927628                   0.0   \n",
              "6      12.000444     12.000444                   0.0   \n",
              "7      12.859039     12.859039                   0.0   \n",
              "8       8.130532      8.130532                   0.0   \n",
              "9       1.841482      1.841482                   0.0   \n",
              "10     -4.651672     -4.651672                   0.0   \n",
              "11    -11.135421    -11.135421                   0.0   \n",
              "\n",
              "    multiplicative_terms_lower  multiplicative_terms_upper       yhat  \n",
              "0                          0.0                         0.0  -0.639314  \n",
              "1                          0.0                         0.0   1.306730  \n",
              "2                          0.0                         0.0   6.529732  \n",
              "3                          0.0                         0.0  12.699172  \n",
              "4                          0.0                         0.0  17.843263  \n",
              "5                          0.0                         0.0  21.874977  \n",
              "6                          0.0                         0.0  24.950063  \n",
              "7                          0.0                         0.0  25.811005  \n",
              "8                          0.0                         0.0  21.084843  \n",
              "9                          0.0                         0.0  14.798064  \n",
              "10                         0.0                         0.0   8.307256  \n",
              "11                         0.0                         0.0   1.825778  "
            ],
            "text/html": [
              "\n",
              "  <div id=\"df-771149be-781f-4329-9825-8b7598cdc225\">\n",
              "    <div class=\"colab-df-container\">\n",
              "      <div>\n",
              "<style scoped>\n",
              "    .dataframe tbody tr th:only-of-type {\n",
              "        vertical-align: middle;\n",
              "    }\n",
              "\n",
              "    .dataframe tbody tr th {\n",
              "        vertical-align: top;\n",
              "    }\n",
              "\n",
              "    .dataframe thead th {\n",
              "        text-align: right;\n",
              "    }\n",
              "</style>\n",
              "<table border=\"1\" class=\"dataframe\">\n",
              "  <thead>\n",
              "    <tr style=\"text-align: right;\">\n",
              "      <th></th>\n",
              "      <th>ds</th>\n",
              "      <th>trend</th>\n",
              "      <th>yhat_lower</th>\n",
              "      <th>yhat_upper</th>\n",
              "      <th>trend_lower</th>\n",
              "      <th>trend_upper</th>\n",
              "      <th>additive_terms</th>\n",
              "      <th>additive_terms_lower</th>\n",
              "      <th>additive_terms_upper</th>\n",
              "      <th>yearly</th>\n",
              "      <th>yearly_lower</th>\n",
              "      <th>yearly_upper</th>\n",
              "      <th>multiplicative_terms</th>\n",
              "      <th>multiplicative_terms_lower</th>\n",
              "      <th>multiplicative_terms_upper</th>\n",
              "      <th>yhat</th>\n",
              "    </tr>\n",
              "  </thead>\n",
              "  <tbody>\n",
              "    <tr>\n",
              "      <th>0</th>\n",
              "      <td>2023-01-01</td>\n",
              "      <td>12.935921</td>\n",
              "      <td>-2.151669</td>\n",
              "      <td>0.835070</td>\n",
              "      <td>12.933373</td>\n",
              "      <td>12.938226</td>\n",
              "      <td>-13.575235</td>\n",
              "      <td>-13.575235</td>\n",
              "      <td>-13.575235</td>\n",
              "      <td>-13.575235</td>\n",
              "      <td>-13.575235</td>\n",
              "      <td>-13.575235</td>\n",
              "      <td>0.0</td>\n",
              "      <td>0.0</td>\n",
              "      <td>0.0</td>\n",
              "      <td>-0.639314</td>\n",
              "    </tr>\n",
              "    <tr>\n",
              "      <th>1</th>\n",
              "      <td>2023-02-01</td>\n",
              "      <td>12.938267</td>\n",
              "      <td>-0.243869</td>\n",
              "      <td>2.758175</td>\n",
              "      <td>12.935591</td>\n",
              "      <td>12.940681</td>\n",
              "      <td>-11.631537</td>\n",
              "      <td>-11.631537</td>\n",
              "      <td>-11.631537</td>\n",
              "      <td>-11.631537</td>\n",
              "      <td>-11.631537</td>\n",
              "      <td>-11.631537</td>\n",
              "      <td>0.0</td>\n",
              "      <td>0.0</td>\n",
              "      <td>0.0</td>\n",
              "      <td>1.306730</td>\n",
              "    </tr>\n",
              "    <tr>\n",
              "      <th>2</th>\n",
              "      <td>2023-03-01</td>\n",
              "      <td>12.940386</td>\n",
              "      <td>5.083053</td>\n",
              "      <td>8.029250</td>\n",
              "      <td>12.937574</td>\n",
              "      <td>12.942919</td>\n",
              "      <td>-6.410654</td>\n",
              "      <td>-6.410654</td>\n",
              "      <td>-6.410654</td>\n",
              "      <td>-6.410654</td>\n",
              "      <td>-6.410654</td>\n",
              "      <td>-6.410654</td>\n",
              "      <td>0.0</td>\n",
              "      <td>0.0</td>\n",
              "      <td>0.0</td>\n",
              "      <td>6.529732</td>\n",
              "    </tr>\n",
              "    <tr>\n",
              "      <th>3</th>\n",
              "      <td>2023-04-01</td>\n",
              "      <td>12.942732</td>\n",
              "      <td>11.224091</td>\n",
              "      <td>14.146040</td>\n",
              "      <td>12.939812</td>\n",
              "      <td>12.945388</td>\n",
              "      <td>-0.243561</td>\n",
              "      <td>-0.243561</td>\n",
              "      <td>-0.243561</td>\n",
              "      <td>-0.243561</td>\n",
              "      <td>-0.243561</td>\n",
              "      <td>-0.243561</td>\n",
              "      <td>0.0</td>\n",
              "      <td>0.0</td>\n",
              "      <td>0.0</td>\n",
              "      <td>12.699172</td>\n",
              "    </tr>\n",
              "    <tr>\n",
              "      <th>4</th>\n",
              "      <td>2023-05-01</td>\n",
              "      <td>12.945003</td>\n",
              "      <td>16.472398</td>\n",
              "      <td>19.388856</td>\n",
              "      <td>12.942020</td>\n",
              "      <td>12.947828</td>\n",
              "      <td>4.898260</td>\n",
              "      <td>4.898260</td>\n",
              "      <td>4.898260</td>\n",
              "      <td>4.898260</td>\n",
              "      <td>4.898260</td>\n",
              "      <td>4.898260</td>\n",
              "      <td>0.0</td>\n",
              "      <td>0.0</td>\n",
              "      <td>0.0</td>\n",
              "      <td>17.843263</td>\n",
              "    </tr>\n",
              "    <tr>\n",
              "      <th>5</th>\n",
              "      <td>2023-06-01</td>\n",
              "      <td>12.947349</td>\n",
              "      <td>20.481969</td>\n",
              "      <td>23.413200</td>\n",
              "      <td>12.944261</td>\n",
              "      <td>12.950329</td>\n",
              "      <td>8.927628</td>\n",
              "      <td>8.927628</td>\n",
              "      <td>8.927628</td>\n",
              "      <td>8.927628</td>\n",
              "      <td>8.927628</td>\n",
              "      <td>8.927628</td>\n",
              "      <td>0.0</td>\n",
              "      <td>0.0</td>\n",
              "      <td>0.0</td>\n",
              "      <td>21.874977</td>\n",
              "    </tr>\n",
              "    <tr>\n",
              "      <th>6</th>\n",
              "      <td>2023-07-01</td>\n",
              "      <td>12.949619</td>\n",
              "      <td>23.524088</td>\n",
              "      <td>26.460915</td>\n",
              "      <td>12.946426</td>\n",
              "      <td>12.952772</td>\n",
              "      <td>12.000444</td>\n",
              "      <td>12.000444</td>\n",
              "      <td>12.000444</td>\n",
              "      <td>12.000444</td>\n",
              "      <td>12.000444</td>\n",
              "      <td>12.000444</td>\n",
              "      <td>0.0</td>\n",
              "      <td>0.0</td>\n",
              "      <td>0.0</td>\n",
              "      <td>24.950063</td>\n",
              "    </tr>\n",
              "    <tr>\n",
              "      <th>7</th>\n",
              "      <td>2023-08-01</td>\n",
              "      <td>12.951965</td>\n",
              "      <td>24.380284</td>\n",
              "      <td>27.287078</td>\n",
              "      <td>12.948649</td>\n",
              "      <td>12.955259</td>\n",
              "      <td>12.859039</td>\n",
              "      <td>12.859039</td>\n",
              "      <td>12.859039</td>\n",
              "      <td>12.859039</td>\n",
              "      <td>12.859039</td>\n",
              "      <td>12.859039</td>\n",
              "      <td>0.0</td>\n",
              "      <td>0.0</td>\n",
              "      <td>0.0</td>\n",
              "      <td>25.811005</td>\n",
              "    </tr>\n",
              "    <tr>\n",
              "      <th>8</th>\n",
              "      <td>2023-09-01</td>\n",
              "      <td>12.954312</td>\n",
              "      <td>19.628549</td>\n",
              "      <td>22.426269</td>\n",
              "      <td>12.950845</td>\n",
              "      <td>12.957761</td>\n",
              "      <td>8.130532</td>\n",
              "      <td>8.130532</td>\n",
              "      <td>8.130532</td>\n",
              "      <td>8.130532</td>\n",
              "      <td>8.130532</td>\n",
              "      <td>8.130532</td>\n",
              "      <td>0.0</td>\n",
              "      <td>0.0</td>\n",
              "      <td>0.0</td>\n",
              "      <td>21.084843</td>\n",
              "    </tr>\n",
              "    <tr>\n",
              "      <th>9</th>\n",
              "      <td>2023-10-01</td>\n",
              "      <td>12.956582</td>\n",
              "      <td>13.451829</td>\n",
              "      <td>16.216394</td>\n",
              "      <td>12.952950</td>\n",
              "      <td>12.960132</td>\n",
              "      <td>1.841482</td>\n",
              "      <td>1.841482</td>\n",
              "      <td>1.841482</td>\n",
              "      <td>1.841482</td>\n",
              "      <td>1.841482</td>\n",
              "      <td>1.841482</td>\n",
              "      <td>0.0</td>\n",
              "      <td>0.0</td>\n",
              "      <td>0.0</td>\n",
              "      <td>14.798064</td>\n",
              "    </tr>\n",
              "    <tr>\n",
              "      <th>10</th>\n",
              "      <td>2023-11-01</td>\n",
              "      <td>12.958928</td>\n",
              "      <td>6.917585</td>\n",
              "      <td>9.668181</td>\n",
              "      <td>12.955157</td>\n",
              "      <td>12.962590</td>\n",
              "      <td>-4.651672</td>\n",
              "      <td>-4.651672</td>\n",
              "      <td>-4.651672</td>\n",
              "      <td>-4.651672</td>\n",
              "      <td>-4.651672</td>\n",
              "      <td>-4.651672</td>\n",
              "      <td>0.0</td>\n",
              "      <td>0.0</td>\n",
              "      <td>0.0</td>\n",
              "      <td>8.307256</td>\n",
              "    </tr>\n",
              "    <tr>\n",
              "      <th>11</th>\n",
              "      <td>2023-12-01</td>\n",
              "      <td>12.961198</td>\n",
              "      <td>0.302206</td>\n",
              "      <td>3.256831</td>\n",
              "      <td>12.957365</td>\n",
              "      <td>12.964980</td>\n",
              "      <td>-11.135421</td>\n",
              "      <td>-11.135421</td>\n",
              "      <td>-11.135421</td>\n",
              "      <td>-11.135421</td>\n",
              "      <td>-11.135421</td>\n",
              "      <td>-11.135421</td>\n",
              "      <td>0.0</td>\n",
              "      <td>0.0</td>\n",
              "      <td>0.0</td>\n",
              "      <td>1.825778</td>\n",
              "    </tr>\n",
              "  </tbody>\n",
              "</table>\n",
              "</div>\n",
              "      <button class=\"colab-df-convert\" onclick=\"convertToInteractive('df-771149be-781f-4329-9825-8b7598cdc225')\"\n",
              "              title=\"Convert this dataframe to an interactive table.\"\n",
              "              style=\"display:none;\">\n",
              "        \n",
              "  <svg xmlns=\"http://www.w3.org/2000/svg\" height=\"24px\"viewBox=\"0 0 24 24\"\n",
              "       width=\"24px\">\n",
              "    <path d=\"M0 0h24v24H0V0z\" fill=\"none\"/>\n",
              "    <path d=\"M18.56 5.44l.94 2.06.94-2.06 2.06-.94-2.06-.94-.94-2.06-.94 2.06-2.06.94zm-11 1L8.5 8.5l.94-2.06 2.06-.94-2.06-.94L8.5 2.5l-.94 2.06-2.06.94zm10 10l.94 2.06.94-2.06 2.06-.94-2.06-.94-.94-2.06-.94 2.06-2.06.94z\"/><path d=\"M17.41 7.96l-1.37-1.37c-.4-.4-.92-.59-1.43-.59-.52 0-1.04.2-1.43.59L10.3 9.45l-7.72 7.72c-.78.78-.78 2.05 0 2.83L4 21.41c.39.39.9.59 1.41.59.51 0 1.02-.2 1.41-.59l7.78-7.78 2.81-2.81c.8-.78.8-2.07 0-2.86zM5.41 20L4 18.59l7.72-7.72 1.47 1.35L5.41 20z\"/>\n",
              "  </svg>\n",
              "      </button>\n",
              "      \n",
              "  <style>\n",
              "    .colab-df-container {\n",
              "      display:flex;\n",
              "      flex-wrap:wrap;\n",
              "      gap: 12px;\n",
              "    }\n",
              "\n",
              "    .colab-df-convert {\n",
              "      background-color: #E8F0FE;\n",
              "      border: none;\n",
              "      border-radius: 50%;\n",
              "      cursor: pointer;\n",
              "      display: none;\n",
              "      fill: #1967D2;\n",
              "      height: 32px;\n",
              "      padding: 0 0 0 0;\n",
              "      width: 32px;\n",
              "    }\n",
              "\n",
              "    .colab-df-convert:hover {\n",
              "      background-color: #E2EBFA;\n",
              "      box-shadow: 0px 1px 2px rgba(60, 64, 67, 0.3), 0px 1px 3px 1px rgba(60, 64, 67, 0.15);\n",
              "      fill: #174EA6;\n",
              "    }\n",
              "\n",
              "    [theme=dark] .colab-df-convert {\n",
              "      background-color: #3B4455;\n",
              "      fill: #D2E3FC;\n",
              "    }\n",
              "\n",
              "    [theme=dark] .colab-df-convert:hover {\n",
              "      background-color: #434B5C;\n",
              "      box-shadow: 0px 1px 3px 1px rgba(0, 0, 0, 0.15);\n",
              "      filter: drop-shadow(0px 1px 2px rgba(0, 0, 0, 0.3));\n",
              "      fill: #FFFFFF;\n",
              "    }\n",
              "  </style>\n",
              "\n",
              "      <script>\n",
              "        const buttonEl =\n",
              "          document.querySelector('#df-771149be-781f-4329-9825-8b7598cdc225 button.colab-df-convert');\n",
              "        buttonEl.style.display =\n",
              "          google.colab.kernel.accessAllowed ? 'block' : 'none';\n",
              "\n",
              "        async function convertToInteractive(key) {\n",
              "          const element = document.querySelector('#df-771149be-781f-4329-9825-8b7598cdc225');\n",
              "          const dataTable =\n",
              "            await google.colab.kernel.invokeFunction('convertToInteractive',\n",
              "                                                     [key], {});\n",
              "          if (!dataTable) return;\n",
              "\n",
              "          const docLinkHtml = 'Like what you see? Visit the ' +\n",
              "            '<a target=\"_blank\" href=https://colab.research.google.com/notebooks/data_table.ipynb>data table notebook</a>'\n",
              "            + ' to learn more about interactive tables.';\n",
              "          element.innerHTML = '';\n",
              "          dataTable['output_type'] = 'display_data';\n",
              "          await google.colab.output.renderOutput(dataTable, element);\n",
              "          const docLink = document.createElement('div');\n",
              "          docLink.innerHTML = docLinkHtml;\n",
              "          element.appendChild(docLink);\n",
              "        }\n",
              "      </script>\n",
              "    </div>\n",
              "  </div>\n",
              "  "
            ]
          },
          "metadata": {},
          "execution_count": 30
        }
      ]
    },
    {
      "cell_type": "code",
      "source": [
        "pyplot.plot(forecast['yhat'], label='2023pred')\n",
        "pyplot.legend()\n",
        "pyplot.show()"
      ],
      "metadata": {
        "colab": {
          "base_uri": "https://localhost:8080/",
          "height": 265
        },
        "id": "NVZyGjIOLuIB",
        "outputId": "434851f8-f631-4f35-9ee5-d7775b11a4b5"
      },
      "execution_count": null,
      "outputs": [
        {
          "output_type": "display_data",
          "data": {
            "text/plain": [
              "<Figure size 432x288 with 1 Axes>"
            ],
            "image/png": "[encoded data removed]"
          },
          "metadata": {
            "needs_background": "light"
          }
        }
      ]
    }
  ]
}