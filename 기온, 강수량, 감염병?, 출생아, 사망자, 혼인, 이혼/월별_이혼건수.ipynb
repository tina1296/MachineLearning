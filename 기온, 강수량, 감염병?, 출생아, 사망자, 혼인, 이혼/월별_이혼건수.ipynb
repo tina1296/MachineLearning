{
  "nbformat": 4,
  "nbformat_minor": 0,
  "metadata": {
    "colab": {
      "name": "월별 이혼건수.ipynb",
      "provenance": [],
      "collapsed_sections": []
    },
    "kernelspec": {
      "name": "python3",
      "display_name": "Python 3"
    },
    "language_info": {
      "name": "python"
    }
  },
  "cells": [
    {
      "cell_type": "markdown",
      "source": [
        "# 이혼건수 fbporphet 1"
      ],
      "metadata": {
        "id": "eSlRNwC57uv8"
      }
    },
    {
      "cell_type": "code",
      "source": [
        "pip install fbprophet # 프로펫 "
      ],
      "metadata": {
        "colab": {
          "base_uri": "https://localhost:8080/"
        },
        "outputId": "6da73a3b-39b4-4985-8317-6f3c7fb07310",
        "id": "yQ4DmBzf7uv9"
      },
      "execution_count": null,
      "outputs": [
        {
          "output_type": "stream",
          "name": "stdout",
          "text": [
            "Looking in indexes: https://pypi.org/simple, https://us-python.pkg.dev/colab-wheels/public/simple/\n",
            "Requirement already satisfied: fbprophet in /usr/local/lib/python3.7/dist-packages (0.7.1)\n",
            "Requirement already satisfied: Cython>=0.22 in /usr/local/lib/python3.7/dist-packages (from fbprophet) (0.29.30)\n",
            "Requirement already satisfied: cmdstanpy==0.9.5 in /usr/local/lib/python3.7/dist-packages (from fbprophet) (0.9.5)\n",
            "Requirement already satisfied: pystan>=2.14 in /usr/local/lib/python3.7/dist-packages (from fbprophet) (2.19.1.1)\n",
            "Requirement already satisfied: numpy>=1.15.4 in /usr/local/lib/python3.7/dist-packages (from fbprophet) (1.21.6)\n",
            "Requirement already satisfied: pandas>=1.0.4 in /usr/local/lib/python3.7/dist-packages (from fbprophet) (1.3.5)\n",
            "Requirement already satisfied: matplotlib>=2.0.0 in /usr/local/lib/python3.7/dist-packages (from fbprophet) (3.2.2)\n",
            "Requirement already satisfied: LunarCalendar>=0.0.9 in /usr/local/lib/python3.7/dist-packages (from fbprophet) (0.0.9)\n",
            "Requirement already satisfied: convertdate>=2.1.2 in /usr/local/lib/python3.7/dist-packages (from fbprophet) (2.4.0)\n",
            "Requirement already satisfied: holidays>=0.10.2 in /usr/local/lib/python3.7/dist-packages (from fbprophet) (0.10.5.2)\n",
            "Requirement already satisfied: setuptools-git>=1.2 in /usr/local/lib/python3.7/dist-packages (from fbprophet) (1.2)\n",
            "Requirement already satisfied: python-dateutil>=2.8.0 in /usr/local/lib/python3.7/dist-packages (from fbprophet) (2.8.2)\n",
            "Requirement already satisfied: tqdm>=4.36.1 in /usr/local/lib/python3.7/dist-packages (from fbprophet) (4.64.0)\n",
            "Requirement already satisfied: pymeeus<=1,>=0.3.13 in /usr/local/lib/python3.7/dist-packages (from convertdate>=2.1.2->fbprophet) (0.5.11)\n",
            "Requirement already satisfied: korean-lunar-calendar in /usr/local/lib/python3.7/dist-packages (from holidays>=0.10.2->fbprophet) (0.2.1)\n",
            "Requirement already satisfied: hijri-converter in /usr/local/lib/python3.7/dist-packages (from holidays>=0.10.2->fbprophet) (2.2.3)\n",
            "Requirement already satisfied: six in /usr/local/lib/python3.7/dist-packages (from holidays>=0.10.2->fbprophet) (1.15.0)\n",
            "Requirement already satisfied: pytz in /usr/local/lib/python3.7/dist-packages (from LunarCalendar>=0.0.9->fbprophet) (2022.1)\n",
            "Requirement already satisfied: ephem>=3.7.5.3 in /usr/local/lib/python3.7/dist-packages (from LunarCalendar>=0.0.9->fbprophet) (4.1.3)\n",
            "Requirement already satisfied: cycler>=0.10 in /usr/local/lib/python3.7/dist-packages (from matplotlib>=2.0.0->fbprophet) (0.11.0)\n",
            "Requirement already satisfied: pyparsing!=2.0.4,!=2.1.2,!=2.1.6,>=2.0.1 in /usr/local/lib/python3.7/dist-packages (from matplotlib>=2.0.0->fbprophet) (3.0.9)\n",
            "Requirement already satisfied: kiwisolver>=1.0.1 in /usr/local/lib/python3.7/dist-packages (from matplotlib>=2.0.0->fbprophet) (1.4.2)\n",
            "Requirement already satisfied: typing-extensions in /usr/local/lib/python3.7/dist-packages (from kiwisolver>=1.0.1->matplotlib>=2.0.0->fbprophet) (4.2.0)\n"
          ]
        }
      ]
    },
    {
      "cell_type": "code",
      "source": [
        "import pandas as pd # 판다스\n",
        "df = pd.read_csv('/content/전국이혼건수81-20.CSV', encoding='cp949') # 데이터 로드"
      ],
      "metadata": {
        "id": "ctwL5HGp7uv9"
      },
      "execution_count": null,
      "outputs": []
    },
    {
      "cell_type": "code",
      "source": [
        "df.head()"
      ],
      "metadata": {
        "colab": {
          "base_uri": "https://localhost:8080/",
          "height": 206
        },
        "outputId": "e6210cf1-2bba-41f2-ac26-ba98ba39667b",
        "id": "9CGm05iE7uv9"
      },
      "execution_count": null,
      "outputs": [
        {
          "output_type": "execute_result",
          "data": {
            "text/plain": [
              "         시간  이혼건수\n",
              "0  1981년01월  1827\n",
              "1  1981년02월  1687\n",
              "2  1981년03월  2094\n",
              "3  1981년04월  2189\n",
              "4  1981년05월  2059"
            ],
            "text/html": [
              "\n",
              "  <div id=\"df-585df4a7-334e-4c19-b9a9-ce3872d6dc68\">\n",
              "    <div class=\"colab-df-container\">\n",
              "      <div>\n",
              "<style scoped>\n",
              "    .dataframe tbody tr th:only-of-type {\n",
              "        vertical-align: middle;\n",
              "    }\n",
              "\n",
              "    .dataframe tbody tr th {\n",
              "        vertical-align: top;\n",
              "    }\n",
              "\n",
              "    .dataframe thead th {\n",
              "        text-align: right;\n",
              "    }\n",
              "</style>\n",
              "<table border=\"1\" class=\"dataframe\">\n",
              "  <thead>\n",
              "    <tr style=\"text-align: right;\">\n",
              "      <th></th>\n",
              "      <th>시간</th>\n",
              "      <th>이혼건수</th>\n",
              "    </tr>\n",
              "  </thead>\n",
              "  <tbody>\n",
              "    <tr>\n",
              "      <th>0</th>\n",
              "      <td>1981년01월</td>\n",
              "      <td>1827</td>\n",
              "    </tr>\n",
              "    <tr>\n",
              "      <th>1</th>\n",
              "      <td>1981년02월</td>\n",
              "      <td>1687</td>\n",
              "    </tr>\n",
              "    <tr>\n",
              "      <th>2</th>\n",
              "      <td>1981년03월</td>\n",
              "      <td>2094</td>\n",
              "    </tr>\n",
              "    <tr>\n",
              "      <th>3</th>\n",
              "      <td>1981년04월</td>\n",
              "      <td>2189</td>\n",
              "    </tr>\n",
              "    <tr>\n",
              "      <th>4</th>\n",
              "      <td>1981년05월</td>\n",
              "      <td>2059</td>\n",
              "    </tr>\n",
              "  </tbody>\n",
              "</table>\n",
              "</div>\n",
              "      <button class=\"colab-df-convert\" onclick=\"convertToInteractive('df-585df4a7-334e-4c19-b9a9-ce3872d6dc68')\"\n",
              "              title=\"Convert this dataframe to an interactive table.\"\n",
              "              style=\"display:none;\">\n",
              "        \n",
              "  <svg xmlns=\"http://www.w3.org/2000/svg\" height=\"24px\"viewBox=\"0 0 24 24\"\n",
              "       width=\"24px\">\n",
              "    <path d=\"M0 0h24v24H0V0z\" fill=\"none\"/>\n",
              "    <path d=\"M18.56 5.44l.94 2.06.94-2.06 2.06-.94-2.06-.94-.94-2.06-.94 2.06-2.06.94zm-11 1L8.5 8.5l.94-2.06 2.06-.94-2.06-.94L8.5 2.5l-.94 2.06-2.06.94zm10 10l.94 2.06.94-2.06 2.06-.94-2.06-.94-.94-2.06-.94 2.06-2.06.94z\"/><path d=\"M17.41 7.96l-1.37-1.37c-.4-.4-.92-.59-1.43-.59-.52 0-1.04.2-1.43.59L10.3 9.45l-7.72 7.72c-.78.78-.78 2.05 0 2.83L4 21.41c.39.39.9.59 1.41.59.51 0 1.02-.2 1.41-.59l7.78-7.78 2.81-2.81c.8-.78.8-2.07 0-2.86zM5.41 20L4 18.59l7.72-7.72 1.47 1.35L5.41 20z\"/>\n",
              "  </svg>\n",
              "      </button>\n",
              "      \n",
              "  <style>\n",
              "    .colab-df-container {\n",
              "      display:flex;\n",
              "      flex-wrap:wrap;\n",
              "      gap: 12px;\n",
              "    }\n",
              "\n",
              "    .colab-df-convert {\n",
              "      background-color: #E8F0FE;\n",
              "      border: none;\n",
              "      border-radius: 50%;\n",
              "      cursor: pointer;\n",
              "      display: none;\n",
              "      fill: #1967D2;\n",
              "      height: 32px;\n",
              "      padding: 0 0 0 0;\n",
              "      width: 32px;\n",
              "    }\n",
              "\n",
              "    .colab-df-convert:hover {\n",
              "      background-color: #E2EBFA;\n",
              "      box-shadow: 0px 1px 2px rgba(60, 64, 67, 0.3), 0px 1px 3px 1px rgba(60, 64, 67, 0.15);\n",
              "      fill: #174EA6;\n",
              "    }\n",
              "\n",
              "    [theme=dark] .colab-df-convert {\n",
              "      background-color: #3B4455;\n",
              "      fill: #D2E3FC;\n",
              "    }\n",
              "\n",
              "    [theme=dark] .colab-df-convert:hover {\n",
              "      background-color: #434B5C;\n",
              "      box-shadow: 0px 1px 3px 1px rgba(0, 0, 0, 0.15);\n",
              "      filter: drop-shadow(0px 1px 2px rgba(0, 0, 0, 0.3));\n",
              "      fill: #FFFFFF;\n",
              "    }\n",
              "  </style>\n",
              "\n",
              "      <script>\n",
              "        const buttonEl =\n",
              "          document.querySelector('#df-585df4a7-334e-4c19-b9a9-ce3872d6dc68 button.colab-df-convert');\n",
              "        buttonEl.style.display =\n",
              "          google.colab.kernel.accessAllowed ? 'block' : 'none';\n",
              "\n",
              "        async function convertToInteractive(key) {\n",
              "          const element = document.querySelector('#df-585df4a7-334e-4c19-b9a9-ce3872d6dc68');\n",
              "          const dataTable =\n",
              "            await google.colab.kernel.invokeFunction('convertToInteractive',\n",
              "                                                     [key], {});\n",
              "          if (!dataTable) return;\n",
              "\n",
              "          const docLinkHtml = 'Like what you see? Visit the ' +\n",
              "            '<a target=\"_blank\" href=https://colab.research.google.com/notebooks/data_table.ipynb>data table notebook</a>'\n",
              "            + ' to learn more about interactive tables.';\n",
              "          element.innerHTML = '';\n",
              "          dataTable['output_type'] = 'display_data';\n",
              "          await google.colab.output.renderOutput(dataTable, element);\n",
              "          const docLink = document.createElement('div');\n",
              "          docLink.innerHTML = docLinkHtml;\n",
              "          element.appendChild(docLink);\n",
              "        }\n",
              "      </script>\n",
              "    </div>\n",
              "  </div>\n",
              "  "
            ]
          },
          "metadata": {},
          "execution_count": 3
        }
      ]
    },
    {
      "cell_type": "code",
      "source": [
        "df = df.rename(columns={'시간':'time', '이혼건수':'divorce'})\n",
        "df.tail() # 이름 바꿔줬다"
      ],
      "metadata": {
        "colab": {
          "base_uri": "https://localhost:8080/",
          "height": 206
        },
        "outputId": "4c372a23-d5a2-4dc4-978e-f708df97dc26",
        "id": "NiYSEAXy7uv9"
      },
      "execution_count": null,
      "outputs": [
        {
          "output_type": "execute_result",
          "data": {
            "text/plain": [
              "         time  divorce\n",
              "475  2020년08월     8455\n",
              "476  2020년09월     9536\n",
              "477  2020년10월     9347\n",
              "478  2020년11월     8876\n",
              "479  2020년12월     9181"
            ],
            "text/html": [
              "\n",
              "  <div id=\"df-dd1bee24-fe12-49a3-b5e1-c435651963c9\">\n",
              "    <div class=\"colab-df-container\">\n",
              "      <div>\n",
              "<style scoped>\n",
              "    .dataframe tbody tr th:only-of-type {\n",
              "        vertical-align: middle;\n",
              "    }\n",
              "\n",
              "    .dataframe tbody tr th {\n",
              "        vertical-align: top;\n",
              "    }\n",
              "\n",
              "    .dataframe thead th {\n",
              "        text-align: right;\n",
              "    }\n",
              "</style>\n",
              "<table border=\"1\" class=\"dataframe\">\n",
              "  <thead>\n",
              "    <tr style=\"text-align: right;\">\n",
              "      <th></th>\n",
              "      <th>time</th>\n",
              "      <th>divorce</th>\n",
              "    </tr>\n",
              "  </thead>\n",
              "  <tbody>\n",
              "    <tr>\n",
              "      <th>475</th>\n",
              "      <td>2020년08월</td>\n",
              "      <td>8455</td>\n",
              "    </tr>\n",
              "    <tr>\n",
              "      <th>476</th>\n",
              "      <td>2020년09월</td>\n",
              "      <td>9536</td>\n",
              "    </tr>\n",
              "    <tr>\n",
              "      <th>477</th>\n",
              "      <td>2020년10월</td>\n",
              "      <td>9347</td>\n",
              "    </tr>\n",
              "    <tr>\n",
              "      <th>478</th>\n",
              "      <td>2020년11월</td>\n",
              "      <td>8876</td>\n",
              "    </tr>\n",
              "    <tr>\n",
              "      <th>479</th>\n",
              "      <td>2020년12월</td>\n",
              "      <td>9181</td>\n",
              "    </tr>\n",
              "  </tbody>\n",
              "</table>\n",
              "</div>\n",
              "      <button class=\"colab-df-convert\" onclick=\"convertToInteractive('df-dd1bee24-fe12-49a3-b5e1-c435651963c9')\"\n",
              "              title=\"Convert this dataframe to an interactive table.\"\n",
              "              style=\"display:none;\">\n",
              "        \n",
              "  <svg xmlns=\"http://www.w3.org/2000/svg\" height=\"24px\"viewBox=\"0 0 24 24\"\n",
              "       width=\"24px\">\n",
              "    <path d=\"M0 0h24v24H0V0z\" fill=\"none\"/>\n",
              "    <path d=\"M18.56 5.44l.94 2.06.94-2.06 2.06-.94-2.06-.94-.94-2.06-.94 2.06-2.06.94zm-11 1L8.5 8.5l.94-2.06 2.06-.94-2.06-.94L8.5 2.5l-.94 2.06-2.06.94zm10 10l.94 2.06.94-2.06 2.06-.94-2.06-.94-.94-2.06-.94 2.06-2.06.94z\"/><path d=\"M17.41 7.96l-1.37-1.37c-.4-.4-.92-.59-1.43-.59-.52 0-1.04.2-1.43.59L10.3 9.45l-7.72 7.72c-.78.78-.78 2.05 0 2.83L4 21.41c.39.39.9.59 1.41.59.51 0 1.02-.2 1.41-.59l7.78-7.78 2.81-2.81c.8-.78.8-2.07 0-2.86zM5.41 20L4 18.59l7.72-7.72 1.47 1.35L5.41 20z\"/>\n",
              "  </svg>\n",
              "      </button>\n",
              "      \n",
              "  <style>\n",
              "    .colab-df-container {\n",
              "      display:flex;\n",
              "      flex-wrap:wrap;\n",
              "      gap: 12px;\n",
              "    }\n",
              "\n",
              "    .colab-df-convert {\n",
              "      background-color: #E8F0FE;\n",
              "      border: none;\n",
              "      border-radius: 50%;\n",
              "      cursor: pointer;\n",
              "      display: none;\n",
              "      fill: #1967D2;\n",
              "      height: 32px;\n",
              "      padding: 0 0 0 0;\n",
              "      width: 32px;\n",
              "    }\n",
              "\n",
              "    .colab-df-convert:hover {\n",
              "      background-color: #E2EBFA;\n",
              "      box-shadow: 0px 1px 2px rgba(60, 64, 67, 0.3), 0px 1px 3px 1px rgba(60, 64, 67, 0.15);\n",
              "      fill: #174EA6;\n",
              "    }\n",
              "\n",
              "    [theme=dark] .colab-df-convert {\n",
              "      background-color: #3B4455;\n",
              "      fill: #D2E3FC;\n",
              "    }\n",
              "\n",
              "    [theme=dark] .colab-df-convert:hover {\n",
              "      background-color: #434B5C;\n",
              "      box-shadow: 0px 1px 3px 1px rgba(0, 0, 0, 0.15);\n",
              "      filter: drop-shadow(0px 1px 2px rgba(0, 0, 0, 0.3));\n",
              "      fill: #FFFFFF;\n",
              "    }\n",
              "  </style>\n",
              "\n",
              "      <script>\n",
              "        const buttonEl =\n",
              "          document.querySelector('#df-dd1bee24-fe12-49a3-b5e1-c435651963c9 button.colab-df-convert');\n",
              "        buttonEl.style.display =\n",
              "          google.colab.kernel.accessAllowed ? 'block' : 'none';\n",
              "\n",
              "        async function convertToInteractive(key) {\n",
              "          const element = document.querySelector('#df-dd1bee24-fe12-49a3-b5e1-c435651963c9');\n",
              "          const dataTable =\n",
              "            await google.colab.kernel.invokeFunction('convertToInteractive',\n",
              "                                                     [key], {});\n",
              "          if (!dataTable) return;\n",
              "\n",
              "          const docLinkHtml = 'Like what you see? Visit the ' +\n",
              "            '<a target=\"_blank\" href=https://colab.research.google.com/notebooks/data_table.ipynb>data table notebook</a>'\n",
              "            + ' to learn more about interactive tables.';\n",
              "          element.innerHTML = '';\n",
              "          dataTable['output_type'] = 'display_data';\n",
              "          await google.colab.output.renderOutput(dataTable, element);\n",
              "          const docLink = document.createElement('div');\n",
              "          docLink.innerHTML = docLinkHtml;\n",
              "          element.appendChild(docLink);\n",
              "        }\n",
              "      </script>\n",
              "    </div>\n",
              "  </div>\n",
              "  "
            ]
          },
          "metadata": {},
          "execution_count": 4
        }
      ]
    },
    {
      "cell_type": "code",
      "source": [
        "df[\"time\"] = df[\"time\"].str.replace(pat=r'년', repl=r'-', regex=True) # 한글 지워줬다"
      ],
      "metadata": {
        "id": "54vVD5wg7uv9"
      },
      "execution_count": null,
      "outputs": []
    },
    {
      "cell_type": "code",
      "source": [
        "df[\"time\"] = df[\"time\"].str.replace(pat=r'월', repl=r'', regex=True) # 한글 지워줬다"
      ],
      "metadata": {
        "id": "u2VYdKju7uv-"
      },
      "execution_count": null,
      "outputs": []
    },
    {
      "cell_type": "code",
      "source": [
        "df.head()"
      ],
      "metadata": {
        "colab": {
          "base_uri": "https://localhost:8080/",
          "height": 206
        },
        "outputId": "fe5a5e7e-4b8a-4197-ace9-0b3257ae239e",
        "id": "py-s61BX7uv-"
      },
      "execution_count": null,
      "outputs": [
        {
          "output_type": "execute_result",
          "data": {
            "text/plain": [
              "      time  divorce\n",
              "0  1981-01     1827\n",
              "1  1981-02     1687\n",
              "2  1981-03     2094\n",
              "3  1981-04     2189\n",
              "4  1981-05     2059"
            ],
            "text/html": [
              "\n",
              "  <div id=\"df-0e542a14-0045-4570-8951-00ce5435009a\">\n",
              "    <div class=\"colab-df-container\">\n",
              "      <div>\n",
              "<style scoped>\n",
              "    .dataframe tbody tr th:only-of-type {\n",
              "        vertical-align: middle;\n",
              "    }\n",
              "\n",
              "    .dataframe tbody tr th {\n",
              "        vertical-align: top;\n",
              "    }\n",
              "\n",
              "    .dataframe thead th {\n",
              "        text-align: right;\n",
              "    }\n",
              "</style>\n",
              "<table border=\"1\" class=\"dataframe\">\n",
              "  <thead>\n",
              "    <tr style=\"text-align: right;\">\n",
              "      <th></th>\n",
              "      <th>time</th>\n",
              "      <th>divorce</th>\n",
              "    </tr>\n",
              "  </thead>\n",
              "  <tbody>\n",
              "    <tr>\n",
              "      <th>0</th>\n",
              "      <td>1981-01</td>\n",
              "      <td>1827</td>\n",
              "    </tr>\n",
              "    <tr>\n",
              "      <th>1</th>\n",
              "      <td>1981-02</td>\n",
              "      <td>1687</td>\n",
              "    </tr>\n",
              "    <tr>\n",
              "      <th>2</th>\n",
              "      <td>1981-03</td>\n",
              "      <td>2094</td>\n",
              "    </tr>\n",
              "    <tr>\n",
              "      <th>3</th>\n",
              "      <td>1981-04</td>\n",
              "      <td>2189</td>\n",
              "    </tr>\n",
              "    <tr>\n",
              "      <th>4</th>\n",
              "      <td>1981-05</td>\n",
              "      <td>2059</td>\n",
              "    </tr>\n",
              "  </tbody>\n",
              "</table>\n",
              "</div>\n",
              "      <button class=\"colab-df-convert\" onclick=\"convertToInteractive('df-0e542a14-0045-4570-8951-00ce5435009a')\"\n",
              "              title=\"Convert this dataframe to an interactive table.\"\n",
              "              style=\"display:none;\">\n",
              "        \n",
              "  <svg xmlns=\"http://www.w3.org/2000/svg\" height=\"24px\"viewBox=\"0 0 24 24\"\n",
              "       width=\"24px\">\n",
              "    <path d=\"M0 0h24v24H0V0z\" fill=\"none\"/>\n",
              "    <path d=\"M18.56 5.44l.94 2.06.94-2.06 2.06-.94-2.06-.94-.94-2.06-.94 2.06-2.06.94zm-11 1L8.5 8.5l.94-2.06 2.06-.94-2.06-.94L8.5 2.5l-.94 2.06-2.06.94zm10 10l.94 2.06.94-2.06 2.06-.94-2.06-.94-.94-2.06-.94 2.06-2.06.94z\"/><path d=\"M17.41 7.96l-1.37-1.37c-.4-.4-.92-.59-1.43-.59-.52 0-1.04.2-1.43.59L10.3 9.45l-7.72 7.72c-.78.78-.78 2.05 0 2.83L4 21.41c.39.39.9.59 1.41.59.51 0 1.02-.2 1.41-.59l7.78-7.78 2.81-2.81c.8-.78.8-2.07 0-2.86zM5.41 20L4 18.59l7.72-7.72 1.47 1.35L5.41 20z\"/>\n",
              "  </svg>\n",
              "      </button>\n",
              "      \n",
              "  <style>\n",
              "    .colab-df-container {\n",
              "      display:flex;\n",
              "      flex-wrap:wrap;\n",
              "      gap: 12px;\n",
              "    }\n",
              "\n",
              "    .colab-df-convert {\n",
              "      background-color: #E8F0FE;\n",
              "      border: none;\n",
              "      border-radius: 50%;\n",
              "      cursor: pointer;\n",
              "      display: none;\n",
              "      fill: #1967D2;\n",
              "      height: 32px;\n",
              "      padding: 0 0 0 0;\n",
              "      width: 32px;\n",
              "    }\n",
              "\n",
              "    .colab-df-convert:hover {\n",
              "      background-color: #E2EBFA;\n",
              "      box-shadow: 0px 1px 2px rgba(60, 64, 67, 0.3), 0px 1px 3px 1px rgba(60, 64, 67, 0.15);\n",
              "      fill: #174EA6;\n",
              "    }\n",
              "\n",
              "    [theme=dark] .colab-df-convert {\n",
              "      background-color: #3B4455;\n",
              "      fill: #D2E3FC;\n",
              "    }\n",
              "\n",
              "    [theme=dark] .colab-df-convert:hover {\n",
              "      background-color: #434B5C;\n",
              "      box-shadow: 0px 1px 3px 1px rgba(0, 0, 0, 0.15);\n",
              "      filter: drop-shadow(0px 1px 2px rgba(0, 0, 0, 0.3));\n",
              "      fill: #FFFFFF;\n",
              "    }\n",
              "  </style>\n",
              "\n",
              "      <script>\n",
              "        const buttonEl =\n",
              "          document.querySelector('#df-0e542a14-0045-4570-8951-00ce5435009a button.colab-df-convert');\n",
              "        buttonEl.style.display =\n",
              "          google.colab.kernel.accessAllowed ? 'block' : 'none';\n",
              "\n",
              "        async function convertToInteractive(key) {\n",
              "          const element = document.querySelector('#df-0e542a14-0045-4570-8951-00ce5435009a');\n",
              "          const dataTable =\n",
              "            await google.colab.kernel.invokeFunction('convertToInteractive',\n",
              "                                                     [key], {});\n",
              "          if (!dataTable) return;\n",
              "\n",
              "          const docLinkHtml = 'Like what you see? Visit the ' +\n",
              "            '<a target=\"_blank\" href=https://colab.research.google.com/notebooks/data_table.ipynb>data table notebook</a>'\n",
              "            + ' to learn more about interactive tables.';\n",
              "          element.innerHTML = '';\n",
              "          dataTable['output_type'] = 'display_data';\n",
              "          await google.colab.output.renderOutput(dataTable, element);\n",
              "          const docLink = document.createElement('div');\n",
              "          docLink.innerHTML = docLinkHtml;\n",
              "          element.appendChild(docLink);\n",
              "        }\n",
              "      </script>\n",
              "    </div>\n",
              "  </div>\n",
              "  "
            ]
          },
          "metadata": {},
          "execution_count": 7
        }
      ]
    },
    {
      "cell_type": "code",
      "source": [
        "from matplotlib import pyplot # 맷플롯립으로 이혼건수를 그려봤다\n",
        "df.plot()\n",
        "pyplot.show() # 이쁘다"
      ],
      "metadata": {
        "colab": {
          "base_uri": "https://localhost:8080/",
          "height": 266
        },
        "outputId": "65cbab34-116b-4a01-ecfa-46b0a91ce386",
        "id": "9o8JRUSm7uv-"
      },
      "execution_count": null,
      "outputs": [
        {
          "output_type": "display_data",
          "data": {
            "text/plain": [
              "<Figure size 432x288 with 1 Axes>"
            ],
            "image/png": "[encoded data removed]"
          },
          "metadata": {
            "needs_background": "light"
          }
        }
      ]
    },
    {
      "cell_type": "code",
      "source": [
        "df.columns = ['ds', 'y']\n",
        "df['ds'] = pd.to_datetime(df['ds']) # 프로펫은 변수 이름을 ds, y 로 맞춰줘야 한단다"
      ],
      "metadata": {
        "id": "bx4RgjTq7uv-"
      },
      "execution_count": null,
      "outputs": []
    },
    {
      "cell_type": "code",
      "source": [
        "from fbprophet import Prophet # 프로펫\n",
        "model = Prophet() # 이제부터 너는 모델이다"
      ],
      "metadata": {
        "id": "y6-2yntD7uv-"
      },
      "execution_count": null,
      "outputs": []
    },
    {
      "cell_type": "code",
      "source": [
        "model.fit(df) # 학습"
      ],
      "metadata": {
        "colab": {
          "base_uri": "https://localhost:8080/"
        },
        "outputId": "8b42cc87-dda3-4f37-c4fb-897c6ad431d4",
        "id": "M--mK7tG7uv-"
      },
      "execution_count": null,
      "outputs": [
        {
          "output_type": "stream",
          "name": "stderr",
          "text": [
            "INFO:fbprophet:Disabling weekly seasonality. Run prophet with weekly_seasonality=True to override this.\n",
            "INFO:fbprophet:Disabling daily seasonality. Run prophet with daily_seasonality=True to override this.\n"
          ]
        },
        {
          "output_type": "execute_result",
          "data": {
            "text/plain": [
              "<fbprophet.forecaster.Prophet at 0x7f2d07ab1350>"
            ]
          },
          "metadata": {},
          "execution_count": 11
        }
      ]
    },
    {
      "cell_type": "code",
      "source": [
        "last_1year = list() # 마지막 년도인 2020년의 12개의 달을 모으려고 한다 \n",
        "for i in range(1, 13):\n",
        "  last_1year.append(['2020-%02d' % i])\n",
        "last_1year = pd.DataFrame(last_1year, columns = ['ds'])\n",
        "last_1year['ds'] = pd.to_datetime(last_1year['ds']) # 남에 꺼 따라했다\n",
        "\n",
        "# 미래나 과거를 예측해보기 전 학습으로 사용한 데이터를 잘 예측하는지 확인해야 한단다\n",
        "# in_sample_forecast라고 한다는데, 즉 train_set을 잘 예측하냐 보는거다"
      ],
      "metadata": {
        "id": "1EXIXq-17uv_"
      },
      "execution_count": null,
      "outputs": []
    },
    {
      "cell_type": "code",
      "source": [
        "forecast = model.predict(last_1year) # 모은 2020년을 예측해보라 하고 forecast에 저장했다"
      ],
      "metadata": {
        "id": "XSlzKGYZ7uv_"
      },
      "execution_count": null,
      "outputs": []
    },
    {
      "cell_type": "code",
      "source": [
        "print(forecast[['ds', 'yhat', 'yhat_lower', 'yhat_upper']].head()) \n",
        "# 뭐가 많은데 4가지 컬럼만 보겠다"
      ],
      "metadata": {
        "colab": {
          "base_uri": "https://localhost:8080/"
        },
        "outputId": "810a5535-6836-4fd2-abf0-d0a99b102dd5",
        "id": "HdHqdwAH7uv_"
      },
      "execution_count": null,
      "outputs": [
        {
          "output_type": "stream",
          "name": "stdout",
          "text": [
            "          ds         yhat   yhat_lower    yhat_upper\n",
            "0 2020-01-01  8586.766666  7687.590667   9470.451407\n",
            "1 2020-02-01  8377.597479  7513.765479   9327.674198\n",
            "2 2020-03-01  9229.434370  8325.732968  10199.933549\n",
            "3 2020-04-01  8596.254732  7747.108811   9475.867624\n",
            "4 2020-05-01  9009.136585  8172.999769   9915.385098\n"
          ]
        }
      ]
    },
    {
      "cell_type": "code",
      "source": [
        "model.plot(forecast)\n",
        "pyplot.show()\n",
        "# 프로펫은 내장함수 plot()가 있어서 좋다\n",
        "# 검은점은 실제 데이터고 파란선이 예측값인데 엄청 잘 맞춘듯"
      ],
      "metadata": {
        "colab": {
          "base_uri": "https://localhost:8080/",
          "height": 441
        },
        "outputId": "b006af1d-230b-41bf-9c05-c3d0a0eae9b5",
        "id": "WPj4HQXJ7uwA"
      },
      "execution_count": null,
      "outputs": [
        {
          "output_type": "display_data",
          "data": {
            "text/plain": [
              "<Figure size 720x432 with 1 Axes>"
            ],
            "image/png": "[encoded data removed]"
          },
          "metadata": {}
        }
      ]
    },
    {
      "cell_type": "code",
      "source": [
        "last_1year1 = list() # 이번엔 임의의 날짜 2021년 12달을 만든다\n",
        "for i in range(1, 13):\n",
        "  last_1year1.append(['2021-%02d' % i])\n",
        "last_1year1 = pd.DataFrame(last_1year1, columns = ['ds'])\n",
        "last_1year1['ds'] = pd.to_datetime(last_1year1['ds'])\n",
        "\n",
        "# out_of_sample_forecast라고 한다는데, 그냥 21년 예측하는거다"
      ],
      "metadata": {
        "id": "ccGtck8l7uwA"
      },
      "execution_count": null,
      "outputs": []
    },
    {
      "cell_type": "code",
      "source": [
        "forecast1 = model.predict(last_1year1)\n",
        "model.plot(forecast1)\n",
        "pyplot.show()\n",
        "# 대충 잘 맞춘듯, 점이 많으니까 그냥 용과같아서 이쁘다"
      ],
      "metadata": {
        "colab": {
          "base_uri": "https://localhost:8080/",
          "height": 441
        },
        "outputId": "d8720144-71d4-4436-86d8-5be08befd983",
        "id": "1ZuS2JtO7uwA"
      },
      "execution_count": null,
      "outputs": [
        {
          "output_type": "display_data",
          "data": {
            "text/plain": [
              "<Figure size 720x432 with 1 Axes>"
            ],
            "image/png": "[encoded data removed]"
          },
          "metadata": {}
        }
      ]
    },
    {
      "cell_type": "code",
      "source": [
        "forecast1['yhat']"
      ],
      "metadata": {
        "colab": {
          "base_uri": "https://localhost:8080/"
        },
        "id": "6GJTN5B46IKe",
        "outputId": "1e1ffad4-fc71-4a50-ae17-9015dfc15829"
      },
      "execution_count": null,
      "outputs": [
        {
          "output_type": "execute_result",
          "data": {
            "text/plain": [
              "0     8467.512964\n",
              "1     8357.186269\n",
              "2     9159.679609\n",
              "3     8573.776216\n",
              "4     8870.620456\n",
              "5     8886.345053\n",
              "6     8927.835339\n",
              "7     9026.262933\n",
              "8     8393.378200\n",
              "9     8897.446493\n",
              "10    8601.010080\n",
              "11    8596.157330\n",
              "Name: yhat, dtype: float64"
            ]
          },
          "metadata": {},
          "execution_count": 18
        }
      ]
    },
    {
      "cell_type": "code",
      "source": [
        "data2021 = [8371, 7757, 9074, 9039, 8445, 8741, 8306, 8376, 8365, 7704, 8770, 8725]\n",
        "# https://kosis.kr/statHtml/statHtml.do?orgId=101&tblId=DT_1B8000G&conn_path=I2"
      ],
      "metadata": {
        "id": "xkRXlmYd7Xnq"
      },
      "execution_count": null,
      "outputs": []
    },
    {
      "cell_type": "code",
      "source": [
        "pyplot.plot(data2021, label='Actual')\n",
        "pyplot.plot(forecast1['yhat'], label='Predicted')\n",
        "pyplot.legend()\n",
        "pyplot.show()"
      ],
      "metadata": {
        "colab": {
          "base_uri": "https://localhost:8080/",
          "height": 265
        },
        "id": "hNmeOHD97jbE",
        "outputId": "fee9a3d1-cbc9-473f-c603-dd7321a8f88a"
      },
      "execution_count": null,
      "outputs": [
        {
          "output_type": "display_data",
          "data": {
            "text/plain": [
              "<Figure size 432x288 with 1 Axes>"
            ],
            "image/png": "[encoded data removed]"
          },
          "metadata": {
            "needs_background": "light"
          }
        }
      ]
    },
    {
      "cell_type": "code",
      "source": [
        "# 이번에는 다르게 마지막 1년을 제외한 값으로 학습을 하고 마지막 1년을 예측한 뒤 \n",
        "# 실제 마지막 1년과 비교하려고 한다 \n",
        "\n",
        "# 마지막 12개월 제외시키기 \n",
        "train = df.drop(df.index[-12:]) # train에서 뒤에 12개 제외\n",
        "y_true = df['y'][-12:].values # 제외한 값은 y_true로 저장해둔다\n",
        "\n",
        "# 모델 생성 후 학습\n",
        "model = Prophet()\n",
        "model.fit(train) # 12개가 빠진 train으로 학습\n",
        "\n",
        "# 가상의 마지막 12개월 생성\n",
        "last_1year = list()\n",
        "for i in range(1, 13):\n",
        "  last_1year.append(['2020-%02d' % i])\n",
        "last_1year = pd.DataFrame(last_1year, columns = ['ds'])\n",
        "last_1year['ds'] = pd.to_datetime(last_1year['ds']) # 실제 값이 들은게 아니다 !\n",
        "\n",
        "# 예측, 비교하기 그리고 MAE를 살펴보기\n",
        "forecast = model.predict(last_1year)\n",
        "y_pred = forecast['yhat'].values\n",
        "from sklearn.metrics import mean_absolute_error\n",
        "mae = mean_absolute_error(y_true, y_pred)\n",
        "print('MAE: %.3f' % mae)"
      ],
      "metadata": {
        "colab": {
          "base_uri": "https://localhost:8080/"
        },
        "outputId": "2266c7b9-dd3f-43a5-fa7c-d8aaeae8710d",
        "id": "FDys5QCG7uwA"
      },
      "execution_count": null,
      "outputs": [
        {
          "output_type": "stream",
          "name": "stderr",
          "text": [
            "INFO:fbprophet:Disabling weekly seasonality. Run prophet with weekly_seasonality=True to override this.\n",
            "INFO:fbprophet:Disabling daily seasonality. Run prophet with daily_seasonality=True to override this.\n"
          ]
        },
        {
          "output_type": "stream",
          "name": "stdout",
          "text": [
            "MAE: 612.731\n"
          ]
        }
      ]
    },
    {
      "cell_type": "code",
      "source": [
        "pyplot.plot(y_true, label='Actual')\n",
        "pyplot.plot(y_pred, label='Predicted')\n",
        "pyplot.legend()\n",
        "pyplot.show()\n",
        "# MAE 612.731 잘 맞춘 듯 하다"
      ],
      "metadata": {
        "colab": {
          "base_uri": "https://localhost:8080/",
          "height": 265
        },
        "outputId": "99dd6439-0af2-4843-d276-c287c95b74e9",
        "id": "MeMQzO1Q7uwA"
      },
      "execution_count": null,
      "outputs": [
        {
          "output_type": "display_data",
          "data": {
            "text/plain": [
              "<Figure size 432x288 with 1 Axes>"
            ],
            "image/png": "[encoded data removed]"
          },
          "metadata": {
            "needs_background": "light"
          }
        }
      ]
    },
    {
      "cell_type": "code",
      "source": [
        "last_1year2 = list() # 이번엔 임의의 날짜 2022년 12달을 만든다\n",
        "for i in range(1, 13):\n",
        "  last_1year2.append(['2022-%02d' % i])\n",
        "last_1year2 = pd.DataFrame(last_1year2, columns = ['ds'])\n",
        "last_1year2['ds'] = pd.to_datetime(last_1year2['ds'])"
      ],
      "metadata": {
        "id": "Ogmd8ZCAR6xy"
      },
      "execution_count": null,
      "outputs": []
    },
    {
      "cell_type": "code",
      "source": [
        "forecast2 = model.predict(last_1year2)\n",
        "model.plot(forecast2)\n",
        "pyplot.show()"
      ],
      "metadata": {
        "colab": {
          "base_uri": "https://localhost:8080/",
          "height": 441
        },
        "id": "9hbVUUaFSDUe",
        "outputId": "28d5964b-dd8a-42cb-8ecb-6052b72fe11a"
      },
      "execution_count": null,
      "outputs": [
        {
          "output_type": "display_data",
          "data": {
            "text/plain": [
              "<Figure size 720x432 with 1 Axes>"
            ],
            "image/png": "[encoded data removed]"
          },
          "metadata": {}
        }
      ]
    },
    {
      "cell_type": "code",
      "source": [
        "forecast2"
      ],
      "metadata": {
        "colab": {
          "base_uri": "https://localhost:8080/",
          "height": 698
        },
        "id": "Vt3jgl5CSFXJ",
        "outputId": "4ac44d19-da61-4744-8e5c-b57d7fb8d959"
      },
      "execution_count": null,
      "outputs": [
        {
          "output_type": "execute_result",
          "data": {
            "text/plain": [
              "           ds        trend   yhat_lower    yhat_upper  trend_lower  \\\n",
              "0  2022-01-01  8641.004670  7400.876058   9205.408625  8487.630477   \n",
              "1  2022-02-01  8632.691438  7204.444253   9150.444133  8470.702073   \n",
              "2  2022-03-01  8625.182712  8173.656261  10004.555234  8447.495819   \n",
              "3  2022-04-01  8616.869480  7565.387556   9412.873733  8425.953101   \n",
              "4  2022-05-01  8608.824417  7803.011627   9573.212444  8411.110504   \n",
              "5  2022-06-01  8600.511184  7781.338306   9583.759112  8391.732133   \n",
              "6  2022-07-01  8592.466121  7888.201715   9752.178912  8369.890142   \n",
              "7  2022-08-01  8584.152889  7984.310377   9862.350803  8346.740701   \n",
              "8  2022-09-01  8575.839657  7300.849834   9197.184567  8328.852335   \n",
              "9  2022-10-01  8567.794593  7789.393620   9685.543134  8305.549138   \n",
              "10 2022-11-01  8559.481361  7448.503180   9343.400085  8284.101626   \n",
              "11 2022-12-01  8551.436297  7447.475977   9352.467759  8259.465042   \n",
              "\n",
              "    trend_upper  additive_terms  additive_terms_lower  additive_terms_upper  \\\n",
              "0   8804.249777     -304.525491           -304.525491           -304.525491   \n",
              "1   8811.004580     -443.635239           -443.635239           -443.635239   \n",
              "2   8817.458455      443.245750            443.245750            443.245750   \n",
              "3   8827.321843     -114.119200           -114.119200           -114.119200   \n",
              "4   8834.209114       75.808656             75.808656             75.808656   \n",
              "5   8836.408037       65.011706             65.011706             65.011706   \n",
              "6   8837.291724      212.124401            212.124401            212.124401   \n",
              "7   8843.867330      368.232679            368.232679            368.232679   \n",
              "8   8853.060027     -315.428443           -315.428443           -315.428443   \n",
              "9   8854.109809      157.552314            157.552314            157.552314   \n",
              "10  8867.203191     -135.185655           -135.185655           -135.185655   \n",
              "11  8872.954413     -104.257825           -104.257825           -104.257825   \n",
              "\n",
              "        yearly  yearly_lower  yearly_upper  multiplicative_terms  \\\n",
              "0  -304.525491   -304.525491   -304.525491                   0.0   \n",
              "1  -443.635239   -443.635239   -443.635239                   0.0   \n",
              "2   443.245750    443.245750    443.245750                   0.0   \n",
              "3  -114.119200   -114.119200   -114.119200                   0.0   \n",
              "4    75.808656     75.808656     75.808656                   0.0   \n",
              "5    65.011706     65.011706     65.011706                   0.0   \n",
              "6   212.124401    212.124401    212.124401                   0.0   \n",
              "7   368.232679    368.232679    368.232679                   0.0   \n",
              "8  -315.428443   -315.428443   -315.428443                   0.0   \n",
              "9   157.552314    157.552314    157.552314                   0.0   \n",
              "10 -135.185655   -135.185655   -135.185655                   0.0   \n",
              "11 -104.257825   -104.257825   -104.257825                   0.0   \n",
              "\n",
              "    multiplicative_terms_lower  multiplicative_terms_upper         yhat  \n",
              "0                          0.0                         0.0  8336.479180  \n",
              "1                          0.0                         0.0  8189.056199  \n",
              "2                          0.0                         0.0  9068.428462  \n",
              "3                          0.0                         0.0  8502.750280  \n",
              "4                          0.0                         0.0  8684.633073  \n",
              "5                          0.0                         0.0  8665.522890  \n",
              "6                          0.0                         0.0  8804.590522  \n",
              "7                          0.0                         0.0  8952.385567  \n",
              "8                          0.0                         0.0  8260.411214  \n",
              "9                          0.0                         0.0  8725.346907  \n",
              "10                         0.0                         0.0  8424.295706  \n",
              "11                         0.0                         0.0  8447.178472  "
            ],
            "text/html": [
              "\n",
              "  <div id=\"df-f25ba112-1f67-4212-9f63-5491f575fb83\">\n",
              "    <div class=\"colab-df-container\">\n",
              "      <div>\n",
              "<style scoped>\n",
              "    .dataframe tbody tr th:only-of-type {\n",
              "        vertical-align: middle;\n",
              "    }\n",
              "\n",
              "    .dataframe tbody tr th {\n",
              "        vertical-align: top;\n",
              "    }\n",
              "\n",
              "    .dataframe thead th {\n",
              "        text-align: right;\n",
              "    }\n",
              "</style>\n",
              "<table border=\"1\" class=\"dataframe\">\n",
              "  <thead>\n",
              "    <tr style=\"text-align: right;\">\n",
              "      <th></th>\n",
              "      <th>ds</th>\n",
              "      <th>trend</th>\n",
              "      <th>yhat_lower</th>\n",
              "      <th>yhat_upper</th>\n",
              "      <th>trend_lower</th>\n",
              "      <th>trend_upper</th>\n",
              "      <th>additive_terms</th>\n",
              "      <th>additive_terms_lower</th>\n",
              "      <th>additive_terms_upper</th>\n",
              "      <th>yearly</th>\n",
              "      <th>yearly_lower</th>\n",
              "      <th>yearly_upper</th>\n",
              "      <th>multiplicative_terms</th>\n",
              "      <th>multiplicative_terms_lower</th>\n",
              "      <th>multiplicative_terms_upper</th>\n",
              "      <th>yhat</th>\n",
              "    </tr>\n",
              "  </thead>\n",
              "  <tbody>\n",
              "    <tr>\n",
              "      <th>0</th>\n",
              "      <td>2022-01-01</td>\n",
              "      <td>8641.004670</td>\n",
              "      <td>7400.876058</td>\n",
              "      <td>9205.408625</td>\n",
              "      <td>8487.630477</td>\n",
              "      <td>8804.249777</td>\n",
              "      <td>-304.525491</td>\n",
              "      <td>-304.525491</td>\n",
              "      <td>-304.525491</td>\n",
              "      <td>-304.525491</td>\n",
              "      <td>-304.525491</td>\n",
              "      <td>-304.525491</td>\n",
              "      <td>0.0</td>\n",
              "      <td>0.0</td>\n",
              "      <td>0.0</td>\n",
              "      <td>8336.479180</td>\n",
              "    </tr>\n",
              "    <tr>\n",
              "      <th>1</th>\n",
              "      <td>2022-02-01</td>\n",
              "      <td>8632.691438</td>\n",
              "      <td>7204.444253</td>\n",
              "      <td>9150.444133</td>\n",
              "      <td>8470.702073</td>\n",
              "      <td>8811.004580</td>\n",
              "      <td>-443.635239</td>\n",
              "      <td>-443.635239</td>\n",
              "      <td>-443.635239</td>\n",
              "      <td>-443.635239</td>\n",
              "      <td>-443.635239</td>\n",
              "      <td>-443.635239</td>\n",
              "      <td>0.0</td>\n",
              "      <td>0.0</td>\n",
              "      <td>0.0</td>\n",
              "      <td>8189.056199</td>\n",
              "    </tr>\n",
              "    <tr>\n",
              "      <th>2</th>\n",
              "      <td>2022-03-01</td>\n",
              "      <td>8625.182712</td>\n",
              "      <td>8173.656261</td>\n",
              "      <td>10004.555234</td>\n",
              "      <td>8447.495819</td>\n",
              "      <td>8817.458455</td>\n",
              "      <td>443.245750</td>\n",
              "      <td>443.245750</td>\n",
              "      <td>443.245750</td>\n",
              "      <td>443.245750</td>\n",
              "      <td>443.245750</td>\n",
              "      <td>443.245750</td>\n",
              "      <td>0.0</td>\n",
              "      <td>0.0</td>\n",
              "      <td>0.0</td>\n",
              "      <td>9068.428462</td>\n",
              "    </tr>\n",
              "    <tr>\n",
              "      <th>3</th>\n",
              "      <td>2022-04-01</td>\n",
              "      <td>8616.869480</td>\n",
              "      <td>7565.387556</td>\n",
              "      <td>9412.873733</td>\n",
              "      <td>8425.953101</td>\n",
              "      <td>8827.321843</td>\n",
              "      <td>-114.119200</td>\n",
              "      <td>-114.119200</td>\n",
              "      <td>-114.119200</td>\n",
              "      <td>-114.119200</td>\n",
              "      <td>-114.119200</td>\n",
              "      <td>-114.119200</td>\n",
              "      <td>0.0</td>\n",
              "      <td>0.0</td>\n",
              "      <td>0.0</td>\n",
              "      <td>8502.750280</td>\n",
              "    </tr>\n",
              "    <tr>\n",
              "      <th>4</th>\n",
              "      <td>2022-05-01</td>\n",
              "      <td>8608.824417</td>\n",
              "      <td>7803.011627</td>\n",
              "      <td>9573.212444</td>\n",
              "      <td>8411.110504</td>\n",
              "      <td>8834.209114</td>\n",
              "      <td>75.808656</td>\n",
              "      <td>75.808656</td>\n",
              "      <td>75.808656</td>\n",
              "      <td>75.808656</td>\n",
              "      <td>75.808656</td>\n",
              "      <td>75.808656</td>\n",
              "      <td>0.0</td>\n",
              "      <td>0.0</td>\n",
              "      <td>0.0</td>\n",
              "      <td>8684.633073</td>\n",
              "    </tr>\n",
              "    <tr>\n",
              "      <th>5</th>\n",
              "      <td>2022-06-01</td>\n",
              "      <td>8600.511184</td>\n",
              "      <td>7781.338306</td>\n",
              "      <td>9583.759112</td>\n",
              "      <td>8391.732133</td>\n",
              "      <td>8836.408037</td>\n",
              "      <td>65.011706</td>\n",
              "      <td>65.011706</td>\n",
              "      <td>65.011706</td>\n",
              "      <td>65.011706</td>\n",
              "      <td>65.011706</td>\n",
              "      <td>65.011706</td>\n",
              "      <td>0.0</td>\n",
              "      <td>0.0</td>\n",
              "      <td>0.0</td>\n",
              "      <td>8665.522890</td>\n",
              "    </tr>\n",
              "    <tr>\n",
              "      <th>6</th>\n",
              "      <td>2022-07-01</td>\n",
              "      <td>8592.466121</td>\n",
              "      <td>7888.201715</td>\n",
              "      <td>9752.178912</td>\n",
              "      <td>8369.890142</td>\n",
              "      <td>8837.291724</td>\n",
              "      <td>212.124401</td>\n",
              "      <td>212.124401</td>\n",
              "      <td>212.124401</td>\n",
              "      <td>212.124401</td>\n",
              "      <td>212.124401</td>\n",
              "      <td>212.124401</td>\n",
              "      <td>0.0</td>\n",
              "      <td>0.0</td>\n",
              "      <td>0.0</td>\n",
              "      <td>8804.590522</td>\n",
              "    </tr>\n",
              "    <tr>\n",
              "      <th>7</th>\n",
              "      <td>2022-08-01</td>\n",
              "      <td>8584.152889</td>\n",
              "      <td>7984.310377</td>\n",
              "      <td>9862.350803</td>\n",
              "      <td>8346.740701</td>\n",
              "      <td>8843.867330</td>\n",
              "      <td>368.232679</td>\n",
              "      <td>368.232679</td>\n",
              "      <td>368.232679</td>\n",
              "      <td>368.232679</td>\n",
              "      <td>368.232679</td>\n",
              "      <td>368.232679</td>\n",
              "      <td>0.0</td>\n",
              "      <td>0.0</td>\n",
              "      <td>0.0</td>\n",
              "      <td>8952.385567</td>\n",
              "    </tr>\n",
              "    <tr>\n",
              "      <th>8</th>\n",
              "      <td>2022-09-01</td>\n",
              "      <td>8575.839657</td>\n",
              "      <td>7300.849834</td>\n",
              "      <td>9197.184567</td>\n",
              "      <td>8328.852335</td>\n",
              "      <td>8853.060027</td>\n",
              "      <td>-315.428443</td>\n",
              "      <td>-315.428443</td>\n",
              "      <td>-315.428443</td>\n",
              "      <td>-315.428443</td>\n",
              "      <td>-315.428443</td>\n",
              "      <td>-315.428443</td>\n",
              "      <td>0.0</td>\n",
              "      <td>0.0</td>\n",
              "      <td>0.0</td>\n",
              "      <td>8260.411214</td>\n",
              "    </tr>\n",
              "    <tr>\n",
              "      <th>9</th>\n",
              "      <td>2022-10-01</td>\n",
              "      <td>8567.794593</td>\n",
              "      <td>7789.393620</td>\n",
              "      <td>9685.543134</td>\n",
              "      <td>8305.549138</td>\n",
              "      <td>8854.109809</td>\n",
              "      <td>157.552314</td>\n",
              "      <td>157.552314</td>\n",
              "      <td>157.552314</td>\n",
              "      <td>157.552314</td>\n",
              "      <td>157.552314</td>\n",
              "      <td>157.552314</td>\n",
              "      <td>0.0</td>\n",
              "      <td>0.0</td>\n",
              "      <td>0.0</td>\n",
              "      <td>8725.346907</td>\n",
              "    </tr>\n",
              "    <tr>\n",
              "      <th>10</th>\n",
              "      <td>2022-11-01</td>\n",
              "      <td>8559.481361</td>\n",
              "      <td>7448.503180</td>\n",
              "      <td>9343.400085</td>\n",
              "      <td>8284.101626</td>\n",
              "      <td>8867.203191</td>\n",
              "      <td>-135.185655</td>\n",
              "      <td>-135.185655</td>\n",
              "      <td>-135.185655</td>\n",
              "      <td>-135.185655</td>\n",
              "      <td>-135.185655</td>\n",
              "      <td>-135.185655</td>\n",
              "      <td>0.0</td>\n",
              "      <td>0.0</td>\n",
              "      <td>0.0</td>\n",
              "      <td>8424.295706</td>\n",
              "    </tr>\n",
              "    <tr>\n",
              "      <th>11</th>\n",
              "      <td>2022-12-01</td>\n",
              "      <td>8551.436297</td>\n",
              "      <td>7447.475977</td>\n",
              "      <td>9352.467759</td>\n",
              "      <td>8259.465042</td>\n",
              "      <td>8872.954413</td>\n",
              "      <td>-104.257825</td>\n",
              "      <td>-104.257825</td>\n",
              "      <td>-104.257825</td>\n",
              "      <td>-104.257825</td>\n",
              "      <td>-104.257825</td>\n",
              "      <td>-104.257825</td>\n",
              "      <td>0.0</td>\n",
              "      <td>0.0</td>\n",
              "      <td>0.0</td>\n",
              "      <td>8447.178472</td>\n",
              "    </tr>\n",
              "  </tbody>\n",
              "</table>\n",
              "</div>\n",
              "      <button class=\"colab-df-convert\" onclick=\"convertToInteractive('df-f25ba112-1f67-4212-9f63-5491f575fb83')\"\n",
              "              title=\"Convert this dataframe to an interactive table.\"\n",
              "              style=\"display:none;\">\n",
              "        \n",
              "  <svg xmlns=\"http://www.w3.org/2000/svg\" height=\"24px\"viewBox=\"0 0 24 24\"\n",
              "       width=\"24px\">\n",
              "    <path d=\"M0 0h24v24H0V0z\" fill=\"none\"/>\n",
              "    <path d=\"M18.56 5.44l.94 2.06.94-2.06 2.06-.94-2.06-.94-.94-2.06-.94 2.06-2.06.94zm-11 1L8.5 8.5l.94-2.06 2.06-.94-2.06-.94L8.5 2.5l-.94 2.06-2.06.94zm10 10l.94 2.06.94-2.06 2.06-.94-2.06-.94-.94-2.06-.94 2.06-2.06.94z\"/><path d=\"M17.41 7.96l-1.37-1.37c-.4-.4-.92-.59-1.43-.59-.52 0-1.04.2-1.43.59L10.3 9.45l-7.72 7.72c-.78.78-.78 2.05 0 2.83L4 21.41c.39.39.9.59 1.41.59.51 0 1.02-.2 1.41-.59l7.78-7.78 2.81-2.81c.8-.78.8-2.07 0-2.86zM5.41 20L4 18.59l7.72-7.72 1.47 1.35L5.41 20z\"/>\n",
              "  </svg>\n",
              "      </button>\n",
              "      \n",
              "  <style>\n",
              "    .colab-df-container {\n",
              "      display:flex;\n",
              "      flex-wrap:wrap;\n",
              "      gap: 12px;\n",
              "    }\n",
              "\n",
              "    .colab-df-convert {\n",
              "      background-color: #E8F0FE;\n",
              "      border: none;\n",
              "      border-radius: 50%;\n",
              "      cursor: pointer;\n",
              "      display: none;\n",
              "      fill: #1967D2;\n",
              "      height: 32px;\n",
              "      padding: 0 0 0 0;\n",
              "      width: 32px;\n",
              "    }\n",
              "\n",
              "    .colab-df-convert:hover {\n",
              "      background-color: #E2EBFA;\n",
              "      box-shadow: 0px 1px 2px rgba(60, 64, 67, 0.3), 0px 1px 3px 1px rgba(60, 64, 67, 0.15);\n",
              "      fill: #174EA6;\n",
              "    }\n",
              "\n",
              "    [theme=dark] .colab-df-convert {\n",
              "      background-color: #3B4455;\n",
              "      fill: #D2E3FC;\n",
              "    }\n",
              "\n",
              "    [theme=dark] .colab-df-convert:hover {\n",
              "      background-color: #434B5C;\n",
              "      box-shadow: 0px 1px 3px 1px rgba(0, 0, 0, 0.15);\n",
              "      filter: drop-shadow(0px 1px 2px rgba(0, 0, 0, 0.3));\n",
              "      fill: #FFFFFF;\n",
              "    }\n",
              "  </style>\n",
              "\n",
              "      <script>\n",
              "        const buttonEl =\n",
              "          document.querySelector('#df-f25ba112-1f67-4212-9f63-5491f575fb83 button.colab-df-convert');\n",
              "        buttonEl.style.display =\n",
              "          google.colab.kernel.accessAllowed ? 'block' : 'none';\n",
              "\n",
              "        async function convertToInteractive(key) {\n",
              "          const element = document.querySelector('#df-f25ba112-1f67-4212-9f63-5491f575fb83');\n",
              "          const dataTable =\n",
              "            await google.colab.kernel.invokeFunction('convertToInteractive',\n",
              "                                                     [key], {});\n",
              "          if (!dataTable) return;\n",
              "\n",
              "          const docLinkHtml = 'Like what you see? Visit the ' +\n",
              "            '<a target=\"_blank\" href=https://colab.research.google.com/notebooks/data_table.ipynb>data table notebook</a>'\n",
              "            + ' to learn more about interactive tables.';\n",
              "          element.innerHTML = '';\n",
              "          dataTable['output_type'] = 'display_data';\n",
              "          await google.colab.output.renderOutput(dataTable, element);\n",
              "          const docLink = document.createElement('div');\n",
              "          docLink.innerHTML = docLinkHtml;\n",
              "          element.appendChild(docLink);\n",
              "        }\n",
              "      </script>\n",
              "    </div>\n",
              "  </div>\n",
              "  "
            ]
          },
          "metadata": {},
          "execution_count": 25
        }
      ]
    },
    {
      "cell_type": "code",
      "source": [
        "pyplot.plot(forecast['yhat'], label='2022pred')\n",
        "pyplot.legend()\n",
        "pyplot.show()"
      ],
      "metadata": {
        "colab": {
          "base_uri": "https://localhost:8080/",
          "height": 265
        },
        "id": "Tv3Mere6SGlC",
        "outputId": "67b0eea9-46e9-4873-d0f6-95dd64fee3bb"
      },
      "execution_count": null,
      "outputs": [
        {
          "output_type": "display_data",
          "data": {
            "text/plain": [
              "<Figure size 432x288 with 1 Axes>"
            ],
            "image/png": "[encoded data removed]"
          },
          "metadata": {
            "needs_background": "light"
          }
        }
      ]
    },
    {
      "cell_type": "markdown",
      "source": [
        "# 2023년 예측"
      ],
      "metadata": {
        "id": "3wnmSq8iL3w6"
      }
    },
    {
      "cell_type": "code",
      "source": [
        "last_1year3 = list() # 이번엔 임의의 날짜 2023년 12달을 만든다\n",
        "for i in range(1, 13):\n",
        "  last_1year3.append(['2023-%02d' % i])\n",
        "last_1year3 = pd.DataFrame(last_1year3, columns = ['ds'])\n",
        "last_1year3['ds'] = pd.to_datetime(last_1year3['ds'])"
      ],
      "metadata": {
        "id": "FqeJxDVDLq8d"
      },
      "execution_count": null,
      "outputs": []
    },
    {
      "cell_type": "code",
      "source": [
        "forecast3 = model.predict(last_1year3)\n",
        "model.plot(forecast3)\n",
        "pyplot.show()"
      ],
      "metadata": {
        "colab": {
          "base_uri": "https://localhost:8080/",
          "height": 441
        },
        "id": "UDRdsANxL3EJ",
        "outputId": "e53b7f5e-155d-459e-e6f1-af8e3eac7c62"
      },
      "execution_count": null,
      "outputs": [
        {
          "output_type": "display_data",
          "data": {
            "text/plain": [
              "<Figure size 720x432 with 1 Axes>"
            ],
            "image/png": "[encoded data removed]"
          },
          "metadata": {}
        }
      ]
    },
    {
      "cell_type": "code",
      "source": [
        "forecast3"
      ],
      "metadata": {
        "colab": {
          "base_uri": "https://localhost:8080/",
          "height": 698
        },
        "id": "iN7bPQ50LtSX",
        "outputId": "04fa17d7-27b3-4fe3-e2bb-1c98c0d44b36"
      },
      "execution_count": null,
      "outputs": [
        {
          "output_type": "execute_result",
          "data": {
            "text/plain": [
              "           ds        trend   yhat_lower   yhat_upper  trend_lower  \\\n",
              "0  2023-01-01  8543.123065  7353.331547  9266.615485  8216.157230   \n",
              "1  2023-02-01  8534.809833  7106.868093  9103.019391  8196.982015   \n",
              "2  2023-03-01  8527.301107  8010.919959  9959.950159  8181.030497   \n",
              "3  2023-04-01  8518.987875  7545.337590  9458.364882  8162.786198   \n",
              "4  2023-05-01  8510.942811  7557.983576  9488.317678  8141.827787   \n",
              "5  2023-06-01  8502.629579  7529.175786  9536.924749  8109.158953   \n",
              "6  2023-07-01  8494.584516  7743.003704  9721.376371  8073.992573   \n",
              "7  2023-08-01  8486.271283  7913.604956  9898.195180  8043.426110   \n",
              "8  2023-09-01  8477.958051  7197.461246  9287.668605  8023.072652   \n",
              "9  2023-10-01  8469.912988  7520.603510  9550.031614  8002.591948   \n",
              "10 2023-11-01  8461.599756  7214.141285  9293.500664  7980.415194   \n",
              "11 2023-12-01  8453.554692  7291.929377  9402.401742  7956.265879   \n",
              "\n",
              "    trend_upper  additive_terms  additive_terms_lower  additive_terms_upper  \\\n",
              "0   8871.374335     -297.270532           -297.270532           -297.270532   \n",
              "1   8877.577893     -443.540061           -443.540061           -443.540061   \n",
              "2   8886.569379      413.381076            413.381076            413.381076   \n",
              "3   8897.580622       -9.664066             -9.664066             -9.664066   \n",
              "4   8901.836174       23.357565             23.357565             23.357565   \n",
              "5   8898.668733      -31.841973            -31.841973            -31.841973   \n",
              "6   8898.992244      261.729221            261.729221            261.729221   \n",
              "7   8910.218431      400.843581            400.843581            400.843581   \n",
              "8   8924.617319     -272.622449           -272.622449           -272.622449   \n",
              "9   8943.747275      126.348844            126.348844            126.348844   \n",
              "10  8950.002805     -173.347499           -173.347499           -173.347499   \n",
              "11  8950.638434      -92.327872            -92.327872            -92.327872   \n",
              "\n",
              "        yearly  yearly_lower  yearly_upper  multiplicative_terms  \\\n",
              "0  -297.270532   -297.270532   -297.270532                   0.0   \n",
              "1  -443.540061   -443.540061   -443.540061                   0.0   \n",
              "2   413.381076    413.381076    413.381076                   0.0   \n",
              "3    -9.664066     -9.664066     -9.664066                   0.0   \n",
              "4    23.357565     23.357565     23.357565                   0.0   \n",
              "5   -31.841973    -31.841973    -31.841973                   0.0   \n",
              "6   261.729221    261.729221    261.729221                   0.0   \n",
              "7   400.843581    400.843581    400.843581                   0.0   \n",
              "8  -272.622449   -272.622449   -272.622449                   0.0   \n",
              "9   126.348844    126.348844    126.348844                   0.0   \n",
              "10 -173.347499   -173.347499   -173.347499                   0.0   \n",
              "11  -92.327872    -92.327872    -92.327872                   0.0   \n",
              "\n",
              "    multiplicative_terms_lower  multiplicative_terms_upper         yhat  \n",
              "0                          0.0                         0.0  8245.852534  \n",
              "1                          0.0                         0.0  8091.269772  \n",
              "2                          0.0                         0.0  8940.682183  \n",
              "3                          0.0                         0.0  8509.323809  \n",
              "4                          0.0                         0.0  8534.300377  \n",
              "5                          0.0                         0.0  8470.787606  \n",
              "6                          0.0                         0.0  8756.313737  \n",
              "7                          0.0                         0.0  8887.114865  \n",
              "8                          0.0                         0.0  8205.335602  \n",
              "9                          0.0                         0.0  8596.261832  \n",
              "10                         0.0                         0.0  8288.252256  \n",
              "11                         0.0                         0.0  8361.226820  "
            ],
            "text/html": [
              "\n",
              "  <div id=\"df-34d44b3a-3132-4805-88a4-f821882a1bd7\">\n",
              "    <div class=\"colab-df-container\">\n",
              "      <div>\n",
              "<style scoped>\n",
              "    .dataframe tbody tr th:only-of-type {\n",
              "        vertical-align: middle;\n",
              "    }\n",
              "\n",
              "    .dataframe tbody tr th {\n",
              "        vertical-align: top;\n",
              "    }\n",
              "\n",
              "    .dataframe thead th {\n",
              "        text-align: right;\n",
              "    }\n",
              "</style>\n",
              "<table border=\"1\" class=\"dataframe\">\n",
              "  <thead>\n",
              "    <tr style=\"text-align: right;\">\n",
              "      <th></th>\n",
              "      <th>ds</th>\n",
              "      <th>trend</th>\n",
              "      <th>yhat_lower</th>\n",
              "      <th>yhat_upper</th>\n",
              "      <th>trend_lower</th>\n",
              "      <th>trend_upper</th>\n",
              "      <th>additive_terms</th>\n",
              "      <th>additive_terms_lower</th>\n",
              "      <th>additive_terms_upper</th>\n",
              "      <th>yearly</th>\n",
              "      <th>yearly_lower</th>\n",
              "      <th>yearly_upper</th>\n",
              "      <th>multiplicative_terms</th>\n",
              "      <th>multiplicative_terms_lower</th>\n",
              "      <th>multiplicative_terms_upper</th>\n",
              "      <th>yhat</th>\n",
              "    </tr>\n",
              "  </thead>\n",
              "  <tbody>\n",
              "    <tr>\n",
              "      <th>0</th>\n",
              "      <td>2023-01-01</td>\n",
              "      <td>8543.123065</td>\n",
              "      <td>7353.331547</td>\n",
              "      <td>9266.615485</td>\n",
              "      <td>8216.157230</td>\n",
              "      <td>8871.374335</td>\n",
              "      <td>-297.270532</td>\n",
              "      <td>-297.270532</td>\n",
              "      <td>-297.270532</td>\n",
              "      <td>-297.270532</td>\n",
              "      <td>-297.270532</td>\n",
              "      <td>-297.270532</td>\n",
              "      <td>0.0</td>\n",
              "      <td>0.0</td>\n",
              "      <td>0.0</td>\n",
              "      <td>8245.852534</td>\n",
              "    </tr>\n",
              "    <tr>\n",
              "      <th>1</th>\n",
              "      <td>2023-02-01</td>\n",
              "      <td>8534.809833</td>\n",
              "      <td>7106.868093</td>\n",
              "      <td>9103.019391</td>\n",
              "      <td>8196.982015</td>\n",
              "      <td>8877.577893</td>\n",
              "      <td>-443.540061</td>\n",
              "      <td>-443.540061</td>\n",
              "      <td>-443.540061</td>\n",
              "      <td>-443.540061</td>\n",
              "      <td>-443.540061</td>\n",
              "      <td>-443.540061</td>\n",
              "      <td>0.0</td>\n",
              "      <td>0.0</td>\n",
              "      <td>0.0</td>\n",
              "      <td>8091.269772</td>\n",
              "    </tr>\n",
              "    <tr>\n",
              "      <th>2</th>\n",
              "      <td>2023-03-01</td>\n",
              "      <td>8527.301107</td>\n",
              "      <td>8010.919959</td>\n",
              "      <td>9959.950159</td>\n",
              "      <td>8181.030497</td>\n",
              "      <td>8886.569379</td>\n",
              "      <td>413.381076</td>\n",
              "      <td>413.381076</td>\n",
              "      <td>413.381076</td>\n",
              "      <td>413.381076</td>\n",
              "      <td>413.381076</td>\n",
              "      <td>413.381076</td>\n",
              "      <td>0.0</td>\n",
              "      <td>0.0</td>\n",
              "      <td>0.0</td>\n",
              "      <td>8940.682183</td>\n",
              "    </tr>\n",
              "    <tr>\n",
              "      <th>3</th>\n",
              "      <td>2023-04-01</td>\n",
              "      <td>8518.987875</td>\n",
              "      <td>7545.337590</td>\n",
              "      <td>9458.364882</td>\n",
              "      <td>8162.786198</td>\n",
              "      <td>8897.580622</td>\n",
              "      <td>-9.664066</td>\n",
              "      <td>-9.664066</td>\n",
              "      <td>-9.664066</td>\n",
              "      <td>-9.664066</td>\n",
              "      <td>-9.664066</td>\n",
              "      <td>-9.664066</td>\n",
              "      <td>0.0</td>\n",
              "      <td>0.0</td>\n",
              "      <td>0.0</td>\n",
              "      <td>8509.323809</td>\n",
              "    </tr>\n",
              "    <tr>\n",
              "      <th>4</th>\n",
              "      <td>2023-05-01</td>\n",
              "      <td>8510.942811</td>\n",
              "      <td>7557.983576</td>\n",
              "      <td>9488.317678</td>\n",
              "      <td>8141.827787</td>\n",
              "      <td>8901.836174</td>\n",
              "      <td>23.357565</td>\n",
              "      <td>23.357565</td>\n",
              "      <td>23.357565</td>\n",
              "      <td>23.357565</td>\n",
              "      <td>23.357565</td>\n",
              "      <td>23.357565</td>\n",
              "      <td>0.0</td>\n",
              "      <td>0.0</td>\n",
              "      <td>0.0</td>\n",
              "      <td>8534.300377</td>\n",
              "    </tr>\n",
              "    <tr>\n",
              "      <th>5</th>\n",
              "      <td>2023-06-01</td>\n",
              "      <td>8502.629579</td>\n",
              "      <td>7529.175786</td>\n",
              "      <td>9536.924749</td>\n",
              "      <td>8109.158953</td>\n",
              "      <td>8898.668733</td>\n",
              "      <td>-31.841973</td>\n",
              "      <td>-31.841973</td>\n",
              "      <td>-31.841973</td>\n",
              "      <td>-31.841973</td>\n",
              "      <td>-31.841973</td>\n",
              "      <td>-31.841973</td>\n",
              "      <td>0.0</td>\n",
              "      <td>0.0</td>\n",
              "      <td>0.0</td>\n",
              "      <td>8470.787606</td>\n",
              "    </tr>\n",
              "    <tr>\n",
              "      <th>6</th>\n",
              "      <td>2023-07-01</td>\n",
              "      <td>8494.584516</td>\n",
              "      <td>7743.003704</td>\n",
              "      <td>9721.376371</td>\n",
              "      <td>8073.992573</td>\n",
              "      <td>8898.992244</td>\n",
              "      <td>261.729221</td>\n",
              "      <td>261.729221</td>\n",
              "      <td>261.729221</td>\n",
              "      <td>261.729221</td>\n",
              "      <td>261.729221</td>\n",
              "      <td>261.729221</td>\n",
              "      <td>0.0</td>\n",
              "      <td>0.0</td>\n",
              "      <td>0.0</td>\n",
              "      <td>8756.313737</td>\n",
              "    </tr>\n",
              "    <tr>\n",
              "      <th>7</th>\n",
              "      <td>2023-08-01</td>\n",
              "      <td>8486.271283</td>\n",
              "      <td>7913.604956</td>\n",
              "      <td>9898.195180</td>\n",
              "      <td>8043.426110</td>\n",
              "      <td>8910.218431</td>\n",
              "      <td>400.843581</td>\n",
              "      <td>400.843581</td>\n",
              "      <td>400.843581</td>\n",
              "      <td>400.843581</td>\n",
              "      <td>400.843581</td>\n",
              "      <td>400.843581</td>\n",
              "      <td>0.0</td>\n",
              "      <td>0.0</td>\n",
              "      <td>0.0</td>\n",
              "      <td>8887.114865</td>\n",
              "    </tr>\n",
              "    <tr>\n",
              "      <th>8</th>\n",
              "      <td>2023-09-01</td>\n",
              "      <td>8477.958051</td>\n",
              "      <td>7197.461246</td>\n",
              "      <td>9287.668605</td>\n",
              "      <td>8023.072652</td>\n",
              "      <td>8924.617319</td>\n",
              "      <td>-272.622449</td>\n",
              "      <td>-272.622449</td>\n",
              "      <td>-272.622449</td>\n",
              "      <td>-272.622449</td>\n",
              "      <td>-272.622449</td>\n",
              "      <td>-272.622449</td>\n",
              "      <td>0.0</td>\n",
              "      <td>0.0</td>\n",
              "      <td>0.0</td>\n",
              "      <td>8205.335602</td>\n",
              "    </tr>\n",
              "    <tr>\n",
              "      <th>9</th>\n",
              "      <td>2023-10-01</td>\n",
              "      <td>8469.912988</td>\n",
              "      <td>7520.603510</td>\n",
              "      <td>9550.031614</td>\n",
              "      <td>8002.591948</td>\n",
              "      <td>8943.747275</td>\n",
              "      <td>126.348844</td>\n",
              "      <td>126.348844</td>\n",
              "      <td>126.348844</td>\n",
              "      <td>126.348844</td>\n",
              "      <td>126.348844</td>\n",
              "      <td>126.348844</td>\n",
              "      <td>0.0</td>\n",
              "      <td>0.0</td>\n",
              "      <td>0.0</td>\n",
              "      <td>8596.261832</td>\n",
              "    </tr>\n",
              "    <tr>\n",
              "      <th>10</th>\n",
              "      <td>2023-11-01</td>\n",
              "      <td>8461.599756</td>\n",
              "      <td>7214.141285</td>\n",
              "      <td>9293.500664</td>\n",
              "      <td>7980.415194</td>\n",
              "      <td>8950.002805</td>\n",
              "      <td>-173.347499</td>\n",
              "      <td>-173.347499</td>\n",
              "      <td>-173.347499</td>\n",
              "      <td>-173.347499</td>\n",
              "      <td>-173.347499</td>\n",
              "      <td>-173.347499</td>\n",
              "      <td>0.0</td>\n",
              "      <td>0.0</td>\n",
              "      <td>0.0</td>\n",
              "      <td>8288.252256</td>\n",
              "    </tr>\n",
              "    <tr>\n",
              "      <th>11</th>\n",
              "      <td>2023-12-01</td>\n",
              "      <td>8453.554692</td>\n",
              "      <td>7291.929377</td>\n",
              "      <td>9402.401742</td>\n",
              "      <td>7956.265879</td>\n",
              "      <td>8950.638434</td>\n",
              "      <td>-92.327872</td>\n",
              "      <td>-92.327872</td>\n",
              "      <td>-92.327872</td>\n",
              "      <td>-92.327872</td>\n",
              "      <td>-92.327872</td>\n",
              "      <td>-92.327872</td>\n",
              "      <td>0.0</td>\n",
              "      <td>0.0</td>\n",
              "      <td>0.0</td>\n",
              "      <td>8361.226820</td>\n",
              "    </tr>\n",
              "  </tbody>\n",
              "</table>\n",
              "</div>\n",
              "      <button class=\"colab-df-convert\" onclick=\"convertToInteractive('df-34d44b3a-3132-4805-88a4-f821882a1bd7')\"\n",
              "              title=\"Convert this dataframe to an interactive table.\"\n",
              "              style=\"display:none;\">\n",
              "        \n",
              "  <svg xmlns=\"http://www.w3.org/2000/svg\" height=\"24px\"viewBox=\"0 0 24 24\"\n",
              "       width=\"24px\">\n",
              "    <path d=\"M0 0h24v24H0V0z\" fill=\"none\"/>\n",
              "    <path d=\"M18.56 5.44l.94 2.06.94-2.06 2.06-.94-2.06-.94-.94-2.06-.94 2.06-2.06.94zm-11 1L8.5 8.5l.94-2.06 2.06-.94-2.06-.94L8.5 2.5l-.94 2.06-2.06.94zm10 10l.94 2.06.94-2.06 2.06-.94-2.06-.94-.94-2.06-.94 2.06-2.06.94z\"/><path d=\"M17.41 7.96l-1.37-1.37c-.4-.4-.92-.59-1.43-.59-.52 0-1.04.2-1.43.59L10.3 9.45l-7.72 7.72c-.78.78-.78 2.05 0 2.83L4 21.41c.39.39.9.59 1.41.59.51 0 1.02-.2 1.41-.59l7.78-7.78 2.81-2.81c.8-.78.8-2.07 0-2.86zM5.41 20L4 18.59l7.72-7.72 1.47 1.35L5.41 20z\"/>\n",
              "  </svg>\n",
              "      </button>\n",
              "      \n",
              "  <style>\n",
              "    .colab-df-container {\n",
              "      display:flex;\n",
              "      flex-wrap:wrap;\n",
              "      gap: 12px;\n",
              "    }\n",
              "\n",
              "    .colab-df-convert {\n",
              "      background-color: #E8F0FE;\n",
              "      border: none;\n",
              "      border-radius: 50%;\n",
              "      cursor: pointer;\n",
              "      display: none;\n",
              "      fill: #1967D2;\n",
              "      height: 32px;\n",
              "      padding: 0 0 0 0;\n",
              "      width: 32px;\n",
              "    }\n",
              "\n",
              "    .colab-df-convert:hover {\n",
              "      background-color: #E2EBFA;\n",
              "      box-shadow: 0px 1px 2px rgba(60, 64, 67, 0.3), 0px 1px 3px 1px rgba(60, 64, 67, 0.15);\n",
              "      fill: #174EA6;\n",
              "    }\n",
              "\n",
              "    [theme=dark] .colab-df-convert {\n",
              "      background-color: #3B4455;\n",
              "      fill: #D2E3FC;\n",
              "    }\n",
              "\n",
              "    [theme=dark] .colab-df-convert:hover {\n",
              "      background-color: #434B5C;\n",
              "      box-shadow: 0px 1px 3px 1px rgba(0, 0, 0, 0.15);\n",
              "      filter: drop-shadow(0px 1px 2px rgba(0, 0, 0, 0.3));\n",
              "      fill: #FFFFFF;\n",
              "    }\n",
              "  </style>\n",
              "\n",
              "      <script>\n",
              "        const buttonEl =\n",
              "          document.querySelector('#df-34d44b3a-3132-4805-88a4-f821882a1bd7 button.colab-df-convert');\n",
              "        buttonEl.style.display =\n",
              "          google.colab.kernel.accessAllowed ? 'block' : 'none';\n",
              "\n",
              "        async function convertToInteractive(key) {\n",
              "          const element = document.querySelector('#df-34d44b3a-3132-4805-88a4-f821882a1bd7');\n",
              "          const dataTable =\n",
              "            await google.colab.kernel.invokeFunction('convertToInteractive',\n",
              "                                                     [key], {});\n",
              "          if (!dataTable) return;\n",
              "\n",
              "          const docLinkHtml = 'Like what you see? Visit the ' +\n",
              "            '<a target=\"_blank\" href=https://colab.research.google.com/notebooks/data_table.ipynb>data table notebook</a>'\n",
              "            + ' to learn more about interactive tables.';\n",
              "          element.innerHTML = '';\n",
              "          dataTable['output_type'] = 'display_data';\n",
              "          await google.colab.output.renderOutput(dataTable, element);\n",
              "          const docLink = document.createElement('div');\n",
              "          docLink.innerHTML = docLinkHtml;\n",
              "          element.appendChild(docLink);\n",
              "        }\n",
              "      </script>\n",
              "    </div>\n",
              "  </div>\n",
              "  "
            ]
          },
          "metadata": {},
          "execution_count": 29
        }
      ]
    },
    {
      "cell_type": "code",
      "source": [
        "pyplot.plot(forecast['yhat'], label='2023pred')\n",
        "pyplot.legend()\n",
        "pyplot.show()"
      ],
      "metadata": {
        "colab": {
          "base_uri": "https://localhost:8080/",
          "height": 265
        },
        "id": "NVZyGjIOLuIB",
        "outputId": "387ee290-ea7e-4b42-9225-2c839dbf8014"
      },
      "execution_count": null,
      "outputs": [
        {
          "output_type": "display_data",
          "data": {
            "text/plain": [
              "<Figure size 432x288 with 1 Axes>"
            ],
            "image/png": "[encoded data removed]"
          },
          "metadata": {
            "needs_background": "light"
          }
        }
      ]
    }
  ]
}