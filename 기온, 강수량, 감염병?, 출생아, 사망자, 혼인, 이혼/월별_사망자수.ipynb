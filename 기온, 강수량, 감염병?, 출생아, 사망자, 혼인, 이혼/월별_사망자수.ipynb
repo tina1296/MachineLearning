{
  "nbformat": 4,
  "nbformat_minor": 0,
  "metadata": {
    "colab": {
      "name": "월별 사망자수.ipynb",
      "provenance": [],
      "collapsed_sections": []
    },
    "kernelspec": {
      "name": "python3",
      "display_name": "Python 3"
    },
    "language_info": {
      "name": "python"
    }
  },
  "cells": [
    {
      "cell_type": "markdown",
      "source": [
        "# 월별 사망자 fbporphet 1"
      ],
      "metadata": {
        "id": "pt1FITVWqBto"
      }
    },
    {
      "cell_type": "code",
      "source": [
        "pip install fbprophet # 프로펫 "
      ],
      "metadata": {
        "colab": {
          "base_uri": "https://localhost:8080/"
        },
        "id": "WyGrhelbqMQo",
        "outputId": "6d8ca410-1ba0-434e-e6a5-8fb212922762"
      },
      "execution_count": null,
      "outputs": [
        {
          "output_type": "stream",
          "name": "stdout",
          "text": [
            "Looking in indexes: https://pypi.org/simple, https://us-python.pkg.dev/colab-wheels/public/simple/\n",
            "Requirement already satisfied: fbprophet in /usr/local/lib/python3.7/dist-packages (0.7.1)\n",
            "Requirement already satisfied: Cython>=0.22 in /usr/local/lib/python3.7/dist-packages (from fbprophet) (0.29.30)\n",
            "Requirement already satisfied: cmdstanpy==0.9.5 in /usr/local/lib/python3.7/dist-packages (from fbprophet) (0.9.5)\n",
            "Requirement already satisfied: pystan>=2.14 in /usr/local/lib/python3.7/dist-packages (from fbprophet) (2.19.1.1)\n",
            "Requirement already satisfied: numpy>=1.15.4 in /usr/local/lib/python3.7/dist-packages (from fbprophet) (1.21.6)\n",
            "Requirement already satisfied: pandas>=1.0.4 in /usr/local/lib/python3.7/dist-packages (from fbprophet) (1.3.5)\n",
            "Requirement already satisfied: matplotlib>=2.0.0 in /usr/local/lib/python3.7/dist-packages (from fbprophet) (3.2.2)\n",
            "Requirement already satisfied: LunarCalendar>=0.0.9 in /usr/local/lib/python3.7/dist-packages (from fbprophet) (0.0.9)\n",
            "Requirement already satisfied: convertdate>=2.1.2 in /usr/local/lib/python3.7/dist-packages (from fbprophet) (2.4.0)\n",
            "Requirement already satisfied: holidays>=0.10.2 in /usr/local/lib/python3.7/dist-packages (from fbprophet) (0.10.5.2)\n",
            "Requirement already satisfied: setuptools-git>=1.2 in /usr/local/lib/python3.7/dist-packages (from fbprophet) (1.2)\n",
            "Requirement already satisfied: python-dateutil>=2.8.0 in /usr/local/lib/python3.7/dist-packages (from fbprophet) (2.8.2)\n",
            "Requirement already satisfied: tqdm>=4.36.1 in /usr/local/lib/python3.7/dist-packages (from fbprophet) (4.64.0)\n",
            "Requirement already satisfied: pymeeus<=1,>=0.3.13 in /usr/local/lib/python3.7/dist-packages (from convertdate>=2.1.2->fbprophet) (0.5.11)\n",
            "Requirement already satisfied: hijri-converter in /usr/local/lib/python3.7/dist-packages (from holidays>=0.10.2->fbprophet) (2.2.3)\n",
            "Requirement already satisfied: six in /usr/local/lib/python3.7/dist-packages (from holidays>=0.10.2->fbprophet) (1.15.0)\n",
            "Requirement already satisfied: korean-lunar-calendar in /usr/local/lib/python3.7/dist-packages (from holidays>=0.10.2->fbprophet) (0.2.1)\n",
            "Requirement already satisfied: pytz in /usr/local/lib/python3.7/dist-packages (from LunarCalendar>=0.0.9->fbprophet) (2022.1)\n",
            "Requirement already satisfied: ephem>=3.7.5.3 in /usr/local/lib/python3.7/dist-packages (from LunarCalendar>=0.0.9->fbprophet) (4.1.3)\n",
            "Requirement already satisfied: kiwisolver>=1.0.1 in /usr/local/lib/python3.7/dist-packages (from matplotlib>=2.0.0->fbprophet) (1.4.2)\n",
            "Requirement already satisfied: cycler>=0.10 in /usr/local/lib/python3.7/dist-packages (from matplotlib>=2.0.0->fbprophet) (0.11.0)\n",
            "Requirement already satisfied: pyparsing!=2.0.4,!=2.1.2,!=2.1.6,>=2.0.1 in /usr/local/lib/python3.7/dist-packages (from matplotlib>=2.0.0->fbprophet) (3.0.9)\n",
            "Requirement already satisfied: typing-extensions in /usr/local/lib/python3.7/dist-packages (from kiwisolver>=1.0.1->matplotlib>=2.0.0->fbprophet) (4.2.0)\n"
          ]
        }
      ]
    },
    {
      "cell_type": "code",
      "source": [
        "import pandas as pd # 판다스\n",
        "df = pd.read_csv('/content/전국사망자수83-20.csv', encoding='cp949') # 데이터 로드"
      ],
      "metadata": {
        "id": "1ex7ja_7qYT3"
      },
      "execution_count": null,
      "outputs": []
    },
    {
      "cell_type": "code",
      "source": [
        "df.head()"
      ],
      "metadata": {
        "colab": {
          "base_uri": "https://localhost:8080/",
          "height": 206
        },
        "id": "Hy1tKkqvqmV4",
        "outputId": "42d5b0ce-f90b-4a30-db91-bf5232e2b756"
      },
      "execution_count": null,
      "outputs": [
        {
          "output_type": "execute_result",
          "data": {
            "text/plain": [
              "         시간   사망자수\n",
              "0  1983년01월  23147\n",
              "1  1983년02월  20099\n",
              "2  1983년03월  22632\n",
              "3  1983년04월  21767\n",
              "4  1983년05월  18412"
            ],
            "text/html": [
              "\n",
              "  <div id=\"df-0dfb9e66-7c65-4df4-a2e2-579802d0e74c\">\n",
              "    <div class=\"colab-df-container\">\n",
              "      <div>\n",
              "<style scoped>\n",
              "    .dataframe tbody tr th:only-of-type {\n",
              "        vertical-align: middle;\n",
              "    }\n",
              "\n",
              "    .dataframe tbody tr th {\n",
              "        vertical-align: top;\n",
              "    }\n",
              "\n",
              "    .dataframe thead th {\n",
              "        text-align: right;\n",
              "    }\n",
              "</style>\n",
              "<table border=\"1\" class=\"dataframe\">\n",
              "  <thead>\n",
              "    <tr style=\"text-align: right;\">\n",
              "      <th></th>\n",
              "      <th>시간</th>\n",
              "      <th>사망자수</th>\n",
              "    </tr>\n",
              "  </thead>\n",
              "  <tbody>\n",
              "    <tr>\n",
              "      <th>0</th>\n",
              "      <td>1983년01월</td>\n",
              "      <td>23147</td>\n",
              "    </tr>\n",
              "    <tr>\n",
              "      <th>1</th>\n",
              "      <td>1983년02월</td>\n",
              "      <td>20099</td>\n",
              "    </tr>\n",
              "    <tr>\n",
              "      <th>2</th>\n",
              "      <td>1983년03월</td>\n",
              "      <td>22632</td>\n",
              "    </tr>\n",
              "    <tr>\n",
              "      <th>3</th>\n",
              "      <td>1983년04월</td>\n",
              "      <td>21767</td>\n",
              "    </tr>\n",
              "    <tr>\n",
              "      <th>4</th>\n",
              "      <td>1983년05월</td>\n",
              "      <td>18412</td>\n",
              "    </tr>\n",
              "  </tbody>\n",
              "</table>\n",
              "</div>\n",
              "      <button class=\"colab-df-convert\" onclick=\"convertToInteractive('df-0dfb9e66-7c65-4df4-a2e2-579802d0e74c')\"\n",
              "              title=\"Convert this dataframe to an interactive table.\"\n",
              "              style=\"display:none;\">\n",
              "        \n",
              "  <svg xmlns=\"http://www.w3.org/2000/svg\" height=\"24px\"viewBox=\"0 0 24 24\"\n",
              "       width=\"24px\">\n",
              "    <path d=\"M0 0h24v24H0V0z\" fill=\"none\"/>\n",
              "    <path d=\"M18.56 5.44l.94 2.06.94-2.06 2.06-.94-2.06-.94-.94-2.06-.94 2.06-2.06.94zm-11 1L8.5 8.5l.94-2.06 2.06-.94-2.06-.94L8.5 2.5l-.94 2.06-2.06.94zm10 10l.94 2.06.94-2.06 2.06-.94-2.06-.94-.94-2.06-.94 2.06-2.06.94z\"/><path d=\"M17.41 7.96l-1.37-1.37c-.4-.4-.92-.59-1.43-.59-.52 0-1.04.2-1.43.59L10.3 9.45l-7.72 7.72c-.78.78-.78 2.05 0 2.83L4 21.41c.39.39.9.59 1.41.59.51 0 1.02-.2 1.41-.59l7.78-7.78 2.81-2.81c.8-.78.8-2.07 0-2.86zM5.41 20L4 18.59l7.72-7.72 1.47 1.35L5.41 20z\"/>\n",
              "  </svg>\n",
              "      </button>\n",
              "      \n",
              "  <style>\n",
              "    .colab-df-container {\n",
              "      display:flex;\n",
              "      flex-wrap:wrap;\n",
              "      gap: 12px;\n",
              "    }\n",
              "\n",
              "    .colab-df-convert {\n",
              "      background-color: #E8F0FE;\n",
              "      border: none;\n",
              "      border-radius: 50%;\n",
              "      cursor: pointer;\n",
              "      display: none;\n",
              "      fill: #1967D2;\n",
              "      height: 32px;\n",
              "      padding: 0 0 0 0;\n",
              "      width: 32px;\n",
              "    }\n",
              "\n",
              "    .colab-df-convert:hover {\n",
              "      background-color: #E2EBFA;\n",
              "      box-shadow: 0px 1px 2px rgba(60, 64, 67, 0.3), 0px 1px 3px 1px rgba(60, 64, 67, 0.15);\n",
              "      fill: #174EA6;\n",
              "    }\n",
              "\n",
              "    [theme=dark] .colab-df-convert {\n",
              "      background-color: #3B4455;\n",
              "      fill: #D2E3FC;\n",
              "    }\n",
              "\n",
              "    [theme=dark] .colab-df-convert:hover {\n",
              "      background-color: #434B5C;\n",
              "      box-shadow: 0px 1px 3px 1px rgba(0, 0, 0, 0.15);\n",
              "      filter: drop-shadow(0px 1px 2px rgba(0, 0, 0, 0.3));\n",
              "      fill: #FFFFFF;\n",
              "    }\n",
              "  </style>\n",
              "\n",
              "      <script>\n",
              "        const buttonEl =\n",
              "          document.querySelector('#df-0dfb9e66-7c65-4df4-a2e2-579802d0e74c button.colab-df-convert');\n",
              "        buttonEl.style.display =\n",
              "          google.colab.kernel.accessAllowed ? 'block' : 'none';\n",
              "\n",
              "        async function convertToInteractive(key) {\n",
              "          const element = document.querySelector('#df-0dfb9e66-7c65-4df4-a2e2-579802d0e74c');\n",
              "          const dataTable =\n",
              "            await google.colab.kernel.invokeFunction('convertToInteractive',\n",
              "                                                     [key], {});\n",
              "          if (!dataTable) return;\n",
              "\n",
              "          const docLinkHtml = 'Like what you see? Visit the ' +\n",
              "            '<a target=\"_blank\" href=https://colab.research.google.com/notebooks/data_table.ipynb>data table notebook</a>'\n",
              "            + ' to learn more about interactive tables.';\n",
              "          element.innerHTML = '';\n",
              "          dataTable['output_type'] = 'display_data';\n",
              "          await google.colab.output.renderOutput(dataTable, element);\n",
              "          const docLink = document.createElement('div');\n",
              "          docLink.innerHTML = docLinkHtml;\n",
              "          element.appendChild(docLink);\n",
              "        }\n",
              "      </script>\n",
              "    </div>\n",
              "  </div>\n",
              "  "
            ]
          },
          "metadata": {},
          "execution_count": 3
        }
      ]
    },
    {
      "cell_type": "code",
      "source": [
        "df = df.rename(columns={'시간':'time', '사망자수':'death'})\n",
        "df.tail() # 이름 바꿔줬다"
      ],
      "metadata": {
        "colab": {
          "base_uri": "https://localhost:8080/",
          "height": 206
        },
        "id": "i8LNFui4qs5h",
        "outputId": "1672fca2-54ef-4421-a4c3-3c9f5e8f9d69"
      },
      "execution_count": null,
      "outputs": [
        {
          "output_type": "execute_result",
          "data": {
            "text/plain": [
              "         time  death\n",
              "451  2020년08월  25289\n",
              "452  2020년09월  24352\n",
              "453  2020년10월  26488\n",
              "454  2020년11월  25603\n",
              "455  2020년12월  26866"
            ],
            "text/html": [
              "\n",
              "  <div id=\"df-0afc0808-ad13-42f2-988d-4230641a98c4\">\n",
              "    <div class=\"colab-df-container\">\n",
              "      <div>\n",
              "<style scoped>\n",
              "    .dataframe tbody tr th:only-of-type {\n",
              "        vertical-align: middle;\n",
              "    }\n",
              "\n",
              "    .dataframe tbody tr th {\n",
              "        vertical-align: top;\n",
              "    }\n",
              "\n",
              "    .dataframe thead th {\n",
              "        text-align: right;\n",
              "    }\n",
              "</style>\n",
              "<table border=\"1\" class=\"dataframe\">\n",
              "  <thead>\n",
              "    <tr style=\"text-align: right;\">\n",
              "      <th></th>\n",
              "      <th>time</th>\n",
              "      <th>death</th>\n",
              "    </tr>\n",
              "  </thead>\n",
              "  <tbody>\n",
              "    <tr>\n",
              "      <th>451</th>\n",
              "      <td>2020년08월</td>\n",
              "      <td>25289</td>\n",
              "    </tr>\n",
              "    <tr>\n",
              "      <th>452</th>\n",
              "      <td>2020년09월</td>\n",
              "      <td>24352</td>\n",
              "    </tr>\n",
              "    <tr>\n",
              "      <th>453</th>\n",
              "      <td>2020년10월</td>\n",
              "      <td>26488</td>\n",
              "    </tr>\n",
              "    <tr>\n",
              "      <th>454</th>\n",
              "      <td>2020년11월</td>\n",
              "      <td>25603</td>\n",
              "    </tr>\n",
              "    <tr>\n",
              "      <th>455</th>\n",
              "      <td>2020년12월</td>\n",
              "      <td>26866</td>\n",
              "    </tr>\n",
              "  </tbody>\n",
              "</table>\n",
              "</div>\n",
              "      <button class=\"colab-df-convert\" onclick=\"convertToInteractive('df-0afc0808-ad13-42f2-988d-4230641a98c4')\"\n",
              "              title=\"Convert this dataframe to an interactive table.\"\n",
              "              style=\"display:none;\">\n",
              "        \n",
              "  <svg xmlns=\"http://www.w3.org/2000/svg\" height=\"24px\"viewBox=\"0 0 24 24\"\n",
              "       width=\"24px\">\n",
              "    <path d=\"M0 0h24v24H0V0z\" fill=\"none\"/>\n",
              "    <path d=\"M18.56 5.44l.94 2.06.94-2.06 2.06-.94-2.06-.94-.94-2.06-.94 2.06-2.06.94zm-11 1L8.5 8.5l.94-2.06 2.06-.94-2.06-.94L8.5 2.5l-.94 2.06-2.06.94zm10 10l.94 2.06.94-2.06 2.06-.94-2.06-.94-.94-2.06-.94 2.06-2.06.94z\"/><path d=\"M17.41 7.96l-1.37-1.37c-.4-.4-.92-.59-1.43-.59-.52 0-1.04.2-1.43.59L10.3 9.45l-7.72 7.72c-.78.78-.78 2.05 0 2.83L4 21.41c.39.39.9.59 1.41.59.51 0 1.02-.2 1.41-.59l7.78-7.78 2.81-2.81c.8-.78.8-2.07 0-2.86zM5.41 20L4 18.59l7.72-7.72 1.47 1.35L5.41 20z\"/>\n",
              "  </svg>\n",
              "      </button>\n",
              "      \n",
              "  <style>\n",
              "    .colab-df-container {\n",
              "      display:flex;\n",
              "      flex-wrap:wrap;\n",
              "      gap: 12px;\n",
              "    }\n",
              "\n",
              "    .colab-df-convert {\n",
              "      background-color: #E8F0FE;\n",
              "      border: none;\n",
              "      border-radius: 50%;\n",
              "      cursor: pointer;\n",
              "      display: none;\n",
              "      fill: #1967D2;\n",
              "      height: 32px;\n",
              "      padding: 0 0 0 0;\n",
              "      width: 32px;\n",
              "    }\n",
              "\n",
              "    .colab-df-convert:hover {\n",
              "      background-color: #E2EBFA;\n",
              "      box-shadow: 0px 1px 2px rgba(60, 64, 67, 0.3), 0px 1px 3px 1px rgba(60, 64, 67, 0.15);\n",
              "      fill: #174EA6;\n",
              "    }\n",
              "\n",
              "    [theme=dark] .colab-df-convert {\n",
              "      background-color: #3B4455;\n",
              "      fill: #D2E3FC;\n",
              "    }\n",
              "\n",
              "    [theme=dark] .colab-df-convert:hover {\n",
              "      background-color: #434B5C;\n",
              "      box-shadow: 0px 1px 3px 1px rgba(0, 0, 0, 0.15);\n",
              "      filter: drop-shadow(0px 1px 2px rgba(0, 0, 0, 0.3));\n",
              "      fill: #FFFFFF;\n",
              "    }\n",
              "  </style>\n",
              "\n",
              "      <script>\n",
              "        const buttonEl =\n",
              "          document.querySelector('#df-0afc0808-ad13-42f2-988d-4230641a98c4 button.colab-df-convert');\n",
              "        buttonEl.style.display =\n",
              "          google.colab.kernel.accessAllowed ? 'block' : 'none';\n",
              "\n",
              "        async function convertToInteractive(key) {\n",
              "          const element = document.querySelector('#df-0afc0808-ad13-42f2-988d-4230641a98c4');\n",
              "          const dataTable =\n",
              "            await google.colab.kernel.invokeFunction('convertToInteractive',\n",
              "                                                     [key], {});\n",
              "          if (!dataTable) return;\n",
              "\n",
              "          const docLinkHtml = 'Like what you see? Visit the ' +\n",
              "            '<a target=\"_blank\" href=https://colab.research.google.com/notebooks/data_table.ipynb>data table notebook</a>'\n",
              "            + ' to learn more about interactive tables.';\n",
              "          element.innerHTML = '';\n",
              "          dataTable['output_type'] = 'display_data';\n",
              "          await google.colab.output.renderOutput(dataTable, element);\n",
              "          const docLink = document.createElement('div');\n",
              "          docLink.innerHTML = docLinkHtml;\n",
              "          element.appendChild(docLink);\n",
              "        }\n",
              "      </script>\n",
              "    </div>\n",
              "  </div>\n",
              "  "
            ]
          },
          "metadata": {},
          "execution_count": 4
        }
      ]
    },
    {
      "cell_type": "code",
      "source": [
        "df[\"time\"] = df[\"time\"].str.replace(pat=r'년', repl=r'-', regex=True) # 한글 지워줬다"
      ],
      "metadata": {
        "id": "8xekuJyrq3V-"
      },
      "execution_count": null,
      "outputs": []
    },
    {
      "cell_type": "code",
      "source": [
        "df[\"time\"] = df[\"time\"].str.replace(pat=r'월', repl=r'', regex=True) # 한글 지워줬다"
      ],
      "metadata": {
        "id": "LXjJnFh8q06d"
      },
      "execution_count": null,
      "outputs": []
    },
    {
      "cell_type": "code",
      "source": [
        "df.head()"
      ],
      "metadata": {
        "colab": {
          "base_uri": "https://localhost:8080/",
          "height": 206
        },
        "id": "KPBiKTn5rESJ",
        "outputId": "346af4bf-180d-427f-8f0f-a2709db8daf4"
      },
      "execution_count": null,
      "outputs": [
        {
          "output_type": "execute_result",
          "data": {
            "text/plain": [
              "      time  death\n",
              "0  1983-01  23147\n",
              "1  1983-02  20099\n",
              "2  1983-03  22632\n",
              "3  1983-04  21767\n",
              "4  1983-05  18412"
            ],
            "text/html": [
              "\n",
              "  <div id=\"df-1fcf850b-0671-4c06-b04f-bec0730b55e2\">\n",
              "    <div class=\"colab-df-container\">\n",
              "      <div>\n",
              "<style scoped>\n",
              "    .dataframe tbody tr th:only-of-type {\n",
              "        vertical-align: middle;\n",
              "    }\n",
              "\n",
              "    .dataframe tbody tr th {\n",
              "        vertical-align: top;\n",
              "    }\n",
              "\n",
              "    .dataframe thead th {\n",
              "        text-align: right;\n",
              "    }\n",
              "</style>\n",
              "<table border=\"1\" class=\"dataframe\">\n",
              "  <thead>\n",
              "    <tr style=\"text-align: right;\">\n",
              "      <th></th>\n",
              "      <th>time</th>\n",
              "      <th>death</th>\n",
              "    </tr>\n",
              "  </thead>\n",
              "  <tbody>\n",
              "    <tr>\n",
              "      <th>0</th>\n",
              "      <td>1983-01</td>\n",
              "      <td>23147</td>\n",
              "    </tr>\n",
              "    <tr>\n",
              "      <th>1</th>\n",
              "      <td>1983-02</td>\n",
              "      <td>20099</td>\n",
              "    </tr>\n",
              "    <tr>\n",
              "      <th>2</th>\n",
              "      <td>1983-03</td>\n",
              "      <td>22632</td>\n",
              "    </tr>\n",
              "    <tr>\n",
              "      <th>3</th>\n",
              "      <td>1983-04</td>\n",
              "      <td>21767</td>\n",
              "    </tr>\n",
              "    <tr>\n",
              "      <th>4</th>\n",
              "      <td>1983-05</td>\n",
              "      <td>18412</td>\n",
              "    </tr>\n",
              "  </tbody>\n",
              "</table>\n",
              "</div>\n",
              "      <button class=\"colab-df-convert\" onclick=\"convertToInteractive('df-1fcf850b-0671-4c06-b04f-bec0730b55e2')\"\n",
              "              title=\"Convert this dataframe to an interactive table.\"\n",
              "              style=\"display:none;\">\n",
              "        \n",
              "  <svg xmlns=\"http://www.w3.org/2000/svg\" height=\"24px\"viewBox=\"0 0 24 24\"\n",
              "       width=\"24px\">\n",
              "    <path d=\"M0 0h24v24H0V0z\" fill=\"none\"/>\n",
              "    <path d=\"M18.56 5.44l.94 2.06.94-2.06 2.06-.94-2.06-.94-.94-2.06-.94 2.06-2.06.94zm-11 1L8.5 8.5l.94-2.06 2.06-.94-2.06-.94L8.5 2.5l-.94 2.06-2.06.94zm10 10l.94 2.06.94-2.06 2.06-.94-2.06-.94-.94-2.06-.94 2.06-2.06.94z\"/><path d=\"M17.41 7.96l-1.37-1.37c-.4-.4-.92-.59-1.43-.59-.52 0-1.04.2-1.43.59L10.3 9.45l-7.72 7.72c-.78.78-.78 2.05 0 2.83L4 21.41c.39.39.9.59 1.41.59.51 0 1.02-.2 1.41-.59l7.78-7.78 2.81-2.81c.8-.78.8-2.07 0-2.86zM5.41 20L4 18.59l7.72-7.72 1.47 1.35L5.41 20z\"/>\n",
              "  </svg>\n",
              "      </button>\n",
              "      \n",
              "  <style>\n",
              "    .colab-df-container {\n",
              "      display:flex;\n",
              "      flex-wrap:wrap;\n",
              "      gap: 12px;\n",
              "    }\n",
              "\n",
              "    .colab-df-convert {\n",
              "      background-color: #E8F0FE;\n",
              "      border: none;\n",
              "      border-radius: 50%;\n",
              "      cursor: pointer;\n",
              "      display: none;\n",
              "      fill: #1967D2;\n",
              "      height: 32px;\n",
              "      padding: 0 0 0 0;\n",
              "      width: 32px;\n",
              "    }\n",
              "\n",
              "    .colab-df-convert:hover {\n",
              "      background-color: #E2EBFA;\n",
              "      box-shadow: 0px 1px 2px rgba(60, 64, 67, 0.3), 0px 1px 3px 1px rgba(60, 64, 67, 0.15);\n",
              "      fill: #174EA6;\n",
              "    }\n",
              "\n",
              "    [theme=dark] .colab-df-convert {\n",
              "      background-color: #3B4455;\n",
              "      fill: #D2E3FC;\n",
              "    }\n",
              "\n",
              "    [theme=dark] .colab-df-convert:hover {\n",
              "      background-color: #434B5C;\n",
              "      box-shadow: 0px 1px 3px 1px rgba(0, 0, 0, 0.15);\n",
              "      filter: drop-shadow(0px 1px 2px rgba(0, 0, 0, 0.3));\n",
              "      fill: #FFFFFF;\n",
              "    }\n",
              "  </style>\n",
              "\n",
              "      <script>\n",
              "        const buttonEl =\n",
              "          document.querySelector('#df-1fcf850b-0671-4c06-b04f-bec0730b55e2 button.colab-df-convert');\n",
              "        buttonEl.style.display =\n",
              "          google.colab.kernel.accessAllowed ? 'block' : 'none';\n",
              "\n",
              "        async function convertToInteractive(key) {\n",
              "          const element = document.querySelector('#df-1fcf850b-0671-4c06-b04f-bec0730b55e2');\n",
              "          const dataTable =\n",
              "            await google.colab.kernel.invokeFunction('convertToInteractive',\n",
              "                                                     [key], {});\n",
              "          if (!dataTable) return;\n",
              "\n",
              "          const docLinkHtml = 'Like what you see? Visit the ' +\n",
              "            '<a target=\"_blank\" href=https://colab.research.google.com/notebooks/data_table.ipynb>data table notebook</a>'\n",
              "            + ' to learn more about interactive tables.';\n",
              "          element.innerHTML = '';\n",
              "          dataTable['output_type'] = 'display_data';\n",
              "          await google.colab.output.renderOutput(dataTable, element);\n",
              "          const docLink = document.createElement('div');\n",
              "          docLink.innerHTML = docLinkHtml;\n",
              "          element.appendChild(docLink);\n",
              "        }\n",
              "      </script>\n",
              "    </div>\n",
              "  </div>\n",
              "  "
            ]
          },
          "metadata": {},
          "execution_count": 7
        }
      ]
    },
    {
      "cell_type": "code",
      "source": [
        "from matplotlib import pyplot # 맷플롯립으로 사망자수를 그려봤다\n",
        "df.plot()\n",
        "pyplot.show() # 이쁘다"
      ],
      "metadata": {
        "colab": {
          "base_uri": "https://localhost:8080/",
          "height": 266
        },
        "id": "_u1jYMmsrHto",
        "outputId": "fa335539-5b79-4b0d-a56e-3e093f383035"
      },
      "execution_count": null,
      "outputs": [
        {
          "output_type": "display_data",
          "data": {
            "text/plain": [
              "<Figure size 432x288 with 1 Axes>"
            ],
            "image/png": "[encoded data removed]"
          },
          "metadata": {
            "needs_background": "light"
          }
        }
      ]
    },
    {
      "cell_type": "code",
      "source": [
        "df.columns = ['ds', 'y']\n",
        "df['ds'] = pd.to_datetime(df['ds']) # 프로펫은 변수 이름을 ds, y 로 맞춰줘야 한단다"
      ],
      "metadata": {
        "id": "NggaYIGrrS-H"
      },
      "execution_count": null,
      "outputs": []
    },
    {
      "cell_type": "code",
      "source": [
        "from fbprophet import Prophet # 프로펫\n",
        "model = Prophet() # 이제부터 너는 모델이다"
      ],
      "metadata": {
        "id": "mpBLEcuzrmKf"
      },
      "execution_count": null,
      "outputs": []
    },
    {
      "cell_type": "code",
      "source": [
        "model.fit(df) # 학습"
      ],
      "metadata": {
        "colab": {
          "base_uri": "https://localhost:8080/"
        },
        "id": "I7FPSbysrtmK",
        "outputId": "7327b447-8b5b-4169-acde-5fc7e8fcc470"
      },
      "execution_count": null,
      "outputs": [
        {
          "output_type": "stream",
          "name": "stderr",
          "text": [
            "INFO:fbprophet:Disabling weekly seasonality. Run prophet with weekly_seasonality=True to override this.\n",
            "INFO:fbprophet:Disabling daily seasonality. Run prophet with daily_seasonality=True to override this.\n"
          ]
        },
        {
          "output_type": "execute_result",
          "data": {
            "text/plain": [
              "<fbprophet.forecaster.Prophet at 0x7fa5f9b2e550>"
            ]
          },
          "metadata": {},
          "execution_count": 11
        }
      ]
    },
    {
      "cell_type": "code",
      "source": [
        "last_1year = list() # 마지막 년도인 2020년의 12개의 달을 모으려고 한다 \n",
        "for i in range(1, 13):\n",
        "  last_1year.append(['2020-%02d' % i])\n",
        "last_1year = pd.DataFrame(last_1year, columns = ['ds'])\n",
        "last_1year['ds'] = pd.to_datetime(last_1year['ds']) # 남에 꺼 따라했다\n",
        "\n",
        "# 미래나 과거를 예측해보기 전 학습으로 사용한 데이터를 잘 예측하는지 확인해야 한단다\n",
        "# in_sample_forecast라고 한다는데, 즉 train_set을 잘 예측하냐 보는거다"
      ],
      "metadata": {
        "id": "xzvfGopBr0jB"
      },
      "execution_count": null,
      "outputs": []
    },
    {
      "cell_type": "code",
      "source": [
        "forecast = model.predict(last_1year) # 모은 2020년을 예측해보라 하고 forecast에 저장했다"
      ],
      "metadata": {
        "id": "cCsNnjMAsdts"
      },
      "execution_count": null,
      "outputs": []
    },
    {
      "cell_type": "code",
      "source": [
        "print(forecast[['ds', 'yhat', 'yhat_lower', 'yhat_upper']].head()) \n",
        "# 뭐가 많은데 4가지 컬럼만 보겠다"
      ],
      "metadata": {
        "colab": {
          "base_uri": "https://localhost:8080/"
        },
        "id": "Eh6gd_BVskCT",
        "outputId": "2f4c5530-dcfd-45ef-f9ee-49077b4e6399"
      },
      "execution_count": null,
      "outputs": [
        {
          "output_type": "stream",
          "name": "stdout",
          "text": [
            "          ds          yhat    yhat_lower    yhat_upper\n",
            "0 2020-01-01  26678.696671  25688.800774  27662.906471\n",
            "1 2020-02-01  24902.786764  23903.600746  25938.152503\n",
            "2 2020-03-01  26467.876730  25441.995492  27411.776112\n",
            "3 2020-04-01  25145.232055  24134.328630  26162.796115\n",
            "4 2020-05-01  24838.156514  23785.706338  25868.511372\n"
          ]
        }
      ]
    },
    {
      "cell_type": "code",
      "source": [
        "model.plot(forecast)\n",
        "pyplot.show()\n",
        "# 프로펫은 내장함수 plot()가 있어서 좋다\n",
        "# 검은점은 실제 데이터고 파란선이 예측값인데 엄청 잘 맞춘듯"
      ],
      "metadata": {
        "colab": {
          "base_uri": "https://localhost:8080/",
          "height": 441
        },
        "id": "BeEPvPvss0AM",
        "outputId": "9700b253-7825-4740-f92d-7fd6573dc07a"
      },
      "execution_count": null,
      "outputs": [
        {
          "output_type": "display_data",
          "data": {
            "text/plain": [
              "<Figure size 720x432 with 1 Axes>"
            ],
            "image/png": "[encoded data removed]"
          },
          "metadata": {}
        }
      ]
    },
    {
      "cell_type": "code",
      "source": [
        "last_1year1 = list() # 이번엔 임의의 날짜 2021년 12달을 만든다\n",
        "for i in range(1, 13):\n",
        "  last_1year1.append(['2021-%02d' % i])\n",
        "last_1year1 = pd.DataFrame(last_1year1, columns = ['ds'])\n",
        "last_1year1['ds'] = pd.to_datetime(last_1year1['ds'])\n",
        "\n",
        "# out_of_sample_forecast라고 한다는데, 그냥 21년 예측하는거다"
      ],
      "metadata": {
        "id": "fho_6tc8tAZk"
      },
      "execution_count": null,
      "outputs": []
    },
    {
      "cell_type": "code",
      "source": [
        "forecast1 = model.predict(last_1year1)\n",
        "model.plot(forecast1)\n",
        "pyplot.show()\n",
        "# 대충 잘 맞춘듯, 점이 많으니까 그냥 용과같아서 이쁘다"
      ],
      "metadata": {
        "colab": {
          "base_uri": "https://localhost:8080/",
          "height": 441
        },
        "id": "dJWBtaletbIE",
        "outputId": "566ff656-a8c8-4d05-f450-f438fbeb5de5"
      },
      "execution_count": null,
      "outputs": [
        {
          "output_type": "display_data",
          "data": {
            "text/plain": [
              "<Figure size 720x432 with 1 Axes>"
            ],
            "image/png": "[encoded data removed]"
          },
          "metadata": {}
        }
      ]
    },
    {
      "cell_type": "code",
      "source": [
        "# 이번에는 다르게 마지막 1년을 제외한 값으로 학습을 하고 마지막 1년을 예측한 뒤 \n",
        "# 실제 마지막 1년과 비교하려고 한다 \n",
        "\n",
        "# 마지막 12개월 제외시키기 \n",
        "train = df.drop(df.index[-12:]) # train에서 뒤에 12개 제외\n",
        "y_true = df['y'][-12:].values # 제외한 값은 y_true로 저장해둔다\n",
        "\n",
        "# 모델 생성 후 학습\n",
        "model = Prophet()\n",
        "model.fit(train) # 12개가 빠진 train으로 학습\n",
        "\n",
        "# 가상의 마지막 12개월 생성\n",
        "last_1year = list()\n",
        "for i in range(1, 13):\n",
        "  last_1year.append(['2020-%02d' % i])\n",
        "last_1year = pd.DataFrame(last_1year, columns = ['ds'])\n",
        "last_1year['ds'] = pd.to_datetime(last_1year['ds']) # 실제 값이 들은게 아니다 !\n",
        "\n",
        "# 예측, 비교하기 그리고 MAE를 살펴보기\n",
        "forecast = model.predict(last_1year)\n",
        "y_pred = forecast['yhat'].values\n",
        "from sklearn.metrics import mean_absolute_error\n",
        "mae = mean_absolute_error(y_true, y_pred)\n",
        "print('MAE: %.3f' % mae)"
      ],
      "metadata": {
        "colab": {
          "base_uri": "https://localhost:8080/"
        },
        "id": "_xVPKaRet1MA",
        "outputId": "db0c6bbe-7678-4221-8c09-0998fca1814e"
      },
      "execution_count": null,
      "outputs": [
        {
          "output_type": "stream",
          "name": "stderr",
          "text": [
            "INFO:fbprophet:Disabling weekly seasonality. Run prophet with weekly_seasonality=True to override this.\n",
            "INFO:fbprophet:Disabling daily seasonality. Run prophet with daily_seasonality=True to override this.\n"
          ]
        },
        {
          "output_type": "stream",
          "name": "stdout",
          "text": [
            "MAE: 549.020\n"
          ]
        }
      ]
    },
    {
      "cell_type": "code",
      "source": [
        "pyplot.plot(y_true, label='Actual')\n",
        "pyplot.plot(y_pred, label='Predicted')\n",
        "pyplot.legend()\n",
        "pyplot.show()"
      ],
      "metadata": {
        "colab": {
          "base_uri": "https://localhost:8080/",
          "height": 265
        },
        "id": "uhWxVHqJvHuw",
        "outputId": "65286d84-a80f-4421-e21e-c4fbf2763995"
      },
      "execution_count": null,
      "outputs": [
        {
          "output_type": "display_data",
          "data": {
            "text/plain": [
              "<Figure size 432x288 with 1 Axes>"
            ],
            "image/png": "[encoded data removed]"
          },
          "metadata": {
            "needs_background": "light"
          }
        }
      ]
    },
    {
      "cell_type": "code",
      "source": [
        "forecast1['yhat'] # 2021년 평균 사망자 수 예측값"
      ],
      "metadata": {
        "colab": {
          "base_uri": "https://localhost:8080/"
        },
        "id": "ko6g7pZEMK9j",
        "outputId": "64fd130d-5a8b-435e-c3bc-f89fa520b7e3"
      },
      "execution_count": null,
      "outputs": [
        {
          "output_type": "execute_result",
          "data": {
            "text/plain": [
              "0     27471.367073\n",
              "1     24623.092114\n",
              "2     26762.469120\n",
              "3     25547.829114\n",
              "4     25253.491414\n",
              "5     24016.061013\n",
              "6     24460.671511\n",
              "7     24798.479693\n",
              "8     24497.336888\n",
              "9     26562.643835\n",
              "10    25942.510742\n",
              "11    27174.423642\n",
              "Name: yhat, dtype: float64"
            ]
          },
          "metadata": {},
          "execution_count": 20
        }
      ]
    },
    {
      "cell_type": "code",
      "source": [
        "data2021 = [27230, 23795, 26550, 25077, 25577, 24398, 25748, 25953, 25674, 27775, 28363, 32634]\n",
        "# 실제 2021년 사망자 수\n",
        "# https://data.kma.go.kr/stcs/grnd/grndTaList.do?pgmNo=70"
      ],
      "metadata": {
        "id": "HPnWedKsMMVL"
      },
      "execution_count": null,
      "outputs": []
    },
    {
      "cell_type": "code",
      "source": [
        "pyplot.plot(data2021, label='Actual')\n",
        "pyplot.plot(forecast1['yhat'], label='Predicted')\n",
        "pyplot.legend()\n",
        "pyplot.show()"
      ],
      "metadata": {
        "colab": {
          "base_uri": "https://localhost:8080/",
          "height": 265
        },
        "id": "cxzM4lD_MP3-",
        "outputId": "0b27e8f3-756b-40de-c1fb-6f9d8df6c0d2"
      },
      "execution_count": null,
      "outputs": [
        {
          "output_type": "display_data",
          "data": {
            "text/plain": [
              "<Figure size 432x288 with 1 Axes>"
            ],
            "image/png": "[encoded data removed]"
          },
          "metadata": {
            "needs_background": "light"
          }
        }
      ]
    },
    {
      "cell_type": "code",
      "source": [
        "last_1year2 = list() # 이번엔 임의의 날짜 2022년 12달을 만든다\n",
        "for i in range(1, 13):\n",
        "  last_1year2.append(['2022-%02d' % i])\n",
        "last_1year2 = pd.DataFrame(last_1year2, columns = ['ds'])\n",
        "last_1year2['ds'] = pd.to_datetime(last_1year2['ds'])"
      ],
      "metadata": {
        "id": "ymkaDrZDNrZN"
      },
      "execution_count": null,
      "outputs": []
    },
    {
      "cell_type": "code",
      "source": [
        "forecast2 = model.predict(last_1year2)\n",
        "model.plot(forecast2)\n",
        "pyplot.show()"
      ],
      "metadata": {
        "colab": {
          "base_uri": "https://localhost:8080/",
          "height": 441
        },
        "id": "-LUCtSerNsqt",
        "outputId": "da02068f-ee48-4ca2-ce0b-fa26a1206f12"
      },
      "execution_count": null,
      "outputs": [
        {
          "output_type": "display_data",
          "data": {
            "text/plain": [
              "<Figure size 720x432 with 1 Axes>"
            ],
            "image/png": "[encoded data removed]"
          },
          "metadata": {}
        }
      ]
    },
    {
      "cell_type": "code",
      "source": [
        "forecast2"
      ],
      "metadata": {
        "colab": {
          "base_uri": "https://localhost:8080/",
          "height": 698
        },
        "id": "3ouphMKsOQyL",
        "outputId": "2d89f107-5ea5-400f-c254-20f175c5da1c"
      },
      "execution_count": null,
      "outputs": [
        {
          "output_type": "execute_result",
          "data": {
            "text/plain": [
              "           ds         trend    yhat_lower    yhat_upper   trend_lower  \\\n",
              "0  2022-01-01  25795.826408  26542.262115  28598.234595  25747.772523   \n",
              "1  2022-02-01  25828.994341  24093.262228  26127.872647  25776.675620   \n",
              "2  2022-03-01  25858.952474  25820.899050  27837.030538  25803.586334   \n",
              "3  2022-04-01  25892.120407  24816.691754  26826.480636  25833.324410   \n",
              "4  2022-05-01  25924.218407  24560.271756  26520.745494  25863.705387   \n",
              "5  2022-06-01  25957.386339  23235.648629  25285.240171  25892.868895   \n",
              "6  2022-07-01  25989.484339  23614.970545  25691.601522  25920.372631   \n",
              "7  2022-08-01  26022.652272  23971.001978  26083.919720  25950.381047   \n",
              "8  2022-09-01  26055.820205  23841.890707  25879.662503  25980.500594   \n",
              "9  2022-10-01  26087.918204  25650.492193  27562.281030  26007.810001   \n",
              "10 2022-11-01  26121.086137  25195.605955  27201.031713  26038.819393   \n",
              "11 2022-12-01  26153.184137  26350.704163  28412.155558  26066.814828   \n",
              "\n",
              "     trend_upper  additive_terms  additive_terms_lower  additive_terms_upper  \\\n",
              "0   25841.123087     1767.081835           1767.081835           1767.081835   \n",
              "1   25878.121459     -756.515859           -756.515859           -756.515859   \n",
              "2   25913.631936     1035.927314           1035.927314           1035.927314   \n",
              "3   25951.006016     -105.790383           -105.790383           -105.790383   \n",
              "4   25986.863171     -426.238617           -426.238617           -426.238617   \n",
              "5   26024.231810    -1672.389868          -1672.389868          -1672.389868   \n",
              "6   26060.238419    -1349.168999          -1349.168999          -1349.168999   \n",
              "7   26097.070456    -1000.246167          -1000.246167          -1000.246167   \n",
              "8   26132.913302    -1194.445680          -1194.445680          -1194.445680   \n",
              "9   26170.073023      518.737814            518.737814            518.737814   \n",
              "10  26208.050981       61.262421             61.262421             61.262421   \n",
              "11  26245.351927     1274.214498           1274.214498           1274.214498   \n",
              "\n",
              "         yearly  yearly_lower  yearly_upper  multiplicative_terms  \\\n",
              "0   1767.081835   1767.081835   1767.081835                   0.0   \n",
              "1   -756.515859   -756.515859   -756.515859                   0.0   \n",
              "2   1035.927314   1035.927314   1035.927314                   0.0   \n",
              "3   -105.790383   -105.790383   -105.790383                   0.0   \n",
              "4   -426.238617   -426.238617   -426.238617                   0.0   \n",
              "5  -1672.389868  -1672.389868  -1672.389868                   0.0   \n",
              "6  -1349.168999  -1349.168999  -1349.168999                   0.0   \n",
              "7  -1000.246167  -1000.246167  -1000.246167                   0.0   \n",
              "8  -1194.445680  -1194.445680  -1194.445680                   0.0   \n",
              "9    518.737814    518.737814    518.737814                   0.0   \n",
              "10    61.262421     61.262421     61.262421                   0.0   \n",
              "11  1274.214498   1274.214498   1274.214498                   0.0   \n",
              "\n",
              "    multiplicative_terms_lower  multiplicative_terms_upper          yhat  \n",
              "0                          0.0                         0.0  27562.908243  \n",
              "1                          0.0                         0.0  25072.478482  \n",
              "2                          0.0                         0.0  26894.879788  \n",
              "3                          0.0                         0.0  25786.330024  \n",
              "4                          0.0                         0.0  25497.979789  \n",
              "5                          0.0                         0.0  24284.996472  \n",
              "6                          0.0                         0.0  24640.315340  \n",
              "7                          0.0                         0.0  25022.406105  \n",
              "8                          0.0                         0.0  24861.374525  \n",
              "9                          0.0                         0.0  26606.656018  \n",
              "10                         0.0                         0.0  26182.348558  \n",
              "11                         0.0                         0.0  27427.398634  "
            ],
            "text/html": [
              "\n",
              "  <div id=\"df-040e2c05-9f0d-4bbe-8dec-c0ad71a150f1\">\n",
              "    <div class=\"colab-df-container\">\n",
              "      <div>\n",
              "<style scoped>\n",
              "    .dataframe tbody tr th:only-of-type {\n",
              "        vertical-align: middle;\n",
              "    }\n",
              "\n",
              "    .dataframe tbody tr th {\n",
              "        vertical-align: top;\n",
              "    }\n",
              "\n",
              "    .dataframe thead th {\n",
              "        text-align: right;\n",
              "    }\n",
              "</style>\n",
              "<table border=\"1\" class=\"dataframe\">\n",
              "  <thead>\n",
              "    <tr style=\"text-align: right;\">\n",
              "      <th></th>\n",
              "      <th>ds</th>\n",
              "      <th>trend</th>\n",
              "      <th>yhat_lower</th>\n",
              "      <th>yhat_upper</th>\n",
              "      <th>trend_lower</th>\n",
              "      <th>trend_upper</th>\n",
              "      <th>additive_terms</th>\n",
              "      <th>additive_terms_lower</th>\n",
              "      <th>additive_terms_upper</th>\n",
              "      <th>yearly</th>\n",
              "      <th>yearly_lower</th>\n",
              "      <th>yearly_upper</th>\n",
              "      <th>multiplicative_terms</th>\n",
              "      <th>multiplicative_terms_lower</th>\n",
              "      <th>multiplicative_terms_upper</th>\n",
              "      <th>yhat</th>\n",
              "    </tr>\n",
              "  </thead>\n",
              "  <tbody>\n",
              "    <tr>\n",
              "      <th>0</th>\n",
              "      <td>2022-01-01</td>\n",
              "      <td>25795.826408</td>\n",
              "      <td>26542.262115</td>\n",
              "      <td>28598.234595</td>\n",
              "      <td>25747.772523</td>\n",
              "      <td>25841.123087</td>\n",
              "      <td>1767.081835</td>\n",
              "      <td>1767.081835</td>\n",
              "      <td>1767.081835</td>\n",
              "      <td>1767.081835</td>\n",
              "      <td>1767.081835</td>\n",
              "      <td>1767.081835</td>\n",
              "      <td>0.0</td>\n",
              "      <td>0.0</td>\n",
              "      <td>0.0</td>\n",
              "      <td>27562.908243</td>\n",
              "    </tr>\n",
              "    <tr>\n",
              "      <th>1</th>\n",
              "      <td>2022-02-01</td>\n",
              "      <td>25828.994341</td>\n",
              "      <td>24093.262228</td>\n",
              "      <td>26127.872647</td>\n",
              "      <td>25776.675620</td>\n",
              "      <td>25878.121459</td>\n",
              "      <td>-756.515859</td>\n",
              "      <td>-756.515859</td>\n",
              "      <td>-756.515859</td>\n",
              "      <td>-756.515859</td>\n",
              "      <td>-756.515859</td>\n",
              "      <td>-756.515859</td>\n",
              "      <td>0.0</td>\n",
              "      <td>0.0</td>\n",
              "      <td>0.0</td>\n",
              "      <td>25072.478482</td>\n",
              "    </tr>\n",
              "    <tr>\n",
              "      <th>2</th>\n",
              "      <td>2022-03-01</td>\n",
              "      <td>25858.952474</td>\n",
              "      <td>25820.899050</td>\n",
              "      <td>27837.030538</td>\n",
              "      <td>25803.586334</td>\n",
              "      <td>25913.631936</td>\n",
              "      <td>1035.927314</td>\n",
              "      <td>1035.927314</td>\n",
              "      <td>1035.927314</td>\n",
              "      <td>1035.927314</td>\n",
              "      <td>1035.927314</td>\n",
              "      <td>1035.927314</td>\n",
              "      <td>0.0</td>\n",
              "      <td>0.0</td>\n",
              "      <td>0.0</td>\n",
              "      <td>26894.879788</td>\n",
              "    </tr>\n",
              "    <tr>\n",
              "      <th>3</th>\n",
              "      <td>2022-04-01</td>\n",
              "      <td>25892.120407</td>\n",
              "      <td>24816.691754</td>\n",
              "      <td>26826.480636</td>\n",
              "      <td>25833.324410</td>\n",
              "      <td>25951.006016</td>\n",
              "      <td>-105.790383</td>\n",
              "      <td>-105.790383</td>\n",
              "      <td>-105.790383</td>\n",
              "      <td>-105.790383</td>\n",
              "      <td>-105.790383</td>\n",
              "      <td>-105.790383</td>\n",
              "      <td>0.0</td>\n",
              "      <td>0.0</td>\n",
              "      <td>0.0</td>\n",
              "      <td>25786.330024</td>\n",
              "    </tr>\n",
              "    <tr>\n",
              "      <th>4</th>\n",
              "      <td>2022-05-01</td>\n",
              "      <td>25924.218407</td>\n",
              "      <td>24560.271756</td>\n",
              "      <td>26520.745494</td>\n",
              "      <td>25863.705387</td>\n",
              "      <td>25986.863171</td>\n",
              "      <td>-426.238617</td>\n",
              "      <td>-426.238617</td>\n",
              "      <td>-426.238617</td>\n",
              "      <td>-426.238617</td>\n",
              "      <td>-426.238617</td>\n",
              "      <td>-426.238617</td>\n",
              "      <td>0.0</td>\n",
              "      <td>0.0</td>\n",
              "      <td>0.0</td>\n",
              "      <td>25497.979789</td>\n",
              "    </tr>\n",
              "    <tr>\n",
              "      <th>5</th>\n",
              "      <td>2022-06-01</td>\n",
              "      <td>25957.386339</td>\n",
              "      <td>23235.648629</td>\n",
              "      <td>25285.240171</td>\n",
              "      <td>25892.868895</td>\n",
              "      <td>26024.231810</td>\n",
              "      <td>-1672.389868</td>\n",
              "      <td>-1672.389868</td>\n",
              "      <td>-1672.389868</td>\n",
              "      <td>-1672.389868</td>\n",
              "      <td>-1672.389868</td>\n",
              "      <td>-1672.389868</td>\n",
              "      <td>0.0</td>\n",
              "      <td>0.0</td>\n",
              "      <td>0.0</td>\n",
              "      <td>24284.996472</td>\n",
              "    </tr>\n",
              "    <tr>\n",
              "      <th>6</th>\n",
              "      <td>2022-07-01</td>\n",
              "      <td>25989.484339</td>\n",
              "      <td>23614.970545</td>\n",
              "      <td>25691.601522</td>\n",
              "      <td>25920.372631</td>\n",
              "      <td>26060.238419</td>\n",
              "      <td>-1349.168999</td>\n",
              "      <td>-1349.168999</td>\n",
              "      <td>-1349.168999</td>\n",
              "      <td>-1349.168999</td>\n",
              "      <td>-1349.168999</td>\n",
              "      <td>-1349.168999</td>\n",
              "      <td>0.0</td>\n",
              "      <td>0.0</td>\n",
              "      <td>0.0</td>\n",
              "      <td>24640.315340</td>\n",
              "    </tr>\n",
              "    <tr>\n",
              "      <th>7</th>\n",
              "      <td>2022-08-01</td>\n",
              "      <td>26022.652272</td>\n",
              "      <td>23971.001978</td>\n",
              "      <td>26083.919720</td>\n",
              "      <td>25950.381047</td>\n",
              "      <td>26097.070456</td>\n",
              "      <td>-1000.246167</td>\n",
              "      <td>-1000.246167</td>\n",
              "      <td>-1000.246167</td>\n",
              "      <td>-1000.246167</td>\n",
              "      <td>-1000.246167</td>\n",
              "      <td>-1000.246167</td>\n",
              "      <td>0.0</td>\n",
              "      <td>0.0</td>\n",
              "      <td>0.0</td>\n",
              "      <td>25022.406105</td>\n",
              "    </tr>\n",
              "    <tr>\n",
              "      <th>8</th>\n",
              "      <td>2022-09-01</td>\n",
              "      <td>26055.820205</td>\n",
              "      <td>23841.890707</td>\n",
              "      <td>25879.662503</td>\n",
              "      <td>25980.500594</td>\n",
              "      <td>26132.913302</td>\n",
              "      <td>-1194.445680</td>\n",
              "      <td>-1194.445680</td>\n",
              "      <td>-1194.445680</td>\n",
              "      <td>-1194.445680</td>\n",
              "      <td>-1194.445680</td>\n",
              "      <td>-1194.445680</td>\n",
              "      <td>0.0</td>\n",
              "      <td>0.0</td>\n",
              "      <td>0.0</td>\n",
              "      <td>24861.374525</td>\n",
              "    </tr>\n",
              "    <tr>\n",
              "      <th>9</th>\n",
              "      <td>2022-10-01</td>\n",
              "      <td>26087.918204</td>\n",
              "      <td>25650.492193</td>\n",
              "      <td>27562.281030</td>\n",
              "      <td>26007.810001</td>\n",
              "      <td>26170.073023</td>\n",
              "      <td>518.737814</td>\n",
              "      <td>518.737814</td>\n",
              "      <td>518.737814</td>\n",
              "      <td>518.737814</td>\n",
              "      <td>518.737814</td>\n",
              "      <td>518.737814</td>\n",
              "      <td>0.0</td>\n",
              "      <td>0.0</td>\n",
              "      <td>0.0</td>\n",
              "      <td>26606.656018</td>\n",
              "    </tr>\n",
              "    <tr>\n",
              "      <th>10</th>\n",
              "      <td>2022-11-01</td>\n",
              "      <td>26121.086137</td>\n",
              "      <td>25195.605955</td>\n",
              "      <td>27201.031713</td>\n",
              "      <td>26038.819393</td>\n",
              "      <td>26208.050981</td>\n",
              "      <td>61.262421</td>\n",
              "      <td>61.262421</td>\n",
              "      <td>61.262421</td>\n",
              "      <td>61.262421</td>\n",
              "      <td>61.262421</td>\n",
              "      <td>61.262421</td>\n",
              "      <td>0.0</td>\n",
              "      <td>0.0</td>\n",
              "      <td>0.0</td>\n",
              "      <td>26182.348558</td>\n",
              "    </tr>\n",
              "    <tr>\n",
              "      <th>11</th>\n",
              "      <td>2022-12-01</td>\n",
              "      <td>26153.184137</td>\n",
              "      <td>26350.704163</td>\n",
              "      <td>28412.155558</td>\n",
              "      <td>26066.814828</td>\n",
              "      <td>26245.351927</td>\n",
              "      <td>1274.214498</td>\n",
              "      <td>1274.214498</td>\n",
              "      <td>1274.214498</td>\n",
              "      <td>1274.214498</td>\n",
              "      <td>1274.214498</td>\n",
              "      <td>1274.214498</td>\n",
              "      <td>0.0</td>\n",
              "      <td>0.0</td>\n",
              "      <td>0.0</td>\n",
              "      <td>27427.398634</td>\n",
              "    </tr>\n",
              "  </tbody>\n",
              "</table>\n",
              "</div>\n",
              "      <button class=\"colab-df-convert\" onclick=\"convertToInteractive('df-040e2c05-9f0d-4bbe-8dec-c0ad71a150f1')\"\n",
              "              title=\"Convert this dataframe to an interactive table.\"\n",
              "              style=\"display:none;\">\n",
              "        \n",
              "  <svg xmlns=\"http://www.w3.org/2000/svg\" height=\"24px\"viewBox=\"0 0 24 24\"\n",
              "       width=\"24px\">\n",
              "    <path d=\"M0 0h24v24H0V0z\" fill=\"none\"/>\n",
              "    <path d=\"M18.56 5.44l.94 2.06.94-2.06 2.06-.94-2.06-.94-.94-2.06-.94 2.06-2.06.94zm-11 1L8.5 8.5l.94-2.06 2.06-.94-2.06-.94L8.5 2.5l-.94 2.06-2.06.94zm10 10l.94 2.06.94-2.06 2.06-.94-2.06-.94-.94-2.06-.94 2.06-2.06.94z\"/><path d=\"M17.41 7.96l-1.37-1.37c-.4-.4-.92-.59-1.43-.59-.52 0-1.04.2-1.43.59L10.3 9.45l-7.72 7.72c-.78.78-.78 2.05 0 2.83L4 21.41c.39.39.9.59 1.41.59.51 0 1.02-.2 1.41-.59l7.78-7.78 2.81-2.81c.8-.78.8-2.07 0-2.86zM5.41 20L4 18.59l7.72-7.72 1.47 1.35L5.41 20z\"/>\n",
              "  </svg>\n",
              "      </button>\n",
              "      \n",
              "  <style>\n",
              "    .colab-df-container {\n",
              "      display:flex;\n",
              "      flex-wrap:wrap;\n",
              "      gap: 12px;\n",
              "    }\n",
              "\n",
              "    .colab-df-convert {\n",
              "      background-color: #E8F0FE;\n",
              "      border: none;\n",
              "      border-radius: 50%;\n",
              "      cursor: pointer;\n",
              "      display: none;\n",
              "      fill: #1967D2;\n",
              "      height: 32px;\n",
              "      padding: 0 0 0 0;\n",
              "      width: 32px;\n",
              "    }\n",
              "\n",
              "    .colab-df-convert:hover {\n",
              "      background-color: #E2EBFA;\n",
              "      box-shadow: 0px 1px 2px rgba(60, 64, 67, 0.3), 0px 1px 3px 1px rgba(60, 64, 67, 0.15);\n",
              "      fill: #174EA6;\n",
              "    }\n",
              "\n",
              "    [theme=dark] .colab-df-convert {\n",
              "      background-color: #3B4455;\n",
              "      fill: #D2E3FC;\n",
              "    }\n",
              "\n",
              "    [theme=dark] .colab-df-convert:hover {\n",
              "      background-color: #434B5C;\n",
              "      box-shadow: 0px 1px 3px 1px rgba(0, 0, 0, 0.15);\n",
              "      filter: drop-shadow(0px 1px 2px rgba(0, 0, 0, 0.3));\n",
              "      fill: #FFFFFF;\n",
              "    }\n",
              "  </style>\n",
              "\n",
              "      <script>\n",
              "        const buttonEl =\n",
              "          document.querySelector('#df-040e2c05-9f0d-4bbe-8dec-c0ad71a150f1 button.colab-df-convert');\n",
              "        buttonEl.style.display =\n",
              "          google.colab.kernel.accessAllowed ? 'block' : 'none';\n",
              "\n",
              "        async function convertToInteractive(key) {\n",
              "          const element = document.querySelector('#df-040e2c05-9f0d-4bbe-8dec-c0ad71a150f1');\n",
              "          const dataTable =\n",
              "            await google.colab.kernel.invokeFunction('convertToInteractive',\n",
              "                                                     [key], {});\n",
              "          if (!dataTable) return;\n",
              "\n",
              "          const docLinkHtml = 'Like what you see? Visit the ' +\n",
              "            '<a target=\"_blank\" href=https://colab.research.google.com/notebooks/data_table.ipynb>data table notebook</a>'\n",
              "            + ' to learn more about interactive tables.';\n",
              "          element.innerHTML = '';\n",
              "          dataTable['output_type'] = 'display_data';\n",
              "          await google.colab.output.renderOutput(dataTable, element);\n",
              "          const docLink = document.createElement('div');\n",
              "          docLink.innerHTML = docLinkHtml;\n",
              "          element.appendChild(docLink);\n",
              "        }\n",
              "      </script>\n",
              "    </div>\n",
              "  </div>\n",
              "  "
            ]
          },
          "metadata": {},
          "execution_count": 25
        }
      ]
    },
    {
      "cell_type": "code",
      "source": [
        "pyplot.plot(forecast['yhat'], label='2022pred')\n",
        "pyplot.legend()\n",
        "pyplot.show()"
      ],
      "metadata": {
        "colab": {
          "base_uri": "https://localhost:8080/",
          "height": 265
        },
        "id": "3IcTXO38OwAS",
        "outputId": "f93f7df4-52bf-48aa-9942-bef8e8a66f61"
      },
      "execution_count": null,
      "outputs": [
        {
          "output_type": "display_data",
          "data": {
            "text/plain": [
              "<Figure size 432x288 with 1 Axes>"
            ],
            "image/png": "[encoded data removed]"
          },
          "metadata": {
            "needs_background": "light"
          }
        }
      ]
    },
    {
      "cell_type": "markdown",
      "source": [
        "# 2023년 예측"
      ],
      "metadata": {
        "id": "3wnmSq8iL3w6"
      }
    },
    {
      "cell_type": "code",
      "source": [
        "last_1year3 = list() # 이번엔 임의의 날짜 2023년 12달을 만든다\n",
        "for i in range(1, 13):\n",
        "  last_1year3.append(['2023-%02d' % i])\n",
        "last_1year3 = pd.DataFrame(last_1year3, columns = ['ds'])\n",
        "last_1year3['ds'] = pd.to_datetime(last_1year3['ds'])"
      ],
      "metadata": {
        "id": "FqeJxDVDLq8d"
      },
      "execution_count": null,
      "outputs": []
    },
    {
      "cell_type": "code",
      "source": [
        "forecast3 = model.predict(last_1year3)\n",
        "model.plot(forecast3)\n",
        "pyplot.show()"
      ],
      "metadata": {
        "colab": {
          "base_uri": "https://localhost:8080/",
          "height": 441
        },
        "id": "UDRdsANxL3EJ",
        "outputId": "dddc7d10-0f83-47db-a07d-9ec9059e6fa8"
      },
      "execution_count": null,
      "outputs": [
        {
          "output_type": "display_data",
          "data": {
            "text/plain": [
              "<Figure size 720x432 with 1 Axes>"
            ],
            "image/png": "[encoded data removed]"
          },
          "metadata": {}
        }
      ]
    },
    {
      "cell_type": "code",
      "source": [
        "forecast3"
      ],
      "metadata": {
        "colab": {
          "base_uri": "https://localhost:8080/",
          "height": 698
        },
        "id": "iN7bPQ50LtSX",
        "outputId": "e80061a4-e25c-48ba-c2e4-a8e3c8969540"
      },
      "execution_count": null,
      "outputs": [
        {
          "output_type": "execute_result",
          "data": {
            "text/plain": [
              "           ds         trend    yhat_lower    yhat_upper   trend_lower  \\\n",
              "0  2023-01-01  26186.352070  26791.883985  28773.387335  26088.265030   \n",
              "1  2023-02-01  26219.520003  24700.825846  26780.547769  26117.784384   \n",
              "2  2023-03-01  26249.478135  26146.180824  28139.632975  26143.211824   \n",
              "3  2023-04-01  26282.646068  25171.605656  27157.344475  26170.858502   \n",
              "4  2023-05-01  26314.744068  24891.848256  26869.259109  26200.727105   \n",
              "5  2023-06-01  26347.912001  23736.205680  25713.259879  26228.977193   \n",
              "6  2023-07-01  26380.010000  23942.781685  25993.401406  26257.983732   \n",
              "7  2023-08-01  26413.177933  24438.427807  26539.125829  26284.420834   \n",
              "8  2023-09-01  26446.345866  24396.075664  26447.996005  26312.393480   \n",
              "9  2023-10-01  26478.443866  25778.923218  27739.171797  26338.917855   \n",
              "10 2023-11-01  26511.611798  25518.613672  27656.083665  26365.198190   \n",
              "11 2023-12-01  26543.709798  26832.484034  28878.442701  26391.038991   \n",
              "\n",
              "     trend_upper  additive_terms  additive_terms_lower  additive_terms_upper  \\\n",
              "0   26281.481314     1599.758768           1599.758768           1599.758768   \n",
              "1   26318.335012     -505.601152           -505.601152           -505.601152   \n",
              "2   26351.051561      910.852727            910.852727            910.852727   \n",
              "3   26388.585775     -114.675177           -114.675177           -114.675177   \n",
              "4   26424.872256     -433.729304           -433.729304           -433.729304   \n",
              "5   26462.533351    -1633.952191          -1633.952191          -1633.952191   \n",
              "6   26497.861932    -1411.587220          -1411.587220          -1411.587220   \n",
              "7   26534.922658     -970.338617           -970.338617           -970.338617   \n",
              "8   26573.330263    -1046.902878          -1046.902878          -1046.902878   \n",
              "9   26608.740115      334.082076            334.082076            334.082076   \n",
              "10  26648.627865       84.163610             84.163610             84.163610   \n",
              "11  26686.604680     1316.121063           1316.121063           1316.121063   \n",
              "\n",
              "         yearly  yearly_lower  yearly_upper  multiplicative_terms  \\\n",
              "0   1599.758768   1599.758768   1599.758768                   0.0   \n",
              "1   -505.601152   -505.601152   -505.601152                   0.0   \n",
              "2    910.852727    910.852727    910.852727                   0.0   \n",
              "3   -114.675177   -114.675177   -114.675177                   0.0   \n",
              "4   -433.729304   -433.729304   -433.729304                   0.0   \n",
              "5  -1633.952191  -1633.952191  -1633.952191                   0.0   \n",
              "6  -1411.587220  -1411.587220  -1411.587220                   0.0   \n",
              "7   -970.338617   -970.338617   -970.338617                   0.0   \n",
              "8  -1046.902878  -1046.902878  -1046.902878                   0.0   \n",
              "9    334.082076    334.082076    334.082076                   0.0   \n",
              "10    84.163610     84.163610     84.163610                   0.0   \n",
              "11  1316.121063   1316.121063   1316.121063                   0.0   \n",
              "\n",
              "    multiplicative_terms_lower  multiplicative_terms_upper          yhat  \n",
              "0                          0.0                         0.0  27786.110837  \n",
              "1                          0.0                         0.0  25713.918850  \n",
              "2                          0.0                         0.0  27160.330863  \n",
              "3                          0.0                         0.0  26167.970891  \n",
              "4                          0.0                         0.0  25881.014763  \n",
              "5                          0.0                         0.0  24713.959810  \n",
              "6                          0.0                         0.0  24968.422780  \n",
              "7                          0.0                         0.0  25442.839316  \n",
              "8                          0.0                         0.0  25399.442988  \n",
              "9                          0.0                         0.0  26812.525942  \n",
              "10                         0.0                         0.0  26595.775409  \n",
              "11                         0.0                         0.0  27859.830861  "
            ],
            "text/html": [
              "\n",
              "  <div id=\"df-21d2967a-9af1-4edf-b297-72ab4e2996c4\">\n",
              "    <div class=\"colab-df-container\">\n",
              "      <div>\n",
              "<style scoped>\n",
              "    .dataframe tbody tr th:only-of-type {\n",
              "        vertical-align: middle;\n",
              "    }\n",
              "\n",
              "    .dataframe tbody tr th {\n",
              "        vertical-align: top;\n",
              "    }\n",
              "\n",
              "    .dataframe thead th {\n",
              "        text-align: right;\n",
              "    }\n",
              "</style>\n",
              "<table border=\"1\" class=\"dataframe\">\n",
              "  <thead>\n",
              "    <tr style=\"text-align: right;\">\n",
              "      <th></th>\n",
              "      <th>ds</th>\n",
              "      <th>trend</th>\n",
              "      <th>yhat_lower</th>\n",
              "      <th>yhat_upper</th>\n",
              "      <th>trend_lower</th>\n",
              "      <th>trend_upper</th>\n",
              "      <th>additive_terms</th>\n",
              "      <th>additive_terms_lower</th>\n",
              "      <th>additive_terms_upper</th>\n",
              "      <th>yearly</th>\n",
              "      <th>yearly_lower</th>\n",
              "      <th>yearly_upper</th>\n",
              "      <th>multiplicative_terms</th>\n",
              "      <th>multiplicative_terms_lower</th>\n",
              "      <th>multiplicative_terms_upper</th>\n",
              "      <th>yhat</th>\n",
              "    </tr>\n",
              "  </thead>\n",
              "  <tbody>\n",
              "    <tr>\n",
              "      <th>0</th>\n",
              "      <td>2023-01-01</td>\n",
              "      <td>26186.352070</td>\n",
              "      <td>26791.883985</td>\n",
              "      <td>28773.387335</td>\n",
              "      <td>26088.265030</td>\n",
              "      <td>26281.481314</td>\n",
              "      <td>1599.758768</td>\n",
              "      <td>1599.758768</td>\n",
              "      <td>1599.758768</td>\n",
              "      <td>1599.758768</td>\n",
              "      <td>1599.758768</td>\n",
              "      <td>1599.758768</td>\n",
              "      <td>0.0</td>\n",
              "      <td>0.0</td>\n",
              "      <td>0.0</td>\n",
              "      <td>27786.110837</td>\n",
              "    </tr>\n",
              "    <tr>\n",
              "      <th>1</th>\n",
              "      <td>2023-02-01</td>\n",
              "      <td>26219.520003</td>\n",
              "      <td>24700.825846</td>\n",
              "      <td>26780.547769</td>\n",
              "      <td>26117.784384</td>\n",
              "      <td>26318.335012</td>\n",
              "      <td>-505.601152</td>\n",
              "      <td>-505.601152</td>\n",
              "      <td>-505.601152</td>\n",
              "      <td>-505.601152</td>\n",
              "      <td>-505.601152</td>\n",
              "      <td>-505.601152</td>\n",
              "      <td>0.0</td>\n",
              "      <td>0.0</td>\n",
              "      <td>0.0</td>\n",
              "      <td>25713.918850</td>\n",
              "    </tr>\n",
              "    <tr>\n",
              "      <th>2</th>\n",
              "      <td>2023-03-01</td>\n",
              "      <td>26249.478135</td>\n",
              "      <td>26146.180824</td>\n",
              "      <td>28139.632975</td>\n",
              "      <td>26143.211824</td>\n",
              "      <td>26351.051561</td>\n",
              "      <td>910.852727</td>\n",
              "      <td>910.852727</td>\n",
              "      <td>910.852727</td>\n",
              "      <td>910.852727</td>\n",
              "      <td>910.852727</td>\n",
              "      <td>910.852727</td>\n",
              "      <td>0.0</td>\n",
              "      <td>0.0</td>\n",
              "      <td>0.0</td>\n",
              "      <td>27160.330863</td>\n",
              "    </tr>\n",
              "    <tr>\n",
              "      <th>3</th>\n",
              "      <td>2023-04-01</td>\n",
              "      <td>26282.646068</td>\n",
              "      <td>25171.605656</td>\n",
              "      <td>27157.344475</td>\n",
              "      <td>26170.858502</td>\n",
              "      <td>26388.585775</td>\n",
              "      <td>-114.675177</td>\n",
              "      <td>-114.675177</td>\n",
              "      <td>-114.675177</td>\n",
              "      <td>-114.675177</td>\n",
              "      <td>-114.675177</td>\n",
              "      <td>-114.675177</td>\n",
              "      <td>0.0</td>\n",
              "      <td>0.0</td>\n",
              "      <td>0.0</td>\n",
              "      <td>26167.970891</td>\n",
              "    </tr>\n",
              "    <tr>\n",
              "      <th>4</th>\n",
              "      <td>2023-05-01</td>\n",
              "      <td>26314.744068</td>\n",
              "      <td>24891.848256</td>\n",
              "      <td>26869.259109</td>\n",
              "      <td>26200.727105</td>\n",
              "      <td>26424.872256</td>\n",
              "      <td>-433.729304</td>\n",
              "      <td>-433.729304</td>\n",
              "      <td>-433.729304</td>\n",
              "      <td>-433.729304</td>\n",
              "      <td>-433.729304</td>\n",
              "      <td>-433.729304</td>\n",
              "      <td>0.0</td>\n",
              "      <td>0.0</td>\n",
              "      <td>0.0</td>\n",
              "      <td>25881.014763</td>\n",
              "    </tr>\n",
              "    <tr>\n",
              "      <th>5</th>\n",
              "      <td>2023-06-01</td>\n",
              "      <td>26347.912001</td>\n",
              "      <td>23736.205680</td>\n",
              "      <td>25713.259879</td>\n",
              "      <td>26228.977193</td>\n",
              "      <td>26462.533351</td>\n",
              "      <td>-1633.952191</td>\n",
              "      <td>-1633.952191</td>\n",
              "      <td>-1633.952191</td>\n",
              "      <td>-1633.952191</td>\n",
              "      <td>-1633.952191</td>\n",
              "      <td>-1633.952191</td>\n",
              "      <td>0.0</td>\n",
              "      <td>0.0</td>\n",
              "      <td>0.0</td>\n",
              "      <td>24713.959810</td>\n",
              "    </tr>\n",
              "    <tr>\n",
              "      <th>6</th>\n",
              "      <td>2023-07-01</td>\n",
              "      <td>26380.010000</td>\n",
              "      <td>23942.781685</td>\n",
              "      <td>25993.401406</td>\n",
              "      <td>26257.983732</td>\n",
              "      <td>26497.861932</td>\n",
              "      <td>-1411.587220</td>\n",
              "      <td>-1411.587220</td>\n",
              "      <td>-1411.587220</td>\n",
              "      <td>-1411.587220</td>\n",
              "      <td>-1411.587220</td>\n",
              "      <td>-1411.587220</td>\n",
              "      <td>0.0</td>\n",
              "      <td>0.0</td>\n",
              "      <td>0.0</td>\n",
              "      <td>24968.422780</td>\n",
              "    </tr>\n",
              "    <tr>\n",
              "      <th>7</th>\n",
              "      <td>2023-08-01</td>\n",
              "      <td>26413.177933</td>\n",
              "      <td>24438.427807</td>\n",
              "      <td>26539.125829</td>\n",
              "      <td>26284.420834</td>\n",
              "      <td>26534.922658</td>\n",
              "      <td>-970.338617</td>\n",
              "      <td>-970.338617</td>\n",
              "      <td>-970.338617</td>\n",
              "      <td>-970.338617</td>\n",
              "      <td>-970.338617</td>\n",
              "      <td>-970.338617</td>\n",
              "      <td>0.0</td>\n",
              "      <td>0.0</td>\n",
              "      <td>0.0</td>\n",
              "      <td>25442.839316</td>\n",
              "    </tr>\n",
              "    <tr>\n",
              "      <th>8</th>\n",
              "      <td>2023-09-01</td>\n",
              "      <td>26446.345866</td>\n",
              "      <td>24396.075664</td>\n",
              "      <td>26447.996005</td>\n",
              "      <td>26312.393480</td>\n",
              "      <td>26573.330263</td>\n",
              "      <td>-1046.902878</td>\n",
              "      <td>-1046.902878</td>\n",
              "      <td>-1046.902878</td>\n",
              "      <td>-1046.902878</td>\n",
              "      <td>-1046.902878</td>\n",
              "      <td>-1046.902878</td>\n",
              "      <td>0.0</td>\n",
              "      <td>0.0</td>\n",
              "      <td>0.0</td>\n",
              "      <td>25399.442988</td>\n",
              "    </tr>\n",
              "    <tr>\n",
              "      <th>9</th>\n",
              "      <td>2023-10-01</td>\n",
              "      <td>26478.443866</td>\n",
              "      <td>25778.923218</td>\n",
              "      <td>27739.171797</td>\n",
              "      <td>26338.917855</td>\n",
              "      <td>26608.740115</td>\n",
              "      <td>334.082076</td>\n",
              "      <td>334.082076</td>\n",
              "      <td>334.082076</td>\n",
              "      <td>334.082076</td>\n",
              "      <td>334.082076</td>\n",
              "      <td>334.082076</td>\n",
              "      <td>0.0</td>\n",
              "      <td>0.0</td>\n",
              "      <td>0.0</td>\n",
              "      <td>26812.525942</td>\n",
              "    </tr>\n",
              "    <tr>\n",
              "      <th>10</th>\n",
              "      <td>2023-11-01</td>\n",
              "      <td>26511.611798</td>\n",
              "      <td>25518.613672</td>\n",
              "      <td>27656.083665</td>\n",
              "      <td>26365.198190</td>\n",
              "      <td>26648.627865</td>\n",
              "      <td>84.163610</td>\n",
              "      <td>84.163610</td>\n",
              "      <td>84.163610</td>\n",
              "      <td>84.163610</td>\n",
              "      <td>84.163610</td>\n",
              "      <td>84.163610</td>\n",
              "      <td>0.0</td>\n",
              "      <td>0.0</td>\n",
              "      <td>0.0</td>\n",
              "      <td>26595.775409</td>\n",
              "    </tr>\n",
              "    <tr>\n",
              "      <th>11</th>\n",
              "      <td>2023-12-01</td>\n",
              "      <td>26543.709798</td>\n",
              "      <td>26832.484034</td>\n",
              "      <td>28878.442701</td>\n",
              "      <td>26391.038991</td>\n",
              "      <td>26686.604680</td>\n",
              "      <td>1316.121063</td>\n",
              "      <td>1316.121063</td>\n",
              "      <td>1316.121063</td>\n",
              "      <td>1316.121063</td>\n",
              "      <td>1316.121063</td>\n",
              "      <td>1316.121063</td>\n",
              "      <td>0.0</td>\n",
              "      <td>0.0</td>\n",
              "      <td>0.0</td>\n",
              "      <td>27859.830861</td>\n",
              "    </tr>\n",
              "  </tbody>\n",
              "</table>\n",
              "</div>\n",
              "      <button class=\"colab-df-convert\" onclick=\"convertToInteractive('df-21d2967a-9af1-4edf-b297-72ab4e2996c4')\"\n",
              "              title=\"Convert this dataframe to an interactive table.\"\n",
              "              style=\"display:none;\">\n",
              "        \n",
              "  <svg xmlns=\"http://www.w3.org/2000/svg\" height=\"24px\"viewBox=\"0 0 24 24\"\n",
              "       width=\"24px\">\n",
              "    <path d=\"M0 0h24v24H0V0z\" fill=\"none\"/>\n",
              "    <path d=\"M18.56 5.44l.94 2.06.94-2.06 2.06-.94-2.06-.94-.94-2.06-.94 2.06-2.06.94zm-11 1L8.5 8.5l.94-2.06 2.06-.94-2.06-.94L8.5 2.5l-.94 2.06-2.06.94zm10 10l.94 2.06.94-2.06 2.06-.94-2.06-.94-.94-2.06-.94 2.06-2.06.94z\"/><path d=\"M17.41 7.96l-1.37-1.37c-.4-.4-.92-.59-1.43-.59-.52 0-1.04.2-1.43.59L10.3 9.45l-7.72 7.72c-.78.78-.78 2.05 0 2.83L4 21.41c.39.39.9.59 1.41.59.51 0 1.02-.2 1.41-.59l7.78-7.78 2.81-2.81c.8-.78.8-2.07 0-2.86zM5.41 20L4 18.59l7.72-7.72 1.47 1.35L5.41 20z\"/>\n",
              "  </svg>\n",
              "      </button>\n",
              "      \n",
              "  <style>\n",
              "    .colab-df-container {\n",
              "      display:flex;\n",
              "      flex-wrap:wrap;\n",
              "      gap: 12px;\n",
              "    }\n",
              "\n",
              "    .colab-df-convert {\n",
              "      background-color: #E8F0FE;\n",
              "      border: none;\n",
              "      border-radius: 50%;\n",
              "      cursor: pointer;\n",
              "      display: none;\n",
              "      fill: #1967D2;\n",
              "      height: 32px;\n",
              "      padding: 0 0 0 0;\n",
              "      width: 32px;\n",
              "    }\n",
              "\n",
              "    .colab-df-convert:hover {\n",
              "      background-color: #E2EBFA;\n",
              "      box-shadow: 0px 1px 2px rgba(60, 64, 67, 0.3), 0px 1px 3px 1px rgba(60, 64, 67, 0.15);\n",
              "      fill: #174EA6;\n",
              "    }\n",
              "\n",
              "    [theme=dark] .colab-df-convert {\n",
              "      background-color: #3B4455;\n",
              "      fill: #D2E3FC;\n",
              "    }\n",
              "\n",
              "    [theme=dark] .colab-df-convert:hover {\n",
              "      background-color: #434B5C;\n",
              "      box-shadow: 0px 1px 3px 1px rgba(0, 0, 0, 0.15);\n",
              "      filter: drop-shadow(0px 1px 2px rgba(0, 0, 0, 0.3));\n",
              "      fill: #FFFFFF;\n",
              "    }\n",
              "  </style>\n",
              "\n",
              "      <script>\n",
              "        const buttonEl =\n",
              "          document.querySelector('#df-21d2967a-9af1-4edf-b297-72ab4e2996c4 button.colab-df-convert');\n",
              "        buttonEl.style.display =\n",
              "          google.colab.kernel.accessAllowed ? 'block' : 'none';\n",
              "\n",
              "        async function convertToInteractive(key) {\n",
              "          const element = document.querySelector('#df-21d2967a-9af1-4edf-b297-72ab4e2996c4');\n",
              "          const dataTable =\n",
              "            await google.colab.kernel.invokeFunction('convertToInteractive',\n",
              "                                                     [key], {});\n",
              "          if (!dataTable) return;\n",
              "\n",
              "          const docLinkHtml = 'Like what you see? Visit the ' +\n",
              "            '<a target=\"_blank\" href=https://colab.research.google.com/notebooks/data_table.ipynb>data table notebook</a>'\n",
              "            + ' to learn more about interactive tables.';\n",
              "          element.innerHTML = '';\n",
              "          dataTable['output_type'] = 'display_data';\n",
              "          await google.colab.output.renderOutput(dataTable, element);\n",
              "          const docLink = document.createElement('div');\n",
              "          docLink.innerHTML = docLinkHtml;\n",
              "          element.appendChild(docLink);\n",
              "        }\n",
              "      </script>\n",
              "    </div>\n",
              "  </div>\n",
              "  "
            ]
          },
          "metadata": {},
          "execution_count": 29
        }
      ]
    },
    {
      "cell_type": "code",
      "source": [
        "pyplot.plot(forecast['yhat'], label='2023pred')\n",
        "pyplot.legend()\n",
        "pyplot.show()"
      ],
      "metadata": {
        "colab": {
          "base_uri": "https://localhost:8080/",
          "height": 265
        },
        "id": "NVZyGjIOLuIB",
        "outputId": "d2918a87-4942-41be-a9e6-3bc692bddbb4"
      },
      "execution_count": null,
      "outputs": [
        {
          "output_type": "display_data",
          "data": {
            "text/plain": [
              "<Figure size 432x288 with 1 Axes>"
            ],
            "image/png": "[encoded data removed]"
          },
          "metadata": {
            "needs_background": "light"
          }
        }
      ]
    }
  ]
}