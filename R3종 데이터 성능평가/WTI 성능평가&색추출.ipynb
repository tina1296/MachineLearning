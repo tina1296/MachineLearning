{
 "cells": [
  {
   "cell_type": "code",
   "execution_count": 1,
   "id": "5fac1d8f",
   "metadata": {},
   "outputs": [
    {
     "data": {
      "text/html": [
       "<div>\n",
       "<style scoped>\n",
       "    .dataframe tbody tr th:only-of-type {\n",
       "        vertical-align: middle;\n",
       "    }\n",
       "\n",
       "    .dataframe tbody tr th {\n",
       "        vertical-align: top;\n",
       "    }\n",
       "\n",
       "    .dataframe thead th {\n",
       "        text-align: right;\n",
       "    }\n",
       "</style>\n",
       "<table border=\"1\" class=\"dataframe\">\n",
       "  <thead>\n",
       "    <tr style=\"text-align: right;\">\n",
       "      <th></th>\n",
       "      <th>ds</th>\n",
       "      <th>yhat</th>\n",
       "      <th>종가</th>\n",
       "      <th>MA</th>\n",
       "      <th>Unnamed: 4</th>\n",
       "      <th>Unnamed: 5</th>\n",
       "      <th>Unnamed: 6</th>\n",
       "      <th>Unnamed: 7</th>\n",
       "      <th>Unnamed: 8</th>\n",
       "      <th>날짜</th>\n",
       "    </tr>\n",
       "  </thead>\n",
       "  <tbody>\n",
       "    <tr>\n",
       "      <th>0</th>\n",
       "      <td>2000-01</td>\n",
       "      <td>21.008607</td>\n",
       "      <td>25.55</td>\n",
       "      <td>4.541393</td>\n",
       "      <td>NaN</td>\n",
       "      <td>NaN</td>\n",
       "      <td>NaN</td>\n",
       "      <td>NaN</td>\n",
       "      <td>NaN</td>\n",
       "      <td>2000-01-04</td>\n",
       "    </tr>\n",
       "    <tr>\n",
       "      <th>1</th>\n",
       "      <td>NaN</td>\n",
       "      <td>21.094705</td>\n",
       "      <td>24.91</td>\n",
       "      <td>3.815295</td>\n",
       "      <td>NaN</td>\n",
       "      <td>NaN</td>\n",
       "      <td>NaN</td>\n",
       "      <td>NaN</td>\n",
       "      <td>NaN</td>\n",
       "      <td>2000-01-05</td>\n",
       "    </tr>\n",
       "    <tr>\n",
       "      <th>2</th>\n",
       "      <td>NaN</td>\n",
       "      <td>21.199828</td>\n",
       "      <td>24.78</td>\n",
       "      <td>3.580172</td>\n",
       "      <td>NaN</td>\n",
       "      <td>NaN</td>\n",
       "      <td>NaN</td>\n",
       "      <td>NaN</td>\n",
       "      <td>NaN</td>\n",
       "      <td>2000-01-06</td>\n",
       "    </tr>\n",
       "    <tr>\n",
       "      <th>3</th>\n",
       "      <td>NaN</td>\n",
       "      <td>21.215509</td>\n",
       "      <td>24.22</td>\n",
       "      <td>3.004491</td>\n",
       "      <td>NaN</td>\n",
       "      <td>NaN</td>\n",
       "      <td>NaN</td>\n",
       "      <td>NaN</td>\n",
       "      <td>NaN</td>\n",
       "      <td>2000-01-07</td>\n",
       "    </tr>\n",
       "    <tr>\n",
       "      <th>4</th>\n",
       "      <td>NaN</td>\n",
       "      <td>21.237422</td>\n",
       "      <td>24.67</td>\n",
       "      <td>3.432578</td>\n",
       "      <td>NaN</td>\n",
       "      <td>NaN</td>\n",
       "      <td>NaN</td>\n",
       "      <td>NaN</td>\n",
       "      <td>NaN</td>\n",
       "      <td>2000-01-10</td>\n",
       "    </tr>\n",
       "    <tr>\n",
       "      <th>...</th>\n",
       "      <td>...</td>\n",
       "      <td>...</td>\n",
       "      <td>...</td>\n",
       "      <td>...</td>\n",
       "      <td>...</td>\n",
       "      <td>...</td>\n",
       "      <td>...</td>\n",
       "      <td>...</td>\n",
       "      <td>...</td>\n",
       "      <td>...</td>\n",
       "    </tr>\n",
       "    <tr>\n",
       "      <th>6084</th>\n",
       "      <td>NaN</td>\n",
       "      <td>64.420627</td>\n",
       "      <td>NaN</td>\n",
       "      <td>NaN</td>\n",
       "      <td>NaN</td>\n",
       "      <td>NaN</td>\n",
       "      <td>NaN</td>\n",
       "      <td>NaN</td>\n",
       "      <td>NaN</td>\n",
       "      <td>2023-05-18</td>\n",
       "    </tr>\n",
       "    <tr>\n",
       "      <th>6085</th>\n",
       "      <td>NaN</td>\n",
       "      <td>64.365156</td>\n",
       "      <td>NaN</td>\n",
       "      <td>NaN</td>\n",
       "      <td>NaN</td>\n",
       "      <td>NaN</td>\n",
       "      <td>NaN</td>\n",
       "      <td>NaN</td>\n",
       "      <td>NaN</td>\n",
       "      <td>2023-05-19</td>\n",
       "    </tr>\n",
       "    <tr>\n",
       "      <th>6086</th>\n",
       "      <td>NaN</td>\n",
       "      <td>63.630874</td>\n",
       "      <td>NaN</td>\n",
       "      <td>NaN</td>\n",
       "      <td>NaN</td>\n",
       "      <td>NaN</td>\n",
       "      <td>NaN</td>\n",
       "      <td>NaN</td>\n",
       "      <td>NaN</td>\n",
       "      <td>2023-05-20</td>\n",
       "    </tr>\n",
       "    <tr>\n",
       "      <th>6087</th>\n",
       "      <td>NaN</td>\n",
       "      <td>63.126108</td>\n",
       "      <td>NaN</td>\n",
       "      <td>NaN</td>\n",
       "      <td>NaN</td>\n",
       "      <td>NaN</td>\n",
       "      <td>NaN</td>\n",
       "      <td>NaN</td>\n",
       "      <td>NaN</td>\n",
       "      <td>2023-05-21</td>\n",
       "    </tr>\n",
       "    <tr>\n",
       "      <th>6088</th>\n",
       "      <td>NaN</td>\n",
       "      <td>64.165862</td>\n",
       "      <td>NaN</td>\n",
       "      <td>NaN</td>\n",
       "      <td>NaN</td>\n",
       "      <td>NaN</td>\n",
       "      <td>NaN</td>\n",
       "      <td>NaN</td>\n",
       "      <td>NaN</td>\n",
       "      <td>2023-05-22</td>\n",
       "    </tr>\n",
       "  </tbody>\n",
       "</table>\n",
       "<p>6089 rows × 10 columns</p>\n",
       "</div>"
      ],
      "text/plain": [
       "           ds       yhat     종가        MA  Unnamed: 4  Unnamed: 5  Unnamed: 6  \\\n",
       "0     2000-01  21.008607  25.55  4.541393         NaN         NaN         NaN   \n",
       "1         NaN  21.094705  24.91  3.815295         NaN         NaN         NaN   \n",
       "2         NaN  21.199828  24.78  3.580172         NaN         NaN         NaN   \n",
       "3         NaN  21.215509  24.22  3.004491         NaN         NaN         NaN   \n",
       "4         NaN  21.237422  24.67  3.432578         NaN         NaN         NaN   \n",
       "...       ...        ...    ...       ...         ...         ...         ...   \n",
       "6084      NaN  64.420627    NaN       NaN         NaN         NaN         NaN   \n",
       "6085      NaN  64.365156    NaN       NaN         NaN         NaN         NaN   \n",
       "6086      NaN  63.630874    NaN       NaN         NaN         NaN         NaN   \n",
       "6087      NaN  63.126108    NaN       NaN         NaN         NaN         NaN   \n",
       "6088      NaN  64.165862    NaN       NaN         NaN         NaN         NaN   \n",
       "\n",
       "      Unnamed: 7  Unnamed: 8         날짜  \n",
       "0            NaN         NaN 2000-01-04  \n",
       "1            NaN         NaN 2000-01-05  \n",
       "2            NaN         NaN 2000-01-06  \n",
       "3            NaN         NaN 2000-01-07  \n",
       "4            NaN         NaN 2000-01-10  \n",
       "...          ...         ...        ...  \n",
       "6084         NaN         NaN 2023-05-18  \n",
       "6085         NaN         NaN 2023-05-19  \n",
       "6086         NaN         NaN 2023-05-20  \n",
       "6087         NaN         NaN 2023-05-21  \n",
       "6088         NaN         NaN 2023-05-22  \n",
       "\n",
       "[6089 rows x 10 columns]"
      ]
     },
     "execution_count": 1,
     "metadata": {},
     "output_type": "execute_result"
    }
   ],
   "source": [
    "import pandas as pd\n",
    "import numpy as np\n",
    "import matplotlib.pyplot as plt\n",
    "from fbprophet import Prophet\n",
    "\n",
    "%matplotlib inline\n",
    "\n",
    "\n",
    "df_oil = pd.read_excel(\"/Users/seojunebeom/Desktop/대학교/2022 1학기/기계학습/R3 fbprophet 성능평가 데이터/WTI 유가.xlsx\")\n",
    "\n",
    "df_gold = pd.read_excel(\"/Users/seojunebeom/Desktop/대학교/2022 1학기/기계학습/R3 fbprophet 성능평가 데이터/금.xlsx\",index_col=0)\n",
    "\n",
    "\n",
    "\n",
    "\n"
   ]
  },
  {
   "cell_type": "code",
   "execution_count": 2,
   "id": "c9f02119",
   "metadata": {},
   "outputs": [],
   "source": [
    "#fbprophet 사용 형식에 맞추기\n",
    "\n",
    "df_tmp = pd.DataFrame({\"ds\":df[\"날짜\"], \"y\":df[\"종가\"], \"yhat\":df[\"yhat\"]})\n",
    "df_target = df_tmp[:-1]\t# 끝에 NaN 값을 제거함\n",
    "\n",
    "df = df_target.copy()\n",
    "df[\"ds\"] = pd.to_datetime(df_target[\"ds\"], format=\"%Y-%m-%d\")\n",
    "\n",
    "# .info()로 확인하면 object이기 때문에 숫자로 바꿔줌\n",
    "df[\"y\"] = df[\"y\"].astype(\"float\")\n",
    "df[\"yhat\"] = df[\"yhat\"].astype(\"float\")\n"
   ]
  },
  {
   "cell_type": "code",
   "execution_count": 3,
   "id": "909713f8",
   "metadata": {},
   "outputs": [
    {
     "data": {
      "image/png": "[encoded data removed]",
      "text/plain": [
       "<Figure size 864x432 with 1 Axes>"
      ]
     },
     "metadata": {
      "needs_background": "light"
     },
     "output_type": "display_data"
    }
   ],
   "source": [
    "#fbprophet 과 실제 데이터 성능평가 비교\n",
    "\n",
    "plt.figure(figsize=(12,6))\n",
    "plt.plot(df[\"ds\"], df[\"y\"], label=\"real\")\n",
    "plt.plot(df[\"ds\"], df[\"yhat\"], label='real')\n",
    "plt.grid(True)\n",
    "plt.show()"
   ]
  },
  {
   "cell_type": "code",
   "execution_count": 4,
   "id": "6b134a17",
   "metadata": {},
   "outputs": [
    {
     "name": "stdout",
     "output_type": "stream",
     "text": [
      "62.24324363960924\n",
      "61.29871592551408\n"
     ]
    }
   ],
   "source": [
    "#2000년~2021년 데이터 필터링\n",
    "\n",
    "df_filtered = df.query('\"2000-01-04\"<= ds <= \"2021-12-31\"')['y']\n",
    "\n",
    "#2022년 하반기 데이터 예측값범위생성& 2022년 하반기 평균데이터 출력\n",
    "df_ha22 = df.query('\"2022-07-01\"<= ds <= \"2022-12-31\"')\n",
    "avg22ha = df_ha22['yhat'].mean()\n",
    "\n",
    "print(avg22ha)\n",
    "\n",
    "\n",
    "#2022년 데이터 예측값범위생성& 2022년 평균데이터 출력\n",
    "df_whole22 = df.query('\"2020-01-04\"<= ds <= \"2022-12-31\"')\n",
    "avg22whole = df_whole22['yhat'].mean()\n",
    "\n",
    "print(avg22whole)\n"
   ]
  },
  {
   "cell_type": "code",
   "execution_count": 5,
   "id": "83545db4",
   "metadata": {},
   "outputs": [
    {
     "data": {
      "text/plain": [
       "0       25.55\n",
       "1       24.91\n",
       "2       24.78\n",
       "3       24.22\n",
       "4       24.67\n",
       "        ...  \n",
       "5617    75.57\n",
       "5618    75.98\n",
       "5619    76.56\n",
       "5620    76.99\n",
       "5621    75.21\n",
       "Name: y, Length: 5622, dtype: float64"
      ]
     },
     "execution_count": 5,
     "metadata": {},
     "output_type": "execute_result"
    }
   ],
   "source": [
    "df_filtered"
   ]
  },
  {
   "cell_type": "code",
   "execution_count": 6,
   "id": "e08d2878",
   "metadata": {},
   "outputs": [
    {
     "name": "stdout",
     "output_type": "stream",
     "text": [
      "145.29\n",
      "-37.63\n"
     ]
    },
    {
     "data": {
      "text/plain": [
       "1.3940520446096656"
      ]
     },
     "execution_count": 6,
     "metadata": {},
     "output_type": "execute_result"
    }
   ],
   "source": [
    "oil_max =df_filtered.max()\n",
    "oil_min =df_filtered.min()\n",
    "\n",
    "oil_tick = 255/(oil_max - oil_min)\n",
    "\n",
    "print(oil_max)\n",
    "print(oil_min)\n",
    "\n",
    "oil_tick\n"
   ]
  },
  {
   "cell_type": "code",
   "execution_count": 7,
   "id": "a4ec7d73",
   "metadata": {},
   "outputs": [
    {
     "name": "stdout",
     "output_type": "stream",
     "text": [
      "139.22849949759654\n",
      "137.91177870657168\n"
     ]
    }
   ],
   "source": [
    "rgb22ha = (avg22ha - oil_min)*oil_tick\n",
    "rgb22whole = (avg22whole - oil_min)*oil_tick\n",
    "\n",
    "print(rgb22ha)\n",
    "print(rgb22whole)"
   ]
  },
  {
   "cell_type": "code",
   "execution_count": null,
   "id": "40a051a8",
   "metadata": {},
   "outputs": [],
   "source": []
  }
 ],
 "metadata": {
  "kernelspec": {
   "display_name": "Python 3 (ipykernel)",
   "language": "python",
   "name": "python3"
  },
  "language_info": {
   "codemirror_mode": {
    "name": "ipython",
    "version": 3
   },
   "file_extension": ".py",
   "mimetype": "text/x-python",
   "name": "python",
   "nbconvert_exporter": "python",
   "pygments_lexer": "ipython3",
   "version": "3.9.12"
  }
 },
 "nbformat": 4,
 "nbformat_minor": 5
}
